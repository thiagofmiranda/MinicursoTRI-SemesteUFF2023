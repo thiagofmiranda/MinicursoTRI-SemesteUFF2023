{
 "cells": [
  {
   "cell_type": "markdown",
   "metadata": {
    "id": "UQjncX5G6C44"
   },
   "source": [
    "# Calibração dos Itens do Enem\n",
    "\n",
    "---\n",
    "\n"
   ]
  },
  {
   "cell_type": "code",
   "execution_count": 67,
   "metadata": {
    "id": "5mNwxqmXQAug",
    "tags": []
   },
   "outputs": [
    {
     "name": "stderr",
     "output_type": "stream",
     "text": [
      "Carregando pacotes exigidos: IRdisplay\n",
      "\n",
      "Warning message:\n",
      "\"package 'IRdisplay' was built under R version 4.2.3\"\n"
     ]
    }
   ],
   "source": [
    "# Instalação de Pacotes\n",
    "if(!require(tidyverse)){system(\"tidyverse\")}; library(tidyverse)\n",
    "if(!require(data.table)){system(\"data.table\")}; library(data.table)\n",
    "if(!require(dtplyr)){system(\"dtplyr\")}; library(dtplyr)\n",
    "if(!require(mirt)){system(\"mirt\")}; library(mirt)\n",
    "if(!require(ltm)){system(\"ltm\")}; library(ltm)\n",
    "if(!require(psych)){system(\"psych\")}; library(psych)\n",
    "if(!require(archive)){system(\"archive\")}; library(archive)\n",
    "if(!require(ggpubr)){system(\"ggpubr\")}; library(ggpubr)\n",
    "if(!require(kableExtra)){system(\"kableExtra\")}; library(kableExtra)\n",
    "if(!require(IRdisplay)){system(\"IRdisplay\")}; library(IRdisplay)"
   ]
  },
  {
   "cell_type": "markdown",
   "metadata": {
    "id": "AMmX8tp79Szb"
   },
   "source": [
    "\n",
    "\n",
    "---\n",
    "## Configurações Iniciais\n",
    "\n"
   ]
  },
  {
   "cell_type": "code",
   "execution_count": 21,
   "metadata": {
    "id": "3xbdrmaJ9a50",
    "tags": []
   },
   "outputs": [],
   "source": [
    "pasta <- \"TRI ENEM/\"\n",
    "\n",
    "ano <- \"2022\"\n",
    "area <- \"MT\"\n",
    "provas <- c(1075,1076,1077,1078)\n",
    "tamanho_amostral <- 1000\n",
    "min_respostas_validas <- 8"
   ]
  },
  {
   "cell_type": "markdown",
   "metadata": {
    "id": "5lbMKBMQTZDh",
    "jp-MarkdownHeadingCollapsed": true,
    "tags": []
   },
   "source": [
    "## Download e Tratamento dos Microdados"
   ]
  },
  {
   "cell_type": "markdown",
   "metadata": {
    "id": "EBBWQFfS6g3S",
    "tags": []
   },
   "source": [
    "\n",
    "---\n",
    "\n",
    "### Download dos Dados"
   ]
  },
  {
   "cell_type": "code",
   "execution_count": 4,
   "metadata": {
    "id": "8Mf5EOH5O0A0",
    "tags": []
   },
   "outputs": [],
   "source": [
    "# Função de download e descompactação dos microdados\n",
    "download_enem <- function(ano,dir){\n",
    "  options(timeout = max(90000, getOption(\"timeout\")))\n",
    "\n",
    "  link <- paste0(\"https://download.inep.gov.br/microdados/microdados_enem_\",ano,\".zip\")\n",
    "\n",
    "  file <- paste0(dir,\"ENEM/\",ano,\"/microdados_enem_\",ano,\".zip\")\n",
    "\n",
    "  path <- paste0(dir,\"ENEM/\",ano)\n",
    "  if(!dir.exists(path)){dir.create(path,recursive = T)}\n",
    "\n",
    "  if(!file.exists(file)){download.file(url = link, destfile = file)}\n",
    "\n",
    "  archive_extract(file,dir = path)\n",
    "\n",
    "}"
   ]
  },
  {
   "cell_type": "code",
   "execution_count": 4,
   "metadata": {
    "id": "ywnE0tU1SUHk",
    "tags": []
   },
   "outputs": [
    {
     "name": "stderr",
     "output_type": "stream",
     "text": [
      "⠙ 116 extracted | 706 MB (331 MB/s) | 2.1s\n",
      "⠹ 116 extracted | 763 MB (325 MB/s) | 2.3s\n",
      "⠸ 116 extracted | 818 MB (320 MB/s) | 2.6s\n",
      "⠼ 116 extracted | 878 MB (318 MB/s) | 2.8s\n",
      "⠴ 116 extracted | 939 MB (317 MB/s) | 3s  \n",
      "⠦ 116 extracted | 1000 MB (316 MB/s) | 3.2s\n",
      "⠧ 116 extracted | 1.1 GB (313 MB/s) | 3.4s \n",
      "⠇ 116 extracted | 1.1 GB (310 MB/s) | 3.6s\n",
      "⠏ 116 extracted | 1.2 GB (307 MB/s) | 3.8s\n",
      "⠋ 116 extracted | 1.2 GB (304 MB/s) | 4s  \n",
      "⠙ 116 extracted | 1.3 GB (303 MB/s) | 4.2s\n",
      "⠹ 116 extracted | 1.3 GB (301 MB/s) | 4.4s\n",
      "⠸ 116 extracted | 1.4 GB (301 MB/s) | 4.6s\n",
      "⠼ 116 extracted | 1.4 GB (301 MB/s) | 4.8s\n",
      "⠴ 116 extracted | 1.5 GB (298 MB/s) | 5s  \n",
      "⠦ 116 extracted | 1.5 GB (296 MB/s) | 5.2s\n",
      "⠧ 116 extracted | 1.6 GB (295 MB/s) | 5.4s\n",
      "⠇ 116 extracted | 1.7 GB (295 MB/s) | 5.6s\n",
      "⠏ 116 extracted | 1.7 GB (294 MB/s) | 5.8s\n",
      "⠋ 116 extracted | 1.8 GB (292 MB/s) | 6s  \n",
      "⠙ 116 extracted | 1.8 GB (290 MB/s) | 6.2s\n",
      "⠹ 116 extracted | 1.9 GB (288 MB/s) | 6.4s\n",
      "⠸ 117 extracted | 2.0 GB (295 MB/s) | 6.6s\n",
      "⠼ 117 extracted | 2.0 GB (300 MB/s) | 6.8s\n",
      "⠴ 117 extracted | 2.1 GB (302 MB/s) | 7s  \n",
      "                                        \n"
     ]
    }
   ],
   "source": [
    "if(!dir.exists(pasta)){dir.create(pasta,recursive = T)}\n",
    "\n",
    "download_enem(ano,pasta)"
   ]
  },
  {
   "cell_type": "markdown",
   "metadata": {
    "id": "2_rh6ROA-c9U"
   },
   "source": [
    "\n",
    "---\n",
    "### Lendo dados e gerando amostra\n"
   ]
  },
  {
   "cell_type": "code",
   "execution_count": 14,
   "metadata": {
    "id": "LSX3SVx1_oMw",
    "tags": []
   },
   "outputs": [],
   "source": [
    "# Lendo Itens\n",
    "arquivo_itens <- paste0(pasta,\"ENEM/\",ano,\"/DADOS/ITENS_PROVA_\",ano,\".csv\")\n",
    "\n",
    "itens <- fread(input=arquivo_itens,integer64='character',encoding = \"Latin-1\")\n",
    "itens <- itens  |>\n",
    "  mutate(area_prova = area) |>\n",
    "  mutate(CO_POSICAO = case_when(    # A posição original é de 1 a 180, precisa ser de 1 a 45\n",
    "    area_prova == \"LC\" ~ CO_POSICAO - 0,   # Primeiro grupo de itens\n",
    "    area_prova == \"CH\" ~ CO_POSICAO - 45,  # Segundo grupo de itens\n",
    "    area_prova == \"CN\" ~ CO_POSICAO - 90,  # Terceiro grupo de itens\n",
    "    area_prova == \"MT\" ~ CO_POSICAO - 135  # Quarto grupo de itens\n",
    "    )) |>\n",
    "  filter(CO_PROVA %in% provas) |>\n",
    "  dplyr::select(CO_POSICAO, CO_ITEM, CO_HABILIDADE,TX_COR,CO_PROVA,TX_GABARITO) |>\n",
    "  mutate(CO_ITEM = paste0(\"I_\",str_pad(CO_ITEM,width = 6,side = \"left\",pad = \"0\"))) |>\n",
    "  arrange(CO_ITEM) |>\n",
    "  as.data.frame()\n"
   ]
  },
  {
   "cell_type": "code",
   "execution_count": 15,
   "metadata": {
    "colab": {
     "base_uri": "https://localhost:8080/",
     "height": 286
    },
    "id": "4sIOqZeOHris",
    "outputId": "bbfad4dd-7f9a-46ee-d8ee-039c96c197f7",
    "tags": []
   },
   "outputs": [
    {
     "data": {
      "text/html": [
       "<table class=\"dataframe\">\n",
       "<caption>A data.frame: 6 × 6</caption>\n",
       "<thead>\n",
       "\t<tr><th></th><th scope=col>CO_POSICAO</th><th scope=col>CO_ITEM</th><th scope=col>CO_HABILIDADE</th><th scope=col>TX_COR</th><th scope=col>CO_PROVA</th><th scope=col>TX_GABARITO</th></tr>\n",
       "\t<tr><th></th><th scope=col>&lt;dbl&gt;</th><th scope=col>&lt;chr&gt;</th><th scope=col>&lt;int&gt;</th><th scope=col>&lt;chr&gt;</th><th scope=col>&lt;int&gt;</th><th scope=col>&lt;chr&gt;</th></tr>\n",
       "</thead>\n",
       "<tbody>\n",
       "\t<tr><th scope=row>1</th><td> 8</td><td>I_005961</td><td>7</td><td>AZUL   </td><td>1075</td><td>D</td></tr>\n",
       "\t<tr><th scope=row>2</th><td>23</td><td>I_005961</td><td>7</td><td>AMARELA</td><td>1076</td><td>D</td></tr>\n",
       "\t<tr><th scope=row>3</th><td>26</td><td>I_005961</td><td>7</td><td>ROSA   </td><td>1077</td><td>D</td></tr>\n",
       "\t<tr><th scope=row>4</th><td>38</td><td>I_005961</td><td>7</td><td>CINZA  </td><td>1078</td><td>D</td></tr>\n",
       "\t<tr><th scope=row>5</th><td>25</td><td>I_008364</td><td>6</td><td>AZUL   </td><td>1075</td><td>A</td></tr>\n",
       "\t<tr><th scope=row>6</th><td>43</td><td>I_008364</td><td>6</td><td>AMARELA</td><td>1076</td><td>A</td></tr>\n",
       "</tbody>\n",
       "</table>\n"
      ],
      "text/latex": [
       "A data.frame: 6 × 6\n",
       "\\begin{tabular}{r|llllll}\n",
       "  & CO\\_POSICAO & CO\\_ITEM & CO\\_HABILIDADE & TX\\_COR & CO\\_PROVA & TX\\_GABARITO\\\\\n",
       "  & <dbl> & <chr> & <int> & <chr> & <int> & <chr>\\\\\n",
       "\\hline\n",
       "\t1 &  8 & I\\_005961 & 7 & AZUL    & 1075 & D\\\\\n",
       "\t2 & 23 & I\\_005961 & 7 & AMARELA & 1076 & D\\\\\n",
       "\t3 & 26 & I\\_005961 & 7 & ROSA    & 1077 & D\\\\\n",
       "\t4 & 38 & I\\_005961 & 7 & CINZA   & 1078 & D\\\\\n",
       "\t5 & 25 & I\\_008364 & 6 & AZUL    & 1075 & A\\\\\n",
       "\t6 & 43 & I\\_008364 & 6 & AMARELA & 1076 & A\\\\\n",
       "\\end{tabular}\n"
      ],
      "text/markdown": [
       "\n",
       "A data.frame: 6 × 6\n",
       "\n",
       "| <!--/--> | CO_POSICAO &lt;dbl&gt; | CO_ITEM &lt;chr&gt; | CO_HABILIDADE &lt;int&gt; | TX_COR &lt;chr&gt; | CO_PROVA &lt;int&gt; | TX_GABARITO &lt;chr&gt; |\n",
       "|---|---|---|---|---|---|---|\n",
       "| 1 |  8 | I_005961 | 7 | AZUL    | 1075 | D |\n",
       "| 2 | 23 | I_005961 | 7 | AMARELA | 1076 | D |\n",
       "| 3 | 26 | I_005961 | 7 | ROSA    | 1077 | D |\n",
       "| 4 | 38 | I_005961 | 7 | CINZA   | 1078 | D |\n",
       "| 5 | 25 | I_008364 | 6 | AZUL    | 1075 | A |\n",
       "| 6 | 43 | I_008364 | 6 | AMARELA | 1076 | A |\n",
       "\n"
      ],
      "text/plain": [
       "  CO_POSICAO CO_ITEM  CO_HABILIDADE TX_COR  CO_PROVA TX_GABARITO\n",
       "1  8         I_005961 7             AZUL    1075     D          \n",
       "2 23         I_005961 7             AMARELA 1076     D          \n",
       "3 26         I_005961 7             ROSA    1077     D          \n",
       "4 38         I_005961 7             CINZA   1078     D          \n",
       "5 25         I_008364 6             AZUL    1075     A          \n",
       "6 43         I_008364 6             AMARELA 1076     A          "
      ]
     },
     "metadata": {},
     "output_type": "display_data"
    }
   ],
   "source": [
    "head(itens)"
   ]
  },
  {
   "cell_type": "code",
   "execution_count": 22,
   "metadata": {
    "id": "xVCSvrMe-mh_",
    "tags": []
   },
   "outputs": [],
   "source": [
    "# Lendo Respostas\n",
    "arquivo_respostas <- paste0(pasta,\"ENEM/\",ano,\"/DADOS/MICRODADOS_ENEM_\",ano,\".csv\")\n",
    "\n",
    "respostas <- fread(\n",
    "  arquivo_respostas,\n",
    "  integer64='character',\n",
    "  skip=0,  #Ler do inicio\n",
    "  nrow=-1, #Ler todos os registros\n",
    "  na.strings = \"\",\n",
    "  showProgress = TRUE,\n",
    "  encoding = \"Latin-1\")"
   ]
  },
  {
   "cell_type": "code",
   "execution_count": 23,
   "metadata": {
    "colab": {
     "base_uri": "https://localhost:8080/",
     "height": 129
    },
    "id": "nFcTnwk7IZzh",
    "outputId": "13f3863e-4f38-463e-88d3-c15d76423f9e",
    "tags": []
   },
   "outputs": [
    {
     "data": {
      "text/html": [
       "<table class=\"dataframe\">\n",
       "<caption>A matrix: 2 × 6 of type dbl</caption>\n",
       "<thead>\n",
       "\t<tr><th></th><th scope=col>used</th><th scope=col>(Mb)</th><th scope=col>gc trigger</th><th scope=col>(Mb)</th><th scope=col>max used</th><th scope=col>(Mb)</th></tr>\n",
       "</thead>\n",
       "<tbody>\n",
       "\t<tr><th scope=row>Ncells</th><td>  2885118</td><td> 154.1</td><td>  20836767</td><td> 1112.9</td><td>  17446052</td><td>  931.8</td></tr>\n",
       "\t<tr><th scope=row>Vcells</th><td>619484457</td><td>4726.3</td><td>1507495906</td><td>11501.3</td><td>1505767233</td><td>11488.1</td></tr>\n",
       "</tbody>\n",
       "</table>\n"
      ],
      "text/latex": [
       "A matrix: 2 × 6 of type dbl\n",
       "\\begin{tabular}{r|llllll}\n",
       "  & used & (Mb) & gc trigger & (Mb) & max used & (Mb)\\\\\n",
       "\\hline\n",
       "\tNcells &   2885118 &  154.1 &   20836767 &  1112.9 &   17446052 &   931.8\\\\\n",
       "\tVcells & 619484457 & 4726.3 & 1507495906 & 11501.3 & 1505767233 & 11488.1\\\\\n",
       "\\end{tabular}\n"
      ],
      "text/markdown": [
       "\n",
       "A matrix: 2 × 6 of type dbl\n",
       "\n",
       "| <!--/--> | used | (Mb) | gc trigger | (Mb) | max used | (Mb) |\n",
       "|---|---|---|---|---|---|---|\n",
       "| Ncells |   2885118 |  154.1 |   20836767 |  1112.9 |   17446052 |   931.8 |\n",
       "| Vcells | 619484457 | 4726.3 | 1507495906 | 11501.3 | 1505767233 | 11488.1 |\n",
       "\n"
      ],
      "text/plain": [
       "       used      (Mb)   gc trigger (Mb)    max used   (Mb)   \n",
       "Ncells   2885118  154.1   20836767  1112.9   17446052   931.8\n",
       "Vcells 619484457 4726.3 1507495906 11501.3 1505767233 11488.1"
      ]
     },
     "metadata": {},
     "output_type": "display_data"
    }
   ],
   "source": [
    "# Filtrando Presença e Gerando Amostra\n",
    "set.seed(12345)\n",
    "amostra <- respostas |>\n",
    "  lazy_dt() |>\n",
    "  mutate(respostas_validas = str_count(!!sym(paste0(\"TX_RESPOSTAS_\",area)),\"A|B|C|D|E\")) |>\n",
    "  filter(respostas_validas >= min_respostas_validas) |>\n",
    "  filter(!!sym(paste0(\"TP_PRESENCA_\",area)) == 1) |>\n",
    "  filter(!!sym(paste0(\"CO_PROVA_\",area)) %in% provas) |>\n",
    "  sample_n(tamanho_amostral, replace = FALSE) |>       # Gerando amostra\n",
    "  dplyr::select(NU_INSCRICAO, !!sym(paste0(\"CO_PROVA_\",area)), !!sym(paste0(\"TX_RESPOSTAS_\",area)), !!sym(paste0(\"TX_GABARITO_\",area))) |>\n",
    "  as.data.frame()\n",
    "\n",
    "# Removendo base original por questões de memória RAM\n",
    "rm(respostas)\n",
    "gc()"
   ]
  },
  {
   "cell_type": "markdown",
   "metadata": {
    "id": "jaP6DtCqSuu_"
   },
   "source": [
    "---\n",
    "### Dicotomizando amostra"
   ]
  },
  {
   "cell_type": "code",
   "execution_count": 24,
   "metadata": {
    "id": "GsgIJv3YIZ9C",
    "tags": []
   },
   "outputs": [],
   "source": [
    "# Dicotomizando repostas\n",
    "dicotomizar <- function(responses,corrections){\n",
    "  dic_matrix <- (str_split(responses,pattern = \"\",simplify = T)==str_split(corrections,pattern = \"\",simplify = T))*1\n",
    "\n",
    "  apply(dic_matrix, 1, str_flatten)\n",
    "}\n",
    "\n",
    "amostra_dicotomizada <- amostra |>\n",
    "  lazy_dt() |>\n",
    "  mutate(!!sym(paste0(\"TX_CORRECAO_\",area)) := dicotomizar(!!sym(paste0(\"TX_RESPOSTAS_\",area)),!!sym(paste0(\"TX_GABARITO_\",area)))) |>\n",
    "  # mutate(TX_CORRECAO_MT = dicotomizar(TX_RESPOSTAS_MT,TX_GABARITO_MT)) |>\n",
    "  as.data.frame()\n",
    "\n",
    "amostra_respostas_split <- str_split(amostra_dicotomizada[,paste0(\"TX_RESPOSTAS_\",area)],pattern = \"\",simplify = T) |> \n",
    "  data.frame() |>\n",
    "  setNames(paste0(\"r_item_\",str_pad( 1:45,2,\"left\",\"0\")))\n",
    "\n",
    "amostra_correcao_split <- str_split(amostra_dicotomizada[,paste0(\"TX_CORRECAO_\",area)],pattern = \"\",simplify = T) |> \n",
    "  data.frame() |>\n",
    "  setNames(paste0(\"c_item_\",str_pad( 1:45,2,\"left\",\"0\")))\n",
    "\n",
    "amostra_dicotomizada <- bind_cols(amostra_dicotomizada,amostra_respostas_split,amostra_correcao_split)"
   ]
  },
  {
   "cell_type": "code",
   "execution_count": 25,
   "metadata": {
    "colab": {
     "base_uri": "https://localhost:8080/",
     "height": 286
    },
    "id": "wWSXnsz1IaAg",
    "outputId": "b8a5c8e6-ed3f-4e0c-cc7c-bceaf718bfa8",
    "tags": []
   },
   "outputs": [
    {
     "data": {
      "text/html": [
       "<table class=\"dataframe\">\n",
       "<caption>A data.frame: 6 × 95</caption>\n",
       "<thead>\n",
       "\t<tr><th></th><th scope=col>NU_INSCRICAO</th><th scope=col>CO_PROVA_MT</th><th scope=col>TX_RESPOSTAS_MT</th><th scope=col>TX_GABARITO_MT</th><th scope=col>TX_CORRECAO_MT</th><th scope=col>r_item_01</th><th scope=col>r_item_02</th><th scope=col>r_item_03</th><th scope=col>r_item_04</th><th scope=col>r_item_05</th><th scope=col>⋯</th><th scope=col>c_item_36</th><th scope=col>c_item_37</th><th scope=col>c_item_38</th><th scope=col>c_item_39</th><th scope=col>c_item_40</th><th scope=col>c_item_41</th><th scope=col>c_item_42</th><th scope=col>c_item_43</th><th scope=col>c_item_44</th><th scope=col>c_item_45</th></tr>\n",
       "\t<tr><th></th><th scope=col>&lt;chr&gt;</th><th scope=col>&lt;int&gt;</th><th scope=col>&lt;chr&gt;</th><th scope=col>&lt;chr&gt;</th><th scope=col>&lt;chr&gt;</th><th scope=col>&lt;chr&gt;</th><th scope=col>&lt;chr&gt;</th><th scope=col>&lt;chr&gt;</th><th scope=col>&lt;chr&gt;</th><th scope=col>&lt;chr&gt;</th><th scope=col>⋯</th><th scope=col>&lt;chr&gt;</th><th scope=col>&lt;chr&gt;</th><th scope=col>&lt;chr&gt;</th><th scope=col>&lt;chr&gt;</th><th scope=col>&lt;chr&gt;</th><th scope=col>&lt;chr&gt;</th><th scope=col>&lt;chr&gt;</th><th scope=col>&lt;chr&gt;</th><th scope=col>&lt;chr&gt;</th><th scope=col>&lt;chr&gt;</th></tr>\n",
       "</thead>\n",
       "<tbody>\n",
       "\t<tr><th scope=row>1</th><td>210058008518</td><td>1077</td><td>AECCCAECACEAAEDDBBABBACDDBDABEDEBCCEDAEADBDCD</td><td>CCCCBXCBABECBEABDDDBDECDBDCAACEECCEBDBAAAEDAE</td><td>001100001010010000010011000100010100100100100</td><td>A</td><td>E</td><td>C</td><td>C</td><td>C</td><td>⋯</td><td>0</td><td>1</td><td>0</td><td>0</td><td>1</td><td>0</td><td>0</td><td>1</td><td>0</td><td>0</td></tr>\n",
       "\t<tr><th scope=row>2</th><td>210055443843</td><td>1076</td><td>AAACDCEEECACABCCCDEBCDABEBABBEDBBCDDAEBDECCCC</td><td>DBAAACEBEDAECCBECDEECBDCABECBEABDDCCDBDXCBAAC</td><td>001001101010000011101000010011010000000000001</td><td>A</td><td>A</td><td>A</td><td>C</td><td>D</td><td>⋯</td><td>0</td><td>0</td><td>0</td><td>0</td><td>0</td><td>0</td><td>0</td><td>0</td><td>0</td><td>1</td></tr>\n",
       "\t<tr><th scope=row>3</th><td>210057034159</td><td>1078</td><td>BAACCCBEECBBECACCDEBEDBACBBEDBAEADEEDCABEBCBE</td><td>BEEDAEABDDCEBDBAAAAACXCBCCCBCCDBDEECBDCABEECD</td><td>100000000000000000000000100000000010000000000</td><td>B</td><td>A</td><td>A</td><td>C</td><td>C</td><td>⋯</td><td>0</td><td>0</td><td>0</td><td>0</td><td>0</td><td>0</td><td>0</td><td>0</td><td>0</td><td>0</td></tr>\n",
       "\t<tr><th scope=row>4</th><td>210055364900</td><td>1075</td><td>CBDBEDECACDBEDBCBDAEDBBDCADBCCAECDBDCADCBDDAC</td><td>ECDABEBDCEECDBDCCCCBCXCBAACDBAAACEBABDDEDAEBE</td><td>001000000000000100000000010000101010001000000</td><td>C</td><td>B</td><td>D</td><td>B</td><td>E</td><td>⋯</td><td>0</td><td>0</td><td>0</td><td>1</td><td>0</td><td>0</td><td>0</td><td>0</td><td>0</td><td>0</td></tr>\n",
       "\t<tr><th scope=row>5</th><td>210056080871</td><td>1077</td><td>DEBBAAECACDEBCABDCABDCBBBDBEDDECEBBEDCEDAEEAC</td><td>CCCCBXCBABECBEABDDDBDECDBDCAACEECCEBDBAAAEDAE</td><td>000000001000101110011000110000100000100011010</td><td>D</td><td>E</td><td>B</td><td>B</td><td>A</td><td>⋯</td><td>0</td><td>1</td><td>0</td><td>0</td><td>0</td><td>1</td><td>1</td><td>0</td><td>1</td><td>0</td></tr>\n",
       "\t<tr><th scope=row>6</th><td>210056879478</td><td>1076</td><td>BBDAEABAEAACDABBAEDACACEDCBBBEABADCACEADBAEDC</td><td>DBAAACEBEDAECCBECDEECBDCABECBEABDDCCDBDXCBAAC</td><td>010100001010001000001000000011110110000000001</td><td>B</td><td>B</td><td>D</td><td>A</td><td>E</td><td>⋯</td><td>0</td><td>0</td><td>0</td><td>0</td><td>0</td><td>0</td><td>0</td><td>0</td><td>0</td><td>1</td></tr>\n",
       "</tbody>\n",
       "</table>\n"
      ],
      "text/latex": [
       "A data.frame: 6 × 95\n",
       "\\begin{tabular}{r|lllllllllllllllllllll}\n",
       "  & NU\\_INSCRICAO & CO\\_PROVA\\_MT & TX\\_RESPOSTAS\\_MT & TX\\_GABARITO\\_MT & TX\\_CORRECAO\\_MT & r\\_item\\_01 & r\\_item\\_02 & r\\_item\\_03 & r\\_item\\_04 & r\\_item\\_05 & ⋯ & c\\_item\\_36 & c\\_item\\_37 & c\\_item\\_38 & c\\_item\\_39 & c\\_item\\_40 & c\\_item\\_41 & c\\_item\\_42 & c\\_item\\_43 & c\\_item\\_44 & c\\_item\\_45\\\\\n",
       "  & <chr> & <int> & <chr> & <chr> & <chr> & <chr> & <chr> & <chr> & <chr> & <chr> & ⋯ & <chr> & <chr> & <chr> & <chr> & <chr> & <chr> & <chr> & <chr> & <chr> & <chr>\\\\\n",
       "\\hline\n",
       "\t1 & 210058008518 & 1077 & AECCCAECACEAAEDDBBABBACDDBDABEDEBCCEDAEADBDCD & CCCCBXCBABECBEABDDDBDECDBDCAACEECCEBDBAAAEDAE & 001100001010010000010011000100010100100100100 & A & E & C & C & C & ⋯ & 0 & 1 & 0 & 0 & 1 & 0 & 0 & 1 & 0 & 0\\\\\n",
       "\t2 & 210055443843 & 1076 & AAACDCEEECACABCCCDEBCDABEBABBEDBBCDDAEBDECCCC & DBAAACEBEDAECCBECDEECBDCABECBEABDDCCDBDXCBAAC & 001001101010000011101000010011010000000000001 & A & A & A & C & D & ⋯ & 0 & 0 & 0 & 0 & 0 & 0 & 0 & 0 & 0 & 1\\\\\n",
       "\t3 & 210057034159 & 1078 & BAACCCBEECBBECACCDEBEDBACBBEDBAEADEEDCABEBCBE & BEEDAEABDDCEBDBAAAAACXCBCCCBCCDBDEECBDCABEECD & 100000000000000000000000100000000010000000000 & B & A & A & C & C & ⋯ & 0 & 0 & 0 & 0 & 0 & 0 & 0 & 0 & 0 & 0\\\\\n",
       "\t4 & 210055364900 & 1075 & CBDBEDECACDBEDBCBDAEDBBDCADBCCAECDBDCADCBDDAC & ECDABEBDCEECDBDCCCCBCXCBAACDBAAACEBABDDEDAEBE & 001000000000000100000000010000101010001000000 & C & B & D & B & E & ⋯ & 0 & 0 & 0 & 1 & 0 & 0 & 0 & 0 & 0 & 0\\\\\n",
       "\t5 & 210056080871 & 1077 & DEBBAAECACDEBCABDCABDCBBBDBEDDECEBBEDCEDAEEAC & CCCCBXCBABECBEABDDDBDECDBDCAACEECCEBDBAAAEDAE & 000000001000101110011000110000100000100011010 & D & E & B & B & A & ⋯ & 0 & 1 & 0 & 0 & 0 & 1 & 1 & 0 & 1 & 0\\\\\n",
       "\t6 & 210056879478 & 1076 & BBDAEABAEAACDABBAEDACACEDCBBBEABADCACEADBAEDC & DBAAACEBEDAECCBECDEECBDCABECBEABDDCCDBDXCBAAC & 010100001010001000001000000011110110000000001 & B & B & D & A & E & ⋯ & 0 & 0 & 0 & 0 & 0 & 0 & 0 & 0 & 0 & 1\\\\\n",
       "\\end{tabular}\n"
      ],
      "text/markdown": [
       "\n",
       "A data.frame: 6 × 95\n",
       "\n",
       "| <!--/--> | NU_INSCRICAO &lt;chr&gt; | CO_PROVA_MT &lt;int&gt; | TX_RESPOSTAS_MT &lt;chr&gt; | TX_GABARITO_MT &lt;chr&gt; | TX_CORRECAO_MT &lt;chr&gt; | r_item_01 &lt;chr&gt; | r_item_02 &lt;chr&gt; | r_item_03 &lt;chr&gt; | r_item_04 &lt;chr&gt; | r_item_05 &lt;chr&gt; | ⋯ ⋯ | c_item_36 &lt;chr&gt; | c_item_37 &lt;chr&gt; | c_item_38 &lt;chr&gt; | c_item_39 &lt;chr&gt; | c_item_40 &lt;chr&gt; | c_item_41 &lt;chr&gt; | c_item_42 &lt;chr&gt; | c_item_43 &lt;chr&gt; | c_item_44 &lt;chr&gt; | c_item_45 &lt;chr&gt; |\n",
       "|---|---|---|---|---|---|---|---|---|---|---|---|---|---|---|---|---|---|---|---|---|---|\n",
       "| 1 | 210058008518 | 1077 | AECCCAECACEAAEDDBBABBACDDBDABEDEBCCEDAEADBDCD | CCCCBXCBABECBEABDDDBDECDBDCAACEECCEBDBAAAEDAE | 001100001010010000010011000100010100100100100 | A | E | C | C | C | ⋯ | 0 | 1 | 0 | 0 | 1 | 0 | 0 | 1 | 0 | 0 |\n",
       "| 2 | 210055443843 | 1076 | AAACDCEEECACABCCCDEBCDABEBABBEDBBCDDAEBDECCCC | DBAAACEBEDAECCBECDEECBDCABECBEABDDCCDBDXCBAAC | 001001101010000011101000010011010000000000001 | A | A | A | C | D | ⋯ | 0 | 0 | 0 | 0 | 0 | 0 | 0 | 0 | 0 | 1 |\n",
       "| 3 | 210057034159 | 1078 | BAACCCBEECBBECACCDEBEDBACBBEDBAEADEEDCABEBCBE | BEEDAEABDDCEBDBAAAAACXCBCCCBCCDBDEECBDCABEECD | 100000000000000000000000100000000010000000000 | B | A | A | C | C | ⋯ | 0 | 0 | 0 | 0 | 0 | 0 | 0 | 0 | 0 | 0 |\n",
       "| 4 | 210055364900 | 1075 | CBDBEDECACDBEDBCBDAEDBBDCADBCCAECDBDCADCBDDAC | ECDABEBDCEECDBDCCCCBCXCBAACDBAAACEBABDDEDAEBE | 001000000000000100000000010000101010001000000 | C | B | D | B | E | ⋯ | 0 | 0 | 0 | 1 | 0 | 0 | 0 | 0 | 0 | 0 |\n",
       "| 5 | 210056080871 | 1077 | DEBBAAECACDEBCABDCABDCBBBDBEDDECEBBEDCEDAEEAC | CCCCBXCBABECBEABDDDBDECDBDCAACEECCEBDBAAAEDAE | 000000001000101110011000110000100000100011010 | D | E | B | B | A | ⋯ | 0 | 1 | 0 | 0 | 0 | 1 | 1 | 0 | 1 | 0 |\n",
       "| 6 | 210056879478 | 1076 | BBDAEABAEAACDABBAEDACACEDCBBBEABADCACEADBAEDC | DBAAACEBEDAECCBECDEECBDCABECBEABDDCCDBDXCBAAC | 010100001010001000001000000011110110000000001 | B | B | D | A | E | ⋯ | 0 | 0 | 0 | 0 | 0 | 0 | 0 | 0 | 0 | 1 |\n",
       "\n"
      ],
      "text/plain": [
       "  NU_INSCRICAO CO_PROVA_MT TX_RESPOSTAS_MT                              \n",
       "1 210058008518 1077        AECCCAECACEAAEDDBBABBACDDBDABEDEBCCEDAEADBDCD\n",
       "2 210055443843 1076        AAACDCEEECACABCCCDEBCDABEBABBEDBBCDDAEBDECCCC\n",
       "3 210057034159 1078        BAACCCBEECBBECACCDEBEDBACBBEDBAEADEEDCABEBCBE\n",
       "4 210055364900 1075        CBDBEDECACDBEDBCBDAEDBBDCADBCCAECDBDCADCBDDAC\n",
       "5 210056080871 1077        DEBBAAECACDEBCABDCABDCBBBDBEDDECEBBEDCEDAEEAC\n",
       "6 210056879478 1076        BBDAEABAEAACDABBAEDACACEDCBBBEABADCACEADBAEDC\n",
       "  TX_GABARITO_MT                               \n",
       "1 CCCCBXCBABECBEABDDDBDECDBDCAACEECCEBDBAAAEDAE\n",
       "2 DBAAACEBEDAECCBECDEECBDCABECBEABDDCCDBDXCBAAC\n",
       "3 BEEDAEABDDCEBDBAAAAACXCBCCCBCCDBDEECBDCABEECD\n",
       "4 ECDABEBDCEECDBDCCCCBCXCBAACDBAAACEBABDDEDAEBE\n",
       "5 CCCCBXCBABECBEABDDDBDECDBDCAACEECCEBDBAAAEDAE\n",
       "6 DBAAACEBEDAECCBECDEECBDCABECBEABDDCCDBDXCBAAC\n",
       "  TX_CORRECAO_MT                                r_item_01 r_item_02 r_item_03\n",
       "1 001100001010010000010011000100010100100100100 A         E         C        \n",
       "2 001001101010000011101000010011010000000000001 A         A         A        \n",
       "3 100000000000000000000000100000000010000000000 B         A         A        \n",
       "4 001000000000000100000000010000101010001000000 C         B         D        \n",
       "5 000000001000101110011000110000100000100011010 D         E         B        \n",
       "6 010100001010001000001000000011110110000000001 B         B         D        \n",
       "  r_item_04 r_item_05 ⋯ c_item_36 c_item_37 c_item_38 c_item_39 c_item_40\n",
       "1 C         C         ⋯ 0         1         0         0         1        \n",
       "2 C         D         ⋯ 0         0         0         0         0        \n",
       "3 C         C         ⋯ 0         0         0         0         0        \n",
       "4 B         E         ⋯ 0         0         0         1         0        \n",
       "5 B         A         ⋯ 0         1         0         0         0        \n",
       "6 A         E         ⋯ 0         0         0         0         0        \n",
       "  c_item_41 c_item_42 c_item_43 c_item_44 c_item_45\n",
       "1 0         0         1         0         0        \n",
       "2 0         0         0         0         1        \n",
       "3 0         0         0         0         0        \n",
       "4 0         0         0         0         0        \n",
       "5 1         1         0         1         0        \n",
       "6 0         0         0         0         1        "
      ]
     },
     "metadata": {},
     "output_type": "display_data"
    }
   ],
   "source": [
    "head(amostra_dicotomizada)"
   ]
  },
  {
   "cell_type": "markdown",
   "metadata": {
    "id": "TW-5b71fS5Eu"
   },
   "source": [
    "---\n",
    "### Ordenando itens da amostra"
   ]
  },
  {
   "cell_type": "code",
   "execution_count": 26,
   "metadata": {
    "id": "TV-5BL0XIaDk",
    "tags": []
   },
   "outputs": [],
   "source": [
    "amostra_resposta_ordenada <- amostra_dicotomizada |> \n",
    "  rename(CO_PROVA = !!sym(paste0(\"CO_PROVA_\",area))) |>\n",
    "  dplyr::select(NU_INSCRICAO,CO_PROVA, r_item_01:r_item_45) |>\n",
    "  pivot_longer(r_item_01:r_item_45,names_to = \"CO_POSICAO\",values_to = \"RESPOSTA\") |>\n",
    "  lazy_dt() |>\n",
    "  mutate(CO_POSICAO  = as.numeric(str_remove(CO_POSICAO ,\"r_item_\"))) |>\n",
    "  left_join(dplyr::select(itens, CO_PROVA, CO_POSICAO, CO_ITEM), by = c(\"CO_PROVA\",\"CO_POSICAO\")) |>\n",
    "  dplyr::select(NU_INSCRICAO,CO_ITEM,RESPOSTA) |>\n",
    "  arrange(NU_INSCRICAO,CO_ITEM)|>\n",
    "  as.data.frame() |>\n",
    "  pivot_wider(names_from = \"CO_ITEM\",values_from = \"RESPOSTA\")"
   ]
  },
  {
   "cell_type": "code",
   "execution_count": 27,
   "metadata": {
    "colab": {
     "base_uri": "https://localhost:8080/",
     "height": 286
    },
    "id": "kmP61pbmNGvW",
    "outputId": "e071ac7e-20c5-43a8-9180-c14c34e6f7ac",
    "tags": []
   },
   "outputs": [
    {
     "data": {
      "text/html": [
       "<table class=\"dataframe\">\n",
       "<caption>A tibble: 6 × 46</caption>\n",
       "<thead>\n",
       "\t<tr><th scope=col>NU_INSCRICAO</th><th scope=col>I_005961</th><th scope=col>I_008364</th><th scope=col>I_010322</th><th scope=col>I_010409</th><th scope=col>I_010500</th><th scope=col>I_014797</th><th scope=col>I_019807</th><th scope=col>I_028683</th><th scope=col>I_030053</th><th scope=col>⋯</th><th scope=col>I_096315</th><th scope=col>I_097590</th><th scope=col>I_111516</th><th scope=col>I_111738</th><th scope=col>I_117651</th><th scope=col>I_117742</th><th scope=col>I_117820</th><th scope=col>I_117877</th><th scope=col>I_117886</th><th scope=col>I_117973</th></tr>\n",
       "\t<tr><th scope=col>&lt;chr&gt;</th><th scope=col>&lt;chr&gt;</th><th scope=col>&lt;chr&gt;</th><th scope=col>&lt;chr&gt;</th><th scope=col>&lt;chr&gt;</th><th scope=col>&lt;chr&gt;</th><th scope=col>&lt;chr&gt;</th><th scope=col>&lt;chr&gt;</th><th scope=col>&lt;chr&gt;</th><th scope=col>&lt;chr&gt;</th><th scope=col>⋯</th><th scope=col>&lt;chr&gt;</th><th scope=col>&lt;chr&gt;</th><th scope=col>&lt;chr&gt;</th><th scope=col>&lt;chr&gt;</th><th scope=col>&lt;chr&gt;</th><th scope=col>&lt;chr&gt;</th><th scope=col>&lt;chr&gt;</th><th scope=col>&lt;chr&gt;</th><th scope=col>&lt;chr&gt;</th><th scope=col>&lt;chr&gt;</th></tr>\n",
       "</thead>\n",
       "<tbody>\n",
       "\t<tr><td>210054479192</td><td>E</td><td>B</td><td>C</td><td>D</td><td>A</td><td>A</td><td>A</td><td>B</td><td>A</td><td>⋯</td><td>C</td><td>E</td><td>A</td><td>B</td><td>B</td><td>C</td><td>E</td><td>C</td><td>C</td><td>A</td></tr>\n",
       "\t<tr><td>210054483969</td><td>B</td><td>A</td><td>A</td><td>E</td><td>D</td><td>A</td><td>D</td><td>A</td><td>C</td><td>⋯</td><td>A</td><td>C</td><td>C</td><td>.</td><td>.</td><td>.</td><td>.</td><td>B</td><td>.</td><td>A</td></tr>\n",
       "\t<tr><td>210054484198</td><td>B</td><td>E</td><td>C</td><td>D</td><td>D</td><td>C</td><td>B</td><td>A</td><td>C</td><td>⋯</td><td>A</td><td>B</td><td>B</td><td>C</td><td>C</td><td>B</td><td>B</td><td>A</td><td>D</td><td>C</td></tr>\n",
       "\t<tr><td>210054484386</td><td>D</td><td>C</td><td>C</td><td>B</td><td>C</td><td>B</td><td>C</td><td>A</td><td>D</td><td>⋯</td><td>A</td><td>C</td><td>E</td><td>A</td><td>D</td><td>C</td><td>B</td><td>D</td><td>D</td><td>B</td></tr>\n",
       "\t<tr><td>210054491071</td><td>B</td><td>D</td><td>A</td><td>B</td><td>D</td><td>B</td><td>C</td><td>B</td><td>D</td><td>⋯</td><td>C</td><td>B</td><td>D</td><td>D</td><td>D</td><td>B</td><td>D</td><td>D</td><td>D</td><td>C</td></tr>\n",
       "\t<tr><td>210054491537</td><td>C</td><td>B</td><td>B</td><td>D</td><td>A</td><td>D</td><td>E</td><td>C</td><td>B</td><td>⋯</td><td>C</td><td>C</td><td>B</td><td>D</td><td>B</td><td>B</td><td>A</td><td>C</td><td>D</td><td>B</td></tr>\n",
       "</tbody>\n",
       "</table>\n"
      ],
      "text/latex": [
       "A tibble: 6 × 46\n",
       "\\begin{tabular}{lllllllllllllllllllll}\n",
       " NU\\_INSCRICAO & I\\_005961 & I\\_008364 & I\\_010322 & I\\_010409 & I\\_010500 & I\\_014797 & I\\_019807 & I\\_028683 & I\\_030053 & ⋯ & I\\_096315 & I\\_097590 & I\\_111516 & I\\_111738 & I\\_117651 & I\\_117742 & I\\_117820 & I\\_117877 & I\\_117886 & I\\_117973\\\\\n",
       " <chr> & <chr> & <chr> & <chr> & <chr> & <chr> & <chr> & <chr> & <chr> & <chr> & ⋯ & <chr> & <chr> & <chr> & <chr> & <chr> & <chr> & <chr> & <chr> & <chr> & <chr>\\\\\n",
       "\\hline\n",
       "\t 210054479192 & E & B & C & D & A & A & A & B & A & ⋯ & C & E & A & B & B & C & E & C & C & A\\\\\n",
       "\t 210054483969 & B & A & A & E & D & A & D & A & C & ⋯ & A & C & C & . & . & . & . & B & . & A\\\\\n",
       "\t 210054484198 & B & E & C & D & D & C & B & A & C & ⋯ & A & B & B & C & C & B & B & A & D & C\\\\\n",
       "\t 210054484386 & D & C & C & B & C & B & C & A & D & ⋯ & A & C & E & A & D & C & B & D & D & B\\\\\n",
       "\t 210054491071 & B & D & A & B & D & B & C & B & D & ⋯ & C & B & D & D & D & B & D & D & D & C\\\\\n",
       "\t 210054491537 & C & B & B & D & A & D & E & C & B & ⋯ & C & C & B & D & B & B & A & C & D & B\\\\\n",
       "\\end{tabular}\n"
      ],
      "text/markdown": [
       "\n",
       "A tibble: 6 × 46\n",
       "\n",
       "| NU_INSCRICAO &lt;chr&gt; | I_005961 &lt;chr&gt; | I_008364 &lt;chr&gt; | I_010322 &lt;chr&gt; | I_010409 &lt;chr&gt; | I_010500 &lt;chr&gt; | I_014797 &lt;chr&gt; | I_019807 &lt;chr&gt; | I_028683 &lt;chr&gt; | I_030053 &lt;chr&gt; | ⋯ ⋯ | I_096315 &lt;chr&gt; | I_097590 &lt;chr&gt; | I_111516 &lt;chr&gt; | I_111738 &lt;chr&gt; | I_117651 &lt;chr&gt; | I_117742 &lt;chr&gt; | I_117820 &lt;chr&gt; | I_117877 &lt;chr&gt; | I_117886 &lt;chr&gt; | I_117973 &lt;chr&gt; |\n",
       "|---|---|---|---|---|---|---|---|---|---|---|---|---|---|---|---|---|---|---|---|---|\n",
       "| 210054479192 | E | B | C | D | A | A | A | B | A | ⋯ | C | E | A | B | B | C | E | C | C | A |\n",
       "| 210054483969 | B | A | A | E | D | A | D | A | C | ⋯ | A | C | C | . | . | . | . | B | . | A |\n",
       "| 210054484198 | B | E | C | D | D | C | B | A | C | ⋯ | A | B | B | C | C | B | B | A | D | C |\n",
       "| 210054484386 | D | C | C | B | C | B | C | A | D | ⋯ | A | C | E | A | D | C | B | D | D | B |\n",
       "| 210054491071 | B | D | A | B | D | B | C | B | D | ⋯ | C | B | D | D | D | B | D | D | D | C |\n",
       "| 210054491537 | C | B | B | D | A | D | E | C | B | ⋯ | C | C | B | D | B | B | A | C | D | B |\n",
       "\n"
      ],
      "text/plain": [
       "  NU_INSCRICAO I_005961 I_008364 I_010322 I_010409 I_010500 I_014797 I_019807\n",
       "1 210054479192 E        B        C        D        A        A        A       \n",
       "2 210054483969 B        A        A        E        D        A        D       \n",
       "3 210054484198 B        E        C        D        D        C        B       \n",
       "4 210054484386 D        C        C        B        C        B        C       \n",
       "5 210054491071 B        D        A        B        D        B        C       \n",
       "6 210054491537 C        B        B        D        A        D        E       \n",
       "  I_028683 I_030053 ⋯ I_096315 I_097590 I_111516 I_111738 I_117651 I_117742\n",
       "1 B        A        ⋯ C        E        A        B        B        C       \n",
       "2 A        C        ⋯ A        C        C        .        .        .       \n",
       "3 A        C        ⋯ A        B        B        C        C        B       \n",
       "4 A        D        ⋯ A        C        E        A        D        C       \n",
       "5 B        D        ⋯ C        B        D        D        D        B       \n",
       "6 C        B        ⋯ C        C        B        D        B        B       \n",
       "  I_117820 I_117877 I_117886 I_117973\n",
       "1 E        C        C        A       \n",
       "2 .        B        .        A       \n",
       "3 B        A        D        C       \n",
       "4 B        D        D        B       \n",
       "5 D        D        D        C       \n",
       "6 A        C        D        B       "
      ]
     },
     "metadata": {},
     "output_type": "display_data"
    }
   ],
   "source": [
    "head(amostra_resposta_ordenada)"
   ]
  },
  {
   "cell_type": "code",
   "execution_count": 28,
   "metadata": {
    "id": "TV-5BL0XIaDk",
    "tags": []
   },
   "outputs": [],
   "source": [
    "amostra_correcao_ordenada <- amostra_dicotomizada |> \n",
    "  rename(CO_PROVA = !!sym(paste0(\"CO_PROVA_\",area))) |>\n",
    "  dplyr::select(NU_INSCRICAO,CO_PROVA, c_item_01:c_item_45) |>\n",
    "  pivot_longer(c_item_01:c_item_45,names_to = \"CO_POSICAO\",values_to = \"RESPOSTA\") |>\n",
    "  lazy_dt() |>\n",
    "  mutate(CO_POSICAO  = as.numeric(str_remove(CO_POSICAO ,\"c_item_\"))) |>\n",
    "  left_join(dplyr::select(itens, CO_PROVA, CO_POSICAO, CO_ITEM), by = c(\"CO_PROVA\",\"CO_POSICAO\")) |>\n",
    "  mutate(RESPOSTA = as.numeric(RESPOSTA)) |>\n",
    "  dplyr::select(NU_INSCRICAO,CO_ITEM,RESPOSTA) |>\n",
    "  arrange(NU_INSCRICAO,CO_ITEM)|>\n",
    "  as.data.frame() |>\n",
    "  pivot_wider(names_from = \"CO_ITEM\",values_from = \"RESPOSTA\")"
   ]
  },
  {
   "cell_type": "code",
   "execution_count": 29,
   "metadata": {
    "colab": {
     "base_uri": "https://localhost:8080/",
     "height": 286
    },
    "id": "kmP61pbmNGvW",
    "outputId": "e071ac7e-20c5-43a8-9180-c14c34e6f7ac",
    "tags": []
   },
   "outputs": [
    {
     "data": {
      "text/html": [
       "<table class=\"dataframe\">\n",
       "<caption>A tibble: 6 × 46</caption>\n",
       "<thead>\n",
       "\t<tr><th scope=col>NU_INSCRICAO</th><th scope=col>I_005961</th><th scope=col>I_008364</th><th scope=col>I_010322</th><th scope=col>I_010409</th><th scope=col>I_010500</th><th scope=col>I_014797</th><th scope=col>I_019807</th><th scope=col>I_028683</th><th scope=col>I_030053</th><th scope=col>⋯</th><th scope=col>I_096315</th><th scope=col>I_097590</th><th scope=col>I_111516</th><th scope=col>I_111738</th><th scope=col>I_117651</th><th scope=col>I_117742</th><th scope=col>I_117820</th><th scope=col>I_117877</th><th scope=col>I_117886</th><th scope=col>I_117973</th></tr>\n",
       "\t<tr><th scope=col>&lt;chr&gt;</th><th scope=col>&lt;dbl&gt;</th><th scope=col>&lt;dbl&gt;</th><th scope=col>&lt;dbl&gt;</th><th scope=col>&lt;dbl&gt;</th><th scope=col>&lt;dbl&gt;</th><th scope=col>&lt;dbl&gt;</th><th scope=col>&lt;dbl&gt;</th><th scope=col>&lt;dbl&gt;</th><th scope=col>&lt;dbl&gt;</th><th scope=col>⋯</th><th scope=col>&lt;dbl&gt;</th><th scope=col>&lt;dbl&gt;</th><th scope=col>&lt;dbl&gt;</th><th scope=col>&lt;dbl&gt;</th><th scope=col>&lt;dbl&gt;</th><th scope=col>&lt;dbl&gt;</th><th scope=col>&lt;dbl&gt;</th><th scope=col>&lt;dbl&gt;</th><th scope=col>&lt;dbl&gt;</th><th scope=col>&lt;dbl&gt;</th></tr>\n",
       "</thead>\n",
       "<tbody>\n",
       "\t<tr><td>210054479192</td><td>0</td><td>0</td><td>1</td><td>0</td><td>0</td><td>0</td><td>0</td><td>0</td><td>0</td><td>⋯</td><td>0</td><td>1</td><td>0</td><td>1</td><td>0</td><td>0</td><td>0</td><td>0</td><td>0</td><td>1</td></tr>\n",
       "\t<tr><td>210054483969</td><td>0</td><td>1</td><td>0</td><td>1</td><td>0</td><td>0</td><td>0</td><td>1</td><td>1</td><td>⋯</td><td>1</td><td>0</td><td>1</td><td>0</td><td>0</td><td>0</td><td>0</td><td>1</td><td>0</td><td>1</td></tr>\n",
       "\t<tr><td>210054484198</td><td>0</td><td>0</td><td>1</td><td>0</td><td>0</td><td>0</td><td>0</td><td>1</td><td>1</td><td>⋯</td><td>1</td><td>0</td><td>0</td><td>0</td><td>0</td><td>1</td><td>0</td><td>0</td><td>1</td><td>0</td></tr>\n",
       "\t<tr><td>210054484386</td><td>1</td><td>0</td><td>1</td><td>0</td><td>0</td><td>0</td><td>0</td><td>1</td><td>0</td><td>⋯</td><td>1</td><td>0</td><td>0</td><td>0</td><td>0</td><td>0</td><td>0</td><td>0</td><td>1</td><td>0</td></tr>\n",
       "\t<tr><td>210054491071</td><td>0</td><td>0</td><td>0</td><td>0</td><td>0</td><td>0</td><td>0</td><td>0</td><td>0</td><td>⋯</td><td>0</td><td>0</td><td>0</td><td>0</td><td>0</td><td>1</td><td>0</td><td>0</td><td>1</td><td>0</td></tr>\n",
       "\t<tr><td>210054491537</td><td>0</td><td>0</td><td>0</td><td>0</td><td>0</td><td>1</td><td>1</td><td>0</td><td>0</td><td>⋯</td><td>0</td><td>0</td><td>0</td><td>0</td><td>0</td><td>1</td><td>0</td><td>0</td><td>1</td><td>0</td></tr>\n",
       "</tbody>\n",
       "</table>\n"
      ],
      "text/latex": [
       "A tibble: 6 × 46\n",
       "\\begin{tabular}{lllllllllllllllllllll}\n",
       " NU\\_INSCRICAO & I\\_005961 & I\\_008364 & I\\_010322 & I\\_010409 & I\\_010500 & I\\_014797 & I\\_019807 & I\\_028683 & I\\_030053 & ⋯ & I\\_096315 & I\\_097590 & I\\_111516 & I\\_111738 & I\\_117651 & I\\_117742 & I\\_117820 & I\\_117877 & I\\_117886 & I\\_117973\\\\\n",
       " <chr> & <dbl> & <dbl> & <dbl> & <dbl> & <dbl> & <dbl> & <dbl> & <dbl> & <dbl> & ⋯ & <dbl> & <dbl> & <dbl> & <dbl> & <dbl> & <dbl> & <dbl> & <dbl> & <dbl> & <dbl>\\\\\n",
       "\\hline\n",
       "\t 210054479192 & 0 & 0 & 1 & 0 & 0 & 0 & 0 & 0 & 0 & ⋯ & 0 & 1 & 0 & 1 & 0 & 0 & 0 & 0 & 0 & 1\\\\\n",
       "\t 210054483969 & 0 & 1 & 0 & 1 & 0 & 0 & 0 & 1 & 1 & ⋯ & 1 & 0 & 1 & 0 & 0 & 0 & 0 & 1 & 0 & 1\\\\\n",
       "\t 210054484198 & 0 & 0 & 1 & 0 & 0 & 0 & 0 & 1 & 1 & ⋯ & 1 & 0 & 0 & 0 & 0 & 1 & 0 & 0 & 1 & 0\\\\\n",
       "\t 210054484386 & 1 & 0 & 1 & 0 & 0 & 0 & 0 & 1 & 0 & ⋯ & 1 & 0 & 0 & 0 & 0 & 0 & 0 & 0 & 1 & 0\\\\\n",
       "\t 210054491071 & 0 & 0 & 0 & 0 & 0 & 0 & 0 & 0 & 0 & ⋯ & 0 & 0 & 0 & 0 & 0 & 1 & 0 & 0 & 1 & 0\\\\\n",
       "\t 210054491537 & 0 & 0 & 0 & 0 & 0 & 1 & 1 & 0 & 0 & ⋯ & 0 & 0 & 0 & 0 & 0 & 1 & 0 & 0 & 1 & 0\\\\\n",
       "\\end{tabular}\n"
      ],
      "text/markdown": [
       "\n",
       "A tibble: 6 × 46\n",
       "\n",
       "| NU_INSCRICAO &lt;chr&gt; | I_005961 &lt;dbl&gt; | I_008364 &lt;dbl&gt; | I_010322 &lt;dbl&gt; | I_010409 &lt;dbl&gt; | I_010500 &lt;dbl&gt; | I_014797 &lt;dbl&gt; | I_019807 &lt;dbl&gt; | I_028683 &lt;dbl&gt; | I_030053 &lt;dbl&gt; | ⋯ ⋯ | I_096315 &lt;dbl&gt; | I_097590 &lt;dbl&gt; | I_111516 &lt;dbl&gt; | I_111738 &lt;dbl&gt; | I_117651 &lt;dbl&gt; | I_117742 &lt;dbl&gt; | I_117820 &lt;dbl&gt; | I_117877 &lt;dbl&gt; | I_117886 &lt;dbl&gt; | I_117973 &lt;dbl&gt; |\n",
       "|---|---|---|---|---|---|---|---|---|---|---|---|---|---|---|---|---|---|---|---|---|\n",
       "| 210054479192 | 0 | 0 | 1 | 0 | 0 | 0 | 0 | 0 | 0 | ⋯ | 0 | 1 | 0 | 1 | 0 | 0 | 0 | 0 | 0 | 1 |\n",
       "| 210054483969 | 0 | 1 | 0 | 1 | 0 | 0 | 0 | 1 | 1 | ⋯ | 1 | 0 | 1 | 0 | 0 | 0 | 0 | 1 | 0 | 1 |\n",
       "| 210054484198 | 0 | 0 | 1 | 0 | 0 | 0 | 0 | 1 | 1 | ⋯ | 1 | 0 | 0 | 0 | 0 | 1 | 0 | 0 | 1 | 0 |\n",
       "| 210054484386 | 1 | 0 | 1 | 0 | 0 | 0 | 0 | 1 | 0 | ⋯ | 1 | 0 | 0 | 0 | 0 | 0 | 0 | 0 | 1 | 0 |\n",
       "| 210054491071 | 0 | 0 | 0 | 0 | 0 | 0 | 0 | 0 | 0 | ⋯ | 0 | 0 | 0 | 0 | 0 | 1 | 0 | 0 | 1 | 0 |\n",
       "| 210054491537 | 0 | 0 | 0 | 0 | 0 | 1 | 1 | 0 | 0 | ⋯ | 0 | 0 | 0 | 0 | 0 | 1 | 0 | 0 | 1 | 0 |\n",
       "\n"
      ],
      "text/plain": [
       "  NU_INSCRICAO I_005961 I_008364 I_010322 I_010409 I_010500 I_014797 I_019807\n",
       "1 210054479192 0        0        1        0        0        0        0       \n",
       "2 210054483969 0        1        0        1        0        0        0       \n",
       "3 210054484198 0        0        1        0        0        0        0       \n",
       "4 210054484386 1        0        1        0        0        0        0       \n",
       "5 210054491071 0        0        0        0        0        0        0       \n",
       "6 210054491537 0        0        0        0        0        1        1       \n",
       "  I_028683 I_030053 ⋯ I_096315 I_097590 I_111516 I_111738 I_117651 I_117742\n",
       "1 0        0        ⋯ 0        1        0        1        0        0       \n",
       "2 1        1        ⋯ 1        0        1        0        0        0       \n",
       "3 1        1        ⋯ 1        0        0        0        0        1       \n",
       "4 1        0        ⋯ 1        0        0        0        0        0       \n",
       "5 0        0        ⋯ 0        0        0        0        0        1       \n",
       "6 0        0        ⋯ 0        0        0        0        0        1       \n",
       "  I_117820 I_117877 I_117886 I_117973\n",
       "1 0        0        0        1       \n",
       "2 0        1        0        1       \n",
       "3 0        0        1        0       \n",
       "4 0        0        1        0       \n",
       "5 0        0        1        0       \n",
       "6 0        0        1        0       "
      ]
     },
     "metadata": {},
     "output_type": "display_data"
    }
   ],
   "source": [
    "head(amostra_correcao_ordenada)"
   ]
  },
  {
   "cell_type": "markdown",
   "metadata": {
    "id": "1U1AY9EnTG67"
   },
   "source": [
    "---\n",
    "### Salvando amostra"
   ]
  },
  {
   "cell_type": "code",
   "execution_count": 30,
   "metadata": {
    "id": "g0rCnLzlRkRY",
    "tags": []
   },
   "outputs": [],
   "source": [
    "# Salvando respostas dicotomizadas\n",
    "if(!dir.exists(paste0(pasta,\"AMOSTRA/\",ano))){dir.create(paste0(pasta,\"AMOSTRA/\",ano),recursive = T)}\n",
    "\n",
    "fwrite(x = amostra,file = paste0(pasta,\"AMOSTRA/\",ano,\"/amostra.csv\"))\n",
    "fwrite(x = amostra_resposta_ordenada,file = paste0(pasta,\"AMOSTRA/\",ano,\"/amostra_resposta_ordenada.csv\"))\n",
    "fwrite(x = amostra_correcao_ordenada,file = paste0(pasta,\"AMOSTRA/\",ano,\"/amostra_correcao_ordenada.csv\"))\n",
    "\n",
    "fwrite(x = itens,file = paste0(pasta,\"AMOSTRA/\",ano,\"/itens.csv\"))"
   ]
  },
  {
   "cell_type": "markdown",
   "metadata": {
    "id": "yC16CARdTMZS",
    "tags": []
   },
   "source": [
    "\n",
    "\n",
    "---\n",
    "## Análise TCT\n",
    "\n",
    "OBS: O item I_039443 foi anulado e seu valor de correção é 0, o item deve ser removido das análises TCT e TRI"
   ]
  },
  {
   "cell_type": "code",
   "execution_count": 31,
   "metadata": {
    "id": "07fBjqm8Vz6N",
    "tags": []
   },
   "outputs": [],
   "source": [
    "# Lendo dados amostrais\n",
    "amostra_correcao_ordenada <- fread(paste0(pasta,\"AMOSTRA/\",ano,\"/amostra_correcao_ordenada.csv\"))\n",
    "amostra_correcao_ordenada <- amostra_correcao_ordenada |>\n",
    "  dplyr::select(-I_039443) |> \n",
    "  as.data.frame()\n",
    "\n",
    "amostra_resposta_ordenada <- fread(paste0(pasta,\"AMOSTRA/\",ano,\"/amostra_resposta_ordenada.csv\"))\n",
    "amostra_resposta_ordenada <- amostra_resposta_ordenada |>\n",
    "  dplyr::select(-I_039443) |> \n",
    "  as.data.frame()\n",
    "\n",
    "itens <- fread(paste0(pasta,\"AMOSTRA/\",ano,\"/itens.csv\"))"
   ]
  },
  {
   "cell_type": "code",
   "execution_count": 32,
   "metadata": {
    "colab": {
     "base_uri": "https://localhost:8080/",
     "height": 286
    },
    "id": "0s96eDmCV_Ah",
    "outputId": "f16e6a35-7f8d-4908-815f-8ba647decd3a",
    "tags": []
   },
   "outputs": [
    {
     "data": {
      "text/html": [
       "<table class=\"dataframe\">\n",
       "<caption>A data.frame: 6 × 45</caption>\n",
       "<thead>\n",
       "\t<tr><th></th><th scope=col>NU_INSCRICAO</th><th scope=col>I_005961</th><th scope=col>I_008364</th><th scope=col>I_010322</th><th scope=col>I_010409</th><th scope=col>I_010500</th><th scope=col>I_014797</th><th scope=col>I_019807</th><th scope=col>I_028683</th><th scope=col>I_030053</th><th scope=col>⋯</th><th scope=col>I_096315</th><th scope=col>I_097590</th><th scope=col>I_111516</th><th scope=col>I_111738</th><th scope=col>I_117651</th><th scope=col>I_117742</th><th scope=col>I_117820</th><th scope=col>I_117877</th><th scope=col>I_117886</th><th scope=col>I_117973</th></tr>\n",
       "\t<tr><th></th><th scope=col>&lt;int64&gt;</th><th scope=col>&lt;int&gt;</th><th scope=col>&lt;int&gt;</th><th scope=col>&lt;int&gt;</th><th scope=col>&lt;int&gt;</th><th scope=col>&lt;int&gt;</th><th scope=col>&lt;int&gt;</th><th scope=col>&lt;int&gt;</th><th scope=col>&lt;int&gt;</th><th scope=col>&lt;int&gt;</th><th scope=col>⋯</th><th scope=col>&lt;int&gt;</th><th scope=col>&lt;int&gt;</th><th scope=col>&lt;int&gt;</th><th scope=col>&lt;int&gt;</th><th scope=col>&lt;int&gt;</th><th scope=col>&lt;int&gt;</th><th scope=col>&lt;int&gt;</th><th scope=col>&lt;int&gt;</th><th scope=col>&lt;int&gt;</th><th scope=col>&lt;int&gt;</th></tr>\n",
       "</thead>\n",
       "<tbody>\n",
       "\t<tr><th scope=row>1</th><td>210054479192</td><td>0</td><td>0</td><td>1</td><td>0</td><td>0</td><td>0</td><td>0</td><td>0</td><td>0</td><td>⋯</td><td>0</td><td>1</td><td>0</td><td>1</td><td>0</td><td>0</td><td>0</td><td>0</td><td>0</td><td>1</td></tr>\n",
       "\t<tr><th scope=row>2</th><td>210054483969</td><td>0</td><td>1</td><td>0</td><td>1</td><td>0</td><td>0</td><td>0</td><td>1</td><td>1</td><td>⋯</td><td>1</td><td>0</td><td>1</td><td>0</td><td>0</td><td>0</td><td>0</td><td>1</td><td>0</td><td>1</td></tr>\n",
       "\t<tr><th scope=row>3</th><td>210054484198</td><td>0</td><td>0</td><td>1</td><td>0</td><td>0</td><td>0</td><td>0</td><td>1</td><td>1</td><td>⋯</td><td>1</td><td>0</td><td>0</td><td>0</td><td>0</td><td>1</td><td>0</td><td>0</td><td>1</td><td>0</td></tr>\n",
       "\t<tr><th scope=row>4</th><td>210054484386</td><td>1</td><td>0</td><td>1</td><td>0</td><td>0</td><td>0</td><td>0</td><td>1</td><td>0</td><td>⋯</td><td>1</td><td>0</td><td>0</td><td>0</td><td>0</td><td>0</td><td>0</td><td>0</td><td>1</td><td>0</td></tr>\n",
       "\t<tr><th scope=row>5</th><td>210054491071</td><td>0</td><td>0</td><td>0</td><td>0</td><td>0</td><td>0</td><td>0</td><td>0</td><td>0</td><td>⋯</td><td>0</td><td>0</td><td>0</td><td>0</td><td>0</td><td>1</td><td>0</td><td>0</td><td>1</td><td>0</td></tr>\n",
       "\t<tr><th scope=row>6</th><td>210054491537</td><td>0</td><td>0</td><td>0</td><td>0</td><td>0</td><td>1</td><td>1</td><td>0</td><td>0</td><td>⋯</td><td>0</td><td>0</td><td>0</td><td>0</td><td>0</td><td>1</td><td>0</td><td>0</td><td>1</td><td>0</td></tr>\n",
       "</tbody>\n",
       "</table>\n"
      ],
      "text/latex": [
       "A data.frame: 6 × 45\n",
       "\\begin{tabular}{r|lllllllllllllllllllll}\n",
       "  & NU\\_INSCRICAO & I\\_005961 & I\\_008364 & I\\_010322 & I\\_010409 & I\\_010500 & I\\_014797 & I\\_019807 & I\\_028683 & I\\_030053 & ⋯ & I\\_096315 & I\\_097590 & I\\_111516 & I\\_111738 & I\\_117651 & I\\_117742 & I\\_117820 & I\\_117877 & I\\_117886 & I\\_117973\\\\\n",
       "  & <int64> & <int> & <int> & <int> & <int> & <int> & <int> & <int> & <int> & <int> & ⋯ & <int> & <int> & <int> & <int> & <int> & <int> & <int> & <int> & <int> & <int>\\\\\n",
       "\\hline\n",
       "\t1 & 210054479192 & 0 & 0 & 1 & 0 & 0 & 0 & 0 & 0 & 0 & ⋯ & 0 & 1 & 0 & 1 & 0 & 0 & 0 & 0 & 0 & 1\\\\\n",
       "\t2 & 210054483969 & 0 & 1 & 0 & 1 & 0 & 0 & 0 & 1 & 1 & ⋯ & 1 & 0 & 1 & 0 & 0 & 0 & 0 & 1 & 0 & 1\\\\\n",
       "\t3 & 210054484198 & 0 & 0 & 1 & 0 & 0 & 0 & 0 & 1 & 1 & ⋯ & 1 & 0 & 0 & 0 & 0 & 1 & 0 & 0 & 1 & 0\\\\\n",
       "\t4 & 210054484386 & 1 & 0 & 1 & 0 & 0 & 0 & 0 & 1 & 0 & ⋯ & 1 & 0 & 0 & 0 & 0 & 0 & 0 & 0 & 1 & 0\\\\\n",
       "\t5 & 210054491071 & 0 & 0 & 0 & 0 & 0 & 0 & 0 & 0 & 0 & ⋯ & 0 & 0 & 0 & 0 & 0 & 1 & 0 & 0 & 1 & 0\\\\\n",
       "\t6 & 210054491537 & 0 & 0 & 0 & 0 & 0 & 1 & 1 & 0 & 0 & ⋯ & 0 & 0 & 0 & 0 & 0 & 1 & 0 & 0 & 1 & 0\\\\\n",
       "\\end{tabular}\n"
      ],
      "text/markdown": [
       "\n",
       "A data.frame: 6 × 45\n",
       "\n",
       "| <!--/--> | NU_INSCRICAO &lt;int64&gt; | I_005961 &lt;int&gt; | I_008364 &lt;int&gt; | I_010322 &lt;int&gt; | I_010409 &lt;int&gt; | I_010500 &lt;int&gt; | I_014797 &lt;int&gt; | I_019807 &lt;int&gt; | I_028683 &lt;int&gt; | I_030053 &lt;int&gt; | ⋯ ⋯ | I_096315 &lt;int&gt; | I_097590 &lt;int&gt; | I_111516 &lt;int&gt; | I_111738 &lt;int&gt; | I_117651 &lt;int&gt; | I_117742 &lt;int&gt; | I_117820 &lt;int&gt; | I_117877 &lt;int&gt; | I_117886 &lt;int&gt; | I_117973 &lt;int&gt; |\n",
       "|---|---|---|---|---|---|---|---|---|---|---|---|---|---|---|---|---|---|---|---|---|---|\n",
       "| 1 | 210054479192 | 0 | 0 | 1 | 0 | 0 | 0 | 0 | 0 | 0 | ⋯ | 0 | 1 | 0 | 1 | 0 | 0 | 0 | 0 | 0 | 1 |\n",
       "| 2 | 210054483969 | 0 | 1 | 0 | 1 | 0 | 0 | 0 | 1 | 1 | ⋯ | 1 | 0 | 1 | 0 | 0 | 0 | 0 | 1 | 0 | 1 |\n",
       "| 3 | 210054484198 | 0 | 0 | 1 | 0 | 0 | 0 | 0 | 1 | 1 | ⋯ | 1 | 0 | 0 | 0 | 0 | 1 | 0 | 0 | 1 | 0 |\n",
       "| 4 | 210054484386 | 1 | 0 | 1 | 0 | 0 | 0 | 0 | 1 | 0 | ⋯ | 1 | 0 | 0 | 0 | 0 | 0 | 0 | 0 | 1 | 0 |\n",
       "| 5 | 210054491071 | 0 | 0 | 0 | 0 | 0 | 0 | 0 | 0 | 0 | ⋯ | 0 | 0 | 0 | 0 | 0 | 1 | 0 | 0 | 1 | 0 |\n",
       "| 6 | 210054491537 | 0 | 0 | 0 | 0 | 0 | 1 | 1 | 0 | 0 | ⋯ | 0 | 0 | 0 | 0 | 0 | 1 | 0 | 0 | 1 | 0 |\n",
       "\n"
      ],
      "text/plain": [
       "  NU_INSCRICAO I_005961 I_008364 I_010322 I_010409 I_010500 I_014797 I_019807\n",
       "1 210054479192 0        0        1        0        0        0        0       \n",
       "2 210054483969 0        1        0        1        0        0        0       \n",
       "3 210054484198 0        0        1        0        0        0        0       \n",
       "4 210054484386 1        0        1        0        0        0        0       \n",
       "5 210054491071 0        0        0        0        0        0        0       \n",
       "6 210054491537 0        0        0        0        0        1        1       \n",
       "  I_028683 I_030053 ⋯ I_096315 I_097590 I_111516 I_111738 I_117651 I_117742\n",
       "1 0        0        ⋯ 0        1        0        1        0        0       \n",
       "2 1        1        ⋯ 1        0        1        0        0        0       \n",
       "3 1        1        ⋯ 1        0        0        0        0        1       \n",
       "4 1        0        ⋯ 1        0        0        0        0        0       \n",
       "5 0        0        ⋯ 0        0        0        0        0        1       \n",
       "6 0        0        ⋯ 0        0        0        0        0        1       \n",
       "  I_117820 I_117877 I_117886 I_117973\n",
       "1 0        0        0        1       \n",
       "2 0        1        0        1       \n",
       "3 0        0        1        0       \n",
       "4 0        0        1        0       \n",
       "5 0        0        1        0       \n",
       "6 0        0        1        0       "
      ]
     },
     "metadata": {},
     "output_type": "display_data"
    }
   ],
   "source": [
    "head(amostra_correcao_ordenada)"
   ]
  },
  {
   "cell_type": "markdown",
   "metadata": {
    "id": "_3mp78yOaiPg",
    "tags": []
   },
   "source": [
    "\n",
    "\n",
    "---\n",
    "\n",
    "\n",
    "### Alpha de Cronbach"
   ]
  },
  {
   "cell_type": "markdown",
   "metadata": {
    "id": "hXrg9OxMaJ-3"
   },
   "source": [
    "#### Pacote psych"
   ]
  },
  {
   "cell_type": "code",
   "execution_count": 34,
   "metadata": {
    "colab": {
     "base_uri": "https://localhost:8080/"
    },
    "id": "_a6d0bwqV_DO",
    "outputId": "28143944-32d4-45ac-d189-f482a967641b",
    "tags": []
   },
   "outputs": [
    {
     "name": "stderr",
     "output_type": "stream",
     "text": [
      "Warning message in alpha(dplyr::select(amostra_correcao_ordenada, -NU_INSCRICAO)):\n",
      "\"Some items were negatively correlated with the total scale and probably \n",
      "should be reversed.  \n",
      "To do this, run the function again with the 'check.keys=TRUE' option\"\n"
     ]
    },
    {
     "name": "stdout",
     "output_type": "stream",
     "text": [
      "Some items ( I_086499 I_089637 ) were negatively correlated with the total scale and \n",
      "probably should be reversed.  \n",
      "To do this, run the function again with the 'check.keys=TRUE' option"
     ]
    }
   ],
   "source": [
    "psych_enem <- alpha(dplyr::select(amostra_correcao_ordenada,-NU_INSCRICAO))"
   ]
  },
  {
   "cell_type": "code",
   "execution_count": 35,
   "metadata": {
    "colab": {
     "base_uri": "https://localhost:8080/",
     "height": 129
    },
    "id": "V0nLrhiDaGqA",
    "outputId": "5c45c90f-d96f-4174-9811-ab5ba69d6222",
    "tags": []
   },
   "outputs": [
    {
     "data": {
      "text/html": [
       "<table class=\"dataframe\">\n",
       "<caption>A data.frame: 1 × 9</caption>\n",
       "<thead>\n",
       "\t<tr><th></th><th scope=col>raw_alpha</th><th scope=col>std.alpha</th><th scope=col>G6(smc)</th><th scope=col>average_r</th><th scope=col>S/N</th><th scope=col>ase</th><th scope=col>mean</th><th scope=col>sd</th><th scope=col>median_r</th></tr>\n",
       "\t<tr><th></th><th scope=col>&lt;dbl&gt;</th><th scope=col>&lt;dbl&gt;</th><th scope=col>&lt;dbl&gt;</th><th scope=col>&lt;dbl&gt;</th><th scope=col>&lt;dbl&gt;</th><th scope=col>&lt;dbl&gt;</th><th scope=col>&lt;dbl&gt;</th><th scope=col>&lt;dbl&gt;</th><th scope=col>&lt;dbl&gt;</th></tr>\n",
       "</thead>\n",
       "<tbody>\n",
       "\t<tr><th scope=row></th><td>0.7036759</td><td>0.6890257</td><td>0.707792</td><td>0.04794257</td><td>2.2157</td><td>0.01316965</td><td>0.2886591</td><td>0.1176307</td><td>0.03954801</td></tr>\n",
       "</tbody>\n",
       "</table>\n"
      ],
      "text/latex": [
       "A data.frame: 1 × 9\n",
       "\\begin{tabular}{r|lllllllll}\n",
       "  & raw\\_alpha & std.alpha & G6(smc) & average\\_r & S/N & ase & mean & sd & median\\_r\\\\\n",
       "  & <dbl> & <dbl> & <dbl> & <dbl> & <dbl> & <dbl> & <dbl> & <dbl> & <dbl>\\\\\n",
       "\\hline\n",
       "\t & 0.7036759 & 0.6890257 & 0.707792 & 0.04794257 & 2.2157 & 0.01316965 & 0.2886591 & 0.1176307 & 0.03954801\\\\\n",
       "\\end{tabular}\n"
      ],
      "text/markdown": [
       "\n",
       "A data.frame: 1 × 9\n",
       "\n",
       "| <!--/--> | raw_alpha &lt;dbl&gt; | std.alpha &lt;dbl&gt; | G6(smc) &lt;dbl&gt; | average_r &lt;dbl&gt; | S/N &lt;dbl&gt; | ase &lt;dbl&gt; | mean &lt;dbl&gt; | sd &lt;dbl&gt; | median_r &lt;dbl&gt; |\n",
       "|---|---|---|---|---|---|---|---|---|---|\n",
       "| <!----> | 0.7036759 | 0.6890257 | 0.707792 | 0.04794257 | 2.2157 | 0.01316965 | 0.2886591 | 0.1176307 | 0.03954801 |\n",
       "\n"
      ],
      "text/plain": [
       " raw_alpha std.alpha G6(smc)  average_r  S/N    ase        mean      sd       \n",
       " 0.7036759 0.6890257 0.707792 0.04794257 2.2157 0.01316965 0.2886591 0.1176307\n",
       " median_r  \n",
       " 0.03954801"
      ]
     },
     "metadata": {},
     "output_type": "display_data"
    }
   ],
   "source": [
    "psych_enem$total"
   ]
  },
  {
   "cell_type": "code",
   "execution_count": 36,
   "metadata": {
    "colab": {
     "base_uri": "https://localhost:8080/",
     "height": 1000
    },
    "id": "6fO_LPrVavtk",
    "outputId": "84beef88-3278-4988-ceff-b1f34ac6d6b1",
    "tags": []
   },
   "outputs": [
    {
     "data": {
      "text/html": [
       "<table class=\"dataframe\">\n",
       "<caption>A data.frame: 44 × 7</caption>\n",
       "<thead>\n",
       "\t<tr><th></th><th scope=col>n</th><th scope=col>raw.r</th><th scope=col>std.r</th><th scope=col>r.cor</th><th scope=col>r.drop</th><th scope=col>mean</th><th scope=col>sd</th></tr>\n",
       "\t<tr><th></th><th scope=col>&lt;dbl&gt;</th><th scope=col>&lt;dbl&gt;</th><th scope=col>&lt;dbl&gt;</th><th scope=col>&lt;dbl&gt;</th><th scope=col>&lt;dbl&gt;</th><th scope=col>&lt;dbl&gt;</th><th scope=col>&lt;dbl&gt;</th></tr>\n",
       "</thead>\n",
       "<tbody>\n",
       "\t<tr><th scope=row>I_005961</th><td>1000</td><td>0.22901812</td><td>0.22475740</td><td> 0.171265692</td><td> 0.142874765</td><td>0.299</td><td>0.4580489</td></tr>\n",
       "\t<tr><th scope=row>I_008364</th><td>1000</td><td>0.27560210</td><td>0.26832282</td><td> 0.225492651</td><td> 0.192364243</td><td>0.284</td><td>0.4511624</td></tr>\n",
       "\t<tr><th scope=row>I_010322</th><td>1000</td><td>0.36687923</td><td>0.35067528</td><td> 0.327845285</td><td> 0.278966535</td><td>0.491</td><td>0.5001691</td></tr>\n",
       "\t<tr><th scope=row>I_010409</th><td>1000</td><td>0.31025618</td><td>0.29751842</td><td> 0.260918489</td><td> 0.222571736</td><td>0.368</td><td>0.4825027</td></tr>\n",
       "\t<tr><th scope=row>I_010500</th><td>1000</td><td>0.12239033</td><td>0.13888448</td><td> 0.066614135</td><td> 0.050092583</td><td>0.170</td><td>0.3758208</td></tr>\n",
       "\t<tr><th scope=row>I_014797</th><td>1000</td><td>0.20037796</td><td>0.22435225</td><td> 0.172552063</td><td> 0.132696509</td><td>0.151</td><td>0.3582280</td></tr>\n",
       "\t<tr><th scope=row>I_019807</th><td>1000</td><td>0.19447276</td><td>0.23631572</td><td> 0.191940957</td><td> 0.140454449</td><td>0.090</td><td>0.2863250</td></tr>\n",
       "\t<tr><th scope=row>I_028683</th><td>1000</td><td>0.20973907</td><td>0.21845968</td><td> 0.165018192</td><td> 0.125336875</td><td>0.274</td><td>0.4462321</td></tr>\n",
       "\t<tr><th scope=row>I_030053</th><td>1000</td><td>0.26245158</td><td>0.25950028</td><td> 0.214126312</td><td> 0.176286342</td><td>0.313</td><td>0.4639464</td></tr>\n",
       "\t<tr><th scope=row>I_030327</th><td>1000</td><td>0.47491841</td><td>0.44889289</td><td> 0.458971110</td><td> 0.395144409</td><td>0.538</td><td>0.4988034</td></tr>\n",
       "\t<tr><th scope=row>I_030493</th><td>1000</td><td>0.22015129</td><td>0.21366285</td><td> 0.159094747</td><td> 0.133750825</td><td>0.299</td><td>0.4580489</td></tr>\n",
       "\t<tr><th scope=row>I_031516</th><td>1000</td><td>0.32789284</td><td>0.32244147</td><td> 0.290869033</td><td> 0.246744119</td><td>0.286</td><td>0.4521155</td></tr>\n",
       "\t<tr><th scope=row>I_032369</th><td>1000</td><td>0.25903765</td><td>0.27308113</td><td> 0.232008269</td><td> 0.184329302</td><td>0.204</td><td>0.4031706</td></tr>\n",
       "\t<tr><th scope=row>I_043182</th><td>1000</td><td>0.39311107</td><td>0.38313569</td><td> 0.369265632</td><td> 0.310913252</td><td>0.352</td><td>0.4778329</td></tr>\n",
       "\t<tr><th scope=row>I_047309</th><td>1000</td><td>0.25123997</td><td>0.24481564</td><td> 0.195019418</td><td> 0.164000923</td><td>0.322</td><td>0.4674768</td></tr>\n",
       "\t<tr><th scope=row>I_053461</th><td>1000</td><td>0.24474101</td><td>0.25104931</td><td> 0.204352418</td><td> 0.162663125</td><td>0.261</td><td>0.4393997</td></tr>\n",
       "\t<tr><th scope=row>I_060441</th><td>1000</td><td>0.36585143</td><td>0.34778415</td><td> 0.329659809</td><td> 0.282507543</td><td>0.657</td><td>0.4749490</td></tr>\n",
       "\t<tr><th scope=row>I_061248</th><td>1000</td><td>0.30127510</td><td>0.30782827</td><td> 0.273910461</td><td> 0.226618220</td><td>0.215</td><td>0.4110279</td></tr>\n",
       "\t<tr><th scope=row>I_063204</th><td>1000</td><td>0.39926042</td><td>0.39979952</td><td> 0.388627714</td><td> 0.328543041</td><td>0.222</td><td>0.4157991</td></tr>\n",
       "\t<tr><th scope=row>I_063646</th><td>1000</td><td>0.30966914</td><td>0.30359766</td><td> 0.267971094</td><td> 0.227938289</td><td>0.283</td><td>0.4506818</td></tr>\n",
       "\t<tr><th scope=row>I_068123</th><td>1000</td><td>0.52587225</td><td>0.51567865</td><td> 0.537459145</td><td> 0.456750365</td><td>0.307</td><td>0.4614802</td></tr>\n",
       "\t<tr><th scope=row>I_068369</th><td>1000</td><td>0.45387356</td><td>0.44895953</td><td> 0.454765139</td><td> 0.383538630</td><td>0.251</td><td>0.4338055</td></tr>\n",
       "\t<tr><th scope=row>I_075829</th><td>1000</td><td>0.30061825</td><td>0.29721698</td><td> 0.260982479</td><td> 0.218672068</td><td>0.281</td><td>0.4497124</td></tr>\n",
       "\t<tr><th scope=row>I_082581</th><td>1000</td><td>0.27366084</td><td>0.28775351</td><td> 0.253919493</td><td> 0.201017048</td><td>0.193</td><td>0.3948505</td></tr>\n",
       "\t<tr><th scope=row>I_085013</th><td>1000</td><td>0.16109994</td><td>0.16904581</td><td> 0.105673575</td><td> 0.077627698</td><td>0.255</td><td>0.4360793</td></tr>\n",
       "\t<tr><th scope=row>I_085228</th><td>1000</td><td>0.12230008</td><td>0.12293549</td><td> 0.049125864</td><td> 0.039198225</td><td>0.247</td><td>0.4314825</td></tr>\n",
       "\t<tr><th scope=row>I_085343</th><td>1000</td><td>0.12553068</td><td>0.14680501</td><td> 0.076664469</td><td> 0.057440218</td><td>0.147</td><td>0.3542831</td></tr>\n",
       "\t<tr><th scope=row>I_085588</th><td>1000</td><td>0.39113261</td><td>0.36993606</td><td> 0.355458885</td><td> 0.307053262</td><td>0.612</td><td>0.4875384</td></tr>\n",
       "\t<tr><th scope=row>I_086466</th><td>1000</td><td>0.16893164</td><td>0.18003151</td><td> 0.119844223</td><td> 0.088510799</td><td>0.230</td><td>0.4210431</td></tr>\n",
       "\t<tr><th scope=row>I_086499</th><td>1000</td><td>0.07234030</td><td>0.08092304</td><td>-0.002655778</td><td>-0.003502737</td><td>0.190</td><td>0.3924972</td></tr>\n",
       "\t<tr><th scope=row>I_086840</th><td>1000</td><td>0.16730048</td><td>0.16879398</td><td> 0.104080420</td><td> 0.081291715</td><td>0.281</td><td>0.4497124</td></tr>\n",
       "\t<tr><th scope=row>I_089637</th><td>1000</td><td>0.05227351</td><td>0.08830020</td><td> 0.007781921</td><td>-0.001638059</td><td>0.085</td><td>0.2790212</td></tr>\n",
       "\t<tr><th scope=row>I_095509</th><td>1000</td><td>0.11932391</td><td>0.13753125</td><td> 0.065752998</td><td> 0.048389761</td><td>0.162</td><td>0.3686352</td></tr>\n",
       "\t<tr><th scope=row>I_095676</th><td>1000</td><td>0.41472717</td><td>0.39107307</td><td> 0.385177556</td><td> 0.330095537</td><td>0.526</td><td>0.4995734</td></tr>\n",
       "\t<tr><th scope=row>I_096315</th><td>1000</td><td>0.37471627</td><td>0.35451762</td><td> 0.336363670</td><td> 0.287613046</td><td>0.457</td><td>0.4983968</td></tr>\n",
       "\t<tr><th scope=row>I_097590</th><td>1000</td><td>0.21463495</td><td>0.23279932</td><td> 0.180519293</td><td> 0.146166915</td><td>0.157</td><td>0.3639828</td></tr>\n",
       "\t<tr><th scope=row>I_111516</th><td>1000</td><td>0.40687416</td><td>0.39676963</td><td> 0.386404240</td><td> 0.326337154</td><td>0.339</td><td>0.4736067</td></tr>\n",
       "\t<tr><th scope=row>I_111738</th><td>1000</td><td>0.22398679</td><td>0.22814160</td><td> 0.174697835</td><td> 0.139584966</td><td>0.278</td><td>0.4482376</td></tr>\n",
       "\t<tr><th scope=row>I_117651</th><td>1000</td><td>0.21875523</td><td>0.21144514</td><td> 0.154805156</td><td> 0.136548319</td><td>0.255</td><td>0.4360793</td></tr>\n",
       "\t<tr><th scope=row>I_117742</th><td>1000</td><td>0.28181021</td><td>0.27305489</td><td> 0.231521415</td><td> 0.193348685</td><td>0.359</td><td>0.4799472</td></tr>\n",
       "\t<tr><th scope=row>I_117820</th><td>1000</td><td>0.12909202</td><td>0.12599307</td><td> 0.053611699</td><td> 0.043001597</td><td>0.276</td><td>0.4472405</td></tr>\n",
       "\t<tr><th scope=row>I_117877</th><td>1000</td><td>0.40721770</td><td>0.39777831</td><td> 0.386819713</td><td> 0.327934591</td><td>0.320</td><td>0.4667096</td></tr>\n",
       "\t<tr><th scope=row>I_117886</th><td>1000</td><td>0.10147001</td><td>0.11098539</td><td> 0.033946627</td><td> 0.025914378</td><td>0.189</td><td>0.3917045</td></tr>\n",
       "\t<tr><th scope=row>I_117973</th><td>1000</td><td>0.14455698</td><td>0.15500555</td><td> 0.086221574</td><td> 0.064379853</td><td>0.225</td><td>0.4177913</td></tr>\n",
       "</tbody>\n",
       "</table>\n"
      ],
      "text/latex": [
       "A data.frame: 44 × 7\n",
       "\\begin{tabular}{r|lllllll}\n",
       "  & n & raw.r & std.r & r.cor & r.drop & mean & sd\\\\\n",
       "  & <dbl> & <dbl> & <dbl> & <dbl> & <dbl> & <dbl> & <dbl>\\\\\n",
       "\\hline\n",
       "\tI\\_005961 & 1000 & 0.22901812 & 0.22475740 &  0.171265692 &  0.142874765 & 0.299 & 0.4580489\\\\\n",
       "\tI\\_008364 & 1000 & 0.27560210 & 0.26832282 &  0.225492651 &  0.192364243 & 0.284 & 0.4511624\\\\\n",
       "\tI\\_010322 & 1000 & 0.36687923 & 0.35067528 &  0.327845285 &  0.278966535 & 0.491 & 0.5001691\\\\\n",
       "\tI\\_010409 & 1000 & 0.31025618 & 0.29751842 &  0.260918489 &  0.222571736 & 0.368 & 0.4825027\\\\\n",
       "\tI\\_010500 & 1000 & 0.12239033 & 0.13888448 &  0.066614135 &  0.050092583 & 0.170 & 0.3758208\\\\\n",
       "\tI\\_014797 & 1000 & 0.20037796 & 0.22435225 &  0.172552063 &  0.132696509 & 0.151 & 0.3582280\\\\\n",
       "\tI\\_019807 & 1000 & 0.19447276 & 0.23631572 &  0.191940957 &  0.140454449 & 0.090 & 0.2863250\\\\\n",
       "\tI\\_028683 & 1000 & 0.20973907 & 0.21845968 &  0.165018192 &  0.125336875 & 0.274 & 0.4462321\\\\\n",
       "\tI\\_030053 & 1000 & 0.26245158 & 0.25950028 &  0.214126312 &  0.176286342 & 0.313 & 0.4639464\\\\\n",
       "\tI\\_030327 & 1000 & 0.47491841 & 0.44889289 &  0.458971110 &  0.395144409 & 0.538 & 0.4988034\\\\\n",
       "\tI\\_030493 & 1000 & 0.22015129 & 0.21366285 &  0.159094747 &  0.133750825 & 0.299 & 0.4580489\\\\\n",
       "\tI\\_031516 & 1000 & 0.32789284 & 0.32244147 &  0.290869033 &  0.246744119 & 0.286 & 0.4521155\\\\\n",
       "\tI\\_032369 & 1000 & 0.25903765 & 0.27308113 &  0.232008269 &  0.184329302 & 0.204 & 0.4031706\\\\\n",
       "\tI\\_043182 & 1000 & 0.39311107 & 0.38313569 &  0.369265632 &  0.310913252 & 0.352 & 0.4778329\\\\\n",
       "\tI\\_047309 & 1000 & 0.25123997 & 0.24481564 &  0.195019418 &  0.164000923 & 0.322 & 0.4674768\\\\\n",
       "\tI\\_053461 & 1000 & 0.24474101 & 0.25104931 &  0.204352418 &  0.162663125 & 0.261 & 0.4393997\\\\\n",
       "\tI\\_060441 & 1000 & 0.36585143 & 0.34778415 &  0.329659809 &  0.282507543 & 0.657 & 0.4749490\\\\\n",
       "\tI\\_061248 & 1000 & 0.30127510 & 0.30782827 &  0.273910461 &  0.226618220 & 0.215 & 0.4110279\\\\\n",
       "\tI\\_063204 & 1000 & 0.39926042 & 0.39979952 &  0.388627714 &  0.328543041 & 0.222 & 0.4157991\\\\\n",
       "\tI\\_063646 & 1000 & 0.30966914 & 0.30359766 &  0.267971094 &  0.227938289 & 0.283 & 0.4506818\\\\\n",
       "\tI\\_068123 & 1000 & 0.52587225 & 0.51567865 &  0.537459145 &  0.456750365 & 0.307 & 0.4614802\\\\\n",
       "\tI\\_068369 & 1000 & 0.45387356 & 0.44895953 &  0.454765139 &  0.383538630 & 0.251 & 0.4338055\\\\\n",
       "\tI\\_075829 & 1000 & 0.30061825 & 0.29721698 &  0.260982479 &  0.218672068 & 0.281 & 0.4497124\\\\\n",
       "\tI\\_082581 & 1000 & 0.27366084 & 0.28775351 &  0.253919493 &  0.201017048 & 0.193 & 0.3948505\\\\\n",
       "\tI\\_085013 & 1000 & 0.16109994 & 0.16904581 &  0.105673575 &  0.077627698 & 0.255 & 0.4360793\\\\\n",
       "\tI\\_085228 & 1000 & 0.12230008 & 0.12293549 &  0.049125864 &  0.039198225 & 0.247 & 0.4314825\\\\\n",
       "\tI\\_085343 & 1000 & 0.12553068 & 0.14680501 &  0.076664469 &  0.057440218 & 0.147 & 0.3542831\\\\\n",
       "\tI\\_085588 & 1000 & 0.39113261 & 0.36993606 &  0.355458885 &  0.307053262 & 0.612 & 0.4875384\\\\\n",
       "\tI\\_086466 & 1000 & 0.16893164 & 0.18003151 &  0.119844223 &  0.088510799 & 0.230 & 0.4210431\\\\\n",
       "\tI\\_086499 & 1000 & 0.07234030 & 0.08092304 & -0.002655778 & -0.003502737 & 0.190 & 0.3924972\\\\\n",
       "\tI\\_086840 & 1000 & 0.16730048 & 0.16879398 &  0.104080420 &  0.081291715 & 0.281 & 0.4497124\\\\\n",
       "\tI\\_089637 & 1000 & 0.05227351 & 0.08830020 &  0.007781921 & -0.001638059 & 0.085 & 0.2790212\\\\\n",
       "\tI\\_095509 & 1000 & 0.11932391 & 0.13753125 &  0.065752998 &  0.048389761 & 0.162 & 0.3686352\\\\\n",
       "\tI\\_095676 & 1000 & 0.41472717 & 0.39107307 &  0.385177556 &  0.330095537 & 0.526 & 0.4995734\\\\\n",
       "\tI\\_096315 & 1000 & 0.37471627 & 0.35451762 &  0.336363670 &  0.287613046 & 0.457 & 0.4983968\\\\\n",
       "\tI\\_097590 & 1000 & 0.21463495 & 0.23279932 &  0.180519293 &  0.146166915 & 0.157 & 0.3639828\\\\\n",
       "\tI\\_111516 & 1000 & 0.40687416 & 0.39676963 &  0.386404240 &  0.326337154 & 0.339 & 0.4736067\\\\\n",
       "\tI\\_111738 & 1000 & 0.22398679 & 0.22814160 &  0.174697835 &  0.139584966 & 0.278 & 0.4482376\\\\\n",
       "\tI\\_117651 & 1000 & 0.21875523 & 0.21144514 &  0.154805156 &  0.136548319 & 0.255 & 0.4360793\\\\\n",
       "\tI\\_117742 & 1000 & 0.28181021 & 0.27305489 &  0.231521415 &  0.193348685 & 0.359 & 0.4799472\\\\\n",
       "\tI\\_117820 & 1000 & 0.12909202 & 0.12599307 &  0.053611699 &  0.043001597 & 0.276 & 0.4472405\\\\\n",
       "\tI\\_117877 & 1000 & 0.40721770 & 0.39777831 &  0.386819713 &  0.327934591 & 0.320 & 0.4667096\\\\\n",
       "\tI\\_117886 & 1000 & 0.10147001 & 0.11098539 &  0.033946627 &  0.025914378 & 0.189 & 0.3917045\\\\\n",
       "\tI\\_117973 & 1000 & 0.14455698 & 0.15500555 &  0.086221574 &  0.064379853 & 0.225 & 0.4177913\\\\\n",
       "\\end{tabular}\n"
      ],
      "text/markdown": [
       "\n",
       "A data.frame: 44 × 7\n",
       "\n",
       "| <!--/--> | n &lt;dbl&gt; | raw.r &lt;dbl&gt; | std.r &lt;dbl&gt; | r.cor &lt;dbl&gt; | r.drop &lt;dbl&gt; | mean &lt;dbl&gt; | sd &lt;dbl&gt; |\n",
       "|---|---|---|---|---|---|---|---|\n",
       "| I_005961 | 1000 | 0.22901812 | 0.22475740 |  0.171265692 |  0.142874765 | 0.299 | 0.4580489 |\n",
       "| I_008364 | 1000 | 0.27560210 | 0.26832282 |  0.225492651 |  0.192364243 | 0.284 | 0.4511624 |\n",
       "| I_010322 | 1000 | 0.36687923 | 0.35067528 |  0.327845285 |  0.278966535 | 0.491 | 0.5001691 |\n",
       "| I_010409 | 1000 | 0.31025618 | 0.29751842 |  0.260918489 |  0.222571736 | 0.368 | 0.4825027 |\n",
       "| I_010500 | 1000 | 0.12239033 | 0.13888448 |  0.066614135 |  0.050092583 | 0.170 | 0.3758208 |\n",
       "| I_014797 | 1000 | 0.20037796 | 0.22435225 |  0.172552063 |  0.132696509 | 0.151 | 0.3582280 |\n",
       "| I_019807 | 1000 | 0.19447276 | 0.23631572 |  0.191940957 |  0.140454449 | 0.090 | 0.2863250 |\n",
       "| I_028683 | 1000 | 0.20973907 | 0.21845968 |  0.165018192 |  0.125336875 | 0.274 | 0.4462321 |\n",
       "| I_030053 | 1000 | 0.26245158 | 0.25950028 |  0.214126312 |  0.176286342 | 0.313 | 0.4639464 |\n",
       "| I_030327 | 1000 | 0.47491841 | 0.44889289 |  0.458971110 |  0.395144409 | 0.538 | 0.4988034 |\n",
       "| I_030493 | 1000 | 0.22015129 | 0.21366285 |  0.159094747 |  0.133750825 | 0.299 | 0.4580489 |\n",
       "| I_031516 | 1000 | 0.32789284 | 0.32244147 |  0.290869033 |  0.246744119 | 0.286 | 0.4521155 |\n",
       "| I_032369 | 1000 | 0.25903765 | 0.27308113 |  0.232008269 |  0.184329302 | 0.204 | 0.4031706 |\n",
       "| I_043182 | 1000 | 0.39311107 | 0.38313569 |  0.369265632 |  0.310913252 | 0.352 | 0.4778329 |\n",
       "| I_047309 | 1000 | 0.25123997 | 0.24481564 |  0.195019418 |  0.164000923 | 0.322 | 0.4674768 |\n",
       "| I_053461 | 1000 | 0.24474101 | 0.25104931 |  0.204352418 |  0.162663125 | 0.261 | 0.4393997 |\n",
       "| I_060441 | 1000 | 0.36585143 | 0.34778415 |  0.329659809 |  0.282507543 | 0.657 | 0.4749490 |\n",
       "| I_061248 | 1000 | 0.30127510 | 0.30782827 |  0.273910461 |  0.226618220 | 0.215 | 0.4110279 |\n",
       "| I_063204 | 1000 | 0.39926042 | 0.39979952 |  0.388627714 |  0.328543041 | 0.222 | 0.4157991 |\n",
       "| I_063646 | 1000 | 0.30966914 | 0.30359766 |  0.267971094 |  0.227938289 | 0.283 | 0.4506818 |\n",
       "| I_068123 | 1000 | 0.52587225 | 0.51567865 |  0.537459145 |  0.456750365 | 0.307 | 0.4614802 |\n",
       "| I_068369 | 1000 | 0.45387356 | 0.44895953 |  0.454765139 |  0.383538630 | 0.251 | 0.4338055 |\n",
       "| I_075829 | 1000 | 0.30061825 | 0.29721698 |  0.260982479 |  0.218672068 | 0.281 | 0.4497124 |\n",
       "| I_082581 | 1000 | 0.27366084 | 0.28775351 |  0.253919493 |  0.201017048 | 0.193 | 0.3948505 |\n",
       "| I_085013 | 1000 | 0.16109994 | 0.16904581 |  0.105673575 |  0.077627698 | 0.255 | 0.4360793 |\n",
       "| I_085228 | 1000 | 0.12230008 | 0.12293549 |  0.049125864 |  0.039198225 | 0.247 | 0.4314825 |\n",
       "| I_085343 | 1000 | 0.12553068 | 0.14680501 |  0.076664469 |  0.057440218 | 0.147 | 0.3542831 |\n",
       "| I_085588 | 1000 | 0.39113261 | 0.36993606 |  0.355458885 |  0.307053262 | 0.612 | 0.4875384 |\n",
       "| I_086466 | 1000 | 0.16893164 | 0.18003151 |  0.119844223 |  0.088510799 | 0.230 | 0.4210431 |\n",
       "| I_086499 | 1000 | 0.07234030 | 0.08092304 | -0.002655778 | -0.003502737 | 0.190 | 0.3924972 |\n",
       "| I_086840 | 1000 | 0.16730048 | 0.16879398 |  0.104080420 |  0.081291715 | 0.281 | 0.4497124 |\n",
       "| I_089637 | 1000 | 0.05227351 | 0.08830020 |  0.007781921 | -0.001638059 | 0.085 | 0.2790212 |\n",
       "| I_095509 | 1000 | 0.11932391 | 0.13753125 |  0.065752998 |  0.048389761 | 0.162 | 0.3686352 |\n",
       "| I_095676 | 1000 | 0.41472717 | 0.39107307 |  0.385177556 |  0.330095537 | 0.526 | 0.4995734 |\n",
       "| I_096315 | 1000 | 0.37471627 | 0.35451762 |  0.336363670 |  0.287613046 | 0.457 | 0.4983968 |\n",
       "| I_097590 | 1000 | 0.21463495 | 0.23279932 |  0.180519293 |  0.146166915 | 0.157 | 0.3639828 |\n",
       "| I_111516 | 1000 | 0.40687416 | 0.39676963 |  0.386404240 |  0.326337154 | 0.339 | 0.4736067 |\n",
       "| I_111738 | 1000 | 0.22398679 | 0.22814160 |  0.174697835 |  0.139584966 | 0.278 | 0.4482376 |\n",
       "| I_117651 | 1000 | 0.21875523 | 0.21144514 |  0.154805156 |  0.136548319 | 0.255 | 0.4360793 |\n",
       "| I_117742 | 1000 | 0.28181021 | 0.27305489 |  0.231521415 |  0.193348685 | 0.359 | 0.4799472 |\n",
       "| I_117820 | 1000 | 0.12909202 | 0.12599307 |  0.053611699 |  0.043001597 | 0.276 | 0.4472405 |\n",
       "| I_117877 | 1000 | 0.40721770 | 0.39777831 |  0.386819713 |  0.327934591 | 0.320 | 0.4667096 |\n",
       "| I_117886 | 1000 | 0.10147001 | 0.11098539 |  0.033946627 |  0.025914378 | 0.189 | 0.3917045 |\n",
       "| I_117973 | 1000 | 0.14455698 | 0.15500555 |  0.086221574 |  0.064379853 | 0.225 | 0.4177913 |\n",
       "\n"
      ],
      "text/plain": [
       "         n    raw.r      std.r      r.cor        r.drop       mean  sd       \n",
       "I_005961 1000 0.22901812 0.22475740  0.171265692  0.142874765 0.299 0.4580489\n",
       "I_008364 1000 0.27560210 0.26832282  0.225492651  0.192364243 0.284 0.4511624\n",
       "I_010322 1000 0.36687923 0.35067528  0.327845285  0.278966535 0.491 0.5001691\n",
       "I_010409 1000 0.31025618 0.29751842  0.260918489  0.222571736 0.368 0.4825027\n",
       "I_010500 1000 0.12239033 0.13888448  0.066614135  0.050092583 0.170 0.3758208\n",
       "I_014797 1000 0.20037796 0.22435225  0.172552063  0.132696509 0.151 0.3582280\n",
       "I_019807 1000 0.19447276 0.23631572  0.191940957  0.140454449 0.090 0.2863250\n",
       "I_028683 1000 0.20973907 0.21845968  0.165018192  0.125336875 0.274 0.4462321\n",
       "I_030053 1000 0.26245158 0.25950028  0.214126312  0.176286342 0.313 0.4639464\n",
       "I_030327 1000 0.47491841 0.44889289  0.458971110  0.395144409 0.538 0.4988034\n",
       "I_030493 1000 0.22015129 0.21366285  0.159094747  0.133750825 0.299 0.4580489\n",
       "I_031516 1000 0.32789284 0.32244147  0.290869033  0.246744119 0.286 0.4521155\n",
       "I_032369 1000 0.25903765 0.27308113  0.232008269  0.184329302 0.204 0.4031706\n",
       "I_043182 1000 0.39311107 0.38313569  0.369265632  0.310913252 0.352 0.4778329\n",
       "I_047309 1000 0.25123997 0.24481564  0.195019418  0.164000923 0.322 0.4674768\n",
       "I_053461 1000 0.24474101 0.25104931  0.204352418  0.162663125 0.261 0.4393997\n",
       "I_060441 1000 0.36585143 0.34778415  0.329659809  0.282507543 0.657 0.4749490\n",
       "I_061248 1000 0.30127510 0.30782827  0.273910461  0.226618220 0.215 0.4110279\n",
       "I_063204 1000 0.39926042 0.39979952  0.388627714  0.328543041 0.222 0.4157991\n",
       "I_063646 1000 0.30966914 0.30359766  0.267971094  0.227938289 0.283 0.4506818\n",
       "I_068123 1000 0.52587225 0.51567865  0.537459145  0.456750365 0.307 0.4614802\n",
       "I_068369 1000 0.45387356 0.44895953  0.454765139  0.383538630 0.251 0.4338055\n",
       "I_075829 1000 0.30061825 0.29721698  0.260982479  0.218672068 0.281 0.4497124\n",
       "I_082581 1000 0.27366084 0.28775351  0.253919493  0.201017048 0.193 0.3948505\n",
       "I_085013 1000 0.16109994 0.16904581  0.105673575  0.077627698 0.255 0.4360793\n",
       "I_085228 1000 0.12230008 0.12293549  0.049125864  0.039198225 0.247 0.4314825\n",
       "I_085343 1000 0.12553068 0.14680501  0.076664469  0.057440218 0.147 0.3542831\n",
       "I_085588 1000 0.39113261 0.36993606  0.355458885  0.307053262 0.612 0.4875384\n",
       "I_086466 1000 0.16893164 0.18003151  0.119844223  0.088510799 0.230 0.4210431\n",
       "I_086499 1000 0.07234030 0.08092304 -0.002655778 -0.003502737 0.190 0.3924972\n",
       "I_086840 1000 0.16730048 0.16879398  0.104080420  0.081291715 0.281 0.4497124\n",
       "I_089637 1000 0.05227351 0.08830020  0.007781921 -0.001638059 0.085 0.2790212\n",
       "I_095509 1000 0.11932391 0.13753125  0.065752998  0.048389761 0.162 0.3686352\n",
       "I_095676 1000 0.41472717 0.39107307  0.385177556  0.330095537 0.526 0.4995734\n",
       "I_096315 1000 0.37471627 0.35451762  0.336363670  0.287613046 0.457 0.4983968\n",
       "I_097590 1000 0.21463495 0.23279932  0.180519293  0.146166915 0.157 0.3639828\n",
       "I_111516 1000 0.40687416 0.39676963  0.386404240  0.326337154 0.339 0.4736067\n",
       "I_111738 1000 0.22398679 0.22814160  0.174697835  0.139584966 0.278 0.4482376\n",
       "I_117651 1000 0.21875523 0.21144514  0.154805156  0.136548319 0.255 0.4360793\n",
       "I_117742 1000 0.28181021 0.27305489  0.231521415  0.193348685 0.359 0.4799472\n",
       "I_117820 1000 0.12909202 0.12599307  0.053611699  0.043001597 0.276 0.4472405\n",
       "I_117877 1000 0.40721770 0.39777831  0.386819713  0.327934591 0.320 0.4667096\n",
       "I_117886 1000 0.10147001 0.11098539  0.033946627  0.025914378 0.189 0.3917045\n",
       "I_117973 1000 0.14455698 0.15500555  0.086221574  0.064379853 0.225 0.4177913"
      ]
     },
     "metadata": {},
     "output_type": "display_data"
    }
   ],
   "source": [
    "psych_enem$item.stats"
   ]
  },
  {
   "cell_type": "markdown",
   "metadata": {
    "id": "qSeiqhPDa7ww"
   },
   "source": [
    "#### Pacote ltm"
   ]
  },
  {
   "cell_type": "code",
   "execution_count": 37,
   "metadata": {
    "id": "8G6BcuY2aUpb",
    "tags": []
   },
   "outputs": [],
   "source": [
    "ltm_enem <- ltm::descript(dplyr::select(amostra_correcao_ordenada,-NU_INSCRICAO))"
   ]
  },
  {
   "cell_type": "code",
   "execution_count": 38,
   "metadata": {
    "colab": {
     "base_uri": "https://localhost:8080/",
     "height": 1000
    },
    "id": "77F1Za5KV_GG",
    "outputId": "5b4a233c-dc81-4038-a856-e078b2fcc986",
    "tags": []
   },
   "outputs": [
    {
     "data": {
      "text/html": [
       "<table class=\"dataframe\">\n",
       "<caption>A matrix: 45 × 1 of type dbl</caption>\n",
       "<thead>\n",
       "\t<tr><th></th><th scope=col>value</th></tr>\n",
       "</thead>\n",
       "<tbody>\n",
       "\t<tr><th scope=row>All Items</th><td>0.7036759</td></tr>\n",
       "\t<tr><th scope=row>Excluding I_005961</th><td>0.7015357</td></tr>\n",
       "\t<tr><th scope=row>Excluding I_008364</th><td>0.6986849</td></tr>\n",
       "\t<tr><th scope=row>Excluding I_010322</th><td>0.6932664</td></tr>\n",
       "\t<tr><th scope=row>Excluding I_010409</th><td>0.6968840</td></tr>\n",
       "\t<tr><th scope=row>Excluding I_010500</th><td>0.7054750</td></tr>\n",
       "\t<tr><th scope=row>Excluding I_014797</th><td>0.7015666</td></tr>\n",
       "\t<tr><th scope=row>Excluding I_019807</th><td>0.7012364</td></tr>\n",
       "\t<tr><th scope=row>Excluding I_028683</th><td>0.7024329</td></tr>\n",
       "\t<tr><th scope=row>Excluding I_030053</th><td>0.6996349</td></tr>\n",
       "\t<tr><th scope=row>Excluding I_030327</th><td>0.6857608</td></tr>\n",
       "\t<tr><th scope=row>Excluding I_030493</th><td>0.7020577</td></tr>\n",
       "\t<tr><th scope=row>Excluding I_031516</th><td>0.6955704</td></tr>\n",
       "\t<tr><th scope=row>Excluding I_032369</th><td>0.6991365</td></tr>\n",
       "\t<tr><th scope=row>Excluding I_043182</th><td>0.6914941</td></tr>\n",
       "\t<tr><th scope=row>Excluding I_047309</th><td>0.7003681</td></tr>\n",
       "\t<tr><th scope=row>Excluding I_053461</th><td>0.7003246</td></tr>\n",
       "\t<tr><th scope=row>Excluding I_060441</th><td>0.6932673</td></tr>\n",
       "\t<tr><th scope=row>Excluding I_061248</th><td>0.6969336</td></tr>\n",
       "\t<tr><th scope=row>Excluding I_063204</th><td>0.6914907</td></tr>\n",
       "\t<tr><th scope=row>Excluding I_063646</th><td>0.6966568</td></tr>\n",
       "\t<tr><th scope=row>Excluding I_068123</th><td>0.6829405</td></tr>\n",
       "\t<tr><th scope=row>Excluding I_068369</th><td>0.6880630</td></tr>\n",
       "\t<tr><th scope=row>Excluding I_075829</th><td>0.6971891</td></tr>\n",
       "\t<tr><th scope=row>Excluding I_082581</th><td>0.6983189</td></tr>\n",
       "\t<tr><th scope=row>Excluding I_085013</th><td>0.7049316</td></tr>\n",
       "\t<tr><th scope=row>Excluding I_085228</th><td>0.7069125</td></tr>\n",
       "\t<tr><th scope=row>Excluding I_085343</th><td>0.7048670</td></tr>\n",
       "\t<tr><th scope=row>Excluding I_085588</th><td>0.6916098</td></tr>\n",
       "\t<tr><th scope=row>Excluding I_086466</th><td>0.7041618</td></tr>\n",
       "\t<tr><th scope=row>Excluding I_086499</th><td>0.7082971</td></tr>\n",
       "\t<tr><th scope=row>Excluding I_086840</th><td>0.7049225</td></tr>\n",
       "\t<tr><th scope=row>Excluding I_089637</th><td>0.7061650</td></tr>\n",
       "\t<tr><th scope=row>Excluding I_095509</th><td>0.7054540</td></tr>\n",
       "\t<tr><th scope=row>Excluding I_095676</th><td>0.6899784</td></tr>\n",
       "\t<tr><th scope=row>Excluding I_096315</th><td>0.6927271</td></tr>\n",
       "\t<tr><th scope=row>Excluding I_097590</th><td>0.7009707</td></tr>\n",
       "\t<tr><th scope=row>Excluding I_111516</th><td>0.6906083</td></tr>\n",
       "\t<tr><th scope=row>Excluding I_111738</th><td>0.7016532</td></tr>\n",
       "\t<tr><th scope=row>Excluding I_117651</th><td>0.7017386</td></tr>\n",
       "\t<tr><th scope=row>Excluding I_117742</th><td>0.6986625</td></tr>\n",
       "\t<tr><th scope=row>Excluding I_117820</th><td>0.7069988</td></tr>\n",
       "\t<tr><th scope=row>Excluding I_117877</th><td>0.6906213</td></tr>\n",
       "\t<tr><th scope=row>Excluding I_117886</th><td>0.7068681</td></tr>\n",
       "\t<tr><th scope=row>Excluding I_117973</th><td>0.7053710</td></tr>\n",
       "</tbody>\n",
       "</table>\n"
      ],
      "text/latex": [
       "A matrix: 45 × 1 of type dbl\n",
       "\\begin{tabular}{r|l}\n",
       "  & value\\\\\n",
       "\\hline\n",
       "\tAll Items & 0.7036759\\\\\n",
       "\tExcluding I\\_005961 & 0.7015357\\\\\n",
       "\tExcluding I\\_008364 & 0.6986849\\\\\n",
       "\tExcluding I\\_010322 & 0.6932664\\\\\n",
       "\tExcluding I\\_010409 & 0.6968840\\\\\n",
       "\tExcluding I\\_010500 & 0.7054750\\\\\n",
       "\tExcluding I\\_014797 & 0.7015666\\\\\n",
       "\tExcluding I\\_019807 & 0.7012364\\\\\n",
       "\tExcluding I\\_028683 & 0.7024329\\\\\n",
       "\tExcluding I\\_030053 & 0.6996349\\\\\n",
       "\tExcluding I\\_030327 & 0.6857608\\\\\n",
       "\tExcluding I\\_030493 & 0.7020577\\\\\n",
       "\tExcluding I\\_031516 & 0.6955704\\\\\n",
       "\tExcluding I\\_032369 & 0.6991365\\\\\n",
       "\tExcluding I\\_043182 & 0.6914941\\\\\n",
       "\tExcluding I\\_047309 & 0.7003681\\\\\n",
       "\tExcluding I\\_053461 & 0.7003246\\\\\n",
       "\tExcluding I\\_060441 & 0.6932673\\\\\n",
       "\tExcluding I\\_061248 & 0.6969336\\\\\n",
       "\tExcluding I\\_063204 & 0.6914907\\\\\n",
       "\tExcluding I\\_063646 & 0.6966568\\\\\n",
       "\tExcluding I\\_068123 & 0.6829405\\\\\n",
       "\tExcluding I\\_068369 & 0.6880630\\\\\n",
       "\tExcluding I\\_075829 & 0.6971891\\\\\n",
       "\tExcluding I\\_082581 & 0.6983189\\\\\n",
       "\tExcluding I\\_085013 & 0.7049316\\\\\n",
       "\tExcluding I\\_085228 & 0.7069125\\\\\n",
       "\tExcluding I\\_085343 & 0.7048670\\\\\n",
       "\tExcluding I\\_085588 & 0.6916098\\\\\n",
       "\tExcluding I\\_086466 & 0.7041618\\\\\n",
       "\tExcluding I\\_086499 & 0.7082971\\\\\n",
       "\tExcluding I\\_086840 & 0.7049225\\\\\n",
       "\tExcluding I\\_089637 & 0.7061650\\\\\n",
       "\tExcluding I\\_095509 & 0.7054540\\\\\n",
       "\tExcluding I\\_095676 & 0.6899784\\\\\n",
       "\tExcluding I\\_096315 & 0.6927271\\\\\n",
       "\tExcluding I\\_097590 & 0.7009707\\\\\n",
       "\tExcluding I\\_111516 & 0.6906083\\\\\n",
       "\tExcluding I\\_111738 & 0.7016532\\\\\n",
       "\tExcluding I\\_117651 & 0.7017386\\\\\n",
       "\tExcluding I\\_117742 & 0.6986625\\\\\n",
       "\tExcluding I\\_117820 & 0.7069988\\\\\n",
       "\tExcluding I\\_117877 & 0.6906213\\\\\n",
       "\tExcluding I\\_117886 & 0.7068681\\\\\n",
       "\tExcluding I\\_117973 & 0.7053710\\\\\n",
       "\\end{tabular}\n"
      ],
      "text/markdown": [
       "\n",
       "A matrix: 45 × 1 of type dbl\n",
       "\n",
       "| <!--/--> | value |\n",
       "|---|---|\n",
       "| All Items | 0.7036759 |\n",
       "| Excluding I_005961 | 0.7015357 |\n",
       "| Excluding I_008364 | 0.6986849 |\n",
       "| Excluding I_010322 | 0.6932664 |\n",
       "| Excluding I_010409 | 0.6968840 |\n",
       "| Excluding I_010500 | 0.7054750 |\n",
       "| Excluding I_014797 | 0.7015666 |\n",
       "| Excluding I_019807 | 0.7012364 |\n",
       "| Excluding I_028683 | 0.7024329 |\n",
       "| Excluding I_030053 | 0.6996349 |\n",
       "| Excluding I_030327 | 0.6857608 |\n",
       "| Excluding I_030493 | 0.7020577 |\n",
       "| Excluding I_031516 | 0.6955704 |\n",
       "| Excluding I_032369 | 0.6991365 |\n",
       "| Excluding I_043182 | 0.6914941 |\n",
       "| Excluding I_047309 | 0.7003681 |\n",
       "| Excluding I_053461 | 0.7003246 |\n",
       "| Excluding I_060441 | 0.6932673 |\n",
       "| Excluding I_061248 | 0.6969336 |\n",
       "| Excluding I_063204 | 0.6914907 |\n",
       "| Excluding I_063646 | 0.6966568 |\n",
       "| Excluding I_068123 | 0.6829405 |\n",
       "| Excluding I_068369 | 0.6880630 |\n",
       "| Excluding I_075829 | 0.6971891 |\n",
       "| Excluding I_082581 | 0.6983189 |\n",
       "| Excluding I_085013 | 0.7049316 |\n",
       "| Excluding I_085228 | 0.7069125 |\n",
       "| Excluding I_085343 | 0.7048670 |\n",
       "| Excluding I_085588 | 0.6916098 |\n",
       "| Excluding I_086466 | 0.7041618 |\n",
       "| Excluding I_086499 | 0.7082971 |\n",
       "| Excluding I_086840 | 0.7049225 |\n",
       "| Excluding I_089637 | 0.7061650 |\n",
       "| Excluding I_095509 | 0.7054540 |\n",
       "| Excluding I_095676 | 0.6899784 |\n",
       "| Excluding I_096315 | 0.6927271 |\n",
       "| Excluding I_097590 | 0.7009707 |\n",
       "| Excluding I_111516 | 0.6906083 |\n",
       "| Excluding I_111738 | 0.7016532 |\n",
       "| Excluding I_117651 | 0.7017386 |\n",
       "| Excluding I_117742 | 0.6986625 |\n",
       "| Excluding I_117820 | 0.7069988 |\n",
       "| Excluding I_117877 | 0.6906213 |\n",
       "| Excluding I_117886 | 0.7068681 |\n",
       "| Excluding I_117973 | 0.7053710 |\n",
       "\n"
      ],
      "text/plain": [
       "                   value    \n",
       "All Items          0.7036759\n",
       "Excluding I_005961 0.7015357\n",
       "Excluding I_008364 0.6986849\n",
       "Excluding I_010322 0.6932664\n",
       "Excluding I_010409 0.6968840\n",
       "Excluding I_010500 0.7054750\n",
       "Excluding I_014797 0.7015666\n",
       "Excluding I_019807 0.7012364\n",
       "Excluding I_028683 0.7024329\n",
       "Excluding I_030053 0.6996349\n",
       "Excluding I_030327 0.6857608\n",
       "Excluding I_030493 0.7020577\n",
       "Excluding I_031516 0.6955704\n",
       "Excluding I_032369 0.6991365\n",
       "Excluding I_043182 0.6914941\n",
       "Excluding I_047309 0.7003681\n",
       "Excluding I_053461 0.7003246\n",
       "Excluding I_060441 0.6932673\n",
       "Excluding I_061248 0.6969336\n",
       "Excluding I_063204 0.6914907\n",
       "Excluding I_063646 0.6966568\n",
       "Excluding I_068123 0.6829405\n",
       "Excluding I_068369 0.6880630\n",
       "Excluding I_075829 0.6971891\n",
       "Excluding I_082581 0.6983189\n",
       "Excluding I_085013 0.7049316\n",
       "Excluding I_085228 0.7069125\n",
       "Excluding I_085343 0.7048670\n",
       "Excluding I_085588 0.6916098\n",
       "Excluding I_086466 0.7041618\n",
       "Excluding I_086499 0.7082971\n",
       "Excluding I_086840 0.7049225\n",
       "Excluding I_089637 0.7061650\n",
       "Excluding I_095509 0.7054540\n",
       "Excluding I_095676 0.6899784\n",
       "Excluding I_096315 0.6927271\n",
       "Excluding I_097590 0.7009707\n",
       "Excluding I_111516 0.6906083\n",
       "Excluding I_111738 0.7016532\n",
       "Excluding I_117651 0.7017386\n",
       "Excluding I_117742 0.6986625\n",
       "Excluding I_117820 0.7069988\n",
       "Excluding I_117877 0.6906213\n",
       "Excluding I_117886 0.7068681\n",
       "Excluding I_117973 0.7053710"
      ]
     },
     "metadata": {},
     "output_type": "display_data"
    }
   ],
   "source": [
    "ltm_enem$alpha\n"
   ]
  },
  {
   "cell_type": "markdown",
   "metadata": {
    "id": "OFzSFP9NbfnA",
    "tags": []
   },
   "source": [
    "---\n",
    "\n",
    "\n",
    "### Correlação Bisserial"
   ]
  },
  {
   "cell_type": "markdown",
   "metadata": {
    "id": "Zi9Qr9lBbiSS",
    "tags": []
   },
   "source": [
    "#### Pacote psych"
   ]
  },
  {
   "cell_type": "code",
   "execution_count": 39,
   "metadata": {
    "colab": {
     "base_uri": "https://localhost:8080/",
     "height": 1000
    },
    "id": "2eXkVJviV_Jh",
    "outputId": "040557b3-7a7c-41e4-c617-9e1b1bba6673",
    "tags": []
   },
   "outputs": [
    {
     "data": {
      "text/html": [
       "<table class=\"dataframe\">\n",
       "<caption>A data.frame: 44 × 7</caption>\n",
       "<thead>\n",
       "\t<tr><th></th><th scope=col>n</th><th scope=col>raw.r</th><th scope=col>std.r</th><th scope=col>r.cor</th><th scope=col>r.drop</th><th scope=col>mean</th><th scope=col>sd</th></tr>\n",
       "\t<tr><th></th><th scope=col>&lt;dbl&gt;</th><th scope=col>&lt;dbl&gt;</th><th scope=col>&lt;dbl&gt;</th><th scope=col>&lt;dbl&gt;</th><th scope=col>&lt;dbl&gt;</th><th scope=col>&lt;dbl&gt;</th><th scope=col>&lt;dbl&gt;</th></tr>\n",
       "</thead>\n",
       "<tbody>\n",
       "\t<tr><th scope=row>I_005961</th><td>1000</td><td>0.22901812</td><td>0.22475740</td><td> 0.171265692</td><td> 0.142874765</td><td>0.299</td><td>0.4580489</td></tr>\n",
       "\t<tr><th scope=row>I_008364</th><td>1000</td><td>0.27560210</td><td>0.26832282</td><td> 0.225492651</td><td> 0.192364243</td><td>0.284</td><td>0.4511624</td></tr>\n",
       "\t<tr><th scope=row>I_010322</th><td>1000</td><td>0.36687923</td><td>0.35067528</td><td> 0.327845285</td><td> 0.278966535</td><td>0.491</td><td>0.5001691</td></tr>\n",
       "\t<tr><th scope=row>I_010409</th><td>1000</td><td>0.31025618</td><td>0.29751842</td><td> 0.260918489</td><td> 0.222571736</td><td>0.368</td><td>0.4825027</td></tr>\n",
       "\t<tr><th scope=row>I_010500</th><td>1000</td><td>0.12239033</td><td>0.13888448</td><td> 0.066614135</td><td> 0.050092583</td><td>0.170</td><td>0.3758208</td></tr>\n",
       "\t<tr><th scope=row>I_014797</th><td>1000</td><td>0.20037796</td><td>0.22435225</td><td> 0.172552063</td><td> 0.132696509</td><td>0.151</td><td>0.3582280</td></tr>\n",
       "\t<tr><th scope=row>I_019807</th><td>1000</td><td>0.19447276</td><td>0.23631572</td><td> 0.191940957</td><td> 0.140454449</td><td>0.090</td><td>0.2863250</td></tr>\n",
       "\t<tr><th scope=row>I_028683</th><td>1000</td><td>0.20973907</td><td>0.21845968</td><td> 0.165018192</td><td> 0.125336875</td><td>0.274</td><td>0.4462321</td></tr>\n",
       "\t<tr><th scope=row>I_030053</th><td>1000</td><td>0.26245158</td><td>0.25950028</td><td> 0.214126312</td><td> 0.176286342</td><td>0.313</td><td>0.4639464</td></tr>\n",
       "\t<tr><th scope=row>I_030327</th><td>1000</td><td>0.47491841</td><td>0.44889289</td><td> 0.458971110</td><td> 0.395144409</td><td>0.538</td><td>0.4988034</td></tr>\n",
       "\t<tr><th scope=row>I_030493</th><td>1000</td><td>0.22015129</td><td>0.21366285</td><td> 0.159094747</td><td> 0.133750825</td><td>0.299</td><td>0.4580489</td></tr>\n",
       "\t<tr><th scope=row>I_031516</th><td>1000</td><td>0.32789284</td><td>0.32244147</td><td> 0.290869033</td><td> 0.246744119</td><td>0.286</td><td>0.4521155</td></tr>\n",
       "\t<tr><th scope=row>I_032369</th><td>1000</td><td>0.25903765</td><td>0.27308113</td><td> 0.232008269</td><td> 0.184329302</td><td>0.204</td><td>0.4031706</td></tr>\n",
       "\t<tr><th scope=row>I_043182</th><td>1000</td><td>0.39311107</td><td>0.38313569</td><td> 0.369265632</td><td> 0.310913252</td><td>0.352</td><td>0.4778329</td></tr>\n",
       "\t<tr><th scope=row>I_047309</th><td>1000</td><td>0.25123997</td><td>0.24481564</td><td> 0.195019418</td><td> 0.164000923</td><td>0.322</td><td>0.4674768</td></tr>\n",
       "\t<tr><th scope=row>I_053461</th><td>1000</td><td>0.24474101</td><td>0.25104931</td><td> 0.204352418</td><td> 0.162663125</td><td>0.261</td><td>0.4393997</td></tr>\n",
       "\t<tr><th scope=row>I_060441</th><td>1000</td><td>0.36585143</td><td>0.34778415</td><td> 0.329659809</td><td> 0.282507543</td><td>0.657</td><td>0.4749490</td></tr>\n",
       "\t<tr><th scope=row>I_061248</th><td>1000</td><td>0.30127510</td><td>0.30782827</td><td> 0.273910461</td><td> 0.226618220</td><td>0.215</td><td>0.4110279</td></tr>\n",
       "\t<tr><th scope=row>I_063204</th><td>1000</td><td>0.39926042</td><td>0.39979952</td><td> 0.388627714</td><td> 0.328543041</td><td>0.222</td><td>0.4157991</td></tr>\n",
       "\t<tr><th scope=row>I_063646</th><td>1000</td><td>0.30966914</td><td>0.30359766</td><td> 0.267971094</td><td> 0.227938289</td><td>0.283</td><td>0.4506818</td></tr>\n",
       "\t<tr><th scope=row>I_068123</th><td>1000</td><td>0.52587225</td><td>0.51567865</td><td> 0.537459145</td><td> 0.456750365</td><td>0.307</td><td>0.4614802</td></tr>\n",
       "\t<tr><th scope=row>I_068369</th><td>1000</td><td>0.45387356</td><td>0.44895953</td><td> 0.454765139</td><td> 0.383538630</td><td>0.251</td><td>0.4338055</td></tr>\n",
       "\t<tr><th scope=row>I_075829</th><td>1000</td><td>0.30061825</td><td>0.29721698</td><td> 0.260982479</td><td> 0.218672068</td><td>0.281</td><td>0.4497124</td></tr>\n",
       "\t<tr><th scope=row>I_082581</th><td>1000</td><td>0.27366084</td><td>0.28775351</td><td> 0.253919493</td><td> 0.201017048</td><td>0.193</td><td>0.3948505</td></tr>\n",
       "\t<tr><th scope=row>I_085013</th><td>1000</td><td>0.16109994</td><td>0.16904581</td><td> 0.105673575</td><td> 0.077627698</td><td>0.255</td><td>0.4360793</td></tr>\n",
       "\t<tr><th scope=row>I_085228</th><td>1000</td><td>0.12230008</td><td>0.12293549</td><td> 0.049125864</td><td> 0.039198225</td><td>0.247</td><td>0.4314825</td></tr>\n",
       "\t<tr><th scope=row>I_085343</th><td>1000</td><td>0.12553068</td><td>0.14680501</td><td> 0.076664469</td><td> 0.057440218</td><td>0.147</td><td>0.3542831</td></tr>\n",
       "\t<tr><th scope=row>I_085588</th><td>1000</td><td>0.39113261</td><td>0.36993606</td><td> 0.355458885</td><td> 0.307053262</td><td>0.612</td><td>0.4875384</td></tr>\n",
       "\t<tr><th scope=row>I_086466</th><td>1000</td><td>0.16893164</td><td>0.18003151</td><td> 0.119844223</td><td> 0.088510799</td><td>0.230</td><td>0.4210431</td></tr>\n",
       "\t<tr><th scope=row>I_086499</th><td>1000</td><td>0.07234030</td><td>0.08092304</td><td>-0.002655778</td><td>-0.003502737</td><td>0.190</td><td>0.3924972</td></tr>\n",
       "\t<tr><th scope=row>I_086840</th><td>1000</td><td>0.16730048</td><td>0.16879398</td><td> 0.104080420</td><td> 0.081291715</td><td>0.281</td><td>0.4497124</td></tr>\n",
       "\t<tr><th scope=row>I_089637</th><td>1000</td><td>0.05227351</td><td>0.08830020</td><td> 0.007781921</td><td>-0.001638059</td><td>0.085</td><td>0.2790212</td></tr>\n",
       "\t<tr><th scope=row>I_095509</th><td>1000</td><td>0.11932391</td><td>0.13753125</td><td> 0.065752998</td><td> 0.048389761</td><td>0.162</td><td>0.3686352</td></tr>\n",
       "\t<tr><th scope=row>I_095676</th><td>1000</td><td>0.41472717</td><td>0.39107307</td><td> 0.385177556</td><td> 0.330095537</td><td>0.526</td><td>0.4995734</td></tr>\n",
       "\t<tr><th scope=row>I_096315</th><td>1000</td><td>0.37471627</td><td>0.35451762</td><td> 0.336363670</td><td> 0.287613046</td><td>0.457</td><td>0.4983968</td></tr>\n",
       "\t<tr><th scope=row>I_097590</th><td>1000</td><td>0.21463495</td><td>0.23279932</td><td> 0.180519293</td><td> 0.146166915</td><td>0.157</td><td>0.3639828</td></tr>\n",
       "\t<tr><th scope=row>I_111516</th><td>1000</td><td>0.40687416</td><td>0.39676963</td><td> 0.386404240</td><td> 0.326337154</td><td>0.339</td><td>0.4736067</td></tr>\n",
       "\t<tr><th scope=row>I_111738</th><td>1000</td><td>0.22398679</td><td>0.22814160</td><td> 0.174697835</td><td> 0.139584966</td><td>0.278</td><td>0.4482376</td></tr>\n",
       "\t<tr><th scope=row>I_117651</th><td>1000</td><td>0.21875523</td><td>0.21144514</td><td> 0.154805156</td><td> 0.136548319</td><td>0.255</td><td>0.4360793</td></tr>\n",
       "\t<tr><th scope=row>I_117742</th><td>1000</td><td>0.28181021</td><td>0.27305489</td><td> 0.231521415</td><td> 0.193348685</td><td>0.359</td><td>0.4799472</td></tr>\n",
       "\t<tr><th scope=row>I_117820</th><td>1000</td><td>0.12909202</td><td>0.12599307</td><td> 0.053611699</td><td> 0.043001597</td><td>0.276</td><td>0.4472405</td></tr>\n",
       "\t<tr><th scope=row>I_117877</th><td>1000</td><td>0.40721770</td><td>0.39777831</td><td> 0.386819713</td><td> 0.327934591</td><td>0.320</td><td>0.4667096</td></tr>\n",
       "\t<tr><th scope=row>I_117886</th><td>1000</td><td>0.10147001</td><td>0.11098539</td><td> 0.033946627</td><td> 0.025914378</td><td>0.189</td><td>0.3917045</td></tr>\n",
       "\t<tr><th scope=row>I_117973</th><td>1000</td><td>0.14455698</td><td>0.15500555</td><td> 0.086221574</td><td> 0.064379853</td><td>0.225</td><td>0.4177913</td></tr>\n",
       "</tbody>\n",
       "</table>\n"
      ],
      "text/latex": [
       "A data.frame: 44 × 7\n",
       "\\begin{tabular}{r|lllllll}\n",
       "  & n & raw.r & std.r & r.cor & r.drop & mean & sd\\\\\n",
       "  & <dbl> & <dbl> & <dbl> & <dbl> & <dbl> & <dbl> & <dbl>\\\\\n",
       "\\hline\n",
       "\tI\\_005961 & 1000 & 0.22901812 & 0.22475740 &  0.171265692 &  0.142874765 & 0.299 & 0.4580489\\\\\n",
       "\tI\\_008364 & 1000 & 0.27560210 & 0.26832282 &  0.225492651 &  0.192364243 & 0.284 & 0.4511624\\\\\n",
       "\tI\\_010322 & 1000 & 0.36687923 & 0.35067528 &  0.327845285 &  0.278966535 & 0.491 & 0.5001691\\\\\n",
       "\tI\\_010409 & 1000 & 0.31025618 & 0.29751842 &  0.260918489 &  0.222571736 & 0.368 & 0.4825027\\\\\n",
       "\tI\\_010500 & 1000 & 0.12239033 & 0.13888448 &  0.066614135 &  0.050092583 & 0.170 & 0.3758208\\\\\n",
       "\tI\\_014797 & 1000 & 0.20037796 & 0.22435225 &  0.172552063 &  0.132696509 & 0.151 & 0.3582280\\\\\n",
       "\tI\\_019807 & 1000 & 0.19447276 & 0.23631572 &  0.191940957 &  0.140454449 & 0.090 & 0.2863250\\\\\n",
       "\tI\\_028683 & 1000 & 0.20973907 & 0.21845968 &  0.165018192 &  0.125336875 & 0.274 & 0.4462321\\\\\n",
       "\tI\\_030053 & 1000 & 0.26245158 & 0.25950028 &  0.214126312 &  0.176286342 & 0.313 & 0.4639464\\\\\n",
       "\tI\\_030327 & 1000 & 0.47491841 & 0.44889289 &  0.458971110 &  0.395144409 & 0.538 & 0.4988034\\\\\n",
       "\tI\\_030493 & 1000 & 0.22015129 & 0.21366285 &  0.159094747 &  0.133750825 & 0.299 & 0.4580489\\\\\n",
       "\tI\\_031516 & 1000 & 0.32789284 & 0.32244147 &  0.290869033 &  0.246744119 & 0.286 & 0.4521155\\\\\n",
       "\tI\\_032369 & 1000 & 0.25903765 & 0.27308113 &  0.232008269 &  0.184329302 & 0.204 & 0.4031706\\\\\n",
       "\tI\\_043182 & 1000 & 0.39311107 & 0.38313569 &  0.369265632 &  0.310913252 & 0.352 & 0.4778329\\\\\n",
       "\tI\\_047309 & 1000 & 0.25123997 & 0.24481564 &  0.195019418 &  0.164000923 & 0.322 & 0.4674768\\\\\n",
       "\tI\\_053461 & 1000 & 0.24474101 & 0.25104931 &  0.204352418 &  0.162663125 & 0.261 & 0.4393997\\\\\n",
       "\tI\\_060441 & 1000 & 0.36585143 & 0.34778415 &  0.329659809 &  0.282507543 & 0.657 & 0.4749490\\\\\n",
       "\tI\\_061248 & 1000 & 0.30127510 & 0.30782827 &  0.273910461 &  0.226618220 & 0.215 & 0.4110279\\\\\n",
       "\tI\\_063204 & 1000 & 0.39926042 & 0.39979952 &  0.388627714 &  0.328543041 & 0.222 & 0.4157991\\\\\n",
       "\tI\\_063646 & 1000 & 0.30966914 & 0.30359766 &  0.267971094 &  0.227938289 & 0.283 & 0.4506818\\\\\n",
       "\tI\\_068123 & 1000 & 0.52587225 & 0.51567865 &  0.537459145 &  0.456750365 & 0.307 & 0.4614802\\\\\n",
       "\tI\\_068369 & 1000 & 0.45387356 & 0.44895953 &  0.454765139 &  0.383538630 & 0.251 & 0.4338055\\\\\n",
       "\tI\\_075829 & 1000 & 0.30061825 & 0.29721698 &  0.260982479 &  0.218672068 & 0.281 & 0.4497124\\\\\n",
       "\tI\\_082581 & 1000 & 0.27366084 & 0.28775351 &  0.253919493 &  0.201017048 & 0.193 & 0.3948505\\\\\n",
       "\tI\\_085013 & 1000 & 0.16109994 & 0.16904581 &  0.105673575 &  0.077627698 & 0.255 & 0.4360793\\\\\n",
       "\tI\\_085228 & 1000 & 0.12230008 & 0.12293549 &  0.049125864 &  0.039198225 & 0.247 & 0.4314825\\\\\n",
       "\tI\\_085343 & 1000 & 0.12553068 & 0.14680501 &  0.076664469 &  0.057440218 & 0.147 & 0.3542831\\\\\n",
       "\tI\\_085588 & 1000 & 0.39113261 & 0.36993606 &  0.355458885 &  0.307053262 & 0.612 & 0.4875384\\\\\n",
       "\tI\\_086466 & 1000 & 0.16893164 & 0.18003151 &  0.119844223 &  0.088510799 & 0.230 & 0.4210431\\\\\n",
       "\tI\\_086499 & 1000 & 0.07234030 & 0.08092304 & -0.002655778 & -0.003502737 & 0.190 & 0.3924972\\\\\n",
       "\tI\\_086840 & 1000 & 0.16730048 & 0.16879398 &  0.104080420 &  0.081291715 & 0.281 & 0.4497124\\\\\n",
       "\tI\\_089637 & 1000 & 0.05227351 & 0.08830020 &  0.007781921 & -0.001638059 & 0.085 & 0.2790212\\\\\n",
       "\tI\\_095509 & 1000 & 0.11932391 & 0.13753125 &  0.065752998 &  0.048389761 & 0.162 & 0.3686352\\\\\n",
       "\tI\\_095676 & 1000 & 0.41472717 & 0.39107307 &  0.385177556 &  0.330095537 & 0.526 & 0.4995734\\\\\n",
       "\tI\\_096315 & 1000 & 0.37471627 & 0.35451762 &  0.336363670 &  0.287613046 & 0.457 & 0.4983968\\\\\n",
       "\tI\\_097590 & 1000 & 0.21463495 & 0.23279932 &  0.180519293 &  0.146166915 & 0.157 & 0.3639828\\\\\n",
       "\tI\\_111516 & 1000 & 0.40687416 & 0.39676963 &  0.386404240 &  0.326337154 & 0.339 & 0.4736067\\\\\n",
       "\tI\\_111738 & 1000 & 0.22398679 & 0.22814160 &  0.174697835 &  0.139584966 & 0.278 & 0.4482376\\\\\n",
       "\tI\\_117651 & 1000 & 0.21875523 & 0.21144514 &  0.154805156 &  0.136548319 & 0.255 & 0.4360793\\\\\n",
       "\tI\\_117742 & 1000 & 0.28181021 & 0.27305489 &  0.231521415 &  0.193348685 & 0.359 & 0.4799472\\\\\n",
       "\tI\\_117820 & 1000 & 0.12909202 & 0.12599307 &  0.053611699 &  0.043001597 & 0.276 & 0.4472405\\\\\n",
       "\tI\\_117877 & 1000 & 0.40721770 & 0.39777831 &  0.386819713 &  0.327934591 & 0.320 & 0.4667096\\\\\n",
       "\tI\\_117886 & 1000 & 0.10147001 & 0.11098539 &  0.033946627 &  0.025914378 & 0.189 & 0.3917045\\\\\n",
       "\tI\\_117973 & 1000 & 0.14455698 & 0.15500555 &  0.086221574 &  0.064379853 & 0.225 & 0.4177913\\\\\n",
       "\\end{tabular}\n"
      ],
      "text/markdown": [
       "\n",
       "A data.frame: 44 × 7\n",
       "\n",
       "| <!--/--> | n &lt;dbl&gt; | raw.r &lt;dbl&gt; | std.r &lt;dbl&gt; | r.cor &lt;dbl&gt; | r.drop &lt;dbl&gt; | mean &lt;dbl&gt; | sd &lt;dbl&gt; |\n",
       "|---|---|---|---|---|---|---|---|\n",
       "| I_005961 | 1000 | 0.22901812 | 0.22475740 |  0.171265692 |  0.142874765 | 0.299 | 0.4580489 |\n",
       "| I_008364 | 1000 | 0.27560210 | 0.26832282 |  0.225492651 |  0.192364243 | 0.284 | 0.4511624 |\n",
       "| I_010322 | 1000 | 0.36687923 | 0.35067528 |  0.327845285 |  0.278966535 | 0.491 | 0.5001691 |\n",
       "| I_010409 | 1000 | 0.31025618 | 0.29751842 |  0.260918489 |  0.222571736 | 0.368 | 0.4825027 |\n",
       "| I_010500 | 1000 | 0.12239033 | 0.13888448 |  0.066614135 |  0.050092583 | 0.170 | 0.3758208 |\n",
       "| I_014797 | 1000 | 0.20037796 | 0.22435225 |  0.172552063 |  0.132696509 | 0.151 | 0.3582280 |\n",
       "| I_019807 | 1000 | 0.19447276 | 0.23631572 |  0.191940957 |  0.140454449 | 0.090 | 0.2863250 |\n",
       "| I_028683 | 1000 | 0.20973907 | 0.21845968 |  0.165018192 |  0.125336875 | 0.274 | 0.4462321 |\n",
       "| I_030053 | 1000 | 0.26245158 | 0.25950028 |  0.214126312 |  0.176286342 | 0.313 | 0.4639464 |\n",
       "| I_030327 | 1000 | 0.47491841 | 0.44889289 |  0.458971110 |  0.395144409 | 0.538 | 0.4988034 |\n",
       "| I_030493 | 1000 | 0.22015129 | 0.21366285 |  0.159094747 |  0.133750825 | 0.299 | 0.4580489 |\n",
       "| I_031516 | 1000 | 0.32789284 | 0.32244147 |  0.290869033 |  0.246744119 | 0.286 | 0.4521155 |\n",
       "| I_032369 | 1000 | 0.25903765 | 0.27308113 |  0.232008269 |  0.184329302 | 0.204 | 0.4031706 |\n",
       "| I_043182 | 1000 | 0.39311107 | 0.38313569 |  0.369265632 |  0.310913252 | 0.352 | 0.4778329 |\n",
       "| I_047309 | 1000 | 0.25123997 | 0.24481564 |  0.195019418 |  0.164000923 | 0.322 | 0.4674768 |\n",
       "| I_053461 | 1000 | 0.24474101 | 0.25104931 |  0.204352418 |  0.162663125 | 0.261 | 0.4393997 |\n",
       "| I_060441 | 1000 | 0.36585143 | 0.34778415 |  0.329659809 |  0.282507543 | 0.657 | 0.4749490 |\n",
       "| I_061248 | 1000 | 0.30127510 | 0.30782827 |  0.273910461 |  0.226618220 | 0.215 | 0.4110279 |\n",
       "| I_063204 | 1000 | 0.39926042 | 0.39979952 |  0.388627714 |  0.328543041 | 0.222 | 0.4157991 |\n",
       "| I_063646 | 1000 | 0.30966914 | 0.30359766 |  0.267971094 |  0.227938289 | 0.283 | 0.4506818 |\n",
       "| I_068123 | 1000 | 0.52587225 | 0.51567865 |  0.537459145 |  0.456750365 | 0.307 | 0.4614802 |\n",
       "| I_068369 | 1000 | 0.45387356 | 0.44895953 |  0.454765139 |  0.383538630 | 0.251 | 0.4338055 |\n",
       "| I_075829 | 1000 | 0.30061825 | 0.29721698 |  0.260982479 |  0.218672068 | 0.281 | 0.4497124 |\n",
       "| I_082581 | 1000 | 0.27366084 | 0.28775351 |  0.253919493 |  0.201017048 | 0.193 | 0.3948505 |\n",
       "| I_085013 | 1000 | 0.16109994 | 0.16904581 |  0.105673575 |  0.077627698 | 0.255 | 0.4360793 |\n",
       "| I_085228 | 1000 | 0.12230008 | 0.12293549 |  0.049125864 |  0.039198225 | 0.247 | 0.4314825 |\n",
       "| I_085343 | 1000 | 0.12553068 | 0.14680501 |  0.076664469 |  0.057440218 | 0.147 | 0.3542831 |\n",
       "| I_085588 | 1000 | 0.39113261 | 0.36993606 |  0.355458885 |  0.307053262 | 0.612 | 0.4875384 |\n",
       "| I_086466 | 1000 | 0.16893164 | 0.18003151 |  0.119844223 |  0.088510799 | 0.230 | 0.4210431 |\n",
       "| I_086499 | 1000 | 0.07234030 | 0.08092304 | -0.002655778 | -0.003502737 | 0.190 | 0.3924972 |\n",
       "| I_086840 | 1000 | 0.16730048 | 0.16879398 |  0.104080420 |  0.081291715 | 0.281 | 0.4497124 |\n",
       "| I_089637 | 1000 | 0.05227351 | 0.08830020 |  0.007781921 | -0.001638059 | 0.085 | 0.2790212 |\n",
       "| I_095509 | 1000 | 0.11932391 | 0.13753125 |  0.065752998 |  0.048389761 | 0.162 | 0.3686352 |\n",
       "| I_095676 | 1000 | 0.41472717 | 0.39107307 |  0.385177556 |  0.330095537 | 0.526 | 0.4995734 |\n",
       "| I_096315 | 1000 | 0.37471627 | 0.35451762 |  0.336363670 |  0.287613046 | 0.457 | 0.4983968 |\n",
       "| I_097590 | 1000 | 0.21463495 | 0.23279932 |  0.180519293 |  0.146166915 | 0.157 | 0.3639828 |\n",
       "| I_111516 | 1000 | 0.40687416 | 0.39676963 |  0.386404240 |  0.326337154 | 0.339 | 0.4736067 |\n",
       "| I_111738 | 1000 | 0.22398679 | 0.22814160 |  0.174697835 |  0.139584966 | 0.278 | 0.4482376 |\n",
       "| I_117651 | 1000 | 0.21875523 | 0.21144514 |  0.154805156 |  0.136548319 | 0.255 | 0.4360793 |\n",
       "| I_117742 | 1000 | 0.28181021 | 0.27305489 |  0.231521415 |  0.193348685 | 0.359 | 0.4799472 |\n",
       "| I_117820 | 1000 | 0.12909202 | 0.12599307 |  0.053611699 |  0.043001597 | 0.276 | 0.4472405 |\n",
       "| I_117877 | 1000 | 0.40721770 | 0.39777831 |  0.386819713 |  0.327934591 | 0.320 | 0.4667096 |\n",
       "| I_117886 | 1000 | 0.10147001 | 0.11098539 |  0.033946627 |  0.025914378 | 0.189 | 0.3917045 |\n",
       "| I_117973 | 1000 | 0.14455698 | 0.15500555 |  0.086221574 |  0.064379853 | 0.225 | 0.4177913 |\n",
       "\n"
      ],
      "text/plain": [
       "         n    raw.r      std.r      r.cor        r.drop       mean  sd       \n",
       "I_005961 1000 0.22901812 0.22475740  0.171265692  0.142874765 0.299 0.4580489\n",
       "I_008364 1000 0.27560210 0.26832282  0.225492651  0.192364243 0.284 0.4511624\n",
       "I_010322 1000 0.36687923 0.35067528  0.327845285  0.278966535 0.491 0.5001691\n",
       "I_010409 1000 0.31025618 0.29751842  0.260918489  0.222571736 0.368 0.4825027\n",
       "I_010500 1000 0.12239033 0.13888448  0.066614135  0.050092583 0.170 0.3758208\n",
       "I_014797 1000 0.20037796 0.22435225  0.172552063  0.132696509 0.151 0.3582280\n",
       "I_019807 1000 0.19447276 0.23631572  0.191940957  0.140454449 0.090 0.2863250\n",
       "I_028683 1000 0.20973907 0.21845968  0.165018192  0.125336875 0.274 0.4462321\n",
       "I_030053 1000 0.26245158 0.25950028  0.214126312  0.176286342 0.313 0.4639464\n",
       "I_030327 1000 0.47491841 0.44889289  0.458971110  0.395144409 0.538 0.4988034\n",
       "I_030493 1000 0.22015129 0.21366285  0.159094747  0.133750825 0.299 0.4580489\n",
       "I_031516 1000 0.32789284 0.32244147  0.290869033  0.246744119 0.286 0.4521155\n",
       "I_032369 1000 0.25903765 0.27308113  0.232008269  0.184329302 0.204 0.4031706\n",
       "I_043182 1000 0.39311107 0.38313569  0.369265632  0.310913252 0.352 0.4778329\n",
       "I_047309 1000 0.25123997 0.24481564  0.195019418  0.164000923 0.322 0.4674768\n",
       "I_053461 1000 0.24474101 0.25104931  0.204352418  0.162663125 0.261 0.4393997\n",
       "I_060441 1000 0.36585143 0.34778415  0.329659809  0.282507543 0.657 0.4749490\n",
       "I_061248 1000 0.30127510 0.30782827  0.273910461  0.226618220 0.215 0.4110279\n",
       "I_063204 1000 0.39926042 0.39979952  0.388627714  0.328543041 0.222 0.4157991\n",
       "I_063646 1000 0.30966914 0.30359766  0.267971094  0.227938289 0.283 0.4506818\n",
       "I_068123 1000 0.52587225 0.51567865  0.537459145  0.456750365 0.307 0.4614802\n",
       "I_068369 1000 0.45387356 0.44895953  0.454765139  0.383538630 0.251 0.4338055\n",
       "I_075829 1000 0.30061825 0.29721698  0.260982479  0.218672068 0.281 0.4497124\n",
       "I_082581 1000 0.27366084 0.28775351  0.253919493  0.201017048 0.193 0.3948505\n",
       "I_085013 1000 0.16109994 0.16904581  0.105673575  0.077627698 0.255 0.4360793\n",
       "I_085228 1000 0.12230008 0.12293549  0.049125864  0.039198225 0.247 0.4314825\n",
       "I_085343 1000 0.12553068 0.14680501  0.076664469  0.057440218 0.147 0.3542831\n",
       "I_085588 1000 0.39113261 0.36993606  0.355458885  0.307053262 0.612 0.4875384\n",
       "I_086466 1000 0.16893164 0.18003151  0.119844223  0.088510799 0.230 0.4210431\n",
       "I_086499 1000 0.07234030 0.08092304 -0.002655778 -0.003502737 0.190 0.3924972\n",
       "I_086840 1000 0.16730048 0.16879398  0.104080420  0.081291715 0.281 0.4497124\n",
       "I_089637 1000 0.05227351 0.08830020  0.007781921 -0.001638059 0.085 0.2790212\n",
       "I_095509 1000 0.11932391 0.13753125  0.065752998  0.048389761 0.162 0.3686352\n",
       "I_095676 1000 0.41472717 0.39107307  0.385177556  0.330095537 0.526 0.4995734\n",
       "I_096315 1000 0.37471627 0.35451762  0.336363670  0.287613046 0.457 0.4983968\n",
       "I_097590 1000 0.21463495 0.23279932  0.180519293  0.146166915 0.157 0.3639828\n",
       "I_111516 1000 0.40687416 0.39676963  0.386404240  0.326337154 0.339 0.4736067\n",
       "I_111738 1000 0.22398679 0.22814160  0.174697835  0.139584966 0.278 0.4482376\n",
       "I_117651 1000 0.21875523 0.21144514  0.154805156  0.136548319 0.255 0.4360793\n",
       "I_117742 1000 0.28181021 0.27305489  0.231521415  0.193348685 0.359 0.4799472\n",
       "I_117820 1000 0.12909202 0.12599307  0.053611699  0.043001597 0.276 0.4472405\n",
       "I_117877 1000 0.40721770 0.39777831  0.386819713  0.327934591 0.320 0.4667096\n",
       "I_117886 1000 0.10147001 0.11098539  0.033946627  0.025914378 0.189 0.3917045\n",
       "I_117973 1000 0.14455698 0.15500555  0.086221574  0.064379853 0.225 0.4177913"
      ]
     },
     "metadata": {},
     "output_type": "display_data"
    }
   ],
   "source": [
    "psych_enem$item.stats"
   ]
  },
  {
   "cell_type": "markdown",
   "metadata": {
    "id": "vQYxC2dmb8gg"
   },
   "source": [
    "#### Pacote ltm"
   ]
  },
  {
   "cell_type": "code",
   "execution_count": 40,
   "metadata": {
    "colab": {
     "base_uri": "https://localhost:8080/",
     "height": 1000
    },
    "id": "Wr5EpvR7baxR",
    "outputId": "ef9b447f-cad9-4e26-e941-ed961a7aff20",
    "tags": []
   },
   "outputs": [
    {
     "data": {
      "text/html": [
       "<table class=\"dataframe\">\n",
       "<caption>A data.frame: 44 × 2</caption>\n",
       "<thead>\n",
       "\t<tr><th></th><th scope=col>bisCorr</th><th scope=col>ExBisCorr</th></tr>\n",
       "\t<tr><th></th><th scope=col>&lt;dbl&gt;</th><th scope=col>&lt;dbl&gt;</th></tr>\n",
       "</thead>\n",
       "<tbody>\n",
       "\t<tr><th scope=row>I_005961</th><td>0.22901812</td><td> 0.142874765</td></tr>\n",
       "\t<tr><th scope=row>I_008364</th><td>0.27560210</td><td> 0.192364243</td></tr>\n",
       "\t<tr><th scope=row>I_010322</th><td>0.36687923</td><td> 0.278966535</td></tr>\n",
       "\t<tr><th scope=row>I_010409</th><td>0.31025618</td><td> 0.222571736</td></tr>\n",
       "\t<tr><th scope=row>I_010500</th><td>0.12239033</td><td> 0.050092583</td></tr>\n",
       "\t<tr><th scope=row>I_014797</th><td>0.20037796</td><td> 0.132696509</td></tr>\n",
       "\t<tr><th scope=row>I_019807</th><td>0.19447276</td><td> 0.140454449</td></tr>\n",
       "\t<tr><th scope=row>I_028683</th><td>0.20973907</td><td> 0.125336875</td></tr>\n",
       "\t<tr><th scope=row>I_030053</th><td>0.26245158</td><td> 0.176286342</td></tr>\n",
       "\t<tr><th scope=row>I_030327</th><td>0.47491841</td><td> 0.395144409</td></tr>\n",
       "\t<tr><th scope=row>I_030493</th><td>0.22015129</td><td> 0.133750825</td></tr>\n",
       "\t<tr><th scope=row>I_031516</th><td>0.32789284</td><td> 0.246744119</td></tr>\n",
       "\t<tr><th scope=row>I_032369</th><td>0.25903765</td><td> 0.184329302</td></tr>\n",
       "\t<tr><th scope=row>I_043182</th><td>0.39311107</td><td> 0.310913252</td></tr>\n",
       "\t<tr><th scope=row>I_047309</th><td>0.25123997</td><td> 0.164000923</td></tr>\n",
       "\t<tr><th scope=row>I_053461</th><td>0.24474101</td><td> 0.162663125</td></tr>\n",
       "\t<tr><th scope=row>I_060441</th><td>0.36585143</td><td> 0.282507543</td></tr>\n",
       "\t<tr><th scope=row>I_061248</th><td>0.30127510</td><td> 0.226618220</td></tr>\n",
       "\t<tr><th scope=row>I_063204</th><td>0.39926042</td><td> 0.328543041</td></tr>\n",
       "\t<tr><th scope=row>I_063646</th><td>0.30966914</td><td> 0.227938289</td></tr>\n",
       "\t<tr><th scope=row>I_068123</th><td>0.52587225</td><td> 0.456750365</td></tr>\n",
       "\t<tr><th scope=row>I_068369</th><td>0.45387356</td><td> 0.383538630</td></tr>\n",
       "\t<tr><th scope=row>I_075829</th><td>0.30061825</td><td> 0.218672068</td></tr>\n",
       "\t<tr><th scope=row>I_082581</th><td>0.27366084</td><td> 0.201017048</td></tr>\n",
       "\t<tr><th scope=row>I_085013</th><td>0.16109994</td><td> 0.077627698</td></tr>\n",
       "\t<tr><th scope=row>I_085228</th><td>0.12230008</td><td> 0.039198225</td></tr>\n",
       "\t<tr><th scope=row>I_085343</th><td>0.12553068</td><td> 0.057440218</td></tr>\n",
       "\t<tr><th scope=row>I_085588</th><td>0.39113261</td><td> 0.307053262</td></tr>\n",
       "\t<tr><th scope=row>I_086466</th><td>0.16893164</td><td> 0.088510799</td></tr>\n",
       "\t<tr><th scope=row>I_086499</th><td>0.07234030</td><td>-0.003502737</td></tr>\n",
       "\t<tr><th scope=row>I_086840</th><td>0.16730048</td><td> 0.081291715</td></tr>\n",
       "\t<tr><th scope=row>I_089637</th><td>0.05227351</td><td>-0.001638059</td></tr>\n",
       "\t<tr><th scope=row>I_095509</th><td>0.11932391</td><td> 0.048389761</td></tr>\n",
       "\t<tr><th scope=row>I_095676</th><td>0.41472717</td><td> 0.330095537</td></tr>\n",
       "\t<tr><th scope=row>I_096315</th><td>0.37471627</td><td> 0.287613046</td></tr>\n",
       "\t<tr><th scope=row>I_097590</th><td>0.21463495</td><td> 0.146166915</td></tr>\n",
       "\t<tr><th scope=row>I_111516</th><td>0.40687416</td><td> 0.326337154</td></tr>\n",
       "\t<tr><th scope=row>I_111738</th><td>0.22398679</td><td> 0.139584966</td></tr>\n",
       "\t<tr><th scope=row>I_117651</th><td>0.21875523</td><td> 0.136548319</td></tr>\n",
       "\t<tr><th scope=row>I_117742</th><td>0.28181021</td><td> 0.193348685</td></tr>\n",
       "\t<tr><th scope=row>I_117820</th><td>0.12909202</td><td> 0.043001597</td></tr>\n",
       "\t<tr><th scope=row>I_117877</th><td>0.40721770</td><td> 0.327934591</td></tr>\n",
       "\t<tr><th scope=row>I_117886</th><td>0.10147001</td><td> 0.025914378</td></tr>\n",
       "\t<tr><th scope=row>I_117973</th><td>0.14455698</td><td> 0.064379853</td></tr>\n",
       "</tbody>\n",
       "</table>\n"
      ],
      "text/latex": [
       "A data.frame: 44 × 2\n",
       "\\begin{tabular}{r|ll}\n",
       "  & bisCorr & ExBisCorr\\\\\n",
       "  & <dbl> & <dbl>\\\\\n",
       "\\hline\n",
       "\tI\\_005961 & 0.22901812 &  0.142874765\\\\\n",
       "\tI\\_008364 & 0.27560210 &  0.192364243\\\\\n",
       "\tI\\_010322 & 0.36687923 &  0.278966535\\\\\n",
       "\tI\\_010409 & 0.31025618 &  0.222571736\\\\\n",
       "\tI\\_010500 & 0.12239033 &  0.050092583\\\\\n",
       "\tI\\_014797 & 0.20037796 &  0.132696509\\\\\n",
       "\tI\\_019807 & 0.19447276 &  0.140454449\\\\\n",
       "\tI\\_028683 & 0.20973907 &  0.125336875\\\\\n",
       "\tI\\_030053 & 0.26245158 &  0.176286342\\\\\n",
       "\tI\\_030327 & 0.47491841 &  0.395144409\\\\\n",
       "\tI\\_030493 & 0.22015129 &  0.133750825\\\\\n",
       "\tI\\_031516 & 0.32789284 &  0.246744119\\\\\n",
       "\tI\\_032369 & 0.25903765 &  0.184329302\\\\\n",
       "\tI\\_043182 & 0.39311107 &  0.310913252\\\\\n",
       "\tI\\_047309 & 0.25123997 &  0.164000923\\\\\n",
       "\tI\\_053461 & 0.24474101 &  0.162663125\\\\\n",
       "\tI\\_060441 & 0.36585143 &  0.282507543\\\\\n",
       "\tI\\_061248 & 0.30127510 &  0.226618220\\\\\n",
       "\tI\\_063204 & 0.39926042 &  0.328543041\\\\\n",
       "\tI\\_063646 & 0.30966914 &  0.227938289\\\\\n",
       "\tI\\_068123 & 0.52587225 &  0.456750365\\\\\n",
       "\tI\\_068369 & 0.45387356 &  0.383538630\\\\\n",
       "\tI\\_075829 & 0.30061825 &  0.218672068\\\\\n",
       "\tI\\_082581 & 0.27366084 &  0.201017048\\\\\n",
       "\tI\\_085013 & 0.16109994 &  0.077627698\\\\\n",
       "\tI\\_085228 & 0.12230008 &  0.039198225\\\\\n",
       "\tI\\_085343 & 0.12553068 &  0.057440218\\\\\n",
       "\tI\\_085588 & 0.39113261 &  0.307053262\\\\\n",
       "\tI\\_086466 & 0.16893164 &  0.088510799\\\\\n",
       "\tI\\_086499 & 0.07234030 & -0.003502737\\\\\n",
       "\tI\\_086840 & 0.16730048 &  0.081291715\\\\\n",
       "\tI\\_089637 & 0.05227351 & -0.001638059\\\\\n",
       "\tI\\_095509 & 0.11932391 &  0.048389761\\\\\n",
       "\tI\\_095676 & 0.41472717 &  0.330095537\\\\\n",
       "\tI\\_096315 & 0.37471627 &  0.287613046\\\\\n",
       "\tI\\_097590 & 0.21463495 &  0.146166915\\\\\n",
       "\tI\\_111516 & 0.40687416 &  0.326337154\\\\\n",
       "\tI\\_111738 & 0.22398679 &  0.139584966\\\\\n",
       "\tI\\_117651 & 0.21875523 &  0.136548319\\\\\n",
       "\tI\\_117742 & 0.28181021 &  0.193348685\\\\\n",
       "\tI\\_117820 & 0.12909202 &  0.043001597\\\\\n",
       "\tI\\_117877 & 0.40721770 &  0.327934591\\\\\n",
       "\tI\\_117886 & 0.10147001 &  0.025914378\\\\\n",
       "\tI\\_117973 & 0.14455698 &  0.064379853\\\\\n",
       "\\end{tabular}\n"
      ],
      "text/markdown": [
       "\n",
       "A data.frame: 44 × 2\n",
       "\n",
       "| <!--/--> | bisCorr &lt;dbl&gt; | ExBisCorr &lt;dbl&gt; |\n",
       "|---|---|---|\n",
       "| I_005961 | 0.22901812 |  0.142874765 |\n",
       "| I_008364 | 0.27560210 |  0.192364243 |\n",
       "| I_010322 | 0.36687923 |  0.278966535 |\n",
       "| I_010409 | 0.31025618 |  0.222571736 |\n",
       "| I_010500 | 0.12239033 |  0.050092583 |\n",
       "| I_014797 | 0.20037796 |  0.132696509 |\n",
       "| I_019807 | 0.19447276 |  0.140454449 |\n",
       "| I_028683 | 0.20973907 |  0.125336875 |\n",
       "| I_030053 | 0.26245158 |  0.176286342 |\n",
       "| I_030327 | 0.47491841 |  0.395144409 |\n",
       "| I_030493 | 0.22015129 |  0.133750825 |\n",
       "| I_031516 | 0.32789284 |  0.246744119 |\n",
       "| I_032369 | 0.25903765 |  0.184329302 |\n",
       "| I_043182 | 0.39311107 |  0.310913252 |\n",
       "| I_047309 | 0.25123997 |  0.164000923 |\n",
       "| I_053461 | 0.24474101 |  0.162663125 |\n",
       "| I_060441 | 0.36585143 |  0.282507543 |\n",
       "| I_061248 | 0.30127510 |  0.226618220 |\n",
       "| I_063204 | 0.39926042 |  0.328543041 |\n",
       "| I_063646 | 0.30966914 |  0.227938289 |\n",
       "| I_068123 | 0.52587225 |  0.456750365 |\n",
       "| I_068369 | 0.45387356 |  0.383538630 |\n",
       "| I_075829 | 0.30061825 |  0.218672068 |\n",
       "| I_082581 | 0.27366084 |  0.201017048 |\n",
       "| I_085013 | 0.16109994 |  0.077627698 |\n",
       "| I_085228 | 0.12230008 |  0.039198225 |\n",
       "| I_085343 | 0.12553068 |  0.057440218 |\n",
       "| I_085588 | 0.39113261 |  0.307053262 |\n",
       "| I_086466 | 0.16893164 |  0.088510799 |\n",
       "| I_086499 | 0.07234030 | -0.003502737 |\n",
       "| I_086840 | 0.16730048 |  0.081291715 |\n",
       "| I_089637 | 0.05227351 | -0.001638059 |\n",
       "| I_095509 | 0.11932391 |  0.048389761 |\n",
       "| I_095676 | 0.41472717 |  0.330095537 |\n",
       "| I_096315 | 0.37471627 |  0.287613046 |\n",
       "| I_097590 | 0.21463495 |  0.146166915 |\n",
       "| I_111516 | 0.40687416 |  0.326337154 |\n",
       "| I_111738 | 0.22398679 |  0.139584966 |\n",
       "| I_117651 | 0.21875523 |  0.136548319 |\n",
       "| I_117742 | 0.28181021 |  0.193348685 |\n",
       "| I_117820 | 0.12909202 |  0.043001597 |\n",
       "| I_117877 | 0.40721770 |  0.327934591 |\n",
       "| I_117886 | 0.10147001 |  0.025914378 |\n",
       "| I_117973 | 0.14455698 |  0.064379853 |\n",
       "\n"
      ],
      "text/plain": [
       "         bisCorr    ExBisCorr   \n",
       "I_005961 0.22901812  0.142874765\n",
       "I_008364 0.27560210  0.192364243\n",
       "I_010322 0.36687923  0.278966535\n",
       "I_010409 0.31025618  0.222571736\n",
       "I_010500 0.12239033  0.050092583\n",
       "I_014797 0.20037796  0.132696509\n",
       "I_019807 0.19447276  0.140454449\n",
       "I_028683 0.20973907  0.125336875\n",
       "I_030053 0.26245158  0.176286342\n",
       "I_030327 0.47491841  0.395144409\n",
       "I_030493 0.22015129  0.133750825\n",
       "I_031516 0.32789284  0.246744119\n",
       "I_032369 0.25903765  0.184329302\n",
       "I_043182 0.39311107  0.310913252\n",
       "I_047309 0.25123997  0.164000923\n",
       "I_053461 0.24474101  0.162663125\n",
       "I_060441 0.36585143  0.282507543\n",
       "I_061248 0.30127510  0.226618220\n",
       "I_063204 0.39926042  0.328543041\n",
       "I_063646 0.30966914  0.227938289\n",
       "I_068123 0.52587225  0.456750365\n",
       "I_068369 0.45387356  0.383538630\n",
       "I_075829 0.30061825  0.218672068\n",
       "I_082581 0.27366084  0.201017048\n",
       "I_085013 0.16109994  0.077627698\n",
       "I_085228 0.12230008  0.039198225\n",
       "I_085343 0.12553068  0.057440218\n",
       "I_085588 0.39113261  0.307053262\n",
       "I_086466 0.16893164  0.088510799\n",
       "I_086499 0.07234030 -0.003502737\n",
       "I_086840 0.16730048  0.081291715\n",
       "I_089637 0.05227351 -0.001638059\n",
       "I_095509 0.11932391  0.048389761\n",
       "I_095676 0.41472717  0.330095537\n",
       "I_096315 0.37471627  0.287613046\n",
       "I_097590 0.21463495  0.146166915\n",
       "I_111516 0.40687416  0.326337154\n",
       "I_111738 0.22398679  0.139584966\n",
       "I_117651 0.21875523  0.136548319\n",
       "I_117742 0.28181021  0.193348685\n",
       "I_117820 0.12909202  0.043001597\n",
       "I_117877 0.40721770  0.327934591\n",
       "I_117886 0.10147001  0.025914378\n",
       "I_117973 0.14455698  0.064379853"
      ]
     },
     "metadata": {},
     "output_type": "display_data"
    }
   ],
   "source": [
    "data.frame(bisCorr=ltm_enem$bisCorr,ExBisCorr=ltm_enem$ExBisCorr)"
   ]
  },
  {
   "cell_type": "markdown",
   "metadata": {
    "id": "OFzSFP9NbfnA",
    "tags": []
   },
   "source": [
    "---\n",
    "\n",
    "\n",
    "### Relatório de Item"
   ]
  },
  {
   "cell_type": "code",
   "execution_count": 41,
   "metadata": {
    "tags": []
   },
   "outputs": [],
   "source": [
    "gera_grupos <- function(prop){\n",
    "  \n",
    "  point <- case_when(\n",
    "    length(prop)<=300 ~ 1/3,\n",
    "    length(prop)<=1000 ~ 1/5,\n",
    "    TRUE ~ 1/7\n",
    "  )\n",
    "  breaks <- seq(0,1,by=point)\n",
    "  factor(cut(prop, breaks, include.lowest=T, ordered_result =T),labels = as.character(1:(length(breaks)-1)))\n",
    "}\n",
    "calcula_grupo <- function(item=\"Q01\",resposta=\"A\",grupo){\n",
    "  \n",
    "  breaks <- c(0,0.27,1-0.27,1)\n",
    "  escore <- rowSums(dplyr::select(amostra_correcao_ordenada,-NU_INSCRICAO))\n",
    "  n_itens <- ncol(dplyr::select(amostra_correcao_ordenada,-NU_INSCRICAO))\n",
    "    \n",
    "  stats <- amostra_resposta_ordenada |>\n",
    "    mutate(proporcao_acerto = escore/n_itens) |> \n",
    "    mutate(disc_grupo=factor(cut(proporcao_acerto, breaks, include.lowest=T, ordered_result =T),labels = as.character(1:(length(breaks)-1)))) |> \n",
    "    dplyr::select(!!sym(item),disc_grupo) |> \n",
    "    mutate(resp_dic = (!!sym(item)==resposta)*1) |> \n",
    "    group_by(disc_grupo) |> \n",
    "    summarise(prop_resp = mean(resp_dic))\n",
    "  \n",
    "  if(grupo==\"inf\"){\n",
    "    stats$prop_resp[1]\n",
    "  }else if(grupo==\"sup\"){\n",
    "    stats$prop_resp[3] \n",
    "  }else{\n",
    "    cat(\"Selecione grupo inf ou sup\")\n",
    "  }\n",
    "  \n",
    "}\n",
    "calcula_correlacao <- function(item=\"Q01\",resposta=\"A\"){\n",
    "  escore <- rowSums(dplyr::select(amostra_correcao_ordenada,-NU_INSCRICAO))\n",
    "  amostra_resposta_ordenada |>\n",
    "    mutate(escore = escore) |> \n",
    "    dplyr::select(!!sym(item),escore) |> \n",
    "    mutate(resp_dic = (!!sym(item)==resposta)*1) |> \n",
    "    summarise(corr = cor(escore,resp_dic)) |> \n",
    "    pull(corr)\n",
    "}\n",
    "calcula_proporcao <- function(item=\"Q01\",resposta=\"A\"){\n",
    "  escore <- rowSums(dplyr::select(amostra_correcao_ordenada,-NU_INSCRICAO))\n",
    "  amostra_resposta_ordenada |>\n",
    "    mutate(escore = escore) |> \n",
    "    dplyr::select(!!sym(item),escore) |> \n",
    "    mutate(resp_dic = (!!sym(item)==resposta)*1) |> \n",
    "    summarise(prop_resp = mean(resp_dic)) |> \n",
    "    pull(prop_resp)\n",
    "}\n",
    "gera_tct_indices <- function(item){\n",
    "  ALT <- c(LETTERS[1:4],\"*\",\".\")\n",
    "  \n",
    "  PORC <- pmap_dbl(.f=calcula_proporcao, .l=list(item=list(item),resposta=ALT))\n",
    "  BIS <- pmap_dbl(.f=calcula_correlacao, .l=list(item=list(item),resposta=ALT))\n",
    "  INF <- pmap_dbl(.f=calcula_grupo, .l=list(item=list(item),resposta=ALT,grupo=list(\"inf\")))\n",
    "  SUP <- pmap_dbl(.f=calcula_grupo, .l=list(item=list(item),resposta=ALT,grupo=list(\"sup\")))\n",
    "\n",
    "  gab <- itens |> \n",
    "    filter(CO_ITEM==item) |> \n",
    "    slice(1) |> \n",
    "    pull(TX_GABARITO)\n",
    "  \n",
    "  Gab <- ifelse(ALT == gab,\"<=\",\".\")\n",
    "  \n",
    "  tibble(ALT,) |> \n",
    "    mutate(PORC = round(PORC*100,1)) |> \n",
    "    mutate(BIS=round(BIS,3)) |> \n",
    "    mutate(DISC = round(SUP-INF,3)) |> \n",
    "    mutate(INF = round(INF*100,1)) |> \n",
    "    mutate(SUP = round(SUP*100,1)) |> \n",
    "    mutate(Gab)\n",
    "}\n",
    "gera_tct_item_plot <- function(item=\"Q01\"){\n",
    "  \n",
    "  escore <- rowSums(dplyr::select(amostra_correcao_ordenada,-NU_INSCRICAO))\n",
    "  n_itens <- ncol(dplyr::select(amostra_correcao_ordenada,-NU_INSCRICAO))\n",
    "  proporcao_acerto = escore/n_itens\n",
    "    \n",
    "  grupo <- gera_grupos(proporcao_acerto)\n",
    "    \n",
    "  stats_all <- expand_grid(!!sym(item):=c(\"*\",\".\",LETTERS[1:4]), grupo = sort(unique(grupo)))\n",
    "  \n",
    "  stats_item <- amostra_resposta_ordenada |>\n",
    "    mutate(grupo = grupo) |>\n",
    "    dplyr::select(!!sym(item),grupo) |>\n",
    "    mutate(!!sym(item):=ifelse(!!sym(item)==\"\",\"*\",!!sym(item))) |>\n",
    "    group_by(grupo,!!sym(item)) |>\n",
    "    summarise(resp_alt = n()) |>\n",
    "    group_by(grupo) |>\n",
    "    mutate(resp_grupo = sum(resp_alt)) |>\n",
    "    mutate(prop_resp_grupo = resp_alt/resp_grupo)\n",
    "  \n",
    "  stats <- stats_all |> \n",
    "    left_join(stats_item, by = c(item,\"grupo\")) |> \n",
    "    mutate(prop_resp_grupo = ifelse(is.na(prop_resp_grupo),0,prop_resp_grupo))\n",
    "  \n",
    "  colors <- c(\"blue\",\"red\",\"green\",\"black\",\"orange\",\"pink\")\n",
    "  \n",
    "  gab <- itens |> \n",
    "    filter(CO_ITEM==item) |> \n",
    "    slice(1) |> \n",
    "    pull(TX_GABARITO)\n",
    "  \n",
    "  opcoes <- LETTERS[1:4]\n",
    "  names(colors) <- c(gab,\"*\",\".\",opcoes[opcoes!=gab])\n",
    "  \n",
    "  stats|>\n",
    "    ggplot(aes(x=grupo,y=prop_resp_grupo,color=!!sym(item),group=!!sym(item))) +\n",
    "    geom_point()+\n",
    "    geom_line(linewidth=0.60)+\n",
    "    xlab(\"Grupos\")+\n",
    "    ylab(\"% de Acertos\")+\n",
    "    ggtitle(paste0(\"Análise Gráfica do Item \",item,\" em função dos Grupos\"))+\n",
    "    scale_color_manual(values = colors)+\n",
    "    scale_y_continuous(labels = scales::percent)+\n",
    "    theme_bw()+\n",
    "    theme(\n",
    "      legend.position=\"bottom\",\n",
    "      plot.title = element_text(hjust = 0.5)\n",
    "      )\n",
    "}\n",
    "gera_tct <- function(item,save=F,path){\n",
    "  \n",
    "  item_plot <- gera_tct_item_plot(item)\n",
    "  \n",
    "  indices <- gera_tct_indices(item)\n",
    "  \n",
    "  item_plot <- ggarrange(item_plot, ggtexttable(indices, rows = NULL,theme = ttheme(\"lBlack\")), \n",
    "                         ncol = 1, nrow = 2,\n",
    "                         heights = c(1, 0.4))\n",
    "  if(save){\n",
    "    ggsave(filename = paste0(path,\"TCT - item \",item,\".png\"),plot = item_plot,device = \"png\",width = 7,height = 9)  \n",
    "  }else{\n",
    "    return(item_plot)\n",
    "  }\n",
    "  \n",
    "}"
   ]
  },
  {
   "cell_type": "code",
   "execution_count": 42,
   "metadata": {
    "tags": []
   },
   "outputs": [
    {
     "data": {
      "text/html": [
       "<table class=\"dataframe\">\n",
       "<caption>A tibble: 6 × 7</caption>\n",
       "<thead>\n",
       "\t<tr><th scope=col>ALT</th><th scope=col>PORC</th><th scope=col>BIS</th><th scope=col>DISC</th><th scope=col>INF</th><th scope=col>SUP</th><th scope=col>Gab</th></tr>\n",
       "\t<tr><th scope=col>&lt;chr&gt;</th><th scope=col>&lt;dbl&gt;</th><th scope=col>&lt;dbl&gt;</th><th scope=col>&lt;dbl&gt;</th><th scope=col>&lt;dbl&gt;</th><th scope=col>&lt;dbl&gt;</th><th scope=col>&lt;chr&gt;</th></tr>\n",
       "</thead>\n",
       "<tbody>\n",
       "\t<tr><td>A</td><td>18.8</td><td> 0.032</td><td>-0.003</td><td>17.0</td><td>16.7</td><td>. </td></tr>\n",
       "\t<tr><td>B</td><td>21.0</td><td>-0.121</td><td>-0.244</td><td>24.4</td><td> 0.0</td><td>. </td></tr>\n",
       "\t<tr><td>C</td><td>16.4</td><td>-0.117</td><td>-0.188</td><td>18.8</td><td> 0.0</td><td>. </td></tr>\n",
       "\t<tr><td>D</td><td>29.9</td><td> 0.229</td><td> 0.599</td><td>23.4</td><td>83.3</td><td>&lt;=</td></tr>\n",
       "\t<tr><td>*</td><td> 0.1</td><td>-0.004</td><td> 0.000</td><td> 0.0</td><td> 0.0</td><td>. </td></tr>\n",
       "\t<tr><td>.</td><td> 0.2</td><td> 0.011</td><td>-0.002</td><td> 0.2</td><td> 0.0</td><td>. </td></tr>\n",
       "</tbody>\n",
       "</table>\n"
      ],
      "text/latex": [
       "A tibble: 6 × 7\n",
       "\\begin{tabular}{lllllll}\n",
       " ALT & PORC & BIS & DISC & INF & SUP & Gab\\\\\n",
       " <chr> & <dbl> & <dbl> & <dbl> & <dbl> & <dbl> & <chr>\\\\\n",
       "\\hline\n",
       "\t A & 18.8 &  0.032 & -0.003 & 17.0 & 16.7 & . \\\\\n",
       "\t B & 21.0 & -0.121 & -0.244 & 24.4 &  0.0 & . \\\\\n",
       "\t C & 16.4 & -0.117 & -0.188 & 18.8 &  0.0 & . \\\\\n",
       "\t D & 29.9 &  0.229 &  0.599 & 23.4 & 83.3 & <=\\\\\n",
       "\t * &  0.1 & -0.004 &  0.000 &  0.0 &  0.0 & . \\\\\n",
       "\t . &  0.2 &  0.011 & -0.002 &  0.2 &  0.0 & . \\\\\n",
       "\\end{tabular}\n"
      ],
      "text/markdown": [
       "\n",
       "A tibble: 6 × 7\n",
       "\n",
       "| ALT &lt;chr&gt; | PORC &lt;dbl&gt; | BIS &lt;dbl&gt; | DISC &lt;dbl&gt; | INF &lt;dbl&gt; | SUP &lt;dbl&gt; | Gab &lt;chr&gt; |\n",
       "|---|---|---|---|---|---|---|\n",
       "| A | 18.8 |  0.032 | -0.003 | 17.0 | 16.7 | .  |\n",
       "| B | 21.0 | -0.121 | -0.244 | 24.4 |  0.0 | .  |\n",
       "| C | 16.4 | -0.117 | -0.188 | 18.8 |  0.0 | .  |\n",
       "| D | 29.9 |  0.229 |  0.599 | 23.4 | 83.3 | &lt;= |\n",
       "| * |  0.1 | -0.004 |  0.000 |  0.0 |  0.0 | .  |\n",
       "| . |  0.2 |  0.011 | -0.002 |  0.2 |  0.0 | .  |\n",
       "\n"
      ],
      "text/plain": [
       "  ALT PORC BIS    DISC   INF  SUP  Gab\n",
       "1 A   18.8  0.032 -0.003 17.0 16.7 .  \n",
       "2 B   21.0 -0.121 -0.244 24.4  0.0 .  \n",
       "3 C   16.4 -0.117 -0.188 18.8  0.0 .  \n",
       "4 D   29.9  0.229  0.599 23.4 83.3 <= \n",
       "5 *    0.1 -0.004  0.000  0.0  0.0 .  \n",
       "6 .    0.2  0.011 -0.002  0.2  0.0 .  "
      ]
     },
     "metadata": {},
     "output_type": "display_data"
    }
   ],
   "source": [
    "gera_tct_indices(\"I_005961\")"
   ]
  },
  {
   "cell_type": "code",
   "execution_count": 43,
   "metadata": {
    "tags": []
   },
   "outputs": [
    {
     "name": "stderr",
     "output_type": "stream",
     "text": [
      "\u001b[1m\u001b[22m`summarise()` has grouped output by 'grupo'. You can override using the `.groups` argument.\n"
     ]
    },
    {
     "data": {
      "image/png": "[encoded data removed]",
      "text/plain": [
       "plot without title"
      ]
     },
     "metadata": {
      "image/png": {
       "height": 1000,
       "width": 1200
      }
     },
     "output_type": "display_data"
    }
   ],
   "source": [
    "options(repr.plot.width = 6, repr.plot.height = 5, repr.plot.res = 400)\n",
    "gera_tct_item_plot(\"I_005961\")"
   ]
  },
  {
   "cell_type": "code",
   "execution_count": 44,
   "metadata": {
    "tags": []
   },
   "outputs": [
    {
     "name": "stderr",
     "output_type": "stream",
     "text": [
      "\u001b[1m\u001b[22m`summarise()` has grouped output by 'grupo'. You can override using the `.groups` argument.\n"
     ]
    },
    {
     "data": {
      "image/png": "[encoded data removed]",
      "text/plain": [
       "plot without title"
      ]
     },
     "metadata": {
      "image/png": {
       "height": 1400,
       "width": 1200
      }
     },
     "output_type": "display_data"
    }
   ],
   "source": [
    "options(repr.plot.width = 6, repr.plot.height = 7, repr.plot.res = 400)\n",
    "gera_tct(\"I_005961\")"
   ]
  },
  {
   "cell_type": "code",
   "execution_count": 45,
   "metadata": {
    "tags": []
   },
   "outputs": [
    {
     "name": "stderr",
     "output_type": "stream",
     "text": [
      "\u001b[1m\u001b[22m`summarise()` has grouped output by 'grupo'. You can override using the `.groups` argument.\n"
     ]
    },
    {
     "data": {
      "image/png": "[encoded data removed]",
      "text/plain": [
       "plot without title"
      ]
     },
     "metadata": {
      "image/png": {
       "height": 1400,
       "width": 1000
      }
     },
     "output_type": "display_data"
    }
   ],
   "source": [
    "options(repr.plot.width = 5, repr.plot.height = 7, repr.plot.res = 400)\n",
    "gera_tct(\"I_085228\")"
   ]
  },
  {
   "cell_type": "markdown",
   "metadata": {
    "id": "LqCPmMryT-kv"
   },
   "source": [
    "\n",
    "\n",
    "---\n",
    "## Análise TRI\n"
   ]
  },
  {
   "cell_type": "markdown",
   "metadata": {
    "id": "LqCPmMryT-kv",
    "tags": []
   },
   "source": [
    "\n",
    "### Calibração de parâmetros de Itens\n"
   ]
  },
  {
   "cell_type": "code",
   "execution_count": 83,
   "metadata": {
    "tags": []
   },
   "outputs": [],
   "source": [
    "check_par_a <- function(a){\n",
    "  a <- format(round(a,4), nsmall = 4)\n",
    "  cell_spec(a,\n",
    "            bold=ifelse(as.numeric(a) < 0.2 | as.numeric(a) > 6, T,F),\n",
    "            color=ifelse(as.numeric(a) < 0.2 | as.numeric(a) > 6, \"red\",\"black\"))\n",
    "  \n",
    "}\n",
    "check_par_b <- function(b){\n",
    "  b <- format(round(b,4), nsmall = 4)\n",
    "  cell_spec(b,\n",
    "            bold=ifelse(as.numeric(b) < -7 | as.numeric(b) > 7, T,F),\n",
    "            color=ifelse(as.numeric(b) < -7 | as.numeric(b) > 7, \"red\",\"black\"))\n",
    "}\n",
    "check_par_c <- function(c){\n",
    "  c <- format(round(c,4), nsmall = 4)\n",
    "  cell_spec(c,\n",
    "            bold=ifelse(as.numeric(c) > 0.45, T,F),\n",
    "            color=ifelse(as.numeric(c) > 0.45, \"red\",\"black\"))\n",
    "}"
   ]
  },
  {
   "cell_type": "markdown",
   "metadata": {
    "tags": []
   },
   "source": [
    " #### Rodada 1"
   ]
  },
  {
   "cell_type": "code",
   "execution_count": 47,
   "metadata": {
    "tags": []
   },
   "outputs": [],
   "source": [
    "itens_rodada_1 <- colnames(dplyr::select(amostra_correcao_ordenada,-NU_INSCRICAO))"
   ]
  },
  {
   "cell_type": "code",
   "execution_count": 50,
   "metadata": {
    "tags": []
   },
   "outputs": [
    {
     "name": "stdout",
     "output_type": "stream",
     "text": [
      "Iteration: 10000, Log-Lik: -23748.702, Max-Change: 0.00017"
     ]
    },
    {
     "name": "stderr",
     "output_type": "stream",
     "text": [
      "EM cycles terminated after 10000 iterations.\n",
      "\n"
     ]
    },
    {
     "name": "stdout",
     "output_type": "stream",
     "text": [
      "\n",
      "\n",
      "Calculating information matrix...\n"
     ]
    }
   ],
   "source": [
    "mod_rodada_1 <- mirt(dplyr::select(amostra_correcao_ordenada,all_of(itens_rodada_1)), 1, itemtype= '3PL', SE=T, technical = list(NCYCLES = 10000))"
   ]
  },
  {
   "cell_type": "code",
   "execution_count": 85,
   "metadata": {
    "tags": []
   },
   "outputs": [
    {
     "data": {
      "text/html": [
       "<table>\n",
       "<caption>Tabela 1 -  Itens de Matemática do ENEM 2022.</caption>\n",
       " <thead>\n",
       "  <tr>\n",
       "   <th style=\"text-align:center;\"> Item </th>\n",
       "   <th style=\"text-align:center;\"> Discriminacao </th>\n",
       "   <th style=\"text-align:center;\"> Dificuldade </th>\n",
       "   <th style=\"text-align:center;\"> Chute </th>\n",
       "  </tr>\n",
       " </thead>\n",
       "<tbody>\n",
       "  <tr>\n",
       "   <td style=\"text-align:center;\"> I_005961 </td>\n",
       "   <td style=\"text-align:center;\"> <span style=\"     color: black !important;\" > 1.6012</span> </td>\n",
       "   <td style=\"text-align:center;\"> <span style=\"     color: black !important;\" >  2.1539</span> </td>\n",
       "   <td style=\"text-align:center;\"> <span style=\"     color: black !important;\" >0.2427</span> </td>\n",
       "  </tr>\n",
       "  <tr>\n",
       "   <td style=\"text-align:center;\"> I_008364 </td>\n",
       "   <td style=\"text-align:center;\"> <span style=\"     color: black !important;\" > 1.4889</span> </td>\n",
       "   <td style=\"text-align:center;\"> <span style=\"     color: black !important;\" >  1.9363</span> </td>\n",
       "   <td style=\"text-align:center;\"> <span style=\"     color: black !important;\" >0.2000</span> </td>\n",
       "  </tr>\n",
       "  <tr>\n",
       "   <td style=\"text-align:center;\"> I_010322 </td>\n",
       "   <td style=\"text-align:center;\"> <span style=\"     color: black !important;\" > 1.7202</span> </td>\n",
       "   <td style=\"text-align:center;\"> <span style=\"     color: black !important;\" >  0.8676</span> </td>\n",
       "   <td style=\"text-align:center;\"> <span style=\"     color: black !important;\" >0.3019</span> </td>\n",
       "  </tr>\n",
       "  <tr>\n",
       "   <td style=\"text-align:center;\"> I_010409 </td>\n",
       "   <td style=\"text-align:center;\"> <span style=\"     color: black !important;\" > 0.7047</span> </td>\n",
       "   <td style=\"text-align:center;\"> <span style=\"     color: black !important;\" >  1.1496</span> </td>\n",
       "   <td style=\"text-align:center;\"> <span style=\"     color: black !important;\" >0.0632</span> </td>\n",
       "  </tr>\n",
       "  <tr>\n",
       "   <td style=\"text-align:center;\"> I_010500 </td>\n",
       "   <td style=\"text-align:center;\"> <span style=\"     color: black !important;\" > 1.7414</span> </td>\n",
       "   <td style=\"text-align:center;\"> <span style=\"     color: black !important;\" >  3.1875</span> </td>\n",
       "   <td style=\"text-align:center;\"> <span style=\"     color: black !important;\" >0.1578</span> </td>\n",
       "  </tr>\n",
       "  <tr>\n",
       "   <td style=\"text-align:center;\"> I_014797 </td>\n",
       "   <td style=\"text-align:center;\"> <span style=\" font-weight: bold;    color: red !important;\" > 6.7573</span> </td>\n",
       "   <td style=\"text-align:center;\"> <span style=\"     color: black !important;\" >  2.0230</span> </td>\n",
       "   <td style=\"text-align:center;\"> <span style=\"     color: black !important;\" >0.1305</span> </td>\n",
       "  </tr>\n",
       "  <tr>\n",
       "   <td style=\"text-align:center;\"> I_019807 </td>\n",
       "   <td style=\"text-align:center;\"> <span style=\" font-weight: bold;    color: red !important;\" > 7.7441</span> </td>\n",
       "   <td style=\"text-align:center;\"> <span style=\"     color: black !important;\" >  2.1146</span> </td>\n",
       "   <td style=\"text-align:center;\"> <span style=\"     color: black !important;\" >0.0738</span> </td>\n",
       "  </tr>\n",
       "  <tr>\n",
       "   <td style=\"text-align:center;\"> I_028683 </td>\n",
       "   <td style=\"text-align:center;\"> <span style=\"     color: black !important;\" > 4.2121</span> </td>\n",
       "   <td style=\"text-align:center;\"> <span style=\"     color: black !important;\" >  1.9634</span> </td>\n",
       "   <td style=\"text-align:center;\"> <span style=\"     color: black !important;\" >0.2476</span> </td>\n",
       "  </tr>\n",
       "  <tr>\n",
       "   <td style=\"text-align:center;\"> I_030053 </td>\n",
       "   <td style=\"text-align:center;\"> <span style=\"     color: black !important;\" > 2.9979</span> </td>\n",
       "   <td style=\"text-align:center;\"> <span style=\"     color: black !important;\" >  1.7429</span> </td>\n",
       "   <td style=\"text-align:center;\"> <span style=\"     color: black !important;\" >0.2626</span> </td>\n",
       "  </tr>\n",
       "  <tr>\n",
       "   <td style=\"text-align:center;\"> I_030327 </td>\n",
       "   <td style=\"text-align:center;\"> <span style=\"     color: black !important;\" > 1.8442</span> </td>\n",
       "   <td style=\"text-align:center;\"> <span style=\"     color: black !important;\" > -0.1170</span> </td>\n",
       "   <td style=\"text-align:center;\"> <span style=\"     color: black !important;\" >0.0077</span> </td>\n",
       "  </tr>\n",
       "  <tr>\n",
       "   <td style=\"text-align:center;\"> I_030493 </td>\n",
       "   <td style=\"text-align:center;\"> <span style=\"     color: black !important;\" > 0.5335</span> </td>\n",
       "   <td style=\"text-align:center;\"> <span style=\"     color: black !important;\" >  2.4699</span> </td>\n",
       "   <td style=\"text-align:center;\"> <span style=\"     color: black !important;\" >0.0965</span> </td>\n",
       "  </tr>\n",
       "  <tr>\n",
       "   <td style=\"text-align:center;\"> I_031516 </td>\n",
       "   <td style=\"text-align:center;\"> <span style=\"     color: black !important;\" > 1.5436</span> </td>\n",
       "   <td style=\"text-align:center;\"> <span style=\"     color: black !important;\" >  1.6422</span> </td>\n",
       "   <td style=\"text-align:center;\"> <span style=\"     color: black !important;\" >0.1714</span> </td>\n",
       "  </tr>\n",
       "  <tr>\n",
       "   <td style=\"text-align:center;\"> I_032369 </td>\n",
       "   <td style=\"text-align:center;\"> <span style=\"     color: black !important;\" > 4.8063</span> </td>\n",
       "   <td style=\"text-align:center;\"> <span style=\"     color: black !important;\" >  1.8618</span> </td>\n",
       "   <td style=\"text-align:center;\"> <span style=\"     color: black !important;\" >0.1703</span> </td>\n",
       "  </tr>\n",
       "  <tr>\n",
       "   <td style=\"text-align:center;\"> I_043182 </td>\n",
       "   <td style=\"text-align:center;\"> <span style=\"     color: black !important;\" > 3.8571</span> </td>\n",
       "   <td style=\"text-align:center;\"> <span style=\"     color: black !important;\" >  1.3093</span> </td>\n",
       "   <td style=\"text-align:center;\"> <span style=\"     color: black !important;\" >0.2628</span> </td>\n",
       "  </tr>\n",
       "  <tr>\n",
       "   <td style=\"text-align:center;\"> I_047309 </td>\n",
       "   <td style=\"text-align:center;\"> <span style=\"     color: black !important;\" > 0.4405</span> </td>\n",
       "   <td style=\"text-align:center;\"> <span style=\"     color: black !important;\" >  1.7909</span> </td>\n",
       "   <td style=\"text-align:center;\"> <span style=\"     color: black !important;\" >0.0033</span> </td>\n",
       "  </tr>\n",
       "  <tr>\n",
       "   <td style=\"text-align:center;\"> I_053461 </td>\n",
       "   <td style=\"text-align:center;\"> <span style=\"     color: black !important;\" > 5.8882</span> </td>\n",
       "   <td style=\"text-align:center;\"> <span style=\"     color: black !important;\" >  1.9199</span> </td>\n",
       "   <td style=\"text-align:center;\"> <span style=\"     color: black !important;\" >0.2363</span> </td>\n",
       "  </tr>\n",
       "  <tr>\n",
       "   <td style=\"text-align:center;\"> I_060441 </td>\n",
       "   <td style=\"text-align:center;\"> <span style=\"     color: black !important;\" > 1.5752</span> </td>\n",
       "   <td style=\"text-align:center;\"> <span style=\"     color: black !important;\" > -0.1871</span> </td>\n",
       "   <td style=\"text-align:center;\"> <span style=\"     color: black !important;\" >0.2363</span> </td>\n",
       "  </tr>\n",
       "  <tr>\n",
       "   <td style=\"text-align:center;\"> I_061248 </td>\n",
       "   <td style=\"text-align:center;\"> <span style=\"     color: black !important;\" > 5.9100</span> </td>\n",
       "   <td style=\"text-align:center;\"> <span style=\"     color: black !important;\" >  1.8146</span> </td>\n",
       "   <td style=\"text-align:center;\"> <span style=\"     color: black !important;\" >0.1811</span> </td>\n",
       "  </tr>\n",
       "  <tr>\n",
       "   <td style=\"text-align:center;\"> I_063204 </td>\n",
       "   <td style=\"text-align:center;\"> <span style=\"     color: black !important;\" > 2.0899</span> </td>\n",
       "   <td style=\"text-align:center;\"> <span style=\"     color: black !important;\" >  1.5462</span> </td>\n",
       "   <td style=\"text-align:center;\"> <span style=\"     color: black !important;\" >0.1161</span> </td>\n",
       "  </tr>\n",
       "  <tr>\n",
       "   <td style=\"text-align:center;\"> I_063646 </td>\n",
       "   <td style=\"text-align:center;\"> <span style=\"     color: black !important;\" > 0.9777</span> </td>\n",
       "   <td style=\"text-align:center;\"> <span style=\"     color: black !important;\" >  1.7397</span> </td>\n",
       "   <td style=\"text-align:center;\"> <span style=\"     color: black !important;\" >0.1127</span> </td>\n",
       "  </tr>\n",
       "  <tr>\n",
       "   <td style=\"text-align:center;\"> I_068123 </td>\n",
       "   <td style=\"text-align:center;\"> <span style=\"     color: black !important;\" > 3.1041</span> </td>\n",
       "   <td style=\"text-align:center;\"> <span style=\"     color: black !important;\" >  0.9386</span> </td>\n",
       "   <td style=\"text-align:center;\"> <span style=\"     color: black !important;\" >0.1221</span> </td>\n",
       "  </tr>\n",
       "  <tr>\n",
       "   <td style=\"text-align:center;\"> I_068369 </td>\n",
       "   <td style=\"text-align:center;\"> <span style=\"     color: black !important;\" > 3.8414</span> </td>\n",
       "   <td style=\"text-align:center;\"> <span style=\"     color: black !important;\" >  1.2101</span> </td>\n",
       "   <td style=\"text-align:center;\"> <span style=\"     color: black !important;\" >0.1289</span> </td>\n",
       "  </tr>\n",
       "  <tr>\n",
       "   <td style=\"text-align:center;\"> I_075829 </td>\n",
       "   <td style=\"text-align:center;\"> <span style=\"     color: black !important;\" > 0.5856</span> </td>\n",
       "   <td style=\"text-align:center;\"> <span style=\"     color: black !important;\" >  1.7688</span> </td>\n",
       "   <td style=\"text-align:center;\"> <span style=\"     color: black !important;\" >0.0064</span> </td>\n",
       "  </tr>\n",
       "  <tr>\n",
       "   <td style=\"text-align:center;\"> I_082581 </td>\n",
       "   <td style=\"text-align:center;\"> <span style=\"     color: black !important;\" > 2.9672</span> </td>\n",
       "   <td style=\"text-align:center;\"> <span style=\"     color: black !important;\" >  1.8605</span> </td>\n",
       "   <td style=\"text-align:center;\"> <span style=\"     color: black !important;\" >0.1449</span> </td>\n",
       "  </tr>\n",
       "  <tr>\n",
       "   <td style=\"text-align:center;\"> I_085013 </td>\n",
       "   <td style=\"text-align:center;\"> <span style=\" font-weight: bold;    color: red !important;\" >11.7851</span> </td>\n",
       "   <td style=\"text-align:center;\"> <span style=\"     color: black !important;\" >  2.2618</span> </td>\n",
       "   <td style=\"text-align:center;\"> <span style=\"     color: black !important;\" >0.2477</span> </td>\n",
       "  </tr>\n",
       "  <tr>\n",
       "   <td style=\"text-align:center;\"> I_085228 </td>\n",
       "   <td style=\"text-align:center;\"> <span style=\"     color: black !important;\" > 3.6776</span> </td>\n",
       "   <td style=\"text-align:center;\"> <span style=\"     color: black !important;\" >  2.7625</span> </td>\n",
       "   <td style=\"text-align:center;\"> <span style=\"     color: black !important;\" >0.2429</span> </td>\n",
       "  </tr>\n",
       "  <tr>\n",
       "   <td style=\"text-align:center;\"> I_085343 </td>\n",
       "   <td style=\"text-align:center;\"> <span style=\" font-weight: bold;    color: red !important;\" > 7.2398</span> </td>\n",
       "   <td style=\"text-align:center;\"> <span style=\"     color: black !important;\" >  2.2848</span> </td>\n",
       "   <td style=\"text-align:center;\"> <span style=\"     color: black !important;\" >0.1377</span> </td>\n",
       "  </tr>\n",
       "  <tr>\n",
       "   <td style=\"text-align:center;\"> I_085588 </td>\n",
       "   <td style=\"text-align:center;\"> <span style=\"     color: black !important;\" > 1.6492</span> </td>\n",
       "   <td style=\"text-align:center;\"> <span style=\"     color: black !important;\" >  0.0857</span> </td>\n",
       "   <td style=\"text-align:center;\"> <span style=\"     color: black !important;\" >0.2585</span> </td>\n",
       "  </tr>\n",
       "  <tr>\n",
       "   <td style=\"text-align:center;\"> I_086466 </td>\n",
       "   <td style=\"text-align:center;\"> <span style=\" font-weight: bold;    color: red !important;\" > 9.8306</span> </td>\n",
       "   <td style=\"text-align:center;\"> <span style=\"     color: black !important;\" >  2.0779</span> </td>\n",
       "   <td style=\"text-align:center;\"> <span style=\"     color: black !important;\" >0.2158</span> </td>\n",
       "  </tr>\n",
       "  <tr>\n",
       "   <td style=\"text-align:center;\"> I_086499 </td>\n",
       "   <td style=\"text-align:center;\"> <span style=\" font-weight: bold;    color: red !important;\" > 0.0433</span> </td>\n",
       "   <td style=\"text-align:center;\"> <span style=\" font-weight: bold;    color: red !important;\" > 40.1910</span> </td>\n",
       "   <td style=\"text-align:center;\"> <span style=\"     color: black !important;\" >0.0480</span> </td>\n",
       "  </tr>\n",
       "  <tr>\n",
       "   <td style=\"text-align:center;\"> I_086840 </td>\n",
       "   <td style=\"text-align:center;\"> <span style=\" font-weight: bold;    color: red !important;\" > 0.1478</span> </td>\n",
       "   <td style=\"text-align:center;\"> <span style=\"     color: black !important;\" >  6.7227</span> </td>\n",
       "   <td style=\"text-align:center;\"> <span style=\"     color: black !important;\" >0.0135</span> </td>\n",
       "  </tr>\n",
       "  <tr>\n",
       "   <td style=\"text-align:center;\"> I_089637 </td>\n",
       "   <td style=\"text-align:center;\"> <span style=\" font-weight: bold;    color: red !important;\" >-0.0408</span> </td>\n",
       "   <td style=\"text-align:center;\"> <span style=\" font-weight: bold;    color: red !important;\" >-62.6208</span> </td>\n",
       "   <td style=\"text-align:center;\"> <span style=\"     color: black !important;\" >0.0140</span> </td>\n",
       "  </tr>\n",
       "  <tr>\n",
       "   <td style=\"text-align:center;\"> I_095509 </td>\n",
       "   <td style=\"text-align:center;\"> <span style=\"     color: black !important;\" > 3.2792</span> </td>\n",
       "   <td style=\"text-align:center;\"> <span style=\"     color: black !important;\" >  2.5335</span> </td>\n",
       "   <td style=\"text-align:center;\"> <span style=\"     color: black !important;\" >0.1517</span> </td>\n",
       "  </tr>\n",
       "  <tr>\n",
       "   <td style=\"text-align:center;\"> I_095676 </td>\n",
       "   <td style=\"text-align:center;\"> <span style=\"     color: black !important;\" > 1.3953</span> </td>\n",
       "   <td style=\"text-align:center;\"> <span style=\"     color: black !important;\" > -0.0892</span> </td>\n",
       "   <td style=\"text-align:center;\"> <span style=\"     color: black !important;\" >0.0062</span> </td>\n",
       "  </tr>\n",
       "  <tr>\n",
       "   <td style=\"text-align:center;\"> I_096315 </td>\n",
       "   <td style=\"text-align:center;\"> <span style=\"     color: black !important;\" > 1.4221</span> </td>\n",
       "   <td style=\"text-align:center;\"> <span style=\"     color: black !important;\" >  0.6643</span> </td>\n",
       "   <td style=\"text-align:center;\"> <span style=\"     color: black !important;\" >0.1829</span> </td>\n",
       "  </tr>\n",
       "  <tr>\n",
       "   <td style=\"text-align:center;\"> I_097590 </td>\n",
       "   <td style=\"text-align:center;\"> <span style=\"     color: black !important;\" > 2.1413</span> </td>\n",
       "   <td style=\"text-align:center;\"> <span style=\"     color: black !important;\" >  2.4021</span> </td>\n",
       "   <td style=\"text-align:center;\"> <span style=\"     color: black !important;\" >0.1283</span> </td>\n",
       "  </tr>\n",
       "  <tr>\n",
       "   <td style=\"text-align:center;\"> I_111516 </td>\n",
       "   <td style=\"text-align:center;\"> <span style=\"     color: black !important;\" > 2.6637</span> </td>\n",
       "   <td style=\"text-align:center;\"> <span style=\"     color: black !important;\" >  1.2177</span> </td>\n",
       "   <td style=\"text-align:center;\"> <span style=\"     color: black !important;\" >0.2152</span> </td>\n",
       "  </tr>\n",
       "  <tr>\n",
       "   <td style=\"text-align:center;\"> I_111738 </td>\n",
       "   <td style=\"text-align:center;\"> <span style=\"     color: black !important;\" > 2.6329</span> </td>\n",
       "   <td style=\"text-align:center;\"> <span style=\"     color: black !important;\" >  2.0819</span> </td>\n",
       "   <td style=\"text-align:center;\"> <span style=\"     color: black !important;\" >0.2458</span> </td>\n",
       "  </tr>\n",
       "  <tr>\n",
       "   <td style=\"text-align:center;\"> I_117651 </td>\n",
       "   <td style=\"text-align:center;\"> <span style=\"     color: black !important;\" > 0.5164</span> </td>\n",
       "   <td style=\"text-align:center;\"> <span style=\"     color: black !important;\" >  2.6595</span> </td>\n",
       "   <td style=\"text-align:center;\"> <span style=\"     color: black !important;\" >0.0519</span> </td>\n",
       "  </tr>\n",
       "  <tr>\n",
       "   <td style=\"text-align:center;\"> I_117742 </td>\n",
       "   <td style=\"text-align:center;\"> <span style=\"     color: black !important;\" > 0.5165</span> </td>\n",
       "   <td style=\"text-align:center;\"> <span style=\"     color: black !important;\" >  1.2349</span> </td>\n",
       "   <td style=\"text-align:center;\"> <span style=\"     color: black !important;\" >0.0073</span> </td>\n",
       "  </tr>\n",
       "  <tr>\n",
       "   <td style=\"text-align:center;\"> I_117820 </td>\n",
       "   <td style=\"text-align:center;\"> <span style=\" font-weight: bold;    color: red !important;\" > 0.1623</span> </td>\n",
       "   <td style=\"text-align:center;\"> <span style=\"     color: black !important;\" >  6.1312</span> </td>\n",
       "   <td style=\"text-align:center;\"> <span style=\"     color: black !important;\" >0.0067</span> </td>\n",
       "  </tr>\n",
       "  <tr>\n",
       "   <td style=\"text-align:center;\"> I_117877 </td>\n",
       "   <td style=\"text-align:center;\"> <span style=\"     color: black !important;\" > 2.6406</span> </td>\n",
       "   <td style=\"text-align:center;\"> <span style=\"     color: black !important;\" >  1.3076</span> </td>\n",
       "   <td style=\"text-align:center;\"> <span style=\"     color: black !important;\" >0.2083</span> </td>\n",
       "  </tr>\n",
       "  <tr>\n",
       "   <td style=\"text-align:center;\"> I_117886 </td>\n",
       "   <td style=\"text-align:center;\"> <span style=\" font-weight: bold;    color: red !important;\" > 0.0910</span> </td>\n",
       "   <td style=\"text-align:center;\"> <span style=\" font-weight: bold;    color: red !important;\" > 19.5688</span> </td>\n",
       "   <td style=\"text-align:center;\"> <span style=\"     color: black !important;\" >0.0519</span> </td>\n",
       "  </tr>\n",
       "  <tr>\n",
       "   <td style=\"text-align:center;\"> I_117973 </td>\n",
       "   <td style=\"text-align:center;\"> <span style=\"     color: black !important;\" > 4.7247</span> </td>\n",
       "   <td style=\"text-align:center;\"> <span style=\"     color: black !important;\" >  2.3502</span> </td>\n",
       "   <td style=\"text-align:center;\"> <span style=\"     color: black !important;\" >0.2155</span> </td>\n",
       "  </tr>\n",
       "</tbody>\n",
       "</table>"
      ]
     },
     "metadata": {},
     "output_type": "display_data"
    }
   ],
   "source": [
    "pars_mod_rodada_1 = coef(mod_rodada_1, IRTpars=TRUE, simplify=TRUE)$items[,1:3]\n",
    "\n",
    "pars_mod_rodada_1 |> \n",
    "  data.frame() |> \n",
    "  rownames_to_column(\"Item\") |>\n",
    "  rename(Dificuldade = b,Discriminacao = a, Chute = g) |> \n",
    "  mutate(Dificuldade    = check_par_b(Dificuldade)) |> \n",
    "  mutate(Discriminacao  = check_par_a(Discriminacao)) |> \n",
    "  mutate(Chute          = check_par_c(Chute)) |> \n",
    "  kbl(linesep=\"\", escape = F,row.names=F,align=\"c\",digits = 4,longtable = T) |> \n",
    "  as.character() |>\n",
    "  display_html()"
   ]
  },
  {
   "cell_type": "markdown",
   "metadata": {},
   "source": [
    " #### Rodada 2"
   ]
  },
  {
   "cell_type": "code",
   "execution_count": 69,
   "metadata": {
    "tags": []
   },
   "outputs": [],
   "source": [
    "itens_rodada_2 <- amostra_correcao_ordenada |> \n",
    "  dplyr::select(-NU_INSCRICAO, -I_086499, -I_089637, -I_117886) |> \n",
    "  colnames()"
   ]
  },
  {
   "cell_type": "code",
   "execution_count": 70,
   "metadata": {
    "tags": []
   },
   "outputs": [
    {
     "name": "stdout",
     "output_type": "stream",
     "text": [
      "Iteration: 10000, Log-Lik: -22487.267, Max-Change: 0.00016"
     ]
    },
    {
     "name": "stderr",
     "output_type": "stream",
     "text": [
      "EM cycles terminated after 10000 iterations.\n",
      "\n"
     ]
    },
    {
     "name": "stdout",
     "output_type": "stream",
     "text": [
      "\n",
      "\n",
      "Calculating information matrix...\n"
     ]
    }
   ],
   "source": [
    "mod_rodada_2 <- mirt(dplyr::select(amostra_correcao_ordenada,all_of(itens_rodada_2)), 1, itemtype= '3PL', SE=T, technical = list(NCYCLES = 10000))"
   ]
  },
  {
   "cell_type": "code",
   "execution_count": 84,
   "metadata": {
    "tags": []
   },
   "outputs": [
    {
     "data": {
      "text/html": [
       "<table>\n",
       "<caption>Tabela 1 -  Itens de Matemática do ENEM 2022.</caption>\n",
       " <thead>\n",
       "  <tr>\n",
       "   <th style=\"text-align:center;\"> Item </th>\n",
       "   <th style=\"text-align:center;\"> Discriminacao </th>\n",
       "   <th style=\"text-align:center;\"> Dificuldade </th>\n",
       "   <th style=\"text-align:center;\"> Chute </th>\n",
       "  </tr>\n",
       " </thead>\n",
       "<tbody>\n",
       "  <tr>\n",
       "   <td style=\"text-align:center;\"> I_005961 </td>\n",
       "   <td style=\"text-align:center;\"> <span style=\"     color: black !important;\" > 1.6008</span> </td>\n",
       "   <td style=\"text-align:center;\"> <span style=\"     color: black !important;\" > 2.1548</span> </td>\n",
       "   <td style=\"text-align:center;\"> <span style=\"     color: black !important;\" >0.2428</span> </td>\n",
       "  </tr>\n",
       "  <tr>\n",
       "   <td style=\"text-align:center;\"> I_008364 </td>\n",
       "   <td style=\"text-align:center;\"> <span style=\"     color: black !important;\" > 1.4864</span> </td>\n",
       "   <td style=\"text-align:center;\"> <span style=\"     color: black !important;\" > 1.9358</span> </td>\n",
       "   <td style=\"text-align:center;\"> <span style=\"     color: black !important;\" >0.1998</span> </td>\n",
       "  </tr>\n",
       "  <tr>\n",
       "   <td style=\"text-align:center;\"> I_010322 </td>\n",
       "   <td style=\"text-align:center;\"> <span style=\"     color: black !important;\" > 1.7187</span> </td>\n",
       "   <td style=\"text-align:center;\"> <span style=\"     color: black !important;\" > 0.8677</span> </td>\n",
       "   <td style=\"text-align:center;\"> <span style=\"     color: black !important;\" >0.3018</span> </td>\n",
       "  </tr>\n",
       "  <tr>\n",
       "   <td style=\"text-align:center;\"> I_010409 </td>\n",
       "   <td style=\"text-align:center;\"> <span style=\"     color: black !important;\" > 0.6975</span> </td>\n",
       "   <td style=\"text-align:center;\"> <span style=\"     color: black !important;\" > 1.1289</span> </td>\n",
       "   <td style=\"text-align:center;\"> <span style=\"     color: black !important;\" >0.0573</span> </td>\n",
       "  </tr>\n",
       "  <tr>\n",
       "   <td style=\"text-align:center;\"> I_010500 </td>\n",
       "   <td style=\"text-align:center;\"> <span style=\"     color: black !important;\" > 1.7415</span> </td>\n",
       "   <td style=\"text-align:center;\"> <span style=\"     color: black !important;\" > 3.1884</span> </td>\n",
       "   <td style=\"text-align:center;\"> <span style=\"     color: black !important;\" >0.1578</span> </td>\n",
       "  </tr>\n",
       "  <tr>\n",
       "   <td style=\"text-align:center;\"> I_014797 </td>\n",
       "   <td style=\"text-align:center;\"> <span style=\" font-weight: bold;    color: red !important;\" > 6.7839</span> </td>\n",
       "   <td style=\"text-align:center;\"> <span style=\"     color: black !important;\" > 2.0227</span> </td>\n",
       "   <td style=\"text-align:center;\"> <span style=\"     color: black !important;\" >0.1305</span> </td>\n",
       "  </tr>\n",
       "  <tr>\n",
       "   <td style=\"text-align:center;\"> I_019807 </td>\n",
       "   <td style=\"text-align:center;\"> <span style=\" font-weight: bold;    color: red !important;\" > 7.7318</span> </td>\n",
       "   <td style=\"text-align:center;\"> <span style=\"     color: black !important;\" > 2.1143</span> </td>\n",
       "   <td style=\"text-align:center;\"> <span style=\"     color: black !important;\" >0.0738</span> </td>\n",
       "  </tr>\n",
       "  <tr>\n",
       "   <td style=\"text-align:center;\"> I_028683 </td>\n",
       "   <td style=\"text-align:center;\"> <span style=\"     color: black !important;\" > 4.1973</span> </td>\n",
       "   <td style=\"text-align:center;\"> <span style=\"     color: black !important;\" > 1.9632</span> </td>\n",
       "   <td style=\"text-align:center;\"> <span style=\"     color: black !important;\" >0.2476</span> </td>\n",
       "  </tr>\n",
       "  <tr>\n",
       "   <td style=\"text-align:center;\"> I_030053 </td>\n",
       "   <td style=\"text-align:center;\"> <span style=\"     color: black !important;\" > 2.9950</span> </td>\n",
       "   <td style=\"text-align:center;\"> <span style=\"     color: black !important;\" > 1.7433</span> </td>\n",
       "   <td style=\"text-align:center;\"> <span style=\"     color: black !important;\" >0.2626</span> </td>\n",
       "  </tr>\n",
       "  <tr>\n",
       "   <td style=\"text-align:center;\"> I_030327 </td>\n",
       "   <td style=\"text-align:center;\"> <span style=\"     color: black !important;\" > 1.8417</span> </td>\n",
       "   <td style=\"text-align:center;\"> <span style=\"     color: black !important;\" >-0.1170</span> </td>\n",
       "   <td style=\"text-align:center;\"> <span style=\"     color: black !important;\" >0.0078</span> </td>\n",
       "  </tr>\n",
       "  <tr>\n",
       "   <td style=\"text-align:center;\"> I_030493 </td>\n",
       "   <td style=\"text-align:center;\"> <span style=\"     color: black !important;\" > 0.5448</span> </td>\n",
       "   <td style=\"text-align:center;\"> <span style=\"     color: black !important;\" > 2.4869</span> </td>\n",
       "   <td style=\"text-align:center;\"> <span style=\"     color: black !important;\" >0.1030</span> </td>\n",
       "  </tr>\n",
       "  <tr>\n",
       "   <td style=\"text-align:center;\"> I_031516 </td>\n",
       "   <td style=\"text-align:center;\"> <span style=\"     color: black !important;\" > 1.5437</span> </td>\n",
       "   <td style=\"text-align:center;\"> <span style=\"     color: black !important;\" > 1.6428</span> </td>\n",
       "   <td style=\"text-align:center;\"> <span style=\"     color: black !important;\" >0.1715</span> </td>\n",
       "  </tr>\n",
       "  <tr>\n",
       "   <td style=\"text-align:center;\"> I_032369 </td>\n",
       "   <td style=\"text-align:center;\"> <span style=\"     color: black !important;\" > 4.7979</span> </td>\n",
       "   <td style=\"text-align:center;\"> <span style=\"     color: black !important;\" > 1.8617</span> </td>\n",
       "   <td style=\"text-align:center;\"> <span style=\"     color: black !important;\" >0.1703</span> </td>\n",
       "  </tr>\n",
       "  <tr>\n",
       "   <td style=\"text-align:center;\"> I_043182 </td>\n",
       "   <td style=\"text-align:center;\"> <span style=\"     color: black !important;\" > 3.8307</span> </td>\n",
       "   <td style=\"text-align:center;\"> <span style=\"     color: black !important;\" > 1.3087</span> </td>\n",
       "   <td style=\"text-align:center;\"> <span style=\"     color: black !important;\" >0.2624</span> </td>\n",
       "  </tr>\n",
       "  <tr>\n",
       "   <td style=\"text-align:center;\"> I_047309 </td>\n",
       "   <td style=\"text-align:center;\"> <span style=\"     color: black !important;\" > 0.4408</span> </td>\n",
       "   <td style=\"text-align:center;\"> <span style=\"     color: black !important;\" > 1.7907</span> </td>\n",
       "   <td style=\"text-align:center;\"> <span style=\"     color: black !important;\" >0.0033</span> </td>\n",
       "  </tr>\n",
       "  <tr>\n",
       "   <td style=\"text-align:center;\"> I_053461 </td>\n",
       "   <td style=\"text-align:center;\"> <span style=\"     color: black !important;\" > 5.8662</span> </td>\n",
       "   <td style=\"text-align:center;\"> <span style=\"     color: black !important;\" > 1.9197</span> </td>\n",
       "   <td style=\"text-align:center;\"> <span style=\"     color: black !important;\" >0.2362</span> </td>\n",
       "  </tr>\n",
       "  <tr>\n",
       "   <td style=\"text-align:center;\"> I_060441 </td>\n",
       "   <td style=\"text-align:center;\"> <span style=\"     color: black !important;\" > 1.5829</span> </td>\n",
       "   <td style=\"text-align:center;\"> <span style=\"     color: black !important;\" >-0.1818</span> </td>\n",
       "   <td style=\"text-align:center;\"> <span style=\"     color: black !important;\" >0.2385</span> </td>\n",
       "  </tr>\n",
       "  <tr>\n",
       "   <td style=\"text-align:center;\"> I_061248 </td>\n",
       "   <td style=\"text-align:center;\"> <span style=\"     color: black !important;\" > 5.8754</span> </td>\n",
       "   <td style=\"text-align:center;\"> <span style=\"     color: black !important;\" > 1.8141</span> </td>\n",
       "   <td style=\"text-align:center;\"> <span style=\"     color: black !important;\" >0.1810</span> </td>\n",
       "  </tr>\n",
       "  <tr>\n",
       "   <td style=\"text-align:center;\"> I_063204 </td>\n",
       "   <td style=\"text-align:center;\"> <span style=\"     color: black !important;\" > 2.0736</span> </td>\n",
       "   <td style=\"text-align:center;\"> <span style=\"     color: black !important;\" > 1.5459</span> </td>\n",
       "   <td style=\"text-align:center;\"> <span style=\"     color: black !important;\" >0.1153</span> </td>\n",
       "  </tr>\n",
       "  <tr>\n",
       "   <td style=\"text-align:center;\"> I_063646 </td>\n",
       "   <td style=\"text-align:center;\"> <span style=\"     color: black !important;\" > 0.9802</span> </td>\n",
       "   <td style=\"text-align:center;\"> <span style=\"     color: black !important;\" > 1.7405</span> </td>\n",
       "   <td style=\"text-align:center;\"> <span style=\"     color: black !important;\" >0.1132</span> </td>\n",
       "  </tr>\n",
       "  <tr>\n",
       "   <td style=\"text-align:center;\"> I_068123 </td>\n",
       "   <td style=\"text-align:center;\"> <span style=\"     color: black !important;\" > 3.1078</span> </td>\n",
       "   <td style=\"text-align:center;\"> <span style=\"     color: black !important;\" > 0.9391</span> </td>\n",
       "   <td style=\"text-align:center;\"> <span style=\"     color: black !important;\" >0.1223</span> </td>\n",
       "  </tr>\n",
       "  <tr>\n",
       "   <td style=\"text-align:center;\"> I_068369 </td>\n",
       "   <td style=\"text-align:center;\"> <span style=\"     color: black !important;\" > 3.8431</span> </td>\n",
       "   <td style=\"text-align:center;\"> <span style=\"     color: black !important;\" > 1.2102</span> </td>\n",
       "   <td style=\"text-align:center;\"> <span style=\"     color: black !important;\" >0.1289</span> </td>\n",
       "  </tr>\n",
       "  <tr>\n",
       "   <td style=\"text-align:center;\"> I_075829 </td>\n",
       "   <td style=\"text-align:center;\"> <span style=\"     color: black !important;\" > 0.5880</span> </td>\n",
       "   <td style=\"text-align:center;\"> <span style=\"     color: black !important;\" > 1.7749</span> </td>\n",
       "   <td style=\"text-align:center;\"> <span style=\"     color: black !important;\" >0.0083</span> </td>\n",
       "  </tr>\n",
       "  <tr>\n",
       "   <td style=\"text-align:center;\"> I_082581 </td>\n",
       "   <td style=\"text-align:center;\"> <span style=\"     color: black !important;\" > 2.9696</span> </td>\n",
       "   <td style=\"text-align:center;\"> <span style=\"     color: black !important;\" > 1.8609</span> </td>\n",
       "   <td style=\"text-align:center;\"> <span style=\"     color: black !important;\" >0.1450</span> </td>\n",
       "  </tr>\n",
       "  <tr>\n",
       "   <td style=\"text-align:center;\"> I_085013 </td>\n",
       "   <td style=\"text-align:center;\"> <span style=\" font-weight: bold;    color: red !important;\" >11.8495</span> </td>\n",
       "   <td style=\"text-align:center;\"> <span style=\"     color: black !important;\" > 2.2614</span> </td>\n",
       "   <td style=\"text-align:center;\"> <span style=\"     color: black !important;\" >0.2477</span> </td>\n",
       "  </tr>\n",
       "  <tr>\n",
       "   <td style=\"text-align:center;\"> I_085228 </td>\n",
       "   <td style=\"text-align:center;\"> <span style=\"     color: black !important;\" > 3.6974</span> </td>\n",
       "   <td style=\"text-align:center;\"> <span style=\"     color: black !important;\" > 2.7611</span> </td>\n",
       "   <td style=\"text-align:center;\"> <span style=\"     color: black !important;\" >0.2429</span> </td>\n",
       "  </tr>\n",
       "  <tr>\n",
       "   <td style=\"text-align:center;\"> I_085343 </td>\n",
       "   <td style=\"text-align:center;\"> <span style=\" font-weight: bold;    color: red !important;\" > 7.2698</span> </td>\n",
       "   <td style=\"text-align:center;\"> <span style=\"     color: black !important;\" > 2.2843</span> </td>\n",
       "   <td style=\"text-align:center;\"> <span style=\"     color: black !important;\" >0.1377</span> </td>\n",
       "  </tr>\n",
       "  <tr>\n",
       "   <td style=\"text-align:center;\"> I_085588 </td>\n",
       "   <td style=\"text-align:center;\"> <span style=\"     color: black !important;\" > 1.6352</span> </td>\n",
       "   <td style=\"text-align:center;\"> <span style=\"     color: black !important;\" > 0.0731</span> </td>\n",
       "   <td style=\"text-align:center;\"> <span style=\"     color: black !important;\" >0.2534</span> </td>\n",
       "  </tr>\n",
       "  <tr>\n",
       "   <td style=\"text-align:center;\"> I_086466 </td>\n",
       "   <td style=\"text-align:center;\"> <span style=\" font-weight: bold;    color: red !important;\" > 9.9143</span> </td>\n",
       "   <td style=\"text-align:center;\"> <span style=\"     color: black !important;\" > 2.0773</span> </td>\n",
       "   <td style=\"text-align:center;\"> <span style=\"     color: black !important;\" >0.2158</span> </td>\n",
       "  </tr>\n",
       "  <tr>\n",
       "   <td style=\"text-align:center;\"> I_086840 </td>\n",
       "   <td style=\"text-align:center;\"> <span style=\" font-weight: bold;    color: red !important;\" > 0.1464</span> </td>\n",
       "   <td style=\"text-align:center;\"> <span style=\"     color: black !important;\" > 6.8139</span> </td>\n",
       "   <td style=\"text-align:center;\"> <span style=\"     color: black !important;\" >0.0145</span> </td>\n",
       "  </tr>\n",
       "  <tr>\n",
       "   <td style=\"text-align:center;\"> I_095509 </td>\n",
       "   <td style=\"text-align:center;\"> <span style=\"     color: black !important;\" > 3.2725</span> </td>\n",
       "   <td style=\"text-align:center;\"> <span style=\"     color: black !important;\" > 2.5339</span> </td>\n",
       "   <td style=\"text-align:center;\"> <span style=\"     color: black !important;\" >0.1517</span> </td>\n",
       "  </tr>\n",
       "  <tr>\n",
       "   <td style=\"text-align:center;\"> I_095676 </td>\n",
       "   <td style=\"text-align:center;\"> <span style=\"     color: black !important;\" > 1.3992</span> </td>\n",
       "   <td style=\"text-align:center;\"> <span style=\"     color: black !important;\" >-0.0836</span> </td>\n",
       "   <td style=\"text-align:center;\"> <span style=\"     color: black !important;\" >0.0090</span> </td>\n",
       "  </tr>\n",
       "  <tr>\n",
       "   <td style=\"text-align:center;\"> I_096315 </td>\n",
       "   <td style=\"text-align:center;\"> <span style=\"     color: black !important;\" > 1.4235</span> </td>\n",
       "   <td style=\"text-align:center;\"> <span style=\"     color: black !important;\" > 0.6652</span> </td>\n",
       "   <td style=\"text-align:center;\"> <span style=\"     color: black !important;\" >0.1832</span> </td>\n",
       "  </tr>\n",
       "  <tr>\n",
       "   <td style=\"text-align:center;\"> I_097590 </td>\n",
       "   <td style=\"text-align:center;\"> <span style=\"     color: black !important;\" > 2.1386</span> </td>\n",
       "   <td style=\"text-align:center;\"> <span style=\"     color: black !important;\" > 2.4030</span> </td>\n",
       "   <td style=\"text-align:center;\"> <span style=\"     color: black !important;\" >0.1283</span> </td>\n",
       "  </tr>\n",
       "  <tr>\n",
       "   <td style=\"text-align:center;\"> I_111516 </td>\n",
       "   <td style=\"text-align:center;\"> <span style=\"     color: black !important;\" > 2.6710</span> </td>\n",
       "   <td style=\"text-align:center;\"> <span style=\"     color: black !important;\" > 1.2173</span> </td>\n",
       "   <td style=\"text-align:center;\"> <span style=\"     color: black !important;\" >0.2153</span> </td>\n",
       "  </tr>\n",
       "  <tr>\n",
       "   <td style=\"text-align:center;\"> I_111738 </td>\n",
       "   <td style=\"text-align:center;\"> <span style=\"     color: black !important;\" > 2.6383</span> </td>\n",
       "   <td style=\"text-align:center;\"> <span style=\"     color: black !important;\" > 2.0809</span> </td>\n",
       "   <td style=\"text-align:center;\"> <span style=\"     color: black !important;\" >0.2458</span> </td>\n",
       "  </tr>\n",
       "  <tr>\n",
       "   <td style=\"text-align:center;\"> I_117651 </td>\n",
       "   <td style=\"text-align:center;\"> <span style=\"     color: black !important;\" > 0.5308</span> </td>\n",
       "   <td style=\"text-align:center;\"> <span style=\"     color: black !important;\" > 2.6748</span> </td>\n",
       "   <td style=\"text-align:center;\"> <span style=\"     color: black !important;\" >0.0600</span> </td>\n",
       "  </tr>\n",
       "  <tr>\n",
       "   <td style=\"text-align:center;\"> I_117742 </td>\n",
       "   <td style=\"text-align:center;\"> <span style=\"     color: black !important;\" > 0.5165</span> </td>\n",
       "   <td style=\"text-align:center;\"> <span style=\"     color: black !important;\" > 1.2318</span> </td>\n",
       "   <td style=\"text-align:center;\"> <span style=\"     color: black !important;\" >0.0068</span> </td>\n",
       "  </tr>\n",
       "  <tr>\n",
       "   <td style=\"text-align:center;\"> I_117820 </td>\n",
       "   <td style=\"text-align:center;\"> <span style=\" font-weight: bold;    color: red !important;\" > 0.1620</span> </td>\n",
       "   <td style=\"text-align:center;\"> <span style=\"     color: black !important;\" > 6.1342</span> </td>\n",
       "   <td style=\"text-align:center;\"> <span style=\"     color: black !important;\" >0.0064</span> </td>\n",
       "  </tr>\n",
       "  <tr>\n",
       "   <td style=\"text-align:center;\"> I_117877 </td>\n",
       "   <td style=\"text-align:center;\"> <span style=\"     color: black !important;\" > 2.6316</span> </td>\n",
       "   <td style=\"text-align:center;\"> <span style=\"     color: black !important;\" > 1.3076</span> </td>\n",
       "   <td style=\"text-align:center;\"> <span style=\"     color: black !important;\" >0.2081</span> </td>\n",
       "  </tr>\n",
       "  <tr>\n",
       "   <td style=\"text-align:center;\"> I_117973 </td>\n",
       "   <td style=\"text-align:center;\"> <span style=\"     color: black !important;\" > 4.7307</span> </td>\n",
       "   <td style=\"text-align:center;\"> <span style=\"     color: black !important;\" > 2.3500</span> </td>\n",
       "   <td style=\"text-align:center;\"> <span style=\"     color: black !important;\" >0.2155</span> </td>\n",
       "  </tr>\n",
       "</tbody>\n",
       "</table>"
      ]
     },
     "metadata": {},
     "output_type": "display_data"
    }
   ],
   "source": [
    "pars_mod_rodada_2 = coef(mod_rodada_2, IRTpars=TRUE, simplify=TRUE)$items[,1:3]\n",
    "\n",
    "pars_mod_rodada_2 |> \n",
    "  data.frame() |> \n",
    "  rownames_to_column(\"Item\") |>\n",
    "  rename(Dificuldade = b,Discriminacao = a, Chute = g) |> \n",
    "  mutate(Dificuldade    = check_par_b(Dificuldade)) |> \n",
    "  mutate(Discriminacao  = check_par_a(Discriminacao)) |> \n",
    "  mutate(Chute          = check_par_c(Chute)) |> \n",
    "  kbl(linesep=\"\", escape = F,row.names=F,align=\"c\",digits = 4,longtable = T) |> \n",
    "  as.character() |>\n",
    "  display_html()"
   ]
  },
  {
   "cell_type": "markdown",
   "metadata": {},
   "source": [
    " #### Rodada 3"
   ]
  },
  {
   "cell_type": "code",
   "execution_count": 86,
   "metadata": {
    "tags": []
   },
   "outputs": [],
   "source": [
    "itens_rodada_3 <- amostra_correcao_ordenada |> \n",
    "  dplyr::select(-NU_INSCRICAO, -I_086499, -I_089637, -I_117886, -I_014797, -I_019807, -I_085013, -I_085343, -I_086466, -I_086840, -I_117820) |> \n",
    "  colnames()"
   ]
  },
  {
   "cell_type": "code",
   "execution_count": 87,
   "metadata": {
    "tags": []
   },
   "outputs": [
    {
     "name": "stdout",
     "output_type": "stream",
     "text": [
      "Iteration: 10000, Log-Lik: -19131.193, Max-Change: 0.00011"
     ]
    },
    {
     "name": "stderr",
     "output_type": "stream",
     "text": [
      "EM cycles terminated after 10000 iterations.\n",
      "\n"
     ]
    },
    {
     "name": "stdout",
     "output_type": "stream",
     "text": [
      "\n",
      "\n",
      "Calculating information matrix...\n"
     ]
    }
   ],
   "source": [
    "mod_rodada_3 <- mirt(dplyr::select(amostra_correcao_ordenada,all_of(itens_rodada_3)), 1, itemtype= '3PL', SE=T, technical = list(NCYCLES = 10000))"
   ]
  },
  {
   "cell_type": "code",
   "execution_count": 88,
   "metadata": {
    "tags": []
   },
   "outputs": [
    {
     "data": {
      "text/html": [
       "<table>\n",
       " <thead>\n",
       "  <tr>\n",
       "   <th style=\"text-align:center;\"> Item </th>\n",
       "   <th style=\"text-align:center;\"> Discriminacao </th>\n",
       "   <th style=\"text-align:center;\"> Dificuldade </th>\n",
       "   <th style=\"text-align:center;\"> Chute </th>\n",
       "  </tr>\n",
       " </thead>\n",
       "<tbody>\n",
       "  <tr>\n",
       "   <td style=\"text-align:center;\"> I_005961 </td>\n",
       "   <td style=\"text-align:center;\"> <span style=\"     color: black !important;\" >1.3232</span> </td>\n",
       "   <td style=\"text-align:center;\"> <span style=\"     color: black !important;\" > 2.2555</span> </td>\n",
       "   <td style=\"text-align:center;\"> <span style=\"     color: black !important;\" >0.2322</span> </td>\n",
       "  </tr>\n",
       "  <tr>\n",
       "   <td style=\"text-align:center;\"> I_008364 </td>\n",
       "   <td style=\"text-align:center;\"> <span style=\"     color: black !important;\" >1.3961</span> </td>\n",
       "   <td style=\"text-align:center;\"> <span style=\"     color: black !important;\" > 1.9681</span> </td>\n",
       "   <td style=\"text-align:center;\"> <span style=\"     color: black !important;\" >0.1961</span> </td>\n",
       "  </tr>\n",
       "  <tr>\n",
       "   <td style=\"text-align:center;\"> I_010322 </td>\n",
       "   <td style=\"text-align:center;\"> <span style=\"     color: black !important;\" >1.8201</span> </td>\n",
       "   <td style=\"text-align:center;\"> <span style=\"     color: black !important;\" > 0.8800</span> </td>\n",
       "   <td style=\"text-align:center;\"> <span style=\"     color: black !important;\" >0.3095</span> </td>\n",
       "  </tr>\n",
       "  <tr>\n",
       "   <td style=\"text-align:center;\"> I_010409 </td>\n",
       "   <td style=\"text-align:center;\"> <span style=\"     color: black !important;\" >0.6593</span> </td>\n",
       "   <td style=\"text-align:center;\"> <span style=\"     color: black !important;\" > 1.0470</span> </td>\n",
       "   <td style=\"text-align:center;\"> <span style=\"     color: black !important;\" >0.0309</span> </td>\n",
       "  </tr>\n",
       "  <tr>\n",
       "   <td style=\"text-align:center;\"> I_010500 </td>\n",
       "   <td style=\"text-align:center;\"> <span style=\"     color: black !important;\" >1.9066</span> </td>\n",
       "   <td style=\"text-align:center;\"> <span style=\"     color: black !important;\" > 3.0677</span> </td>\n",
       "   <td style=\"text-align:center;\"> <span style=\"     color: black !important;\" >0.1586</span> </td>\n",
       "  </tr>\n",
       "  <tr>\n",
       "   <td style=\"text-align:center;\"> I_028683 </td>\n",
       "   <td style=\"text-align:center;\"> <span style=\"     color: black !important;\" >5.1029</span> </td>\n",
       "   <td style=\"text-align:center;\"> <span style=\"     color: black !important;\" > 1.9405</span> </td>\n",
       "   <td style=\"text-align:center;\"> <span style=\"     color: black !important;\" >0.2497</span> </td>\n",
       "  </tr>\n",
       "  <tr>\n",
       "   <td style=\"text-align:center;\"> I_030053 </td>\n",
       "   <td style=\"text-align:center;\"> <span style=\"     color: black !important;\" >2.9941</span> </td>\n",
       "   <td style=\"text-align:center;\"> <span style=\"     color: black !important;\" > 1.7440</span> </td>\n",
       "   <td style=\"text-align:center;\"> <span style=\"     color: black !important;\" >0.2630</span> </td>\n",
       "  </tr>\n",
       "  <tr>\n",
       "   <td style=\"text-align:center;\"> I_030327 </td>\n",
       "   <td style=\"text-align:center;\"> <span style=\"     color: black !important;\" >1.8502</span> </td>\n",
       "   <td style=\"text-align:center;\"> <span style=\"     color: black !important;\" >-0.1025</span> </td>\n",
       "   <td style=\"text-align:center;\"> <span style=\"     color: black !important;\" >0.0167</span> </td>\n",
       "  </tr>\n",
       "  <tr>\n",
       "   <td style=\"text-align:center;\"> I_030493 </td>\n",
       "   <td style=\"text-align:center;\"> <span style=\"     color: black !important;\" >0.5194</span> </td>\n",
       "   <td style=\"text-align:center;\"> <span style=\"     color: black !important;\" > 2.5043</span> </td>\n",
       "   <td style=\"text-align:center;\"> <span style=\"     color: black !important;\" >0.0940</span> </td>\n",
       "  </tr>\n",
       "  <tr>\n",
       "   <td style=\"text-align:center;\"> I_031516 </td>\n",
       "   <td style=\"text-align:center;\"> <span style=\"     color: black !important;\" >1.5570</span> </td>\n",
       "   <td style=\"text-align:center;\"> <span style=\"     color: black !important;\" > 1.6374</span> </td>\n",
       "   <td style=\"text-align:center;\"> <span style=\"     color: black !important;\" >0.1720</span> </td>\n",
       "  </tr>\n",
       "  <tr>\n",
       "   <td style=\"text-align:center;\"> I_032369 </td>\n",
       "   <td style=\"text-align:center;\"> <span style=\"     color: black !important;\" >4.4467</span> </td>\n",
       "   <td style=\"text-align:center;\"> <span style=\"     color: black !important;\" > 1.8622</span> </td>\n",
       "   <td style=\"text-align:center;\"> <span style=\"     color: black !important;\" >0.1694</span> </td>\n",
       "  </tr>\n",
       "  <tr>\n",
       "   <td style=\"text-align:center;\"> I_043182 </td>\n",
       "   <td style=\"text-align:center;\"> <span style=\"     color: black !important;\" >4.2806</span> </td>\n",
       "   <td style=\"text-align:center;\"> <span style=\"     color: black !important;\" > 1.3146</span> </td>\n",
       "   <td style=\"text-align:center;\"> <span style=\"     color: black !important;\" >0.2667</span> </td>\n",
       "  </tr>\n",
       "  <tr>\n",
       "   <td style=\"text-align:center;\"> I_047309 </td>\n",
       "   <td style=\"text-align:center;\"> <span style=\"     color: black !important;\" >0.4501</span> </td>\n",
       "   <td style=\"text-align:center;\"> <span style=\"     color: black !important;\" > 1.7654</span> </td>\n",
       "   <td style=\"text-align:center;\"> <span style=\"     color: black !important;\" >0.0046</span> </td>\n",
       "  </tr>\n",
       "  <tr>\n",
       "   <td style=\"text-align:center;\"> I_053461 </td>\n",
       "   <td style=\"text-align:center;\"> <span style=\" font-weight: bold;    color: red !important;\" >7.8287</span> </td>\n",
       "   <td style=\"text-align:center;\"> <span style=\"     color: black !important;\" > 1.8826</span> </td>\n",
       "   <td style=\"text-align:center;\"> <span style=\"     color: black !important;\" >0.2369</span> </td>\n",
       "  </tr>\n",
       "  <tr>\n",
       "   <td style=\"text-align:center;\"> I_060441 </td>\n",
       "   <td style=\"text-align:center;\"> <span style=\"     color: black !important;\" >1.5896</span> </td>\n",
       "   <td style=\"text-align:center;\"> <span style=\"     color: black !important;\" >-0.1867</span> </td>\n",
       "   <td style=\"text-align:center;\"> <span style=\"     color: black !important;\" >0.2362</span> </td>\n",
       "  </tr>\n",
       "  <tr>\n",
       "   <td style=\"text-align:center;\"> I_061248 </td>\n",
       "   <td style=\"text-align:center;\"> <span style=\"     color: black !important;\" >4.5251</span> </td>\n",
       "   <td style=\"text-align:center;\"> <span style=\"     color: black !important;\" > 1.8172</span> </td>\n",
       "   <td style=\"text-align:center;\"> <span style=\"     color: black !important;\" >0.1776</span> </td>\n",
       "  </tr>\n",
       "  <tr>\n",
       "   <td style=\"text-align:center;\"> I_063204 </td>\n",
       "   <td style=\"text-align:center;\"> <span style=\"     color: black !important;\" >2.0461</span> </td>\n",
       "   <td style=\"text-align:center;\"> <span style=\"     color: black !important;\" > 1.5493</span> </td>\n",
       "   <td style=\"text-align:center;\"> <span style=\"     color: black !important;\" >0.1148</span> </td>\n",
       "  </tr>\n",
       "  <tr>\n",
       "   <td style=\"text-align:center;\"> I_063646 </td>\n",
       "   <td style=\"text-align:center;\"> <span style=\"     color: black !important;\" >1.0304</span> </td>\n",
       "   <td style=\"text-align:center;\"> <span style=\"     color: black !important;\" > 1.7373</span> </td>\n",
       "   <td style=\"text-align:center;\"> <span style=\"     color: black !important;\" >0.1218</span> </td>\n",
       "  </tr>\n",
       "  <tr>\n",
       "   <td style=\"text-align:center;\"> I_068123 </td>\n",
       "   <td style=\"text-align:center;\"> <span style=\"     color: black !important;\" >3.1723</span> </td>\n",
       "   <td style=\"text-align:center;\"> <span style=\"     color: black !important;\" > 0.9458</span> </td>\n",
       "   <td style=\"text-align:center;\"> <span style=\"     color: black !important;\" >0.1253</span> </td>\n",
       "  </tr>\n",
       "  <tr>\n",
       "   <td style=\"text-align:center;\"> I_068369 </td>\n",
       "   <td style=\"text-align:center;\"> <span style=\"     color: black !important;\" >3.9168</span> </td>\n",
       "   <td style=\"text-align:center;\"> <span style=\"     color: black !important;\" > 1.2085</span> </td>\n",
       "   <td style=\"text-align:center;\"> <span style=\"     color: black !important;\" >0.1295</span> </td>\n",
       "  </tr>\n",
       "  <tr>\n",
       "   <td style=\"text-align:center;\"> I_075829 </td>\n",
       "   <td style=\"text-align:center;\"> <span style=\"     color: black !important;\" >0.6564</span> </td>\n",
       "   <td style=\"text-align:center;\"> <span style=\"     color: black !important;\" > 1.8690</span> </td>\n",
       "   <td style=\"text-align:center;\"> <span style=\"     color: black !important;\" >0.0473</span> </td>\n",
       "  </tr>\n",
       "  <tr>\n",
       "   <td style=\"text-align:center;\"> I_082581 </td>\n",
       "   <td style=\"text-align:center;\"> <span style=\"     color: black !important;\" >3.0102</span> </td>\n",
       "   <td style=\"text-align:center;\"> <span style=\"     color: black !important;\" > 1.8512</span> </td>\n",
       "   <td style=\"text-align:center;\"> <span style=\"     color: black !important;\" >0.1451</span> </td>\n",
       "  </tr>\n",
       "  <tr>\n",
       "   <td style=\"text-align:center;\"> I_085228 </td>\n",
       "   <td style=\"text-align:center;\"> <span style=\"     color: black !important;\" >5.7545</span> </td>\n",
       "   <td style=\"text-align:center;\"> <span style=\"     color: black !important;\" > 2.6159</span> </td>\n",
       "   <td style=\"text-align:center;\"> <span style=\"     color: black !important;\" >0.2436</span> </td>\n",
       "  </tr>\n",
       "  <tr>\n",
       "   <td style=\"text-align:center;\"> I_085588 </td>\n",
       "   <td style=\"text-align:center;\"> <span style=\"     color: black !important;\" >1.6482</span> </td>\n",
       "   <td style=\"text-align:center;\"> <span style=\"     color: black !important;\" > 0.0705</span> </td>\n",
       "   <td style=\"text-align:center;\"> <span style=\"     color: black !important;\" >0.2526</span> </td>\n",
       "  </tr>\n",
       "  <tr>\n",
       "   <td style=\"text-align:center;\"> I_095509 </td>\n",
       "   <td style=\"text-align:center;\"> <span style=\"     color: black !important;\" >4.2300</span> </td>\n",
       "   <td style=\"text-align:center;\"> <span style=\"     color: black !important;\" > 2.4099</span> </td>\n",
       "   <td style=\"text-align:center;\"> <span style=\"     color: black !important;\" >0.1523</span> </td>\n",
       "  </tr>\n",
       "  <tr>\n",
       "   <td style=\"text-align:center;\"> I_095676 </td>\n",
       "   <td style=\"text-align:center;\"> <span style=\"     color: black !important;\" >1.3927</span> </td>\n",
       "   <td style=\"text-align:center;\"> <span style=\"     color: black !important;\" >-0.0925</span> </td>\n",
       "   <td style=\"text-align:center;\"> <span style=\"     color: black !important;\" >0.0046</span> </td>\n",
       "  </tr>\n",
       "  <tr>\n",
       "   <td style=\"text-align:center;\"> I_096315 </td>\n",
       "   <td style=\"text-align:center;\"> <span style=\"     color: black !important;\" >1.4094</span> </td>\n",
       "   <td style=\"text-align:center;\"> <span style=\"     color: black !important;\" > 0.6527</span> </td>\n",
       "   <td style=\"text-align:center;\"> <span style=\"     color: black !important;\" >0.1787</span> </td>\n",
       "  </tr>\n",
       "  <tr>\n",
       "   <td style=\"text-align:center;\"> I_097590 </td>\n",
       "   <td style=\"text-align:center;\"> <span style=\"     color: black !important;\" >2.4711</span> </td>\n",
       "   <td style=\"text-align:center;\"> <span style=\"     color: black !important;\" > 2.3117</span> </td>\n",
       "   <td style=\"text-align:center;\"> <span style=\"     color: black !important;\" >0.1306</span> </td>\n",
       "  </tr>\n",
       "  <tr>\n",
       "   <td style=\"text-align:center;\"> I_111516 </td>\n",
       "   <td style=\"text-align:center;\"> <span style=\"     color: black !important;\" >2.6375</span> </td>\n",
       "   <td style=\"text-align:center;\"> <span style=\"     color: black !important;\" > 1.2150</span> </td>\n",
       "   <td style=\"text-align:center;\"> <span style=\"     color: black !important;\" >0.2142</span> </td>\n",
       "  </tr>\n",
       "  <tr>\n",
       "   <td style=\"text-align:center;\"> I_111738 </td>\n",
       "   <td style=\"text-align:center;\"> <span style=\"     color: black !important;\" >3.2286</span> </td>\n",
       "   <td style=\"text-align:center;\"> <span style=\"     color: black !important;\" > 1.9997</span> </td>\n",
       "   <td style=\"text-align:center;\"> <span style=\"     color: black !important;\" >0.2481</span> </td>\n",
       "  </tr>\n",
       "  <tr>\n",
       "   <td style=\"text-align:center;\"> I_117651 </td>\n",
       "   <td style=\"text-align:center;\"> <span style=\"     color: black !important;\" >0.6351</span> </td>\n",
       "   <td style=\"text-align:center;\"> <span style=\"     color: black !important;\" > 2.6311</span> </td>\n",
       "   <td style=\"text-align:center;\"> <span style=\"     color: black !important;\" >0.0964</span> </td>\n",
       "  </tr>\n",
       "  <tr>\n",
       "   <td style=\"text-align:center;\"> I_117742 </td>\n",
       "   <td style=\"text-align:center;\"> <span style=\"     color: black !important;\" >0.5112</span> </td>\n",
       "   <td style=\"text-align:center;\"> <span style=\"     color: black !important;\" > 1.2228</span> </td>\n",
       "   <td style=\"text-align:center;\"> <span style=\"     color: black !important;\" >0.0034</span> </td>\n",
       "  </tr>\n",
       "  <tr>\n",
       "   <td style=\"text-align:center;\"> I_117877 </td>\n",
       "   <td style=\"text-align:center;\"> <span style=\"     color: black !important;\" >2.8307</span> </td>\n",
       "   <td style=\"text-align:center;\"> <span style=\"     color: black !important;\" > 1.3061</span> </td>\n",
       "   <td style=\"text-align:center;\"> <span style=\"     color: black !important;\" >0.2124</span> </td>\n",
       "  </tr>\n",
       "  <tr>\n",
       "   <td style=\"text-align:center;\"> I_117973 </td>\n",
       "   <td style=\"text-align:center;\"> <span style=\"     color: black !important;\" >4.2787</span> </td>\n",
       "   <td style=\"text-align:center;\"> <span style=\"     color: black !important;\" > 2.3630</span> </td>\n",
       "   <td style=\"text-align:center;\"> <span style=\"     color: black !important;\" >0.2149</span> </td>\n",
       "  </tr>\n",
       "</tbody>\n",
       "</table>"
      ]
     },
     "metadata": {},
     "output_type": "display_data"
    }
   ],
   "source": [
    "pars_mod_rodada_3 = coef(mod_rodada_3, IRTpars=TRUE, simplify=TRUE)$items[,1:3]\n",
    "\n",
    "pars_mod_rodada_3 |> \n",
    "  data.frame() |> \n",
    "  rownames_to_column(\"Item\") |>\n",
    "  rename(Dificuldade = b,Discriminacao = a, Chute = g) |> \n",
    "  mutate(Dificuldade    = check_par_b(Dificuldade)) |> \n",
    "  mutate(Discriminacao  = check_par_a(Discriminacao)) |> \n",
    "  mutate(Chute          = check_par_c(Chute)) |> \n",
    "  kbl(linesep=\"\", escape = F,row.names=F,align=\"c\",digits = 4,longtable = T) |> \n",
    "  as.character() |>\n",
    "  display_html()"
   ]
  },
  {
   "cell_type": "markdown",
   "metadata": {},
   "source": [
    " #### Rodada 4"
   ]
  },
  {
   "cell_type": "code",
   "execution_count": 89,
   "metadata": {
    "tags": []
   },
   "outputs": [],
   "source": [
    "itens_rodada_4 <- amostra_correcao_ordenada |> \n",
    "  dplyr::select(-NU_INSCRICAO, -I_086499, -I_089637, -I_117886, -I_014797, -I_019807, -I_085013, -I_085343, -I_086466, -I_086840, -I_117820, -I_053461) |> \n",
    "  colnames()"
   ]
  },
  {
   "cell_type": "code",
   "execution_count": 90,
   "metadata": {
    "tags": []
   },
   "outputs": [
    {
     "name": "stdout",
     "output_type": "stream",
     "text": [
      "Iteration: 10000, Log-Lik: -18578.506, Max-Change: 0.00057"
     ]
    },
    {
     "name": "stderr",
     "output_type": "stream",
     "text": [
      "EM cycles terminated after 10000 iterations.\n",
      "\n"
     ]
    },
    {
     "name": "stdout",
     "output_type": "stream",
     "text": [
      "\n",
      "\n",
      "Calculating information matrix...\n"
     ]
    }
   ],
   "source": [
    "mod_rodada_4 <- mirt(dplyr::select(amostra_correcao_ordenada,all_of(itens_rodada_4)), 1, itemtype= '3PL', SE=T, technical = list(NCYCLES = 10000))"
   ]
  },
  {
   "cell_type": "code",
   "execution_count": 91,
   "metadata": {
    "tags": []
   },
   "outputs": [
    {
     "data": {
      "text/html": [
       "<table>\n",
       " <thead>\n",
       "  <tr>\n",
       "   <th style=\"text-align:center;\"> Item </th>\n",
       "   <th style=\"text-align:center;\"> Discriminacao </th>\n",
       "   <th style=\"text-align:center;\"> Dificuldade </th>\n",
       "   <th style=\"text-align:center;\"> Chute </th>\n",
       "  </tr>\n",
       " </thead>\n",
       "<tbody>\n",
       "  <tr>\n",
       "   <td style=\"text-align:center;\"> I_005961 </td>\n",
       "   <td style=\"text-align:center;\"> <span style=\"     color: black !important;\" >1.3437</span> </td>\n",
       "   <td style=\"text-align:center;\"> <span style=\"     color: black !important;\" > 2.2451</span> </td>\n",
       "   <td style=\"text-align:center;\"> <span style=\"     color: black !important;\" >0.2330</span> </td>\n",
       "  </tr>\n",
       "  <tr>\n",
       "   <td style=\"text-align:center;\"> I_008364 </td>\n",
       "   <td style=\"text-align:center;\"> <span style=\"     color: black !important;\" >1.4930</span> </td>\n",
       "   <td style=\"text-align:center;\"> <span style=\"     color: black !important;\" > 1.9333</span> </td>\n",
       "   <td style=\"text-align:center;\"> <span style=\"     color: black !important;\" >0.2002</span> </td>\n",
       "  </tr>\n",
       "  <tr>\n",
       "   <td style=\"text-align:center;\"> I_010322 </td>\n",
       "   <td style=\"text-align:center;\"> <span style=\"     color: black !important;\" >1.8587</span> </td>\n",
       "   <td style=\"text-align:center;\"> <span style=\"     color: black !important;\" > 0.8883</span> </td>\n",
       "   <td style=\"text-align:center;\"> <span style=\"     color: black !important;\" >0.3131</span> </td>\n",
       "  </tr>\n",
       "  <tr>\n",
       "   <td style=\"text-align:center;\"> I_010409 </td>\n",
       "   <td style=\"text-align:center;\"> <span style=\"     color: black !important;\" >0.6499</span> </td>\n",
       "   <td style=\"text-align:center;\"> <span style=\"     color: black !important;\" > 1.0244</span> </td>\n",
       "   <td style=\"text-align:center;\"> <span style=\"     color: black !important;\" >0.0238</span> </td>\n",
       "  </tr>\n",
       "  <tr>\n",
       "   <td style=\"text-align:center;\"> I_010500 </td>\n",
       "   <td style=\"text-align:center;\"> <span style=\"     color: black !important;\" >2.2490</span> </td>\n",
       "   <td style=\"text-align:center;\"> <span style=\"     color: black !important;\" > 2.8345</span> </td>\n",
       "   <td style=\"text-align:center;\"> <span style=\"     color: black !important;\" >0.1586</span> </td>\n",
       "  </tr>\n",
       "  <tr>\n",
       "   <td style=\"text-align:center;\"> I_028683 </td>\n",
       "   <td style=\"text-align:center;\"> <span style=\"     color: black !important;\" >3.9964</span> </td>\n",
       "   <td style=\"text-align:center;\"> <span style=\"     color: black !important;\" > 1.9632</span> </td>\n",
       "   <td style=\"text-align:center;\"> <span style=\"     color: black !important;\" >0.2470</span> </td>\n",
       "  </tr>\n",
       "  <tr>\n",
       "   <td style=\"text-align:center;\"> I_030053 </td>\n",
       "   <td style=\"text-align:center;\"> <span style=\"     color: black !important;\" >3.1104</span> </td>\n",
       "   <td style=\"text-align:center;\"> <span style=\"     color: black !important;\" > 1.7382</span> </td>\n",
       "   <td style=\"text-align:center;\"> <span style=\"     color: black !important;\" >0.2639</span> </td>\n",
       "  </tr>\n",
       "  <tr>\n",
       "   <td style=\"text-align:center;\"> I_030327 </td>\n",
       "   <td style=\"text-align:center;\"> <span style=\"     color: black !important;\" >1.8452</span> </td>\n",
       "   <td style=\"text-align:center;\"> <span style=\"     color: black !important;\" >-0.1055</span> </td>\n",
       "   <td style=\"text-align:center;\"> <span style=\"     color: black !important;\" >0.0149</span> </td>\n",
       "  </tr>\n",
       "  <tr>\n",
       "   <td style=\"text-align:center;\"> I_030493 </td>\n",
       "   <td style=\"text-align:center;\"> <span style=\"     color: black !important;\" >0.5340</span> </td>\n",
       "   <td style=\"text-align:center;\"> <span style=\"     color: black !important;\" > 2.5074</span> </td>\n",
       "   <td style=\"text-align:center;\"> <span style=\"     color: black !important;\" >0.1006</span> </td>\n",
       "  </tr>\n",
       "  <tr>\n",
       "   <td style=\"text-align:center;\"> I_031516 </td>\n",
       "   <td style=\"text-align:center;\"> <span style=\"     color: black !important;\" >1.6241</span> </td>\n",
       "   <td style=\"text-align:center;\"> <span style=\"     color: black !important;\" > 1.6242</span> </td>\n",
       "   <td style=\"text-align:center;\"> <span style=\"     color: black !important;\" >0.1751</span> </td>\n",
       "  </tr>\n",
       "  <tr>\n",
       "   <td style=\"text-align:center;\"> I_032369 </td>\n",
       "   <td style=\"text-align:center;\"> <span style=\"     color: black !important;\" >4.9115</span> </td>\n",
       "   <td style=\"text-align:center;\"> <span style=\"     color: black !important;\" > 1.8533</span> </td>\n",
       "   <td style=\"text-align:center;\"> <span style=\"     color: black !important;\" >0.1706</span> </td>\n",
       "  </tr>\n",
       "  <tr>\n",
       "   <td style=\"text-align:center;\"> I_043182 </td>\n",
       "   <td style=\"text-align:center;\"> <span style=\"     color: black !important;\" >3.9991</span> </td>\n",
       "   <td style=\"text-align:center;\"> <span style=\"     color: black !important;\" > 1.3116</span> </td>\n",
       "   <td style=\"text-align:center;\"> <span style=\"     color: black !important;\" >0.2644</span> </td>\n",
       "  </tr>\n",
       "  <tr>\n",
       "   <td style=\"text-align:center;\"> I_047309 </td>\n",
       "   <td style=\"text-align:center;\"> <span style=\"     color: black !important;\" >0.4496</span> </td>\n",
       "   <td style=\"text-align:center;\"> <span style=\"     color: black !important;\" > 1.7703</span> </td>\n",
       "   <td style=\"text-align:center;\"> <span style=\"     color: black !important;\" >0.0051</span> </td>\n",
       "  </tr>\n",
       "  <tr>\n",
       "   <td style=\"text-align:center;\"> I_060441 </td>\n",
       "   <td style=\"text-align:center;\"> <span style=\"     color: black !important;\" >1.6047</span> </td>\n",
       "   <td style=\"text-align:center;\"> <span style=\"     color: black !important;\" >-0.1770</span> </td>\n",
       "   <td style=\"text-align:center;\"> <span style=\"     color: black !important;\" >0.2402</span> </td>\n",
       "  </tr>\n",
       "  <tr>\n",
       "   <td style=\"text-align:center;\"> I_061248 </td>\n",
       "   <td style=\"text-align:center;\"> <span style=\"     color: black !important;\" >4.5844</span> </td>\n",
       "   <td style=\"text-align:center;\"> <span style=\"     color: black !important;\" > 1.8140</span> </td>\n",
       "   <td style=\"text-align:center;\"> <span style=\"     color: black !important;\" >0.1776</span> </td>\n",
       "  </tr>\n",
       "  <tr>\n",
       "   <td style=\"text-align:center;\"> I_063204 </td>\n",
       "   <td style=\"text-align:center;\"> <span style=\"     color: black !important;\" >1.9182</span> </td>\n",
       "   <td style=\"text-align:center;\"> <span style=\"     color: black !important;\" > 1.5570</span> </td>\n",
       "   <td style=\"text-align:center;\"> <span style=\"     color: black !important;\" >0.1097</span> </td>\n",
       "  </tr>\n",
       "  <tr>\n",
       "   <td style=\"text-align:center;\"> I_063646 </td>\n",
       "   <td style=\"text-align:center;\"> <span style=\"     color: black !important;\" >1.0122</span> </td>\n",
       "   <td style=\"text-align:center;\"> <span style=\"     color: black !important;\" > 1.7408</span> </td>\n",
       "   <td style=\"text-align:center;\"> <span style=\"     color: black !important;\" >0.1192</span> </td>\n",
       "  </tr>\n",
       "  <tr>\n",
       "   <td style=\"text-align:center;\"> I_068123 </td>\n",
       "   <td style=\"text-align:center;\"> <span style=\"     color: black !important;\" >3.1921</span> </td>\n",
       "   <td style=\"text-align:center;\"> <span style=\"     color: black !important;\" > 0.9460</span> </td>\n",
       "   <td style=\"text-align:center;\"> <span style=\"     color: black !important;\" >0.1257</span> </td>\n",
       "  </tr>\n",
       "  <tr>\n",
       "   <td style=\"text-align:center;\"> I_068369 </td>\n",
       "   <td style=\"text-align:center;\"> <span style=\"     color: black !important;\" >3.9813</span> </td>\n",
       "   <td style=\"text-align:center;\"> <span style=\"     color: black !important;\" > 1.2066</span> </td>\n",
       "   <td style=\"text-align:center;\"> <span style=\"     color: black !important;\" >0.1297</span> </td>\n",
       "  </tr>\n",
       "  <tr>\n",
       "   <td style=\"text-align:center;\"> I_075829 </td>\n",
       "   <td style=\"text-align:center;\"> <span style=\"     color: black !important;\" >0.7267</span> </td>\n",
       "   <td style=\"text-align:center;\"> <span style=\"     color: black !important;\" > 1.9045</span> </td>\n",
       "   <td style=\"text-align:center;\"> <span style=\"     color: black !important;\" >0.0746</span> </td>\n",
       "  </tr>\n",
       "  <tr>\n",
       "   <td style=\"text-align:center;\"> I_082581 </td>\n",
       "   <td style=\"text-align:center;\"> <span style=\"     color: black !important;\" >3.0085</span> </td>\n",
       "   <td style=\"text-align:center;\"> <span style=\"     color: black !important;\" > 1.8475</span> </td>\n",
       "   <td style=\"text-align:center;\"> <span style=\"     color: black !important;\" >0.1447</span> </td>\n",
       "  </tr>\n",
       "  <tr>\n",
       "   <td style=\"text-align:center;\"> I_085228 </td>\n",
       "   <td style=\"text-align:center;\"> <span style=\"     color: black !important;\" >5.9004</span> </td>\n",
       "   <td style=\"text-align:center;\"> <span style=\"     color: black !important;\" > 2.6238</span> </td>\n",
       "   <td style=\"text-align:center;\"> <span style=\"     color: black !important;\" >0.2438</span> </td>\n",
       "  </tr>\n",
       "  <tr>\n",
       "   <td style=\"text-align:center;\"> I_085588 </td>\n",
       "   <td style=\"text-align:center;\"> <span style=\"     color: black !important;\" >1.6315</span> </td>\n",
       "   <td style=\"text-align:center;\"> <span style=\"     color: black !important;\" > 0.0621</span> </td>\n",
       "   <td style=\"text-align:center;\"> <span style=\"     color: black !important;\" >0.2491</span> </td>\n",
       "  </tr>\n",
       "  <tr>\n",
       "   <td style=\"text-align:center;\"> I_095509 </td>\n",
       "   <td style=\"text-align:center;\"> <span style=\"     color: black !important;\" >4.4011</span> </td>\n",
       "   <td style=\"text-align:center;\"> <span style=\"     color: black !important;\" > 2.4218</span> </td>\n",
       "   <td style=\"text-align:center;\"> <span style=\"     color: black !important;\" >0.1530</span> </td>\n",
       "  </tr>\n",
       "  <tr>\n",
       "   <td style=\"text-align:center;\"> I_095676 </td>\n",
       "   <td style=\"text-align:center;\"> <span style=\"     color: black !important;\" >1.3942</span> </td>\n",
       "   <td style=\"text-align:center;\"> <span style=\"     color: black !important;\" >-0.0891</span> </td>\n",
       "   <td style=\"text-align:center;\"> <span style=\"     color: black !important;\" >0.0064</span> </td>\n",
       "  </tr>\n",
       "  <tr>\n",
       "   <td style=\"text-align:center;\"> I_096315 </td>\n",
       "   <td style=\"text-align:center;\"> <span style=\"     color: black !important;\" >1.3989</span> </td>\n",
       "   <td style=\"text-align:center;\"> <span style=\"     color: black !important;\" > 0.6487</span> </td>\n",
       "   <td style=\"text-align:center;\"> <span style=\"     color: black !important;\" >0.1768</span> </td>\n",
       "  </tr>\n",
       "  <tr>\n",
       "   <td style=\"text-align:center;\"> I_097590 </td>\n",
       "   <td style=\"text-align:center;\"> <span style=\"     color: black !important;\" >2.5065</span> </td>\n",
       "   <td style=\"text-align:center;\"> <span style=\"     color: black !important;\" > 2.3048</span> </td>\n",
       "   <td style=\"text-align:center;\"> <span style=\"     color: black !important;\" >0.1308</span> </td>\n",
       "  </tr>\n",
       "  <tr>\n",
       "   <td style=\"text-align:center;\"> I_111516 </td>\n",
       "   <td style=\"text-align:center;\"> <span style=\"     color: black !important;\" >2.7267</span> </td>\n",
       "   <td style=\"text-align:center;\"> <span style=\"     color: black !important;\" > 1.2145</span> </td>\n",
       "   <td style=\"text-align:center;\"> <span style=\"     color: black !important;\" >0.2162</span> </td>\n",
       "  </tr>\n",
       "  <tr>\n",
       "   <td style=\"text-align:center;\"> I_111738 </td>\n",
       "   <td style=\"text-align:center;\"> <span style=\"     color: black !important;\" >3.0842</span> </td>\n",
       "   <td style=\"text-align:center;\"> <span style=\"     color: black !important;\" > 2.0193</span> </td>\n",
       "   <td style=\"text-align:center;\"> <span style=\"     color: black !important;\" >0.2479</span> </td>\n",
       "  </tr>\n",
       "  <tr>\n",
       "   <td style=\"text-align:center;\"> I_117651 </td>\n",
       "   <td style=\"text-align:center;\"> <span style=\"     color: black !important;\" >0.6202</span> </td>\n",
       "   <td style=\"text-align:center;\"> <span style=\"     color: black !important;\" > 2.6473</span> </td>\n",
       "   <td style=\"text-align:center;\"> <span style=\"     color: black !important;\" >0.0928</span> </td>\n",
       "  </tr>\n",
       "  <tr>\n",
       "   <td style=\"text-align:center;\"> I_117742 </td>\n",
       "   <td style=\"text-align:center;\"> <span style=\"     color: black !important;\" >0.5093</span> </td>\n",
       "   <td style=\"text-align:center;\"> <span style=\"     color: black !important;\" > 1.2244</span> </td>\n",
       "   <td style=\"text-align:center;\"> <span style=\"     color: black !important;\" >0.0030</span> </td>\n",
       "  </tr>\n",
       "  <tr>\n",
       "   <td style=\"text-align:center;\"> I_117877 </td>\n",
       "   <td style=\"text-align:center;\"> <span style=\"     color: black !important;\" >2.6538</span> </td>\n",
       "   <td style=\"text-align:center;\"> <span style=\"     color: black !important;\" > 1.3052</span> </td>\n",
       "   <td style=\"text-align:center;\"> <span style=\"     color: black !important;\" >0.2084</span> </td>\n",
       "  </tr>\n",
       "  <tr>\n",
       "   <td style=\"text-align:center;\"> I_117973 </td>\n",
       "   <td style=\"text-align:center;\"> <span style=\"     color: black !important;\" >4.3751</span> </td>\n",
       "   <td style=\"text-align:center;\"> <span style=\"     color: black !important;\" > 2.3860</span> </td>\n",
       "   <td style=\"text-align:center;\"> <span style=\"     color: black !important;\" >0.2157</span> </td>\n",
       "  </tr>\n",
       "</tbody>\n",
       "</table>"
      ]
     },
     "metadata": {},
     "output_type": "display_data"
    }
   ],
   "source": [
    "pars_mod_rodada_4 = coef(mod_rodada_4, IRTpars=TRUE, simplify=TRUE)$items[,1:3]\n",
    "\n",
    "pars_mod_rodada_4 |> \n",
    "  data.frame() |> \n",
    "  rownames_to_column(\"Item\") |>\n",
    "  rename(Dificuldade = b,Discriminacao = a, Chute = g) |> \n",
    "  mutate(Dificuldade    = check_par_b(Dificuldade)) |> \n",
    "  mutate(Discriminacao  = check_par_a(Discriminacao)) |> \n",
    "  mutate(Chute          = check_par_c(Chute)) |> \n",
    "  kbl(linesep=\"\", escape = F,row.names=F,align=\"c\",digits = 4,longtable = T) |> \n",
    "  as.character() |>\n",
    "  display_html()"
   ]
  },
  {
   "cell_type": "markdown",
   "metadata": {
    "id": "LqCPmMryT-kv",
    "tags": []
   },
   "source": [
    "\n",
    "### Estimação de Proficiências\n"
   ]
  },
  {
   "cell_type": "code",
   "execution_count": 101,
   "metadata": {
    "tags": []
   },
   "outputs": [],
   "source": [
    "proficiencia <-  fscores(mod_rodada_4, method = \"EAP\",response.pattern = dplyr::select(amostra_correcao_ordenada,all_of(itens_rodada_4))) "
   ]
  },
  {
   "cell_type": "code",
   "execution_count": 108,
   "metadata": {
    "tags": []
   },
   "outputs": [
    {
     "data": {
      "image/png": "[encoded data removed]",
      "text/plain": [
       "plot without title"
      ]
     },
     "metadata": {
      "image/png": {
       "height": 750,
       "width": 900
      }
     },
     "output_type": "display_data"
    }
   ],
   "source": [
    "options(repr.plot.width = 6, repr.plot.height = 5, repr.plot.res = 300,repr.plot.scale=0.5)\n",
    "gghistogram(proficiencia[,1],xlim=c(-3,3),binwidth = 0.25,xlab = \"Proficiência\")"
   ]
  }
 ],
 "metadata": {
  "colab": {
   "provenance": []
  },
  "kernelspec": {
   "display_name": "R",
   "language": "R",
   "name": "ir"
  },
  "language_info": {
   "codemirror_mode": "r",
   "file_extension": ".r",
   "mimetype": "text/x-r-source",
   "name": "R",
   "pygments_lexer": "r",
   "version": "4.2.1"
  }
 },
 "nbformat": 4,
 "nbformat_minor": 4
}
