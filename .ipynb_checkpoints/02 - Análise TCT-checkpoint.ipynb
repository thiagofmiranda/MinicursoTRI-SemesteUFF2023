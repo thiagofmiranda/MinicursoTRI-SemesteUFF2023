{
 "cells": [
  {
   "cell_type": "markdown",
   "id": "9ceef840-c370-4f01-8854-9add8d296c3f",
   "metadata": {
    "id": "UQjncX5G6C44",
    "tags": []
   },
   "source": [
    "# Semana de Estatística 2023 - Universidade Federal Fluminense\n",
    "\n",
    "Minicurso: Introdução à Teoria da Resposta ao Item\n",
    "\n",
    "Ministrante: Profª Mariana Cúri - ICMC/USP\n",
    "\n",
    "Notebook desenvolvido por Thiago F. Miranda - Mestrando em Estatística USP/UFSCar\n",
    "\n",
    "---\n",
    "\n"
   ]
  },
  {
   "cell_type": "markdown",
   "id": "ddeacf7f-34d1-49b9-b37b-7fdf5ac0a1e6",
   "metadata": {
    "id": "UQjncX5G6C44",
    "tags": []
   },
   "source": [
    "## Notebook de Análise dos dados do ENEM pela Teoria Clássica dos Testes - TCT\n",
    "\n",
    "Ao longo deste notebook será apresentado:\n",
    "\n",
    "1. Como ler os microdados\n",
    "2. Como realizar a análise tct via pacote psych\n",
    "3. Como realizar a análise tct via pacote ltm\n",
    "4. Como fazer um relatório de item\n",
    "4. Como selecionar itens de uma avaliação \n",
    "---\n",
    "\n"
   ]
  },
  {
   "cell_type": "markdown",
   "id": "3e230ff3-f478-40de-9fb7-7d4d58d140bf",
   "metadata": {
    "id": "AMmX8tp79Szb"
   },
   "source": [
    "\n",
    "## 0 -  Configurações Iniciais\n"
   ]
  },
  {
   "cell_type": "code",
   "execution_count": 1,
   "id": "cd7eaa84-b1c0-4398-a1fb-788dacf211e8",
   "metadata": {
    "collapsed": true,
    "id": "5mNwxqmXQAug",
    "jupyter": {
     "outputs_hidden": true
    },
    "tags": []
   },
   "outputs": [
    {
     "name": "stderr",
     "output_type": "stream",
     "text": [
      "Carregando pacotes exigidos: tidyverse\n",
      "\n",
      "Warning message:\n",
      "\"package 'tidyverse' was built under R version 4.2.3\"\n",
      "Warning message:\n",
      "\"package 'ggplot2' was built under R version 4.2.3\"\n",
      "Warning message:\n",
      "\"package 'tibble' was built under R version 4.2.3\"\n",
      "Warning message:\n",
      "\"package 'tidyr' was built under R version 4.2.3\"\n",
      "Warning message:\n",
      "\"package 'readr' was built under R version 4.2.3\"\n",
      "Warning message:\n",
      "\"package 'purrr' was built under R version 4.2.3\"\n",
      "Warning message:\n",
      "\"package 'stringr' was built under R version 4.2.3\"\n",
      "Warning message:\n",
      "\"package 'forcats' was built under R version 4.2.3\"\n",
      "Warning message:\n",
      "\"package 'lubridate' was built under R version 4.2.3\"\n",
      "── \u001b[1mAttaching core tidyverse packages\u001b[22m ──────────────────────────────────────────────────────────────── tidyverse 2.0.0 ──\n",
      "\u001b[32m✔\u001b[39m \u001b[34mdplyr    \u001b[39m 1.0.10     \u001b[32m✔\u001b[39m \u001b[34mreadr    \u001b[39m 2.1.4 \n",
      "\u001b[32m✔\u001b[39m \u001b[34mforcats  \u001b[39m 1.0.0      \u001b[32m✔\u001b[39m \u001b[34mstringr  \u001b[39m 1.5.0 \n",
      "\u001b[32m✔\u001b[39m \u001b[34mggplot2  \u001b[39m 3.4.1      \u001b[32m✔\u001b[39m \u001b[34mtibble   \u001b[39m 3.2.1 \n",
      "\u001b[32m✔\u001b[39m \u001b[34mlubridate\u001b[39m 1.9.2      \u001b[32m✔\u001b[39m \u001b[34mtidyr    \u001b[39m 1.3.0 \n",
      "\u001b[32m✔\u001b[39m \u001b[34mpurrr    \u001b[39m 1.0.1      \n",
      "── \u001b[1mConflicts\u001b[22m ────────────────────────────────────────────────────────────────────────────────── tidyverse_conflicts() ──\n",
      "\u001b[31m✖\u001b[39m \u001b[34mdplyr\u001b[39m::\u001b[32mfilter()\u001b[39m masks \u001b[34mstats\u001b[39m::filter()\n",
      "\u001b[31m✖\u001b[39m \u001b[34mdplyr\u001b[39m::\u001b[32mlag()\u001b[39m    masks \u001b[34mstats\u001b[39m::lag()\n",
      "\u001b[36mℹ\u001b[39m Use the conflicted package (\u001b[3m\u001b[34m<http://conflicted.r-lib.org/>\u001b[39m\u001b[23m) to force all conflicts to become errors\n",
      "Carregando pacotes exigidos: data.table\n",
      "\n",
      "\n",
      "Attaching package: 'data.table'\n",
      "\n",
      "\n",
      "The following objects are masked from 'package:lubridate':\n",
      "\n",
      "    hour, isoweek, mday, minute, month, quarter, second, wday, week,\n",
      "    yday, year\n",
      "\n",
      "\n",
      "The following objects are masked from 'package:dplyr':\n",
      "\n",
      "    between, first, last\n",
      "\n",
      "\n",
      "The following object is masked from 'package:purrr':\n",
      "\n",
      "    transpose\n",
      "\n",
      "\n",
      "Carregando pacotes exigidos: dtplyr\n",
      "\n",
      "Carregando pacotes exigidos: ltm\n",
      "\n",
      "Warning message:\n",
      "\"package 'ltm' was built under R version 4.2.2\"\n",
      "Carregando pacotes exigidos: MASS\n",
      "\n",
      "\n",
      "Attaching package: 'MASS'\n",
      "\n",
      "\n",
      "The following object is masked from 'package:dplyr':\n",
      "\n",
      "    select\n",
      "\n",
      "\n",
      "Carregando pacotes exigidos: msm\n",
      "\n",
      "Warning message:\n",
      "\"package 'msm' was built under R version 4.2.2\"\n",
      "Carregando pacotes exigidos: polycor\n",
      "\n",
      "Warning message:\n",
      "\"package 'polycor' was built under R version 4.2.2\"\n",
      "Carregando pacotes exigidos: psych\n",
      "\n",
      "Warning message:\n",
      "\"package 'psych' was built under R version 4.2.3\"\n",
      "\n",
      "Attaching package: 'psych'\n",
      "\n",
      "\n",
      "The following object is masked from 'package:ltm':\n",
      "\n",
      "    factor.scores\n",
      "\n",
      "\n",
      "The following object is masked from 'package:polycor':\n",
      "\n",
      "    polyserial\n",
      "\n",
      "\n",
      "The following objects are masked from 'package:ggplot2':\n",
      "\n",
      "    %+%, alpha\n",
      "\n",
      "\n",
      "Carregando pacotes exigidos: ggpubr\n",
      "\n",
      "Warning message:\n",
      "\"package 'ggpubr' was built under R version 4.2.3\"\n",
      "Carregando pacotes exigidos: kableExtra\n",
      "\n",
      "Warning message:\n",
      "\"package 'kableExtra' was built under R version 4.2.3\"\n",
      "\n",
      "Attaching package: 'kableExtra'\n",
      "\n",
      "\n",
      "The following object is masked from 'package:dplyr':\n",
      "\n",
      "    group_rows\n",
      "\n",
      "\n",
      "Carregando pacotes exigidos: IRdisplay\n",
      "\n",
      "Warning message:\n",
      "\"package 'IRdisplay' was built under R version 4.2.3\"\n"
     ]
    }
   ],
   "source": [
    "# Instalação e carga de Pacotes\n",
    "if(!require(tidyverse)){install.packages(\"tidyverse\")}; library(tidyverse)\n",
    "if(!require(data.table)){install.packages(\"data.table\")}; library(data.table)\n",
    "if(!require(dtplyr)){install.packages(\"dtplyr\")}; library(dtplyr)\n",
    "if(!require(ltm)){install.packages(\"ltm\")}; library(ltm)\n",
    "if(!require(psych)){install.packages(\"psych\")}; library(psych)\n",
    "if(!require(ggpubr)){install.packages(\"ggpubr\")}; library(ggpubr)\n",
    "if(!require(kableExtra)){install.packages(\"kableExtra\")}; library(kableExtra)\n",
    "if(!require(IRdisplay)){install.packages(\"IRdisplay\")}; library(IRdisplay)"
   ]
  },
  {
   "cell_type": "code",
   "execution_count": 2,
   "id": "cf948f21-1feb-457f-b87d-9e5406622492",
   "metadata": {
    "id": "3xbdrmaJ9a50",
    "tags": []
   },
   "outputs": [],
   "source": [
    "# Definições necessárias para download, leitura, amostragem e organização dos dados\n",
    "pasta <- \"TRI ENEM/\"\n",
    "ano <- \"2022\"\n",
    "area <- \"MT\""
   ]
  },
  {
   "cell_type": "markdown",
   "id": "103830dc-f77b-47bc-b420-0374378db990",
   "metadata": {
    "id": "AMmX8tp79Szb"
   },
   "source": [
    "\n",
    "## 1 -  Lendo dados\n"
   ]
  },
  {
   "cell_type": "code",
   "execution_count": 3,
   "id": "1b73c988-b7fc-492d-89b8-29e3263847ec",
   "metadata": {
    "id": "07fBjqm8Vz6N",
    "tags": []
   },
   "outputs": [],
   "source": [
    "# Lendo itens\n",
    "itens <- fread(paste0(pasta,\"AMOSTRA/\",ano,\"/itens.csv\"))"
   ]
  },
  {
   "cell_type": "code",
   "execution_count": 4,
   "id": "cdd98ef0-9341-4e9c-8d61-96c64b9e5062",
   "metadata": {
    "id": "07fBjqm8Vz6N",
    "tags": []
   },
   "outputs": [
    {
     "data": {
      "text/html": [
       "<table class=\"dataframe\">\n",
       "<caption>A data.frame: 6 × 45</caption>\n",
       "<thead>\n",
       "\t<tr><th></th><th scope=col>NU_INSCRICAO</th><th scope=col>I_005961</th><th scope=col>I_008364</th><th scope=col>I_010322</th><th scope=col>I_010409</th><th scope=col>I_010500</th><th scope=col>I_014797</th><th scope=col>I_019807</th><th scope=col>I_028683</th><th scope=col>I_030053</th><th scope=col>⋯</th><th scope=col>I_096315</th><th scope=col>I_097590</th><th scope=col>I_111516</th><th scope=col>I_111738</th><th scope=col>I_117651</th><th scope=col>I_117742</th><th scope=col>I_117820</th><th scope=col>I_117877</th><th scope=col>I_117886</th><th scope=col>I_117973</th></tr>\n",
       "\t<tr><th></th><th scope=col>&lt;int64&gt;</th><th scope=col>&lt;chr&gt;</th><th scope=col>&lt;chr&gt;</th><th scope=col>&lt;chr&gt;</th><th scope=col>&lt;chr&gt;</th><th scope=col>&lt;chr&gt;</th><th scope=col>&lt;chr&gt;</th><th scope=col>&lt;chr&gt;</th><th scope=col>&lt;chr&gt;</th><th scope=col>&lt;chr&gt;</th><th scope=col>⋯</th><th scope=col>&lt;chr&gt;</th><th scope=col>&lt;chr&gt;</th><th scope=col>&lt;chr&gt;</th><th scope=col>&lt;chr&gt;</th><th scope=col>&lt;chr&gt;</th><th scope=col>&lt;chr&gt;</th><th scope=col>&lt;chr&gt;</th><th scope=col>&lt;chr&gt;</th><th scope=col>&lt;chr&gt;</th><th scope=col>&lt;chr&gt;</th></tr>\n",
       "</thead>\n",
       "<tbody>\n",
       "\t<tr><th scope=row>1</th><td>210054479192</td><td>E</td><td>B</td><td>C</td><td>D</td><td>A</td><td>A</td><td>A</td><td>B</td><td>A</td><td>⋯</td><td>C</td><td>E</td><td>A</td><td>B</td><td>B</td><td>C</td><td>E</td><td>C</td><td>C</td><td>A</td></tr>\n",
       "\t<tr><th scope=row>2</th><td>210054483969</td><td>B</td><td>A</td><td>A</td><td>E</td><td>D</td><td>A</td><td>D</td><td>A</td><td>C</td><td>⋯</td><td>A</td><td>C</td><td>C</td><td>.</td><td>.</td><td>.</td><td>.</td><td>B</td><td>.</td><td>A</td></tr>\n",
       "\t<tr><th scope=row>3</th><td>210054484198</td><td>B</td><td>E</td><td>C</td><td>D</td><td>D</td><td>C</td><td>B</td><td>A</td><td>C</td><td>⋯</td><td>A</td><td>B</td><td>B</td><td>C</td><td>C</td><td>B</td><td>B</td><td>A</td><td>D</td><td>C</td></tr>\n",
       "\t<tr><th scope=row>4</th><td>210054484386</td><td>D</td><td>C</td><td>C</td><td>B</td><td>C</td><td>B</td><td>C</td><td>A</td><td>D</td><td>⋯</td><td>A</td><td>C</td><td>E</td><td>A</td><td>D</td><td>C</td><td>B</td><td>D</td><td>D</td><td>B</td></tr>\n",
       "\t<tr><th scope=row>5</th><td>210054491071</td><td>B</td><td>D</td><td>A</td><td>B</td><td>D</td><td>B</td><td>C</td><td>B</td><td>D</td><td>⋯</td><td>C</td><td>B</td><td>D</td><td>D</td><td>D</td><td>B</td><td>D</td><td>D</td><td>D</td><td>C</td></tr>\n",
       "\t<tr><th scope=row>6</th><td>210054491537</td><td>C</td><td>B</td><td>B</td><td>D</td><td>A</td><td>D</td><td>E</td><td>C</td><td>B</td><td>⋯</td><td>C</td><td>C</td><td>B</td><td>D</td><td>B</td><td>B</td><td>A</td><td>C</td><td>D</td><td>B</td></tr>\n",
       "</tbody>\n",
       "</table>\n"
      ],
      "text/latex": [
       "A data.frame: 6 × 45\n",
       "\\begin{tabular}{r|lllllllllllllllllllll}\n",
       "  & NU\\_INSCRICAO & I\\_005961 & I\\_008364 & I\\_010322 & I\\_010409 & I\\_010500 & I\\_014797 & I\\_019807 & I\\_028683 & I\\_030053 & ⋯ & I\\_096315 & I\\_097590 & I\\_111516 & I\\_111738 & I\\_117651 & I\\_117742 & I\\_117820 & I\\_117877 & I\\_117886 & I\\_117973\\\\\n",
       "  & <int64> & <chr> & <chr> & <chr> & <chr> & <chr> & <chr> & <chr> & <chr> & <chr> & ⋯ & <chr> & <chr> & <chr> & <chr> & <chr> & <chr> & <chr> & <chr> & <chr> & <chr>\\\\\n",
       "\\hline\n",
       "\t1 & 210054479192 & E & B & C & D & A & A & A & B & A & ⋯ & C & E & A & B & B & C & E & C & C & A\\\\\n",
       "\t2 & 210054483969 & B & A & A & E & D & A & D & A & C & ⋯ & A & C & C & . & . & . & . & B & . & A\\\\\n",
       "\t3 & 210054484198 & B & E & C & D & D & C & B & A & C & ⋯ & A & B & B & C & C & B & B & A & D & C\\\\\n",
       "\t4 & 210054484386 & D & C & C & B & C & B & C & A & D & ⋯ & A & C & E & A & D & C & B & D & D & B\\\\\n",
       "\t5 & 210054491071 & B & D & A & B & D & B & C & B & D & ⋯ & C & B & D & D & D & B & D & D & D & C\\\\\n",
       "\t6 & 210054491537 & C & B & B & D & A & D & E & C & B & ⋯ & C & C & B & D & B & B & A & C & D & B\\\\\n",
       "\\end{tabular}\n"
      ],
      "text/markdown": [
       "\n",
       "A data.frame: 6 × 45\n",
       "\n",
       "| <!--/--> | NU_INSCRICAO &lt;int64&gt; | I_005961 &lt;chr&gt; | I_008364 &lt;chr&gt; | I_010322 &lt;chr&gt; | I_010409 &lt;chr&gt; | I_010500 &lt;chr&gt; | I_014797 &lt;chr&gt; | I_019807 &lt;chr&gt; | I_028683 &lt;chr&gt; | I_030053 &lt;chr&gt; | ⋯ ⋯ | I_096315 &lt;chr&gt; | I_097590 &lt;chr&gt; | I_111516 &lt;chr&gt; | I_111738 &lt;chr&gt; | I_117651 &lt;chr&gt; | I_117742 &lt;chr&gt; | I_117820 &lt;chr&gt; | I_117877 &lt;chr&gt; | I_117886 &lt;chr&gt; | I_117973 &lt;chr&gt; |\n",
       "|---|---|---|---|---|---|---|---|---|---|---|---|---|---|---|---|---|---|---|---|---|---|\n",
       "| 1 | 210054479192 | E | B | C | D | A | A | A | B | A | ⋯ | C | E | A | B | B | C | E | C | C | A |\n",
       "| 2 | 210054483969 | B | A | A | E | D | A | D | A | C | ⋯ | A | C | C | . | . | . | . | B | . | A |\n",
       "| 3 | 210054484198 | B | E | C | D | D | C | B | A | C | ⋯ | A | B | B | C | C | B | B | A | D | C |\n",
       "| 4 | 210054484386 | D | C | C | B | C | B | C | A | D | ⋯ | A | C | E | A | D | C | B | D | D | B |\n",
       "| 5 | 210054491071 | B | D | A | B | D | B | C | B | D | ⋯ | C | B | D | D | D | B | D | D | D | C |\n",
       "| 6 | 210054491537 | C | B | B | D | A | D | E | C | B | ⋯ | C | C | B | D | B | B | A | C | D | B |\n",
       "\n"
      ],
      "text/plain": [
       "  NU_INSCRICAO I_005961 I_008364 I_010322 I_010409 I_010500 I_014797 I_019807\n",
       "1 210054479192 E        B        C        D        A        A        A       \n",
       "2 210054483969 B        A        A        E        D        A        D       \n",
       "3 210054484198 B        E        C        D        D        C        B       \n",
       "4 210054484386 D        C        C        B        C        B        C       \n",
       "5 210054491071 B        D        A        B        D        B        C       \n",
       "6 210054491537 C        B        B        D        A        D        E       \n",
       "  I_028683 I_030053 ⋯ I_096315 I_097590 I_111516 I_111738 I_117651 I_117742\n",
       "1 B        A        ⋯ C        E        A        B        B        C       \n",
       "2 A        C        ⋯ A        C        C        .        .        .       \n",
       "3 A        C        ⋯ A        B        B        C        C        B       \n",
       "4 A        D        ⋯ A        C        E        A        D        C       \n",
       "5 B        D        ⋯ C        B        D        D        D        B       \n",
       "6 C        B        ⋯ C        C        B        D        B        B       \n",
       "  I_117820 I_117877 I_117886 I_117973\n",
       "1 E        C        C        A       \n",
       "2 .        B        .        A       \n",
       "3 B        A        D        C       \n",
       "4 B        D        D        B       \n",
       "5 D        D        D        C       \n",
       "6 A        C        D        B       "
      ]
     },
     "metadata": {},
     "output_type": "display_data"
    }
   ],
   "source": [
    "# Lendo amostra de respostas originais ordenadas \n",
    "# Na aplicação de matemática o item I_039443 foi excluído pelo INEP\n",
    "# Como ele não possui gabarito, não poderá ser avaliado\n",
    "amostra_resposta_ordenada <- fread(paste0(pasta,\"AMOSTRA/\",ano,\"/amostra_resposta_ordenada.csv\"))\n",
    "amostra_resposta_ordenada <- amostra_resposta_ordenada |>\n",
    "  dplyr::select(-I_039443) |> \n",
    "  as.data.frame()\n",
    "\n",
    "head(amostra_resposta_ordenada)"
   ]
  },
  {
   "cell_type": "code",
   "execution_count": 5,
   "id": "362eee54-607d-44ed-904a-3049f7552867",
   "metadata": {
    "id": "07fBjqm8Vz6N",
    "tags": []
   },
   "outputs": [
    {
     "data": {
      "text/html": [
       "<table class=\"dataframe\">\n",
       "<caption>A data.frame: 6 × 45</caption>\n",
       "<thead>\n",
       "\t<tr><th></th><th scope=col>NU_INSCRICAO</th><th scope=col>I_005961</th><th scope=col>I_008364</th><th scope=col>I_010322</th><th scope=col>I_010409</th><th scope=col>I_010500</th><th scope=col>I_014797</th><th scope=col>I_019807</th><th scope=col>I_028683</th><th scope=col>I_030053</th><th scope=col>⋯</th><th scope=col>I_096315</th><th scope=col>I_097590</th><th scope=col>I_111516</th><th scope=col>I_111738</th><th scope=col>I_117651</th><th scope=col>I_117742</th><th scope=col>I_117820</th><th scope=col>I_117877</th><th scope=col>I_117886</th><th scope=col>I_117973</th></tr>\n",
       "\t<tr><th></th><th scope=col>&lt;int64&gt;</th><th scope=col>&lt;int&gt;</th><th scope=col>&lt;int&gt;</th><th scope=col>&lt;int&gt;</th><th scope=col>&lt;int&gt;</th><th scope=col>&lt;int&gt;</th><th scope=col>&lt;int&gt;</th><th scope=col>&lt;int&gt;</th><th scope=col>&lt;int&gt;</th><th scope=col>&lt;int&gt;</th><th scope=col>⋯</th><th scope=col>&lt;int&gt;</th><th scope=col>&lt;int&gt;</th><th scope=col>&lt;int&gt;</th><th scope=col>&lt;int&gt;</th><th scope=col>&lt;int&gt;</th><th scope=col>&lt;int&gt;</th><th scope=col>&lt;int&gt;</th><th scope=col>&lt;int&gt;</th><th scope=col>&lt;int&gt;</th><th scope=col>&lt;int&gt;</th></tr>\n",
       "</thead>\n",
       "<tbody>\n",
       "\t<tr><th scope=row>1</th><td>210054479192</td><td>0</td><td>0</td><td>1</td><td>0</td><td>0</td><td>0</td><td>0</td><td>0</td><td>0</td><td>⋯</td><td>0</td><td>1</td><td>0</td><td>1</td><td>0</td><td>0</td><td>0</td><td>0</td><td>0</td><td>1</td></tr>\n",
       "\t<tr><th scope=row>2</th><td>210054483969</td><td>0</td><td>1</td><td>0</td><td>1</td><td>0</td><td>0</td><td>0</td><td>1</td><td>1</td><td>⋯</td><td>1</td><td>0</td><td>1</td><td>0</td><td>0</td><td>0</td><td>0</td><td>1</td><td>0</td><td>1</td></tr>\n",
       "\t<tr><th scope=row>3</th><td>210054484198</td><td>0</td><td>0</td><td>1</td><td>0</td><td>0</td><td>0</td><td>0</td><td>1</td><td>1</td><td>⋯</td><td>1</td><td>0</td><td>0</td><td>0</td><td>0</td><td>1</td><td>0</td><td>0</td><td>1</td><td>0</td></tr>\n",
       "\t<tr><th scope=row>4</th><td>210054484386</td><td>1</td><td>0</td><td>1</td><td>0</td><td>0</td><td>0</td><td>0</td><td>1</td><td>0</td><td>⋯</td><td>1</td><td>0</td><td>0</td><td>0</td><td>0</td><td>0</td><td>0</td><td>0</td><td>1</td><td>0</td></tr>\n",
       "\t<tr><th scope=row>5</th><td>210054491071</td><td>0</td><td>0</td><td>0</td><td>0</td><td>0</td><td>0</td><td>0</td><td>0</td><td>0</td><td>⋯</td><td>0</td><td>0</td><td>0</td><td>0</td><td>0</td><td>1</td><td>0</td><td>0</td><td>1</td><td>0</td></tr>\n",
       "\t<tr><th scope=row>6</th><td>210054491537</td><td>0</td><td>0</td><td>0</td><td>0</td><td>0</td><td>1</td><td>1</td><td>0</td><td>0</td><td>⋯</td><td>0</td><td>0</td><td>0</td><td>0</td><td>0</td><td>1</td><td>0</td><td>0</td><td>1</td><td>0</td></tr>\n",
       "</tbody>\n",
       "</table>\n"
      ],
      "text/latex": [
       "A data.frame: 6 × 45\n",
       "\\begin{tabular}{r|lllllllllllllllllllll}\n",
       "  & NU\\_INSCRICAO & I\\_005961 & I\\_008364 & I\\_010322 & I\\_010409 & I\\_010500 & I\\_014797 & I\\_019807 & I\\_028683 & I\\_030053 & ⋯ & I\\_096315 & I\\_097590 & I\\_111516 & I\\_111738 & I\\_117651 & I\\_117742 & I\\_117820 & I\\_117877 & I\\_117886 & I\\_117973\\\\\n",
       "  & <int64> & <int> & <int> & <int> & <int> & <int> & <int> & <int> & <int> & <int> & ⋯ & <int> & <int> & <int> & <int> & <int> & <int> & <int> & <int> & <int> & <int>\\\\\n",
       "\\hline\n",
       "\t1 & 210054479192 & 0 & 0 & 1 & 0 & 0 & 0 & 0 & 0 & 0 & ⋯ & 0 & 1 & 0 & 1 & 0 & 0 & 0 & 0 & 0 & 1\\\\\n",
       "\t2 & 210054483969 & 0 & 1 & 0 & 1 & 0 & 0 & 0 & 1 & 1 & ⋯ & 1 & 0 & 1 & 0 & 0 & 0 & 0 & 1 & 0 & 1\\\\\n",
       "\t3 & 210054484198 & 0 & 0 & 1 & 0 & 0 & 0 & 0 & 1 & 1 & ⋯ & 1 & 0 & 0 & 0 & 0 & 1 & 0 & 0 & 1 & 0\\\\\n",
       "\t4 & 210054484386 & 1 & 0 & 1 & 0 & 0 & 0 & 0 & 1 & 0 & ⋯ & 1 & 0 & 0 & 0 & 0 & 0 & 0 & 0 & 1 & 0\\\\\n",
       "\t5 & 210054491071 & 0 & 0 & 0 & 0 & 0 & 0 & 0 & 0 & 0 & ⋯ & 0 & 0 & 0 & 0 & 0 & 1 & 0 & 0 & 1 & 0\\\\\n",
       "\t6 & 210054491537 & 0 & 0 & 0 & 0 & 0 & 1 & 1 & 0 & 0 & ⋯ & 0 & 0 & 0 & 0 & 0 & 1 & 0 & 0 & 1 & 0\\\\\n",
       "\\end{tabular}\n"
      ],
      "text/markdown": [
       "\n",
       "A data.frame: 6 × 45\n",
       "\n",
       "| <!--/--> | NU_INSCRICAO &lt;int64&gt; | I_005961 &lt;int&gt; | I_008364 &lt;int&gt; | I_010322 &lt;int&gt; | I_010409 &lt;int&gt; | I_010500 &lt;int&gt; | I_014797 &lt;int&gt; | I_019807 &lt;int&gt; | I_028683 &lt;int&gt; | I_030053 &lt;int&gt; | ⋯ ⋯ | I_096315 &lt;int&gt; | I_097590 &lt;int&gt; | I_111516 &lt;int&gt; | I_111738 &lt;int&gt; | I_117651 &lt;int&gt; | I_117742 &lt;int&gt; | I_117820 &lt;int&gt; | I_117877 &lt;int&gt; | I_117886 &lt;int&gt; | I_117973 &lt;int&gt; |\n",
       "|---|---|---|---|---|---|---|---|---|---|---|---|---|---|---|---|---|---|---|---|---|---|\n",
       "| 1 | 210054479192 | 0 | 0 | 1 | 0 | 0 | 0 | 0 | 0 | 0 | ⋯ | 0 | 1 | 0 | 1 | 0 | 0 | 0 | 0 | 0 | 1 |\n",
       "| 2 | 210054483969 | 0 | 1 | 0 | 1 | 0 | 0 | 0 | 1 | 1 | ⋯ | 1 | 0 | 1 | 0 | 0 | 0 | 0 | 1 | 0 | 1 |\n",
       "| 3 | 210054484198 | 0 | 0 | 1 | 0 | 0 | 0 | 0 | 1 | 1 | ⋯ | 1 | 0 | 0 | 0 | 0 | 1 | 0 | 0 | 1 | 0 |\n",
       "| 4 | 210054484386 | 1 | 0 | 1 | 0 | 0 | 0 | 0 | 1 | 0 | ⋯ | 1 | 0 | 0 | 0 | 0 | 0 | 0 | 0 | 1 | 0 |\n",
       "| 5 | 210054491071 | 0 | 0 | 0 | 0 | 0 | 0 | 0 | 0 | 0 | ⋯ | 0 | 0 | 0 | 0 | 0 | 1 | 0 | 0 | 1 | 0 |\n",
       "| 6 | 210054491537 | 0 | 0 | 0 | 0 | 0 | 1 | 1 | 0 | 0 | ⋯ | 0 | 0 | 0 | 0 | 0 | 1 | 0 | 0 | 1 | 0 |\n",
       "\n"
      ],
      "text/plain": [
       "  NU_INSCRICAO I_005961 I_008364 I_010322 I_010409 I_010500 I_014797 I_019807\n",
       "1 210054479192 0        0        1        0        0        0        0       \n",
       "2 210054483969 0        1        0        1        0        0        0       \n",
       "3 210054484198 0        0        1        0        0        0        0       \n",
       "4 210054484386 1        0        1        0        0        0        0       \n",
       "5 210054491071 0        0        0        0        0        0        0       \n",
       "6 210054491537 0        0        0        0        0        1        1       \n",
       "  I_028683 I_030053 ⋯ I_096315 I_097590 I_111516 I_111738 I_117651 I_117742\n",
       "1 0        0        ⋯ 0        1        0        1        0        0       \n",
       "2 1        1        ⋯ 1        0        1        0        0        0       \n",
       "3 1        1        ⋯ 1        0        0        0        0        1       \n",
       "4 1        0        ⋯ 1        0        0        0        0        0       \n",
       "5 0        0        ⋯ 0        0        0        0        0        1       \n",
       "6 0        0        ⋯ 0        0        0        0        0        1       \n",
       "  I_117820 I_117877 I_117886 I_117973\n",
       "1 0        0        0        1       \n",
       "2 0        1        0        1       \n",
       "3 0        0        1        0       \n",
       "4 0        0        1        0       \n",
       "5 0        0        1        0       \n",
       "6 0        0        1        0       "
      ]
     },
     "metadata": {},
     "output_type": "display_data"
    }
   ],
   "source": [
    "# Lendo amostra de respostas dicotomizadas ordenadas\n",
    "amostra_correcao_ordenada <- fread(paste0(pasta,\"AMOSTRA/\",ano,\"/amostra_correcao_ordenada.csv\"))\n",
    "amostra_correcao_ordenada <- amostra_correcao_ordenada |>\n",
    "  dplyr::select(-I_039443) |> \n",
    "  as.data.frame()\n",
    "\n",
    "head(amostra_correcao_ordenada)"
   ]
  },
  {
   "cell_type": "markdown",
   "id": "1e5a7e6c-b111-43b7-89c5-71aeba087510",
   "metadata": {
    "id": "AMmX8tp79Szb"
   },
   "source": [
    "## 2 -  Análise TCT via pacote psych \n",
    "\n",
    "A análise clássica pode ser feita com a função `alpha()`"
   ]
  },
  {
   "cell_type": "code",
   "execution_count": 6,
   "id": "a0bfd662-32bc-4a20-b52d-7005c72e5e32",
   "metadata": {
    "colab": {
     "base_uri": "https://localhost:8080/"
    },
    "id": "_a6d0bwqV_DO",
    "outputId": "28143944-32d4-45ac-d189-f482a967641b",
    "tags": []
   },
   "outputs": [
    {
     "name": "stderr",
     "output_type": "stream",
     "text": [
      "Warning message in alpha(dplyr::select(amostra_correcao_ordenada, -NU_INSCRICAO)):\n",
      "\"Some items were negatively correlated with the total scale and probably \n",
      "should be reversed.  \n",
      "To do this, run the function again with the 'check.keys=TRUE' option\"\n"
     ]
    },
    {
     "name": "stdout",
     "output_type": "stream",
     "text": [
      "Some items ( I_086499 I_089637 ) were negatively correlated with the total scale and \n",
      "probably should be reversed.  \n",
      "To do this, run the function again with the 'check.keys=TRUE' option"
     ]
    }
   ],
   "source": [
    "psych_enem <- alpha(dplyr::select(amostra_correcao_ordenada,-NU_INSCRICAO))"
   ]
  },
  {
   "cell_type": "code",
   "execution_count": 7,
   "id": "f302a0c9-d747-4edb-a727-824bfd514f59",
   "metadata": {
    "tags": []
   },
   "outputs": [
    {
     "data": {
      "text/plain": [
       "\n",
       "Reliability analysis   \n",
       "Call: alpha(x = dplyr::select(amostra_correcao_ordenada, -NU_INSCRICAO))\n",
       "\n",
       "  raw_alpha std.alpha G6(smc) average_r S/N   ase mean   sd median_r\n",
       "       0.7      0.69    0.71     0.048 2.2 0.013 0.29 0.12     0.04\n",
       "\n",
       "    95% confidence boundaries \n",
       "         lower alpha upper\n",
       "Feldt     0.68   0.7  0.73\n",
       "Duhachek  0.68   0.7  0.73\n",
       "\n",
       " Reliability if an item is dropped:\n",
       "         raw_alpha std.alpha G6(smc) average_r S/N alpha se  var.r med.r\n",
       "I_005961      0.70      0.69    0.71     0.048 2.2    0.013 0.0035 0.040\n",
       "I_008364      0.70      0.68    0.70     0.048 2.2    0.013 0.0035 0.038\n",
       "I_010322      0.69      0.68    0.70     0.047 2.1    0.014 0.0034 0.038\n",
       "I_010409      0.70      0.68    0.70     0.048 2.1    0.013 0.0035 0.038\n",
       "I_010500      0.71      0.69    0.71     0.050 2.2    0.013 0.0035 0.041\n",
       "I_014797      0.70      0.69    0.70     0.048 2.2    0.013 0.0035 0.040\n",
       "I_019807      0.70      0.69    0.70     0.048 2.2    0.013 0.0035 0.039\n",
       "I_028683      0.70      0.69    0.71     0.049 2.2    0.013 0.0035 0.040\n",
       "I_030053      0.70      0.68    0.70     0.048 2.2    0.013 0.0035 0.039\n",
       "I_030327      0.69      0.67    0.69     0.046 2.1    0.014 0.0031 0.037\n",
       "I_030493      0.70      0.69    0.71     0.049 2.2    0.013 0.0035 0.040\n",
       "I_031516      0.70      0.68    0.70     0.047 2.1    0.014 0.0035 0.038\n",
       "I_032369      0.70      0.68    0.70     0.048 2.2    0.013 0.0035 0.039\n",
       "I_043182      0.69      0.68    0.70     0.046 2.1    0.014 0.0034 0.037\n",
       "I_047309      0.70      0.69    0.70     0.048 2.2    0.013 0.0035 0.039\n",
       "I_053461      0.70      0.68    0.70     0.048 2.2    0.013 0.0035 0.039\n",
       "I_060441      0.69      0.68    0.70     0.047 2.1    0.014 0.0033 0.038\n",
       "I_061248      0.70      0.68    0.70     0.047 2.1    0.013 0.0035 0.038\n",
       "I_063204      0.69      0.68    0.69     0.046 2.1    0.014 0.0034 0.036\n",
       "I_063646      0.70      0.68    0.70     0.047 2.1    0.013 0.0035 0.039\n",
       "I_068123      0.68      0.67    0.69     0.045 2.0    0.014 0.0031 0.036\n",
       "I_068369      0.69      0.67    0.69     0.046 2.1    0.014 0.0032 0.036\n",
       "I_075829      0.70      0.68    0.70     0.048 2.1    0.013 0.0035 0.037\n",
       "I_082581      0.70      0.68    0.70     0.048 2.2    0.013 0.0035 0.039\n",
       "I_085013      0.70      0.69    0.71     0.049 2.2    0.013 0.0035 0.040\n",
       "I_085228      0.71      0.69    0.71     0.050 2.3    0.013 0.0035 0.041\n",
       "I_085343      0.70      0.69    0.71     0.049 2.2    0.013 0.0035 0.041\n",
       "I_085588      0.69      0.68    0.70     0.047 2.1    0.014 0.0033 0.038\n",
       "I_086466      0.70      0.69    0.71     0.049 2.2    0.013 0.0035 0.040\n",
       "I_086499      0.71      0.69    0.71     0.050 2.3    0.013 0.0035 0.041\n",
       "I_086840      0.70      0.69    0.71     0.049 2.2    0.013 0.0035 0.040\n",
       "I_089637      0.71      0.69    0.71     0.050 2.3    0.013 0.0034 0.041\n",
       "I_095509      0.71      0.69    0.71     0.050 2.2    0.013 0.0035 0.041\n",
       "I_095676      0.69      0.68    0.69     0.046 2.1    0.014 0.0032 0.039\n",
       "I_096315      0.69      0.68    0.70     0.047 2.1    0.014 0.0033 0.038\n",
       "I_097590      0.70      0.69    0.70     0.048 2.2    0.013 0.0036 0.039\n",
       "I_111516      0.69      0.68    0.69     0.046 2.1    0.014 0.0033 0.036\n",
       "I_111738      0.70      0.69    0.71     0.048 2.2    0.013 0.0036 0.039\n",
       "I_117651      0.70      0.69    0.71     0.049 2.2    0.013 0.0035 0.039\n",
       "I_117742      0.70      0.68    0.70     0.048 2.2    0.013 0.0035 0.039\n",
       "I_117820      0.71      0.69    0.71     0.050 2.2    0.013 0.0035 0.041\n",
       "I_117877      0.69      0.68    0.69     0.046 2.1    0.014 0.0033 0.037\n",
       "I_117886      0.71      0.69    0.71     0.050 2.3    0.013 0.0035 0.041\n",
       "I_117973      0.71      0.69    0.71     0.049 2.2    0.013 0.0035 0.041\n",
       "\n",
       " Item statistics \n",
       "            n raw.r std.r   r.cor  r.drop  mean   sd\n",
       "I_005961 1000 0.229 0.225  0.1713  0.1429 0.299 0.46\n",
       "I_008364 1000 0.276 0.268  0.2255  0.1924 0.284 0.45\n",
       "I_010322 1000 0.367 0.351  0.3278  0.2790 0.491 0.50\n",
       "I_010409 1000 0.310 0.298  0.2609  0.2226 0.368 0.48\n",
       "I_010500 1000 0.122 0.139  0.0666  0.0501 0.170 0.38\n",
       "I_014797 1000 0.200 0.224  0.1726  0.1327 0.151 0.36\n",
       "I_019807 1000 0.194 0.236  0.1919  0.1405 0.090 0.29\n",
       "I_028683 1000 0.210 0.218  0.1650  0.1253 0.274 0.45\n",
       "I_030053 1000 0.262 0.260  0.2141  0.1763 0.313 0.46\n",
       "I_030327 1000 0.475 0.449  0.4590  0.3951 0.538 0.50\n",
       "I_030493 1000 0.220 0.214  0.1591  0.1338 0.299 0.46\n",
       "I_031516 1000 0.328 0.322  0.2909  0.2467 0.286 0.45\n",
       "I_032369 1000 0.259 0.273  0.2320  0.1843 0.204 0.40\n",
       "I_043182 1000 0.393 0.383  0.3693  0.3109 0.352 0.48\n",
       "I_047309 1000 0.251 0.245  0.1950  0.1640 0.322 0.47\n",
       "I_053461 1000 0.245 0.251  0.2044  0.1627 0.261 0.44\n",
       "I_060441 1000 0.366 0.348  0.3297  0.2825 0.657 0.47\n",
       "I_061248 1000 0.301 0.308  0.2739  0.2266 0.215 0.41\n",
       "I_063204 1000 0.399 0.400  0.3886  0.3285 0.222 0.42\n",
       "I_063646 1000 0.310 0.304  0.2680  0.2279 0.283 0.45\n",
       "I_068123 1000 0.526 0.516  0.5375  0.4568 0.307 0.46\n",
       "I_068369 1000 0.454 0.449  0.4548  0.3835 0.251 0.43\n",
       "I_075829 1000 0.301 0.297  0.2610  0.2187 0.281 0.45\n",
       "I_082581 1000 0.274 0.288  0.2539  0.2010 0.193 0.39\n",
       "I_085013 1000 0.161 0.169  0.1057  0.0776 0.255 0.44\n",
       "I_085228 1000 0.122 0.123  0.0491  0.0392 0.247 0.43\n",
       "I_085343 1000 0.126 0.147  0.0767  0.0574 0.147 0.35\n",
       "I_085588 1000 0.391 0.370  0.3555  0.3071 0.612 0.49\n",
       "I_086466 1000 0.169 0.180  0.1198  0.0885 0.230 0.42\n",
       "I_086499 1000 0.072 0.081 -0.0027 -0.0035 0.190 0.39\n",
       "I_086840 1000 0.167 0.169  0.1041  0.0813 0.281 0.45\n",
       "I_089637 1000 0.052 0.088  0.0078 -0.0016 0.085 0.28\n",
       "I_095509 1000 0.119 0.138  0.0658  0.0484 0.162 0.37\n",
       "I_095676 1000 0.415 0.391  0.3852  0.3301 0.526 0.50\n",
       "I_096315 1000 0.375 0.355  0.3364  0.2876 0.457 0.50\n",
       "I_097590 1000 0.215 0.233  0.1805  0.1462 0.157 0.36\n",
       "I_111516 1000 0.407 0.397  0.3864  0.3263 0.339 0.47\n",
       "I_111738 1000 0.224 0.228  0.1747  0.1396 0.278 0.45\n",
       "I_117651 1000 0.219 0.211  0.1548  0.1365 0.255 0.44\n",
       "I_117742 1000 0.282 0.273  0.2315  0.1933 0.359 0.48\n",
       "I_117820 1000 0.129 0.126  0.0536  0.0430 0.276 0.45\n",
       "I_117877 1000 0.407 0.398  0.3868  0.3279 0.320 0.47\n",
       "I_117886 1000 0.101 0.111  0.0339  0.0259 0.189 0.39\n",
       "I_117973 1000 0.145 0.155  0.0862  0.0644 0.225 0.42\n",
       "\n",
       "Non missing response frequency for each item\n",
       "            0    1 miss\n",
       "I_005961 0.70 0.30    0\n",
       "I_008364 0.72 0.28    0\n",
       "I_010322 0.51 0.49    0\n",
       "I_010409 0.63 0.37    0\n",
       "I_010500 0.83 0.17    0\n",
       "I_014797 0.85 0.15    0\n",
       "I_019807 0.91 0.09    0\n",
       "I_028683 0.73 0.27    0\n",
       "I_030053 0.69 0.31    0\n",
       "I_030327 0.46 0.54    0\n",
       "I_030493 0.70 0.30    0\n",
       "I_031516 0.71 0.29    0\n",
       "I_032369 0.80 0.20    0\n",
       "I_043182 0.65 0.35    0\n",
       "I_047309 0.68 0.32    0\n",
       "I_053461 0.74 0.26    0\n",
       "I_060441 0.34 0.66    0\n",
       "I_061248 0.78 0.22    0\n",
       "I_063204 0.78 0.22    0\n",
       "I_063646 0.72 0.28    0\n",
       "I_068123 0.69 0.31    0\n",
       "I_068369 0.75 0.25    0\n",
       "I_075829 0.72 0.28    0\n",
       "I_082581 0.81 0.19    0\n",
       "I_085013 0.74 0.26    0\n",
       "I_085228 0.75 0.25    0\n",
       "I_085343 0.85 0.15    0\n",
       "I_085588 0.39 0.61    0\n",
       "I_086466 0.77 0.23    0\n",
       "I_086499 0.81 0.19    0\n",
       "I_086840 0.72 0.28    0\n",
       "I_089637 0.92 0.09    0\n",
       "I_095509 0.84 0.16    0\n",
       "I_095676 0.47 0.53    0\n",
       "I_096315 0.54 0.46    0\n",
       "I_097590 0.84 0.16    0\n",
       "I_111516 0.66 0.34    0\n",
       "I_111738 0.72 0.28    0\n",
       "I_117651 0.74 0.26    0\n",
       "I_117742 0.64 0.36    0\n",
       "I_117820 0.72 0.28    0\n",
       "I_117877 0.68 0.32    0\n",
       "I_117886 0.81 0.19    0\n",
       "I_117973 0.78 0.22    0"
      ]
     },
     "metadata": {},
     "output_type": "display_data"
    }
   ],
   "source": [
    "psych_enem"
   ]
  },
  {
   "cell_type": "code",
   "execution_count": 8,
   "id": "51d9ed46-c23e-4699-8ce6-e922eb3411c7",
   "metadata": {
    "tags": []
   },
   "outputs": [
    {
     "data": {
      "text/html": [
       "<table class=\"dataframe\">\n",
       "<caption>A data.frame: 1 × 9</caption>\n",
       "<thead>\n",
       "\t<tr><th></th><th scope=col>raw_alpha</th><th scope=col>std.alpha</th><th scope=col>G6(smc)</th><th scope=col>average_r</th><th scope=col>S/N</th><th scope=col>ase</th><th scope=col>mean</th><th scope=col>sd</th><th scope=col>median_r</th></tr>\n",
       "\t<tr><th></th><th scope=col>&lt;dbl&gt;</th><th scope=col>&lt;dbl&gt;</th><th scope=col>&lt;dbl&gt;</th><th scope=col>&lt;dbl&gt;</th><th scope=col>&lt;dbl&gt;</th><th scope=col>&lt;dbl&gt;</th><th scope=col>&lt;dbl&gt;</th><th scope=col>&lt;dbl&gt;</th><th scope=col>&lt;dbl&gt;</th></tr>\n",
       "</thead>\n",
       "<tbody>\n",
       "\t<tr><th scope=row></th><td>0.7036759</td><td>0.6890257</td><td>0.707792</td><td>0.04794257</td><td>2.2157</td><td>0.01316965</td><td>0.2886591</td><td>0.1176307</td><td>0.03954801</td></tr>\n",
       "</tbody>\n",
       "</table>\n"
      ],
      "text/latex": [
       "A data.frame: 1 × 9\n",
       "\\begin{tabular}{r|lllllllll}\n",
       "  & raw\\_alpha & std.alpha & G6(smc) & average\\_r & S/N & ase & mean & sd & median\\_r\\\\\n",
       "  & <dbl> & <dbl> & <dbl> & <dbl> & <dbl> & <dbl> & <dbl> & <dbl> & <dbl>\\\\\n",
       "\\hline\n",
       "\t & 0.7036759 & 0.6890257 & 0.707792 & 0.04794257 & 2.2157 & 0.01316965 & 0.2886591 & 0.1176307 & 0.03954801\\\\\n",
       "\\end{tabular}\n"
      ],
      "text/markdown": [
       "\n",
       "A data.frame: 1 × 9\n",
       "\n",
       "| <!--/--> | raw_alpha &lt;dbl&gt; | std.alpha &lt;dbl&gt; | G6(smc) &lt;dbl&gt; | average_r &lt;dbl&gt; | S/N &lt;dbl&gt; | ase &lt;dbl&gt; | mean &lt;dbl&gt; | sd &lt;dbl&gt; | median_r &lt;dbl&gt; |\n",
       "|---|---|---|---|---|---|---|---|---|---|\n",
       "| <!----> | 0.7036759 | 0.6890257 | 0.707792 | 0.04794257 | 2.2157 | 0.01316965 | 0.2886591 | 0.1176307 | 0.03954801 |\n",
       "\n"
      ],
      "text/plain": [
       " raw_alpha std.alpha G6(smc)  average_r  S/N    ase        mean      sd       \n",
       " 0.7036759 0.6890257 0.707792 0.04794257 2.2157 0.01316965 0.2886591 0.1176307\n",
       " median_r  \n",
       " 0.03954801"
      ]
     },
     "metadata": {},
     "output_type": "display_data"
    }
   ],
   "source": [
    "# Nela temos estatísticas gerais do teste\n",
    "psych_enem$total"
   ]
  },
  {
   "cell_type": "code",
   "execution_count": 9,
   "id": "19f817ed-d732-42b9-80e0-297fc1d79adc",
   "metadata": {
    "tags": []
   },
   "outputs": [
    {
     "data": {
      "text/html": [
       "<table class=\"dataframe\">\n",
       "<caption>A data.frame: 6 × 7</caption>\n",
       "<thead>\n",
       "\t<tr><th></th><th scope=col>n</th><th scope=col>raw.r</th><th scope=col>std.r</th><th scope=col>r.cor</th><th scope=col>r.drop</th><th scope=col>mean</th><th scope=col>sd</th></tr>\n",
       "\t<tr><th></th><th scope=col>&lt;dbl&gt;</th><th scope=col>&lt;dbl&gt;</th><th scope=col>&lt;dbl&gt;</th><th scope=col>&lt;dbl&gt;</th><th scope=col>&lt;dbl&gt;</th><th scope=col>&lt;dbl&gt;</th><th scope=col>&lt;dbl&gt;</th></tr>\n",
       "</thead>\n",
       "<tbody>\n",
       "\t<tr><th scope=row>I_005961</th><td>1000</td><td>0.2290181</td><td>0.2247574</td><td>0.17126569</td><td>0.14287477</td><td>0.299</td><td>0.4580489</td></tr>\n",
       "\t<tr><th scope=row>I_008364</th><td>1000</td><td>0.2756021</td><td>0.2683228</td><td>0.22549265</td><td>0.19236424</td><td>0.284</td><td>0.4511624</td></tr>\n",
       "\t<tr><th scope=row>I_010322</th><td>1000</td><td>0.3668792</td><td>0.3506753</td><td>0.32784529</td><td>0.27896654</td><td>0.491</td><td>0.5001691</td></tr>\n",
       "\t<tr><th scope=row>I_010409</th><td>1000</td><td>0.3102562</td><td>0.2975184</td><td>0.26091849</td><td>0.22257174</td><td>0.368</td><td>0.4825027</td></tr>\n",
       "\t<tr><th scope=row>I_010500</th><td>1000</td><td>0.1223903</td><td>0.1388845</td><td>0.06661414</td><td>0.05009258</td><td>0.170</td><td>0.3758208</td></tr>\n",
       "\t<tr><th scope=row>I_014797</th><td>1000</td><td>0.2003780</td><td>0.2243523</td><td>0.17255206</td><td>0.13269651</td><td>0.151</td><td>0.3582280</td></tr>\n",
       "</tbody>\n",
       "</table>\n"
      ],
      "text/latex": [
       "A data.frame: 6 × 7\n",
       "\\begin{tabular}{r|lllllll}\n",
       "  & n & raw.r & std.r & r.cor & r.drop & mean & sd\\\\\n",
       "  & <dbl> & <dbl> & <dbl> & <dbl> & <dbl> & <dbl> & <dbl>\\\\\n",
       "\\hline\n",
       "\tI\\_005961 & 1000 & 0.2290181 & 0.2247574 & 0.17126569 & 0.14287477 & 0.299 & 0.4580489\\\\\n",
       "\tI\\_008364 & 1000 & 0.2756021 & 0.2683228 & 0.22549265 & 0.19236424 & 0.284 & 0.4511624\\\\\n",
       "\tI\\_010322 & 1000 & 0.3668792 & 0.3506753 & 0.32784529 & 0.27896654 & 0.491 & 0.5001691\\\\\n",
       "\tI\\_010409 & 1000 & 0.3102562 & 0.2975184 & 0.26091849 & 0.22257174 & 0.368 & 0.4825027\\\\\n",
       "\tI\\_010500 & 1000 & 0.1223903 & 0.1388845 & 0.06661414 & 0.05009258 & 0.170 & 0.3758208\\\\\n",
       "\tI\\_014797 & 1000 & 0.2003780 & 0.2243523 & 0.17255206 & 0.13269651 & 0.151 & 0.3582280\\\\\n",
       "\\end{tabular}\n"
      ],
      "text/markdown": [
       "\n",
       "A data.frame: 6 × 7\n",
       "\n",
       "| <!--/--> | n &lt;dbl&gt; | raw.r &lt;dbl&gt; | std.r &lt;dbl&gt; | r.cor &lt;dbl&gt; | r.drop &lt;dbl&gt; | mean &lt;dbl&gt; | sd &lt;dbl&gt; |\n",
       "|---|---|---|---|---|---|---|---|\n",
       "| I_005961 | 1000 | 0.2290181 | 0.2247574 | 0.17126569 | 0.14287477 | 0.299 | 0.4580489 |\n",
       "| I_008364 | 1000 | 0.2756021 | 0.2683228 | 0.22549265 | 0.19236424 | 0.284 | 0.4511624 |\n",
       "| I_010322 | 1000 | 0.3668792 | 0.3506753 | 0.32784529 | 0.27896654 | 0.491 | 0.5001691 |\n",
       "| I_010409 | 1000 | 0.3102562 | 0.2975184 | 0.26091849 | 0.22257174 | 0.368 | 0.4825027 |\n",
       "| I_010500 | 1000 | 0.1223903 | 0.1388845 | 0.06661414 | 0.05009258 | 0.170 | 0.3758208 |\n",
       "| I_014797 | 1000 | 0.2003780 | 0.2243523 | 0.17255206 | 0.13269651 | 0.151 | 0.3582280 |\n",
       "\n"
      ],
      "text/plain": [
       "         n    raw.r     std.r     r.cor      r.drop     mean  sd       \n",
       "I_005961 1000 0.2290181 0.2247574 0.17126569 0.14287477 0.299 0.4580489\n",
       "I_008364 1000 0.2756021 0.2683228 0.22549265 0.19236424 0.284 0.4511624\n",
       "I_010322 1000 0.3668792 0.3506753 0.32784529 0.27896654 0.491 0.5001691\n",
       "I_010409 1000 0.3102562 0.2975184 0.26091849 0.22257174 0.368 0.4825027\n",
       "I_010500 1000 0.1223903 0.1388845 0.06661414 0.05009258 0.170 0.3758208\n",
       "I_014797 1000 0.2003780 0.2243523 0.17255206 0.13269651 0.151 0.3582280"
      ]
     },
     "metadata": {},
     "output_type": "display_data"
    }
   ],
   "source": [
    "# Estatísticas dos itens\n",
    "head(psych_enem$item.stats)"
   ]
  },
  {
   "cell_type": "code",
   "execution_count": 10,
   "id": "73419da7-8313-4610-9352-7b39d65b6821",
   "metadata": {
    "tags": []
   },
   "outputs": [
    {
     "data": {
      "text/html": [
       "<table class=\"dataframe\">\n",
       "<caption>A matrix: 6 × 3 of type dbl</caption>\n",
       "<thead>\n",
       "\t<tr><th></th><th scope=col>0</th><th scope=col>1</th><th scope=col>miss</th></tr>\n",
       "</thead>\n",
       "<tbody>\n",
       "\t<tr><th scope=row>I_005961</th><td>0.701</td><td>0.299</td><td>0</td></tr>\n",
       "\t<tr><th scope=row>I_008364</th><td>0.716</td><td>0.284</td><td>0</td></tr>\n",
       "\t<tr><th scope=row>I_010322</th><td>0.509</td><td>0.491</td><td>0</td></tr>\n",
       "\t<tr><th scope=row>I_010409</th><td>0.632</td><td>0.368</td><td>0</td></tr>\n",
       "\t<tr><th scope=row>I_010500</th><td>0.830</td><td>0.170</td><td>0</td></tr>\n",
       "\t<tr><th scope=row>I_014797</th><td>0.849</td><td>0.151</td><td>0</td></tr>\n",
       "</tbody>\n",
       "</table>\n"
      ],
      "text/latex": [
       "A matrix: 6 × 3 of type dbl\n",
       "\\begin{tabular}{r|lll}\n",
       "  & 0 & 1 & miss\\\\\n",
       "\\hline\n",
       "\tI\\_005961 & 0.701 & 0.299 & 0\\\\\n",
       "\tI\\_008364 & 0.716 & 0.284 & 0\\\\\n",
       "\tI\\_010322 & 0.509 & 0.491 & 0\\\\\n",
       "\tI\\_010409 & 0.632 & 0.368 & 0\\\\\n",
       "\tI\\_010500 & 0.830 & 0.170 & 0\\\\\n",
       "\tI\\_014797 & 0.849 & 0.151 & 0\\\\\n",
       "\\end{tabular}\n"
      ],
      "text/markdown": [
       "\n",
       "A matrix: 6 × 3 of type dbl\n",
       "\n",
       "| <!--/--> | 0 | 1 | miss |\n",
       "|---|---|---|---|\n",
       "| I_005961 | 0.701 | 0.299 | 0 |\n",
       "| I_008364 | 0.716 | 0.284 | 0 |\n",
       "| I_010322 | 0.509 | 0.491 | 0 |\n",
       "| I_010409 | 0.632 | 0.368 | 0 |\n",
       "| I_010500 | 0.830 | 0.170 | 0 |\n",
       "| I_014797 | 0.849 | 0.151 | 0 |\n",
       "\n"
      ],
      "text/plain": [
       "         0     1     miss\n",
       "I_005961 0.701 0.299 0   \n",
       "I_008364 0.716 0.284 0   \n",
       "I_010322 0.509 0.491 0   \n",
       "I_010409 0.632 0.368 0   \n",
       "I_010500 0.830 0.170 0   \n",
       "I_014797 0.849 0.151 0   "
      ]
     },
     "metadata": {},
     "output_type": "display_data"
    }
   ],
   "source": [
    "# Frequência de respostas\n",
    "head(psych_enem$response.freq)"
   ]
  },
  {
   "cell_type": "code",
   "execution_count": 11,
   "id": "ef2403f4-6876-4ccf-85aa-0bb67e55ac71",
   "metadata": {
    "tags": []
   },
   "outputs": [
    {
     "name": "stderr",
     "output_type": "stream",
     "text": [
      "Warning message:\n",
      "\"Using `bins = 30` by default. Pick better value with the argument `bins`.\"\n"
     ]
    },
    {
     "data": {
      "image/png": "[encoded data removed]",
      "text/plain": [
       "plot without title"
      ]
     },
     "metadata": {
      "image/png": {
       "height": 900,
       "width": 1350
      }
     },
     "output_type": "display_data"
    }
   ],
   "source": [
    "options(repr.plot.width = 9, repr.plot.height = 6, repr.plot.res = 300)\n",
    "# Escores\n",
    "gghistogram(psych_enem$scores)"
   ]
  },
  {
   "cell_type": "markdown",
   "id": "e63a09e5-de64-4b70-8166-91f874b6d242",
   "metadata": {
    "id": "AMmX8tp79Szb"
   },
   "source": [
    "## 3 -  Análise TCT via pacote ltm \n",
    "\n",
    "A análise clássica pode ser feita com a função `descript()`"
   ]
  },
  {
   "cell_type": "code",
   "execution_count": 12,
   "id": "5198b7f3-33a5-4254-955c-63519f460895",
   "metadata": {
    "tags": []
   },
   "outputs": [],
   "source": [
    "ltm_enem <- ltm::descript(dplyr::select(amostra_correcao_ordenada,-NU_INSCRICAO))"
   ]
  },
  {
   "cell_type": "code",
   "execution_count": 13,
   "id": "bedbea61-c2f7-4c53-95c3-ae7970273cff",
   "metadata": {
    "tags": []
   },
   "outputs": [
    {
     "data": {
      "text/plain": [
       "\n",
       "Descriptive statistics for the 'dplyr::select(amostra_correcao_ordenada, -NU_INSCRICAO)' data-set\n",
       "\n",
       "Sample:\n",
       " 44 items and 1000 sample units; 0 missing values\n",
       "\n",
       "Proportions for each level of response:\n",
       "             0     1   logit\n",
       "I_005961 0.701 0.299 -0.8521\n",
       "I_008364 0.716 0.284 -0.9247\n",
       "I_010322 0.509 0.491 -0.0360\n",
       "I_010409 0.632 0.368 -0.5408\n",
       "I_010500 0.830 0.170 -1.5856\n",
       "I_014797 0.849 0.151 -1.7268\n",
       "I_019807 0.910 0.090 -2.3136\n",
       "I_028683 0.726 0.274 -0.9744\n",
       "I_030053 0.687 0.313 -0.7861\n",
       "I_030327 0.462 0.538  0.1523\n",
       "I_030493 0.701 0.299 -0.8521\n",
       "I_031516 0.714 0.286 -0.9149\n",
       "I_032369 0.796 0.204 -1.3615\n",
       "I_043182 0.648 0.352 -0.6103\n",
       "I_047309 0.678 0.322 -0.7446\n",
       "I_053461 0.739 0.261 -1.0408\n",
       "I_060441 0.343 0.657  0.6500\n",
       "I_061248 0.785 0.215 -1.2950\n",
       "I_063204 0.778 0.222 -1.2540\n",
       "I_063646 0.717 0.283 -0.9296\n",
       "I_068123 0.693 0.307 -0.8142\n",
       "I_068369 0.749 0.251 -1.0933\n",
       "I_075829 0.719 0.281 -0.9395\n",
       "I_082581 0.807 0.193 -1.4306\n",
       "I_085013 0.745 0.255 -1.0721\n",
       "I_085228 0.753 0.247 -1.1147\n",
       "I_085343 0.853 0.147 -1.7583\n",
       "I_085588 0.388 0.612  0.4557\n",
       "I_086466 0.770 0.230 -1.2083\n",
       "I_086499 0.810 0.190 -1.4500\n",
       "I_086840 0.719 0.281 -0.9395\n",
       "I_089637 0.915 0.085 -2.3763\n",
       "I_095509 0.838 0.162 -1.6434\n",
       "I_095676 0.474 0.526  0.1041\n",
       "I_096315 0.543 0.457 -0.1724\n",
       "I_097590 0.843 0.157 -1.6807\n",
       "I_111516 0.661 0.339 -0.6678\n",
       "I_111738 0.722 0.278 -0.9544\n",
       "I_117651 0.745 0.255 -1.0721\n",
       "I_117742 0.641 0.359 -0.5797\n",
       "I_117820 0.724 0.276 -0.9644\n",
       "I_117877 0.680 0.320 -0.7538\n",
       "I_117886 0.811 0.189 -1.4565\n",
       "I_117973 0.775 0.225 -1.2368\n",
       "\n",
       "\n",
       "Frequencies of total scores:\n",
       "     0 1 2 3 4  5  6  7  8   9  10  11 12 13 14 15 16 17 18 19 20 21 22 23 24\n",
       "Freq 0 0 0 6 7 19 38 41 56 105 108 103 99 75 72 40 46 24 36 24 19 14 14 16  6\n",
       "     25 26 27 28 29 30 31 32 33 34 35 36 37 38 39 40 41 42 43 44\n",
       "Freq  5  4  4  3  5  4  1  0  2  0  1  3  0  0  0  0  0  0  0  0\n",
       "\n",
       "\n",
       "Point Biserial correlation with Total Score:\n",
       "         Included Excluded\n",
       "I_005961   0.2290   0.1429\n",
       "I_008364   0.2756   0.1924\n",
       "I_010322   0.3669   0.2790\n",
       "I_010409   0.3103   0.2226\n",
       "I_010500   0.1224   0.0501\n",
       "I_014797   0.2004   0.1327\n",
       "I_019807   0.1945   0.1405\n",
       "I_028683   0.2097   0.1253\n",
       "I_030053   0.2625   0.1763\n",
       "I_030327   0.4749   0.3951\n",
       "I_030493   0.2202   0.1338\n",
       "I_031516   0.3279   0.2467\n",
       "I_032369   0.2590   0.1843\n",
       "I_043182   0.3931   0.3109\n",
       "I_047309   0.2512   0.1640\n",
       "I_053461   0.2447   0.1627\n",
       "I_060441   0.3659   0.2825\n",
       "I_061248   0.3013   0.2266\n",
       "I_063204   0.3993   0.3285\n",
       "I_063646   0.3097   0.2279\n",
       "I_068123   0.5259   0.4568\n",
       "I_068369   0.4539   0.3835\n",
       "I_075829   0.3006   0.2187\n",
       "I_082581   0.2737   0.2010\n",
       "I_085013   0.1611   0.0776\n",
       "I_085228   0.1223   0.0392\n",
       "I_085343   0.1255   0.0574\n",
       "I_085588   0.3911   0.3071\n",
       "I_086466   0.1689   0.0885\n",
       "I_086499   0.0723  -0.0035\n",
       "I_086840   0.1673   0.0813\n",
       "I_089637   0.0523  -0.0016\n",
       "I_095509   0.1193   0.0484\n",
       "I_095676   0.4147   0.3301\n",
       "I_096315   0.3747   0.2876\n",
       "I_097590   0.2146   0.1462\n",
       "I_111516   0.4069   0.3263\n",
       "I_111738   0.2240   0.1396\n",
       "I_117651   0.2188   0.1365\n",
       "I_117742   0.2818   0.1933\n",
       "I_117820   0.1291   0.0430\n",
       "I_117877   0.4072   0.3279\n",
       "I_117886   0.1015   0.0259\n",
       "I_117973   0.1446   0.0644\n",
       "\n",
       "\n",
       "Cronbach's alpha:\n",
       "                    value\n",
       "All Items          0.7037\n",
       "Excluding I_005961 0.7015\n",
       "Excluding I_008364 0.6987\n",
       "Excluding I_010322 0.6933\n",
       "Excluding I_010409 0.6969\n",
       "Excluding I_010500 0.7055\n",
       "Excluding I_014797 0.7016\n",
       "Excluding I_019807 0.7012\n",
       "Excluding I_028683 0.7024\n",
       "Excluding I_030053 0.6996\n",
       "Excluding I_030327 0.6858\n",
       "Excluding I_030493 0.7021\n",
       "Excluding I_031516 0.6956\n",
       "Excluding I_032369 0.6991\n",
       "Excluding I_043182 0.6915\n",
       "Excluding I_047309 0.7004\n",
       "Excluding I_053461 0.7003\n",
       "Excluding I_060441 0.6933\n",
       "Excluding I_061248 0.6969\n",
       "Excluding I_063204 0.6915\n",
       "Excluding I_063646 0.6967\n",
       "Excluding I_068123 0.6829\n",
       "Excluding I_068369 0.6881\n",
       "Excluding I_075829 0.6972\n",
       "Excluding I_082581 0.6983\n",
       "Excluding I_085013 0.7049\n",
       "Excluding I_085228 0.7069\n",
       "Excluding I_085343 0.7049\n",
       "Excluding I_085588 0.6916\n",
       "Excluding I_086466 0.7042\n",
       "Excluding I_086499 0.7083\n",
       "Excluding I_086840 0.7049\n",
       "Excluding I_089637 0.7062\n",
       "Excluding I_095509 0.7055\n",
       "Excluding I_095676 0.6900\n",
       "Excluding I_096315 0.6927\n",
       "Excluding I_097590 0.7010\n",
       "Excluding I_111516 0.6906\n",
       "Excluding I_111738 0.7017\n",
       "Excluding I_117651 0.7017\n",
       "Excluding I_117742 0.6987\n",
       "Excluding I_117820 0.7070\n",
       "Excluding I_117877 0.6906\n",
       "Excluding I_117886 0.7069\n",
       "Excluding I_117973 0.7054\n",
       "\n",
       "\n",
       "Pairwise Associations:\n",
       "   Item i Item j p.value\n",
       "1       1      6   1.000\n",
       "2       3      7   1.000\n",
       "3       3     29   1.000\n",
       "4      11     41   1.000\n",
       "5       6     25   1.000\n",
       "6      27     32   1.000\n",
       "7      10     44   1.000\n",
       "8      32     40   1.000\n",
       "9      35     44   1.000\n",
       "10      2     26   1.000\n",
       "\n"
      ]
     },
     "metadata": {},
     "output_type": "display_data"
    }
   ],
   "source": [
    "ltm_enem"
   ]
  },
  {
   "cell_type": "code",
   "execution_count": 14,
   "id": "2c5fb90f-c8e8-4f20-af5f-194603d2cfc0",
   "metadata": {
    "tags": []
   },
   "outputs": [
    {
     "data": {
      "text/html": [
       "<table class=\"dataframe\">\n",
       "<caption>A matrix: 6 × 1 of type dbl</caption>\n",
       "<thead>\n",
       "\t<tr><th></th><th scope=col>value</th></tr>\n",
       "</thead>\n",
       "<tbody>\n",
       "\t<tr><th scope=row>All Items</th><td>0.7036759</td></tr>\n",
       "\t<tr><th scope=row>Excluding I_005961</th><td>0.7015357</td></tr>\n",
       "\t<tr><th scope=row>Excluding I_008364</th><td>0.6986849</td></tr>\n",
       "\t<tr><th scope=row>Excluding I_010322</th><td>0.6932664</td></tr>\n",
       "\t<tr><th scope=row>Excluding I_010409</th><td>0.6968840</td></tr>\n",
       "\t<tr><th scope=row>Excluding I_010500</th><td>0.7054750</td></tr>\n",
       "</tbody>\n",
       "</table>\n"
      ],
      "text/latex": [
       "A matrix: 6 × 1 of type dbl\n",
       "\\begin{tabular}{r|l}\n",
       "  & value\\\\\n",
       "\\hline\n",
       "\tAll Items & 0.7036759\\\\\n",
       "\tExcluding I\\_005961 & 0.7015357\\\\\n",
       "\tExcluding I\\_008364 & 0.6986849\\\\\n",
       "\tExcluding I\\_010322 & 0.6932664\\\\\n",
       "\tExcluding I\\_010409 & 0.6968840\\\\\n",
       "\tExcluding I\\_010500 & 0.7054750\\\\\n",
       "\\end{tabular}\n"
      ],
      "text/markdown": [
       "\n",
       "A matrix: 6 × 1 of type dbl\n",
       "\n",
       "| <!--/--> | value |\n",
       "|---|---|\n",
       "| All Items | 0.7036759 |\n",
       "| Excluding I_005961 | 0.7015357 |\n",
       "| Excluding I_008364 | 0.6986849 |\n",
       "| Excluding I_010322 | 0.6932664 |\n",
       "| Excluding I_010409 | 0.6968840 |\n",
       "| Excluding I_010500 | 0.7054750 |\n",
       "\n"
      ],
      "text/plain": [
       "                   value    \n",
       "All Items          0.7036759\n",
       "Excluding I_005961 0.7015357\n",
       "Excluding I_008364 0.6986849\n",
       "Excluding I_010322 0.6932664\n",
       "Excluding I_010409 0.6968840\n",
       "Excluding I_010500 0.7054750"
      ]
     },
     "metadata": {},
     "output_type": "display_data"
    }
   ],
   "source": [
    "# Como principais saídas, temos:\n",
    "# O valor do Alpha de Cronbach do teste e removendo cada item\n",
    "head(ltm_enem$alpha)"
   ]
  },
  {
   "cell_type": "code",
   "execution_count": 15,
   "id": "020abb67-ea85-4a43-924f-e480bf25f121",
   "metadata": {
    "tags": []
   },
   "outputs": [
    {
     "data": {
      "text/html": [
       "<table class=\"dataframe\">\n",
       "<caption>A data.frame: 6 × 2</caption>\n",
       "<thead>\n",
       "\t<tr><th></th><th scope=col>bisCorr</th><th scope=col>ExBisCorr</th></tr>\n",
       "\t<tr><th></th><th scope=col>&lt;dbl&gt;</th><th scope=col>&lt;dbl&gt;</th></tr>\n",
       "</thead>\n",
       "<tbody>\n",
       "\t<tr><th scope=row>I_005961</th><td>0.2290181</td><td>0.14287477</td></tr>\n",
       "\t<tr><th scope=row>I_008364</th><td>0.2756021</td><td>0.19236424</td></tr>\n",
       "\t<tr><th scope=row>I_010322</th><td>0.3668792</td><td>0.27896654</td></tr>\n",
       "\t<tr><th scope=row>I_010409</th><td>0.3102562</td><td>0.22257174</td></tr>\n",
       "\t<tr><th scope=row>I_010500</th><td>0.1223903</td><td>0.05009258</td></tr>\n",
       "\t<tr><th scope=row>I_014797</th><td>0.2003780</td><td>0.13269651</td></tr>\n",
       "</tbody>\n",
       "</table>\n"
      ],
      "text/latex": [
       "A data.frame: 6 × 2\n",
       "\\begin{tabular}{r|ll}\n",
       "  & bisCorr & ExBisCorr\\\\\n",
       "  & <dbl> & <dbl>\\\\\n",
       "\\hline\n",
       "\tI\\_005961 & 0.2290181 & 0.14287477\\\\\n",
       "\tI\\_008364 & 0.2756021 & 0.19236424\\\\\n",
       "\tI\\_010322 & 0.3668792 & 0.27896654\\\\\n",
       "\tI\\_010409 & 0.3102562 & 0.22257174\\\\\n",
       "\tI\\_010500 & 0.1223903 & 0.05009258\\\\\n",
       "\tI\\_014797 & 0.2003780 & 0.13269651\\\\\n",
       "\\end{tabular}\n"
      ],
      "text/markdown": [
       "\n",
       "A data.frame: 6 × 2\n",
       "\n",
       "| <!--/--> | bisCorr &lt;dbl&gt; | ExBisCorr &lt;dbl&gt; |\n",
       "|---|---|---|\n",
       "| I_005961 | 0.2290181 | 0.14287477 |\n",
       "| I_008364 | 0.2756021 | 0.19236424 |\n",
       "| I_010322 | 0.3668792 | 0.27896654 |\n",
       "| I_010409 | 0.3102562 | 0.22257174 |\n",
       "| I_010500 | 0.1223903 | 0.05009258 |\n",
       "| I_014797 | 0.2003780 | 0.13269651 |\n",
       "\n"
      ],
      "text/plain": [
       "         bisCorr   ExBisCorr \n",
       "I_005961 0.2290181 0.14287477\n",
       "I_008364 0.2756021 0.19236424\n",
       "I_010322 0.3668792 0.27896654\n",
       "I_010409 0.3102562 0.22257174\n",
       "I_010500 0.1223903 0.05009258\n",
       "I_014797 0.2003780 0.13269651"
      ]
     },
     "metadata": {},
     "output_type": "display_data"
    }
   ],
   "source": [
    "# O valor das Correlações Bisseriais com e sem o item no considerado no escore total\n",
    "ltm_corr <- data.frame(\n",
    "    bisCorr=ltm_enem$bisCorr,\n",
    "    ExBisCorr=ltm_enem$ExBisCorr\n",
    ") \n",
    "\n",
    "head(ltm_corr)"
   ]
  },
  {
   "cell_type": "markdown",
   "id": "8829706b-b29b-4097-8d5b-ae7531d39b02",
   "metadata": {
    "id": "AMmX8tp79Szb"
   },
   "source": [
    "## 4 -  Relatório de Item\n",
    "\n",
    "Também é possível construir gráficos que informam a performance do item "
   ]
  },
  {
   "cell_type": "code",
   "execution_count": 16,
   "id": "b62eab29-b700-472a-9965-649444a8fd3b",
   "metadata": {
    "tags": []
   },
   "outputs": [],
   "source": [
    "# Para isso podemos criar algumas funções\n",
    "gera_grupos <- function(prop){\n",
    "  \n",
    "  point <- case_when(\n",
    "    length(prop)<=300 ~ 1/3,\n",
    "    length(prop)<=1000 ~ 1/5,\n",
    "    TRUE ~ 1/7\n",
    "  )\n",
    "  breaks <- seq(0,1,by=point)\n",
    "  factor(cut(prop, breaks, include.lowest=T, ordered_result =T),labels = as.character(1:(length(breaks)-1)))\n",
    "}\n",
    "calcula_grupo <- function(item=\"Q01\",resposta=\"A\",grupo){\n",
    "  \n",
    "  breaks <- c(0,0.27,1-0.27,1)\n",
    "  escore <- rowSums(dplyr::select(amostra_correcao_ordenada,-NU_INSCRICAO))\n",
    "  n_itens <- ncol(dplyr::select(amostra_correcao_ordenada,-NU_INSCRICAO))\n",
    "    \n",
    "  stats <- amostra_resposta_ordenada |>\n",
    "    mutate(proporcao_acerto = escore/n_itens) |> \n",
    "    mutate(disc_grupo=factor(cut(proporcao_acerto, breaks, include.lowest=T, ordered_result =T),labels = as.character(1:(length(breaks)-1)))) |> \n",
    "    dplyr::select(!!sym(item),disc_grupo) |> \n",
    "    mutate(resp_dic = (!!sym(item)==resposta)*1) |> \n",
    "    group_by(disc_grupo) |> \n",
    "    summarise(prop_resp = mean(resp_dic))\n",
    "  \n",
    "  if(grupo==\"inf\"){\n",
    "    stats$prop_resp[1]\n",
    "  }else if(grupo==\"sup\"){\n",
    "    stats$prop_resp[3] \n",
    "  }else{\n",
    "    cat(\"Selecione grupo inf ou sup\")\n",
    "  }\n",
    "  \n",
    "}\n",
    "\n",
    "gera_tct_item_plot <- function(item=\"Q01\"){\n",
    "  \n",
    "  escore <- rowSums(dplyr::select(amostra_correcao_ordenada,-NU_INSCRICAO))\n",
    "  n_itens <- ncol(dplyr::select(amostra_correcao_ordenada,-NU_INSCRICAO))\n",
    "  proporcao_acerto = escore/n_itens\n",
    "    \n",
    "  grupo <- gera_grupos(proporcao_acerto)\n",
    "    \n",
    "  stats_all <- expand_grid(!!sym(item):=c(\"*\",\".\",LETTERS[1:5]), grupo = sort(unique(grupo)))\n",
    "  \n",
    "  stats_item <- amostra_resposta_ordenada |>\n",
    "    mutate(grupo = grupo) |>\n",
    "    dplyr::select(!!sym(item),grupo) |>\n",
    "    mutate(!!sym(item):=ifelse(!!sym(item)==\"\",\"*\",!!sym(item))) |>\n",
    "    group_by(grupo,!!sym(item)) |>\n",
    "    summarise(resp_alt = n()) |>\n",
    "    group_by(grupo) |>\n",
    "    mutate(resp_grupo = sum(resp_alt)) |>\n",
    "    mutate(prop_resp_grupo = resp_alt/resp_grupo)\n",
    "  \n",
    "  stats <- stats_all |> \n",
    "    left_join(stats_item, by = c(item,\"grupo\")) |> \n",
    "    mutate(prop_resp_grupo = ifelse(is.na(prop_resp_grupo),0,prop_resp_grupo))\n",
    "  \n",
    "  colors <- c(\"navy\",\"red3\",\"limegreen\",\"black\",\"orange\",\"purple\",\"deeppink\")\n",
    "  \n",
    "  gab <- itens |> \n",
    "    filter(CO_ITEM==item) |> \n",
    "    slice(1) |> \n",
    "    pull(TX_GABARITO)\n",
    "  \n",
    "  opcoes <- LETTERS[1:5]\n",
    "  names(colors) <- c(gab,\"*\",\".\",opcoes[opcoes!=gab])\n",
    "  \n",
    "  stats|>\n",
    "    ggplot(aes(x=grupo,y=prop_resp_grupo,color=!!sym(item),group=!!sym(item))) +\n",
    "    geom_point()+\n",
    "    geom_line(linewidth=0.60)+\n",
    "    xlab(\"Grupos\")+\n",
    "    ylab(\"% de Acertos\")+\n",
    "    ggtitle(paste0(\"Análise Gráfica do Item \",item,\" em função dos Grupos\"))+\n",
    "    scale_color_manual(values = colors)+\n",
    "    scale_y_continuous(labels = scales::percent)+\n",
    "    theme_bw()+\n",
    "    theme(\n",
    "      legend.position=\"bottom\",\n",
    "      plot.title = element_text(hjust = 0.5)\n",
    "      )\n",
    "}"
   ]
  },
  {
   "cell_type": "code",
   "execution_count": 17,
   "id": "0ac7bb23-e143-4f29-957f-4af525c4137e",
   "metadata": {
    "tags": []
   },
   "outputs": [
    {
     "name": "stderr",
     "output_type": "stream",
     "text": [
      "\u001b[1m\u001b[22m`summarise()` has grouped output by 'grupo'. You can override using the `.groups` argument.\n"
     ]
    },
    {
     "data": {
      "image/png": "[encoded data removed]",
      "text/plain": [
       "plot without title"
      ]
     },
     "metadata": {
      "image/png": {
       "height": 900,
       "width": 1350
      }
     },
     "output_type": "display_data"
    }
   ],
   "source": [
    "options(repr.plot.width = 9, repr.plot.height = 6, repr.plot.res = 300)\n",
    "gera_tct_item_plot(\"I_005961\")"
   ]
  },
  {
   "cell_type": "markdown",
   "id": "b8dd9d1a-427e-4300-b632-6bfb74f51415",
   "metadata": {},
   "source": [
    "## 5 - Seleção de itens"
   ]
  },
  {
   "cell_type": "code",
   "execution_count": 18,
   "id": "5e31f950-593c-4004-b821-733ad91b428e",
   "metadata": {
    "tags": []
   },
   "outputs": [
    {
     "data": {
      "text/html": [
       "<table class=\"dataframe\">\n",
       "<caption>A data.frame: 2 × 2</caption>\n",
       "<thead>\n",
       "\t<tr><th></th><th scope=col>bisCorr</th><th scope=col>ExBisCorr</th></tr>\n",
       "\t<tr><th></th><th scope=col>&lt;dbl&gt;</th><th scope=col>&lt;dbl&gt;</th></tr>\n",
       "</thead>\n",
       "<tbody>\n",
       "\t<tr><th scope=row>I_086499</th><td>0.07234030</td><td>-0.003502737</td></tr>\n",
       "\t<tr><th scope=row>I_089637</th><td>0.05227351</td><td>-0.001638059</td></tr>\n",
       "</tbody>\n",
       "</table>\n"
      ],
      "text/latex": [
       "A data.frame: 2 × 2\n",
       "\\begin{tabular}{r|ll}\n",
       "  & bisCorr & ExBisCorr\\\\\n",
       "  & <dbl> & <dbl>\\\\\n",
       "\\hline\n",
       "\tI\\_086499 & 0.07234030 & -0.003502737\\\\\n",
       "\tI\\_089637 & 0.05227351 & -0.001638059\\\\\n",
       "\\end{tabular}\n"
      ],
      "text/markdown": [
       "\n",
       "A data.frame: 2 × 2\n",
       "\n",
       "| <!--/--> | bisCorr &lt;dbl&gt; | ExBisCorr &lt;dbl&gt; |\n",
       "|---|---|---|\n",
       "| I_086499 | 0.07234030 | -0.003502737 |\n",
       "| I_089637 | 0.05227351 | -0.001638059 |\n",
       "\n"
      ],
      "text/plain": [
       "         bisCorr    ExBisCorr   \n",
       "I_086499 0.07234030 -0.003502737\n",
       "I_089637 0.05227351 -0.001638059"
      ]
     },
     "metadata": {},
     "output_type": "display_data"
    }
   ],
   "source": [
    "# A partir do pacote ltm podemos observar que os itens abaixo apresentaram \n",
    "# correlações bisseriais inadequadas para o exame.\n",
    "# O ideal seria excluir tais itens da análise.\n",
    "ltm_corr |> \n",
    "  filter(bisCorr < 0.1)"
   ]
  },
  {
   "cell_type": "code",
   "execution_count": 19,
   "id": "fcfa3909-22f6-4301-bffa-866483ba3f98",
   "metadata": {
    "tags": []
   },
   "outputs": [
    {
     "name": "stderr",
     "output_type": "stream",
     "text": [
      "\u001b[1m\u001b[22m`summarise()` has grouped output by 'grupo'. You can override using the `.groups` argument.\n"
     ]
    },
    {
     "data": {
      "image/png": "[encoded data removed]",
      "text/plain": [
       "plot without title"
      ]
     },
     "metadata": {
      "image/png": {
       "height": 900,
       "width": 1350
      }
     },
     "output_type": "display_data"
    }
   ],
   "source": [
    "gera_tct_item_plot(\"I_086499\")"
   ]
  },
  {
   "cell_type": "code",
   "execution_count": 20,
   "id": "4db407bf-4910-4350-a6d9-0f6af9d182cb",
   "metadata": {
    "tags": []
   },
   "outputs": [
    {
     "name": "stderr",
     "output_type": "stream",
     "text": [
      "\u001b[1m\u001b[22m`summarise()` has grouped output by 'grupo'. You can override using the `.groups` argument.\n"
     ]
    },
    {
     "data": {
      "image/png": "[encoded data removed]",
      "text/plain": [
       "plot without title"
      ]
     },
     "metadata": {
      "image/png": {
       "height": 900,
       "width": 1350
      }
     },
     "output_type": "display_data"
    }
   ],
   "source": [
    "gera_tct_item_plot(\"I_089637\")"
   ]
  }
 ],
 "metadata": {
  "kernelspec": {
   "display_name": "R",
   "language": "R",
   "name": "ir"
  },
  "language_info": {
   "codemirror_mode": "r",
   "file_extension": ".r",
   "mimetype": "text/x-r-source",
   "name": "R",
   "pygments_lexer": "r",
   "version": "4.2.1"
  }
 },
 "nbformat": 4,
 "nbformat_minor": 5
}
