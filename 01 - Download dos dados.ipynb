{
 "cells": [
  {
   "cell_type": "markdown",
   "id": "d7f17400-81ca-4a70-9aa0-0a02aaa54150",
   "metadata": {
    "id": "UQjncX5G6C44",
    "tags": []
   },
   "source": [
    "# Semana de Estatística 2023 - Universidade Federal Fluminense\n",
    "\n",
    "Minicurso: Introdução à Teoria da Resposta ao Item\n",
    "\n",
    "Ministrante: Profª Mariana Cúri - ICMC/USP\n",
    "\n",
    "Notebook desenvolvido por Thiago F. Miranda - Mestrando em Estatística USP/UFSCar\n",
    "\n",
    "---\n",
    "\n"
   ]
  },
  {
   "cell_type": "markdown",
   "id": "bb02146d-1a9e-40c9-93a2-d037c6f04293",
   "metadata": {
    "id": "UQjncX5G6C44",
    "tags": []
   },
   "source": [
    "## Notebook de download e tratamento dos dados do ENEM\n",
    "\n",
    "Ao longo deste notebook será apresentado:\n",
    "\n",
    "1. Como baixar os microdados do site do INEP automaticamente\n",
    "2. Como ler os microdados\n",
    "3. Como gerar uma amostra simples\n",
    "4. Como dicotomizar as respostas\n",
    "5. Como ordenar os itens a partir de múltiplos cadernos\n",
    "6. Como salvar os dados amostrais\n",
    "---\n",
    "\n"
   ]
  },
  {
   "cell_type": "markdown",
   "id": "7a9dc107-f535-489e-93d7-5183f74ad767",
   "metadata": {
    "id": "AMmX8tp79Szb"
   },
   "source": [
    "\n",
    "## 0 -  Configurações Iniciais\n"
   ]
  },
  {
   "cell_type": "code",
   "execution_count": 1,
   "id": "f3668505-d4f9-441d-9676-793d35838add",
   "metadata": {
    "collapsed": true,
    "id": "5mNwxqmXQAug",
    "jupyter": {
     "outputs_hidden": true
    },
    "tags": []
   },
   "outputs": [
    {
     "name": "stderr",
     "output_type": "stream",
     "text": [
      "Carregando pacotes exigidos: tidyverse\n",
      "\n",
      "Warning message:\n",
      "\"package 'tidyverse' was built under R version 4.2.3\"\n",
      "Warning message:\n",
      "\"package 'ggplot2' was built under R version 4.2.3\"\n",
      "Warning message:\n",
      "\"package 'tibble' was built under R version 4.2.3\"\n",
      "Warning message:\n",
      "\"package 'tidyr' was built under R version 4.2.3\"\n",
      "Warning message:\n",
      "\"package 'readr' was built under R version 4.2.3\"\n",
      "Warning message:\n",
      "\"package 'purrr' was built under R version 4.2.3\"\n",
      "Warning message:\n",
      "\"package 'stringr' was built under R version 4.2.3\"\n",
      "Warning message:\n",
      "\"package 'forcats' was built under R version 4.2.3\"\n",
      "Warning message:\n",
      "\"package 'lubridate' was built under R version 4.2.3\"\n",
      "── \u001b[1mAttaching core tidyverse packages\u001b[22m ──────────────────────────────────────────────────────────────── tidyverse 2.0.0 ──\n",
      "\u001b[32m✔\u001b[39m \u001b[34mdplyr    \u001b[39m 1.0.10     \u001b[32m✔\u001b[39m \u001b[34mreadr    \u001b[39m 2.1.4 \n",
      "\u001b[32m✔\u001b[39m \u001b[34mforcats  \u001b[39m 1.0.0      \u001b[32m✔\u001b[39m \u001b[34mstringr  \u001b[39m 1.5.0 \n",
      "\u001b[32m✔\u001b[39m \u001b[34mggplot2  \u001b[39m 3.4.1      \u001b[32m✔\u001b[39m \u001b[34mtibble   \u001b[39m 3.2.1 \n",
      "\u001b[32m✔\u001b[39m \u001b[34mlubridate\u001b[39m 1.9.2      \u001b[32m✔\u001b[39m \u001b[34mtidyr    \u001b[39m 1.3.0 \n",
      "\u001b[32m✔\u001b[39m \u001b[34mpurrr    \u001b[39m 1.0.1      \n",
      "── \u001b[1mConflicts\u001b[22m ────────────────────────────────────────────────────────────────────────────────── tidyverse_conflicts() ──\n",
      "\u001b[31m✖\u001b[39m \u001b[34mdplyr\u001b[39m::\u001b[32mfilter()\u001b[39m masks \u001b[34mstats\u001b[39m::filter()\n",
      "\u001b[31m✖\u001b[39m \u001b[34mdplyr\u001b[39m::\u001b[32mlag()\u001b[39m    masks \u001b[34mstats\u001b[39m::lag()\n",
      "\u001b[36mℹ\u001b[39m Use the conflicted package (\u001b[3m\u001b[34m<http://conflicted.r-lib.org/>\u001b[39m\u001b[23m) to force all conflicts to become errors\n",
      "Carregando pacotes exigidos: data.table\n",
      "\n",
      "\n",
      "Attaching package: 'data.table'\n",
      "\n",
      "\n",
      "The following objects are masked from 'package:lubridate':\n",
      "\n",
      "    hour, isoweek, mday, minute, month, quarter, second, wday, week,\n",
      "    yday, year\n",
      "\n",
      "\n",
      "The following objects are masked from 'package:dplyr':\n",
      "\n",
      "    between, first, last\n",
      "\n",
      "\n",
      "The following object is masked from 'package:purrr':\n",
      "\n",
      "    transpose\n",
      "\n",
      "\n",
      "Carregando pacotes exigidos: dtplyr\n",
      "\n",
      "Carregando pacotes exigidos: archive\n",
      "\n",
      "Warning message:\n",
      "\"package 'archive' was built under R version 4.2.3\"\n",
      "Carregando pacotes exigidos: kableExtra\n",
      "\n",
      "Warning message:\n",
      "\"package 'kableExtra' was built under R version 4.2.3\"\n",
      "\n",
      "Attaching package: 'kableExtra'\n",
      "\n",
      "\n",
      "The following object is masked from 'package:dplyr':\n",
      "\n",
      "    group_rows\n",
      "\n",
      "\n",
      "Carregando pacotes exigidos: IRdisplay\n",
      "\n",
      "Warning message:\n",
      "\"package 'IRdisplay' was built under R version 4.2.3\"\n"
     ]
    }
   ],
   "source": [
    "# Instalação e carga de Pacotes\n",
    "if(!require(tidyverse)){install.packages(\"tidyverse\")}; library(tidyverse)\n",
    "if(!require(data.table)){install.packages(\"data.table\")}; library(data.table)\n",
    "if(!require(dtplyr)){install.packages(\"dtplyr\")}; library(dtplyr)\n",
    "if(!require(archive)){install.packages(\"archive\")}; library(archive)\n",
    "if(!require(kableExtra)){install.packages(\"kableExtra\")}; library(kableExtra)\n",
    "if(!require(IRdisplay)){install.packages(\"IRdisplay\")}; library(IRdisplay)"
   ]
  },
  {
   "cell_type": "code",
   "execution_count": 2,
   "id": "6a53d473-d70b-4271-b1d2-eb0aa9c63915",
   "metadata": {
    "id": "3xbdrmaJ9a50",
    "tags": []
   },
   "outputs": [],
   "source": [
    "# Definições necessárias para download, leitura, amostragem e organização dos dados\n",
    "pasta <- \"TRI ENEM/\"\n",
    "ano <- \"2022\"\n",
    "area <- \"MT\"\n",
    "provas <- c(1075,1076,1077,1078)\n",
    "tamanho_amostral <- 1000\n",
    "min_respostas_validas <- 8"
   ]
  },
  {
   "cell_type": "markdown",
   "id": "7752d64f-6a45-46f0-9e42-0e3a1cc24f89",
   "metadata": {
    "id": "EBBWQFfS6g3S",
    "tags": []
   },
   "source": [
    "## 1 -  Download dos Dados\n",
    "\n",
    "Os microdados do ENEM são disponibilizados em: https://www.gov.br/inep/pt-br/acesso-a-informacao/dados-abertos/microdados/enem"
   ]
  },
  {
   "cell_type": "code",
   "execution_count": 3,
   "id": "b203e499-099a-4195-9c48-12fcaef44afa",
   "metadata": {
    "id": "8Mf5EOH5O0A0",
    "tags": []
   },
   "outputs": [
    {
     "name": "stderr",
     "output_type": "stream",
     "text": [
      "⠙ 116 extracted | 861 MB (392 MB/s) | 2.2s\n",
      "⠹ 116 extracted | 948 MB (395 MB/s) | 2.4s\n",
      "⠸ 116 extracted | 1.0 GB (398 MB/s) | 2.6s\n",
      "⠼ 116 extracted | 1.1 GB (400 MB/s) | 2.8s\n",
      "⠴ 116 extracted | 1.2 GB (402 MB/s) | 3s  \n",
      "⠦ 116 extracted | 1.3 GB (403 MB/s) | 3.2s\n",
      "⠧ 116 extracted | 1.4 GB (405 MB/s) | 3.4s\n",
      "⠇ 116 extracted | 1.5 GB (406 MB/s) | 3.6s\n",
      "⠏ 116 extracted | 1.6 GB (407 MB/s) | 3.8s\n",
      "⠋ 116 extracted | 1.6 GB (408 MB/s) | 4s  \n",
      "⠙ 116 extracted | 1.7 GB (410 MB/s) | 4.2s\n",
      "⠹ 116 extracted | 1.8 GB (411 MB/s) | 4.4s\n",
      "⠸ 117 extracted | 2.0 GB (423 MB/s) | 4.6s\n",
      "                                          \n"
     ]
    }
   ],
   "source": [
    "# Função de download e descompactação dos microdados\n",
    "# Caso os dados zip já estejam presentes no diretório definido na variável pasta esta função apenas realizará o unzip dos dados \n",
    "# O tempo de download pode variar de acordo com a sua internet\n",
    "download_enem <- function(ano,dir){\n",
    "  options(timeout = max(90000, getOption(\"timeout\")))\n",
    "\n",
    "  link <- paste0(\"https://download.inep.gov.br/microdados/microdados_enem_\",ano,\".zip\")\n",
    "\n",
    "  file <- paste0(dir,\"ENEM/\",ano,\"/microdados_enem_\",ano,\".zip\")\n",
    "\n",
    "  path <- paste0(dir,\"ENEM/\",ano)\n",
    "  if(!dir.exists(path)){dir.create(path,recursive = T)}\n",
    "\n",
    "  if(!file.exists(file)){download.file(url = link, destfile = file)}\n",
    "\n",
    "  archive_extract(file,dir = path)\n",
    "\n",
    "}\n",
    "\n",
    "download_enem(ano,pasta)"
   ]
  },
  {
   "cell_type": "markdown",
   "id": "739bef84-9031-461c-8067-dac5ec0c34f3",
   "metadata": {
    "id": "2_rh6ROA-c9U"
   },
   "source": [
    "\n",
    "## 2 - Lendo dados\n"
   ]
  },
  {
   "cell_type": "code",
   "execution_count": 4,
   "id": "9e7979c9-9655-436b-ba66-cd7cd0e4899a",
   "metadata": {
    "id": "LSX3SVx1_oMw",
    "tags": []
   },
   "outputs": [],
   "source": [
    "# Lendo Itens\n",
    "arquivo_itens <- paste0(pasta,\"ENEM/\",ano,\"/DADOS/ITENS_PROVA_\",ano,\".csv\")\n",
    "\n",
    "itens <- fread(input=arquivo_itens,integer64='character',encoding = \"Latin-1\")"
   ]
  },
  {
   "cell_type": "code",
   "execution_count": 5,
   "id": "081639bd-eb75-4232-8e62-2bc6c40a4f3b",
   "metadata": {
    "id": "LSX3SVx1_oMw",
    "tags": []
   },
   "outputs": [],
   "source": [
    "# Organizando dados de itens\n",
    "itens <- itens  |>\n",
    "  mutate(area_prova = area) |>\n",
    "  mutate(CO_POSICAO = case_when(    # A posição original é de 1 a 180, precisa ser de 1 a 45\n",
    "    area_prova == \"LC\" ~ CO_POSICAO - 0,   # Primeiro grupo de itens\n",
    "    area_prova == \"CH\" ~ CO_POSICAO - 45,  # Segundo grupo de itens\n",
    "    area_prova == \"CN\" ~ CO_POSICAO - 90,  # Terceiro grupo de itens\n",
    "    area_prova == \"MT\" ~ CO_POSICAO - 135  # Quarto grupo de itens\n",
    "    )) |>\n",
    "  filter(CO_PROVA %in% provas) |>\n",
    "  dplyr::select(CO_POSICAO, CO_ITEM, CO_HABILIDADE,TX_COR,CO_PROVA,TX_GABARITO) |>\n",
    "  mutate(CO_ITEM = paste0(\"I_\",str_pad(CO_ITEM,width = 6,side = \"left\",pad = \"0\"))) |>\n",
    "  arrange(CO_ITEM) |>\n",
    "  as.data.frame()"
   ]
  },
  {
   "cell_type": "code",
   "execution_count": 6,
   "id": "ce8e744b-d655-40aa-a399-a338884246bf",
   "metadata": {
    "colab": {
     "base_uri": "https://localhost:8080/",
     "height": 286
    },
    "id": "4sIOqZeOHris",
    "outputId": "bbfad4dd-7f9a-46ee-d8ee-039c96c197f7",
    "tags": []
   },
   "outputs": [
    {
     "data": {
      "text/html": [
       "<table class=\"dataframe\">\n",
       "<caption>A data.frame: 6 × 6</caption>\n",
       "<thead>\n",
       "\t<tr><th></th><th scope=col>CO_POSICAO</th><th scope=col>CO_ITEM</th><th scope=col>CO_HABILIDADE</th><th scope=col>TX_COR</th><th scope=col>CO_PROVA</th><th scope=col>TX_GABARITO</th></tr>\n",
       "\t<tr><th></th><th scope=col>&lt;dbl&gt;</th><th scope=col>&lt;chr&gt;</th><th scope=col>&lt;int&gt;</th><th scope=col>&lt;chr&gt;</th><th scope=col>&lt;int&gt;</th><th scope=col>&lt;chr&gt;</th></tr>\n",
       "</thead>\n",
       "<tbody>\n",
       "\t<tr><th scope=row>1</th><td> 8</td><td>I_005961</td><td>7</td><td>AZUL   </td><td>1075</td><td>D</td></tr>\n",
       "\t<tr><th scope=row>2</th><td>23</td><td>I_005961</td><td>7</td><td>AMARELA</td><td>1076</td><td>D</td></tr>\n",
       "\t<tr><th scope=row>3</th><td>26</td><td>I_005961</td><td>7</td><td>ROSA   </td><td>1077</td><td>D</td></tr>\n",
       "\t<tr><th scope=row>4</th><td>38</td><td>I_005961</td><td>7</td><td>CINZA  </td><td>1078</td><td>D</td></tr>\n",
       "\t<tr><th scope=row>5</th><td>25</td><td>I_008364</td><td>6</td><td>AZUL   </td><td>1075</td><td>A</td></tr>\n",
       "\t<tr><th scope=row>6</th><td>43</td><td>I_008364</td><td>6</td><td>AMARELA</td><td>1076</td><td>A</td></tr>\n",
       "</tbody>\n",
       "</table>\n"
      ],
      "text/latex": [
       "A data.frame: 6 × 6\n",
       "\\begin{tabular}{r|llllll}\n",
       "  & CO\\_POSICAO & CO\\_ITEM & CO\\_HABILIDADE & TX\\_COR & CO\\_PROVA & TX\\_GABARITO\\\\\n",
       "  & <dbl> & <chr> & <int> & <chr> & <int> & <chr>\\\\\n",
       "\\hline\n",
       "\t1 &  8 & I\\_005961 & 7 & AZUL    & 1075 & D\\\\\n",
       "\t2 & 23 & I\\_005961 & 7 & AMARELA & 1076 & D\\\\\n",
       "\t3 & 26 & I\\_005961 & 7 & ROSA    & 1077 & D\\\\\n",
       "\t4 & 38 & I\\_005961 & 7 & CINZA   & 1078 & D\\\\\n",
       "\t5 & 25 & I\\_008364 & 6 & AZUL    & 1075 & A\\\\\n",
       "\t6 & 43 & I\\_008364 & 6 & AMARELA & 1076 & A\\\\\n",
       "\\end{tabular}\n"
      ],
      "text/markdown": [
       "\n",
       "A data.frame: 6 × 6\n",
       "\n",
       "| <!--/--> | CO_POSICAO &lt;dbl&gt; | CO_ITEM &lt;chr&gt; | CO_HABILIDADE &lt;int&gt; | TX_COR &lt;chr&gt; | CO_PROVA &lt;int&gt; | TX_GABARITO &lt;chr&gt; |\n",
       "|---|---|---|---|---|---|---|\n",
       "| 1 |  8 | I_005961 | 7 | AZUL    | 1075 | D |\n",
       "| 2 | 23 | I_005961 | 7 | AMARELA | 1076 | D |\n",
       "| 3 | 26 | I_005961 | 7 | ROSA    | 1077 | D |\n",
       "| 4 | 38 | I_005961 | 7 | CINZA   | 1078 | D |\n",
       "| 5 | 25 | I_008364 | 6 | AZUL    | 1075 | A |\n",
       "| 6 | 43 | I_008364 | 6 | AMARELA | 1076 | A |\n",
       "\n"
      ],
      "text/plain": [
       "  CO_POSICAO CO_ITEM  CO_HABILIDADE TX_COR  CO_PROVA TX_GABARITO\n",
       "1  8         I_005961 7             AZUL    1075     D          \n",
       "2 23         I_005961 7             AMARELA 1076     D          \n",
       "3 26         I_005961 7             ROSA    1077     D          \n",
       "4 38         I_005961 7             CINZA   1078     D          \n",
       "5 25         I_008364 6             AZUL    1075     A          \n",
       "6 43         I_008364 6             AMARELA 1076     A          "
      ]
     },
     "metadata": {},
     "output_type": "display_data"
    }
   ],
   "source": [
    "head(itens)"
   ]
  },
  {
   "cell_type": "code",
   "execution_count": 7,
   "id": "66e18850-f2c7-44df-ad95-c884d034ce62",
   "metadata": {
    "id": "xVCSvrMe-mh_",
    "tags": []
   },
   "outputs": [],
   "source": [
    "# Lendo Respostas\n",
    "arquivo_respostas <- paste0(pasta,\"ENEM/\",ano,\"/DADOS/MICRODADOS_ENEM_\",ano,\".csv\")\n",
    "\n",
    "respostas <- fread(\n",
    "  arquivo_respostas,\n",
    "  integer64='character',\n",
    "  skip=0,  #Ler do inicio\n",
    "  nrow=-1, #Ler todos os registros\n",
    "  na.strings = \"\",\n",
    "  showProgress = TRUE,\n",
    "  encoding = \"Latin-1\")"
   ]
  },
  {
   "cell_type": "code",
   "execution_count": 8,
   "id": "711ec9ca-64eb-4087-b608-432a9d3fc89b",
   "metadata": {
    "colab": {
     "base_uri": "https://localhost:8080/",
     "height": 286
    },
    "id": "4sIOqZeOHris",
    "outputId": "bbfad4dd-7f9a-46ee-d8ee-039c96c197f7",
    "tags": []
   },
   "outputs": [
    {
     "data": {
      "text/html": [
       "<table class=\"dataframe\">\n",
       "<caption>A data.table: 6 × 76</caption>\n",
       "<thead>\n",
       "\t<tr><th scope=col>NU_INSCRICAO</th><th scope=col>NU_ANO</th><th scope=col>TP_FAIXA_ETARIA</th><th scope=col>TP_SEXO</th><th scope=col>TP_ESTADO_CIVIL</th><th scope=col>TP_COR_RACA</th><th scope=col>TP_NACIONALIDADE</th><th scope=col>TP_ST_CONCLUSAO</th><th scope=col>TP_ANO_CONCLUIU</th><th scope=col>TP_ESCOLA</th><th scope=col>⋯</th><th scope=col>Q016</th><th scope=col>Q017</th><th scope=col>Q018</th><th scope=col>Q019</th><th scope=col>Q020</th><th scope=col>Q021</th><th scope=col>Q022</th><th scope=col>Q023</th><th scope=col>Q024</th><th scope=col>Q025</th></tr>\n",
       "\t<tr><th scope=col>&lt;chr&gt;</th><th scope=col>&lt;int&gt;</th><th scope=col>&lt;int&gt;</th><th scope=col>&lt;chr&gt;</th><th scope=col>&lt;int&gt;</th><th scope=col>&lt;int&gt;</th><th scope=col>&lt;int&gt;</th><th scope=col>&lt;int&gt;</th><th scope=col>&lt;int&gt;</th><th scope=col>&lt;int&gt;</th><th scope=col>⋯</th><th scope=col>&lt;chr&gt;</th><th scope=col>&lt;chr&gt;</th><th scope=col>&lt;chr&gt;</th><th scope=col>&lt;chr&gt;</th><th scope=col>&lt;chr&gt;</th><th scope=col>&lt;chr&gt;</th><th scope=col>&lt;chr&gt;</th><th scope=col>&lt;chr&gt;</th><th scope=col>&lt;chr&gt;</th><th scope=col>&lt;chr&gt;</th></tr>\n",
       "</thead>\n",
       "<tbody>\n",
       "\t<tr><td>210057943671</td><td>2022</td><td>14</td><td>M</td><td>2</td><td>2</td><td>1</td><td>1</td><td> 2</td><td>1</td><td>⋯</td><td>B</td><td>A</td><td>A</td><td>A</td><td>A</td><td>A</td><td>A</td><td>A</td><td>A</td><td>A</td></tr>\n",
       "\t<tr><td>210057516120</td><td>2022</td><td>14</td><td>M</td><td>2</td><td>1</td><td>1</td><td>1</td><td>16</td><td>1</td><td>⋯</td><td>E</td><td>E</td><td>B</td><td>E</td><td>B</td><td>B</td><td>E</td><td>B</td><td>E</td><td>B</td></tr>\n",
       "\t<tr><td>210057280536</td><td>2022</td><td> 5</td><td>F</td><td>1</td><td>2</td><td>1</td><td>1</td><td> 2</td><td>1</td><td>⋯</td><td>A</td><td>A</td><td>A</td><td>A</td><td>A</td><td>A</td><td>C</td><td>A</td><td>A</td><td>B</td></tr>\n",
       "\t<tr><td>210055724397</td><td>2022</td><td> 6</td><td>M</td><td>1</td><td>3</td><td>1</td><td>1</td><td> 2</td><td>1</td><td>⋯</td><td>B</td><td>A</td><td>A</td><td>C</td><td>A</td><td>A</td><td>C</td><td>B</td><td>B</td><td>B</td></tr>\n",
       "\t<tr><td>210055097896</td><td>2022</td><td> 4</td><td>M</td><td>0</td><td>3</td><td>1</td><td>1</td><td> 1</td><td>1</td><td>⋯</td><td>A</td><td>A</td><td>A</td><td>A</td><td>A</td><td>A</td><td>B</td><td>A</td><td>A</td><td>A</td></tr>\n",
       "\t<tr><td>210057850231</td><td>2022</td><td> 5</td><td>F</td><td>1</td><td>3</td><td>1</td><td>1</td><td> 2</td><td>1</td><td>⋯</td><td>B</td><td>A</td><td>A</td><td>C</td><td>A</td><td>B</td><td>D</td><td>A</td><td>A</td><td>B</td></tr>\n",
       "</tbody>\n",
       "</table>\n"
      ],
      "text/latex": [
       "A data.table: 6 × 76\n",
       "\\begin{tabular}{lllllllllllllllllllll}\n",
       " NU\\_INSCRICAO & NU\\_ANO & TP\\_FAIXA\\_ETARIA & TP\\_SEXO & TP\\_ESTADO\\_CIVIL & TP\\_COR\\_RACA & TP\\_NACIONALIDADE & TP\\_ST\\_CONCLUSAO & TP\\_ANO\\_CONCLUIU & TP\\_ESCOLA & ⋯ & Q016 & Q017 & Q018 & Q019 & Q020 & Q021 & Q022 & Q023 & Q024 & Q025\\\\\n",
       " <chr> & <int> & <int> & <chr> & <int> & <int> & <int> & <int> & <int> & <int> & ⋯ & <chr> & <chr> & <chr> & <chr> & <chr> & <chr> & <chr> & <chr> & <chr> & <chr>\\\\\n",
       "\\hline\n",
       "\t 210057943671 & 2022 & 14 & M & 2 & 2 & 1 & 1 &  2 & 1 & ⋯ & B & A & A & A & A & A & A & A & A & A\\\\\n",
       "\t 210057516120 & 2022 & 14 & M & 2 & 1 & 1 & 1 & 16 & 1 & ⋯ & E & E & B & E & B & B & E & B & E & B\\\\\n",
       "\t 210057280536 & 2022 &  5 & F & 1 & 2 & 1 & 1 &  2 & 1 & ⋯ & A & A & A & A & A & A & C & A & A & B\\\\\n",
       "\t 210055724397 & 2022 &  6 & M & 1 & 3 & 1 & 1 &  2 & 1 & ⋯ & B & A & A & C & A & A & C & B & B & B\\\\\n",
       "\t 210055097896 & 2022 &  4 & M & 0 & 3 & 1 & 1 &  1 & 1 & ⋯ & A & A & A & A & A & A & B & A & A & A\\\\\n",
       "\t 210057850231 & 2022 &  5 & F & 1 & 3 & 1 & 1 &  2 & 1 & ⋯ & B & A & A & C & A & B & D & A & A & B\\\\\n",
       "\\end{tabular}\n"
      ],
      "text/markdown": [
       "\n",
       "A data.table: 6 × 76\n",
       "\n",
       "| NU_INSCRICAO &lt;chr&gt; | NU_ANO &lt;int&gt; | TP_FAIXA_ETARIA &lt;int&gt; | TP_SEXO &lt;chr&gt; | TP_ESTADO_CIVIL &lt;int&gt; | TP_COR_RACA &lt;int&gt; | TP_NACIONALIDADE &lt;int&gt; | TP_ST_CONCLUSAO &lt;int&gt; | TP_ANO_CONCLUIU &lt;int&gt; | TP_ESCOLA &lt;int&gt; | ⋯ ⋯ | Q016 &lt;chr&gt; | Q017 &lt;chr&gt; | Q018 &lt;chr&gt; | Q019 &lt;chr&gt; | Q020 &lt;chr&gt; | Q021 &lt;chr&gt; | Q022 &lt;chr&gt; | Q023 &lt;chr&gt; | Q024 &lt;chr&gt; | Q025 &lt;chr&gt; |\n",
       "|---|---|---|---|---|---|---|---|---|---|---|---|---|---|---|---|---|---|---|---|---|\n",
       "| 210057943671 | 2022 | 14 | M | 2 | 2 | 1 | 1 |  2 | 1 | ⋯ | B | A | A | A | A | A | A | A | A | A |\n",
       "| 210057516120 | 2022 | 14 | M | 2 | 1 | 1 | 1 | 16 | 1 | ⋯ | E | E | B | E | B | B | E | B | E | B |\n",
       "| 210057280536 | 2022 |  5 | F | 1 | 2 | 1 | 1 |  2 | 1 | ⋯ | A | A | A | A | A | A | C | A | A | B |\n",
       "| 210055724397 | 2022 |  6 | M | 1 | 3 | 1 | 1 |  2 | 1 | ⋯ | B | A | A | C | A | A | C | B | B | B |\n",
       "| 210055097896 | 2022 |  4 | M | 0 | 3 | 1 | 1 |  1 | 1 | ⋯ | A | A | A | A | A | A | B | A | A | A |\n",
       "| 210057850231 | 2022 |  5 | F | 1 | 3 | 1 | 1 |  2 | 1 | ⋯ | B | A | A | C | A | B | D | A | A | B |\n",
       "\n"
      ],
      "text/plain": [
       "  NU_INSCRICAO NU_ANO TP_FAIXA_ETARIA TP_SEXO TP_ESTADO_CIVIL TP_COR_RACA\n",
       "1 210057943671 2022   14              M       2               2          \n",
       "2 210057516120 2022   14              M       2               1          \n",
       "3 210057280536 2022    5              F       1               2          \n",
       "4 210055724397 2022    6              M       1               3          \n",
       "5 210055097896 2022    4              M       0               3          \n",
       "6 210057850231 2022    5              F       1               3          \n",
       "  TP_NACIONALIDADE TP_ST_CONCLUSAO TP_ANO_CONCLUIU TP_ESCOLA ⋯ Q016 Q017 Q018\n",
       "1 1                1                2              1         ⋯ B    A    A   \n",
       "2 1                1               16              1         ⋯ E    E    B   \n",
       "3 1                1                2              1         ⋯ A    A    A   \n",
       "4 1                1                2              1         ⋯ B    A    A   \n",
       "5 1                1                1              1         ⋯ A    A    A   \n",
       "6 1                1                2              1         ⋯ B    A    A   \n",
       "  Q019 Q020 Q021 Q022 Q023 Q024 Q025\n",
       "1 A    A    A    A    A    A    A   \n",
       "2 E    B    B    E    B    E    B   \n",
       "3 A    A    A    C    A    A    B   \n",
       "4 C    A    A    C    B    B    B   \n",
       "5 A    A    A    B    A    A    A   \n",
       "6 C    A    B    D    A    A    B   "
      ]
     },
     "metadata": {},
     "output_type": "display_data"
    }
   ],
   "source": [
    "head(respostas)"
   ]
  },
  {
   "cell_type": "markdown",
   "id": "3d6ea3be-3cc2-4bbb-a32b-3fffb5afd60d",
   "metadata": {
    "id": "2_rh6ROA-c9U"
   },
   "source": [
    "\n",
    "## 3 - Gerando amostra\n"
   ]
  },
  {
   "cell_type": "code",
   "execution_count": 9,
   "id": "10d5d010-eb61-4637-a9b1-60928d0df208",
   "metadata": {
    "colab": {
     "base_uri": "https://localhost:8080/",
     "height": 129
    },
    "id": "nFcTnwk7IZzh",
    "outputId": "13f3863e-4f38-463e-88d3-c15d76423f9e",
    "tags": []
   },
   "outputs": [
    {
     "data": {
      "text/html": [
       "<table class=\"dataframe\">\n",
       "<caption>A matrix: 2 × 6 of type dbl</caption>\n",
       "<thead>\n",
       "\t<tr><th></th><th scope=col>used</th><th scope=col>(Mb)</th><th scope=col>gc trigger</th><th scope=col>(Mb)</th><th scope=col>max used</th><th scope=col>(Mb)</th></tr>\n",
       "</thead>\n",
       "<tbody>\n",
       "\t<tr><th scope=row>Ncells</th><td>  1157508</td><td>  61.9</td><td> 18626836</td><td> 994.8</td><td> 14864466</td><td> 793.9</td></tr>\n",
       "\t<tr><th scope=row>Vcells</th><td>212471692</td><td>1621.1</td><td>852549758</td><td>6504.5</td><td>934875873</td><td>7132.6</td></tr>\n",
       "</tbody>\n",
       "</table>\n"
      ],
      "text/latex": [
       "A matrix: 2 × 6 of type dbl\n",
       "\\begin{tabular}{r|llllll}\n",
       "  & used & (Mb) & gc trigger & (Mb) & max used & (Mb)\\\\\n",
       "\\hline\n",
       "\tNcells &   1157508 &   61.9 &  18626836 &  994.8 &  14864466 &  793.9\\\\\n",
       "\tVcells & 212471692 & 1621.1 & 852549758 & 6504.5 & 934875873 & 7132.6\\\\\n",
       "\\end{tabular}\n"
      ],
      "text/markdown": [
       "\n",
       "A matrix: 2 × 6 of type dbl\n",
       "\n",
       "| <!--/--> | used | (Mb) | gc trigger | (Mb) | max used | (Mb) |\n",
       "|---|---|---|---|---|---|---|\n",
       "| Ncells |   1157508 |   61.9 |  18626836 |  994.8 |  14864466 |  793.9 |\n",
       "| Vcells | 212471692 | 1621.1 | 852549758 | 6504.5 | 934875873 | 7132.6 |\n",
       "\n"
      ],
      "text/plain": [
       "       used      (Mb)   gc trigger (Mb)   max used  (Mb)  \n",
       "Ncells   1157508   61.9  18626836   994.8  14864466  793.9\n",
       "Vcells 212471692 1621.1 852549758  6504.5 934875873 7132.6"
      ]
     },
     "metadata": {},
     "output_type": "display_data"
    }
   ],
   "source": [
    "# Filtrando Presença e Gerando Amostra\n",
    "set.seed(12345)\n",
    "amostra <- respostas |>\n",
    "  lazy_dt() |>\n",
    "  mutate(respostas_validas = str_count(!!sym(paste0(\"TX_RESPOSTAS_\",area)),\"A|B|C|D|E\")) |>\n",
    "  filter(respostas_validas >= min_respostas_validas) |>\n",
    "  filter(!!sym(paste0(\"TP_PRESENCA_\",area)) == 1) |>\n",
    "  filter(!!sym(paste0(\"CO_PROVA_\",area)) %in% provas) |>\n",
    "  sample_n(tamanho_amostral, replace = FALSE) |>       # Gerando amostra\n",
    "  dplyr::select(NU_INSCRICAO, !!sym(paste0(\"CO_PROVA_\",area)), !!sym(paste0(\"TX_RESPOSTAS_\",area)), !!sym(paste0(\"TX_GABARITO_\",area))) |>\n",
    "  as.data.frame()\n",
    "\n",
    "# Removendo base original por questões de memória RAM\n",
    "rm(respostas)\n",
    "gc()"
   ]
  },
  {
   "cell_type": "code",
   "execution_count": 10,
   "id": "e38d319e-58c6-4f90-a0c1-40f9bd534e99",
   "metadata": {
    "tags": []
   },
   "outputs": [
    {
     "data": {
      "text/html": [
       "<table class=\"dataframe\">\n",
       "<caption>A data.frame: 6 × 4</caption>\n",
       "<thead>\n",
       "\t<tr><th></th><th scope=col>NU_INSCRICAO</th><th scope=col>CO_PROVA_MT</th><th scope=col>TX_RESPOSTAS_MT</th><th scope=col>TX_GABARITO_MT</th></tr>\n",
       "\t<tr><th></th><th scope=col>&lt;chr&gt;</th><th scope=col>&lt;int&gt;</th><th scope=col>&lt;chr&gt;</th><th scope=col>&lt;chr&gt;</th></tr>\n",
       "</thead>\n",
       "<tbody>\n",
       "\t<tr><th scope=row>1</th><td>210058008518</td><td>1077</td><td>AECCCAECACEAAEDDBBABBACDDBDABEDEBCCEDAEADBDCD</td><td>CCCCBXCBABECBEABDDDBDECDBDCAACEECCEBDBAAAEDAE</td></tr>\n",
       "\t<tr><th scope=row>2</th><td>210055443843</td><td>1076</td><td>AAACDCEEECACABCCCDEBCDABEBABBEDBBCDDAEBDECCCC</td><td>DBAAACEBEDAECCBECDEECBDCABECBEABDDCCDBDXCBAAC</td></tr>\n",
       "\t<tr><th scope=row>3</th><td>210057034159</td><td>1078</td><td>BAACCCBEECBBECACCDEBEDBACBBEDBAEADEEDCABEBCBE</td><td>BEEDAEABDDCEBDBAAAAACXCBCCCBCCDBDEECBDCABEECD</td></tr>\n",
       "\t<tr><th scope=row>4</th><td>210055364900</td><td>1075</td><td>CBDBEDECACDBEDBCBDAEDBBDCADBCCAECDBDCADCBDDAC</td><td>ECDABEBDCEECDBDCCCCBCXCBAACDBAAACEBABDDEDAEBE</td></tr>\n",
       "\t<tr><th scope=row>5</th><td>210056080871</td><td>1077</td><td>DEBBAAECACDEBCABDCABDCBBBDBEDDECEBBEDCEDAEEAC</td><td>CCCCBXCBABECBEABDDDBDECDBDCAACEECCEBDBAAAEDAE</td></tr>\n",
       "\t<tr><th scope=row>6</th><td>210056879478</td><td>1076</td><td>BBDAEABAEAACDABBAEDACACEDCBBBEABADCACEADBAEDC</td><td>DBAAACEBEDAECCBECDEECBDCABECBEABDDCCDBDXCBAAC</td></tr>\n",
       "</tbody>\n",
       "</table>\n"
      ],
      "text/latex": [
       "A data.frame: 6 × 4\n",
       "\\begin{tabular}{r|llll}\n",
       "  & NU\\_INSCRICAO & CO\\_PROVA\\_MT & TX\\_RESPOSTAS\\_MT & TX\\_GABARITO\\_MT\\\\\n",
       "  & <chr> & <int> & <chr> & <chr>\\\\\n",
       "\\hline\n",
       "\t1 & 210058008518 & 1077 & AECCCAECACEAAEDDBBABBACDDBDABEDEBCCEDAEADBDCD & CCCCBXCBABECBEABDDDBDECDBDCAACEECCEBDBAAAEDAE\\\\\n",
       "\t2 & 210055443843 & 1076 & AAACDCEEECACABCCCDEBCDABEBABBEDBBCDDAEBDECCCC & DBAAACEBEDAECCBECDEECBDCABECBEABDDCCDBDXCBAAC\\\\\n",
       "\t3 & 210057034159 & 1078 & BAACCCBEECBBECACCDEBEDBACBBEDBAEADEEDCABEBCBE & BEEDAEABDDCEBDBAAAAACXCBCCCBCCDBDEECBDCABEECD\\\\\n",
       "\t4 & 210055364900 & 1075 & CBDBEDECACDBEDBCBDAEDBBDCADBCCAECDBDCADCBDDAC & ECDABEBDCEECDBDCCCCBCXCBAACDBAAACEBABDDEDAEBE\\\\\n",
       "\t5 & 210056080871 & 1077 & DEBBAAECACDEBCABDCABDCBBBDBEDDECEBBEDCEDAEEAC & CCCCBXCBABECBEABDDDBDECDBDCAACEECCEBDBAAAEDAE\\\\\n",
       "\t6 & 210056879478 & 1076 & BBDAEABAEAACDABBAEDACACEDCBBBEABADCACEADBAEDC & DBAAACEBEDAECCBECDEECBDCABECBEABDDCCDBDXCBAAC\\\\\n",
       "\\end{tabular}\n"
      ],
      "text/markdown": [
       "\n",
       "A data.frame: 6 × 4\n",
       "\n",
       "| <!--/--> | NU_INSCRICAO &lt;chr&gt; | CO_PROVA_MT &lt;int&gt; | TX_RESPOSTAS_MT &lt;chr&gt; | TX_GABARITO_MT &lt;chr&gt; |\n",
       "|---|---|---|---|---|\n",
       "| 1 | 210058008518 | 1077 | AECCCAECACEAAEDDBBABBACDDBDABEDEBCCEDAEADBDCD | CCCCBXCBABECBEABDDDBDECDBDCAACEECCEBDBAAAEDAE |\n",
       "| 2 | 210055443843 | 1076 | AAACDCEEECACABCCCDEBCDABEBABBEDBBCDDAEBDECCCC | DBAAACEBEDAECCBECDEECBDCABECBEABDDCCDBDXCBAAC |\n",
       "| 3 | 210057034159 | 1078 | BAACCCBEECBBECACCDEBEDBACBBEDBAEADEEDCABEBCBE | BEEDAEABDDCEBDBAAAAACXCBCCCBCCDBDEECBDCABEECD |\n",
       "| 4 | 210055364900 | 1075 | CBDBEDECACDBEDBCBDAEDBBDCADBCCAECDBDCADCBDDAC | ECDABEBDCEECDBDCCCCBCXCBAACDBAAACEBABDDEDAEBE |\n",
       "| 5 | 210056080871 | 1077 | DEBBAAECACDEBCABDCABDCBBBDBEDDECEBBEDCEDAEEAC | CCCCBXCBABECBEABDDDBDECDBDCAACEECCEBDBAAAEDAE |\n",
       "| 6 | 210056879478 | 1076 | BBDAEABAEAACDABBAEDACACEDCBBBEABADCACEADBAEDC | DBAAACEBEDAECCBECDEECBDCABECBEABDDCCDBDXCBAAC |\n",
       "\n"
      ],
      "text/plain": [
       "  NU_INSCRICAO CO_PROVA_MT TX_RESPOSTAS_MT                              \n",
       "1 210058008518 1077        AECCCAECACEAAEDDBBABBACDDBDABEDEBCCEDAEADBDCD\n",
       "2 210055443843 1076        AAACDCEEECACABCCCDEBCDABEBABBEDBBCDDAEBDECCCC\n",
       "3 210057034159 1078        BAACCCBEECBBECACCDEBEDBACBBEDBAEADEEDCABEBCBE\n",
       "4 210055364900 1075        CBDBEDECACDBEDBCBDAEDBBDCADBCCAECDBDCADCBDDAC\n",
       "5 210056080871 1077        DEBBAAECACDEBCABDCABDCBBBDBEDDECEBBEDCEDAEEAC\n",
       "6 210056879478 1076        BBDAEABAEAACDABBAEDACACEDCBBBEABADCACEADBAEDC\n",
       "  TX_GABARITO_MT                               \n",
       "1 CCCCBXCBABECBEABDDDBDECDBDCAACEECCEBDBAAAEDAE\n",
       "2 DBAAACEBEDAECCBECDEECBDCABECBEABDDCCDBDXCBAAC\n",
       "3 BEEDAEABDDCEBDBAAAAACXCBCCCBCCDBDEECBDCABEECD\n",
       "4 ECDABEBDCEECDBDCCCCBCXCBAACDBAAACEBABDDEDAEBE\n",
       "5 CCCCBXCBABECBEABDDDBDECDBDCAACEECCEBDBAAAEDAE\n",
       "6 DBAAACEBEDAECCBECDEECBDCABECBEABDDCCDBDXCBAAC"
      ]
     },
     "metadata": {},
     "output_type": "display_data"
    }
   ],
   "source": [
    "head(amostra)"
   ]
  },
  {
   "cell_type": "markdown",
   "id": "ed0c5f46-e283-49cb-9788-a2263a05ec41",
   "metadata": {
    "id": "jaP6DtCqSuu_"
   },
   "source": [
    "## 4 - Dicotomizando amostra"
   ]
  },
  {
   "cell_type": "code",
   "execution_count": 11,
   "id": "0cae8c61-1521-42ba-9d44-c2b07c944fe9",
   "metadata": {
    "id": "GsgIJv3YIZ9C",
    "tags": []
   },
   "outputs": [],
   "source": [
    "# Função para dicotomizar respostas\n",
    "dicotomizar <- function(responses,corrections){\n",
    "  dic_matrix <- (str_split(responses,pattern = \"\",simplify = T)==str_split(corrections,pattern = \"\",simplify = T))*1\n",
    "\n",
    "  apply(dic_matrix, 1, str_flatten)\n",
    "}\n",
    "\n",
    "# Dicotomizando repostas\n",
    "amostra_dicotomizada <- amostra |>\n",
    "  lazy_dt() |>\n",
    "  mutate(!!sym(paste0(\"TX_CORRECAO_\",area)) := dicotomizar(!!sym(paste0(\"TX_RESPOSTAS_\",area)),!!sym(paste0(\"TX_GABARITO_\",area)))) |>\n",
    "  # mutate(TX_CORRECAO_MT = dicotomizar(TX_RESPOSTAS_MT,TX_GABARITO_MT)) |> # <- similar \n",
    "  as.data.frame()\n",
    "\n",
    "# Além da dicotomização é necessário separar o vetor de respostas originais em colunas\n",
    "amostra_respostas_split <- str_split(amostra_dicotomizada[,paste0(\"TX_RESPOSTAS_\",area)],pattern = \"\",simplify = T) |> \n",
    "  data.frame() |>\n",
    "  setNames(paste0(\"r_item_\",str_pad( 1:45,2,\"left\",\"0\")))\n",
    "\n",
    "# e também separar em colunas o vetor de respostas dicotomizadas\n",
    "amostra_correcao_split <- str_split(amostra_dicotomizada[,paste0(\"TX_CORRECAO_\",area)],pattern = \"\",simplify = T) |> \n",
    "  data.frame() |>\n",
    "  setNames(paste0(\"c_item_\",str_pad( 1:45,2,\"left\",\"0\")))\n",
    "\n",
    "# Juntando em um mesmo data.frame\n",
    "amostra_dicotomizada <- bind_cols(amostra_dicotomizada,amostra_respostas_split,amostra_correcao_split)"
   ]
  },
  {
   "cell_type": "code",
   "execution_count": 12,
   "id": "c0ac49a1-0da2-4610-9918-fe6da8f13767",
   "metadata": {
    "colab": {
     "base_uri": "https://localhost:8080/",
     "height": 286
    },
    "id": "wWSXnsz1IaAg",
    "outputId": "b8a5c8e6-ed3f-4e0c-cc7c-bceaf718bfa8",
    "tags": []
   },
   "outputs": [
    {
     "data": {
      "text/html": [
       "<table class=\"dataframe\">\n",
       "<caption>A data.frame: 6 × 95</caption>\n",
       "<thead>\n",
       "\t<tr><th></th><th scope=col>NU_INSCRICAO</th><th scope=col>CO_PROVA_MT</th><th scope=col>TX_RESPOSTAS_MT</th><th scope=col>TX_GABARITO_MT</th><th scope=col>TX_CORRECAO_MT</th><th scope=col>r_item_01</th><th scope=col>r_item_02</th><th scope=col>r_item_03</th><th scope=col>r_item_04</th><th scope=col>r_item_05</th><th scope=col>⋯</th><th scope=col>c_item_36</th><th scope=col>c_item_37</th><th scope=col>c_item_38</th><th scope=col>c_item_39</th><th scope=col>c_item_40</th><th scope=col>c_item_41</th><th scope=col>c_item_42</th><th scope=col>c_item_43</th><th scope=col>c_item_44</th><th scope=col>c_item_45</th></tr>\n",
       "\t<tr><th></th><th scope=col>&lt;chr&gt;</th><th scope=col>&lt;int&gt;</th><th scope=col>&lt;chr&gt;</th><th scope=col>&lt;chr&gt;</th><th scope=col>&lt;chr&gt;</th><th scope=col>&lt;chr&gt;</th><th scope=col>&lt;chr&gt;</th><th scope=col>&lt;chr&gt;</th><th scope=col>&lt;chr&gt;</th><th scope=col>&lt;chr&gt;</th><th scope=col>⋯</th><th scope=col>&lt;chr&gt;</th><th scope=col>&lt;chr&gt;</th><th scope=col>&lt;chr&gt;</th><th scope=col>&lt;chr&gt;</th><th scope=col>&lt;chr&gt;</th><th scope=col>&lt;chr&gt;</th><th scope=col>&lt;chr&gt;</th><th scope=col>&lt;chr&gt;</th><th scope=col>&lt;chr&gt;</th><th scope=col>&lt;chr&gt;</th></tr>\n",
       "</thead>\n",
       "<tbody>\n",
       "\t<tr><th scope=row>1</th><td>210058008518</td><td>1077</td><td>AECCCAECACEAAEDDBBABBACDDBDABEDEBCCEDAEADBDCD</td><td>CCCCBXCBABECBEABDDDBDECDBDCAACEECCEBDBAAAEDAE</td><td>001100001010010000010011000100010100100100100</td><td>A</td><td>E</td><td>C</td><td>C</td><td>C</td><td>⋯</td><td>0</td><td>1</td><td>0</td><td>0</td><td>1</td><td>0</td><td>0</td><td>1</td><td>0</td><td>0</td></tr>\n",
       "\t<tr><th scope=row>2</th><td>210055443843</td><td>1076</td><td>AAACDCEEECACABCCCDEBCDABEBABBEDBBCDDAEBDECCCC</td><td>DBAAACEBEDAECCBECDEECBDCABECBEABDDCCDBDXCBAAC</td><td>001001101010000011101000010011010000000000001</td><td>A</td><td>A</td><td>A</td><td>C</td><td>D</td><td>⋯</td><td>0</td><td>0</td><td>0</td><td>0</td><td>0</td><td>0</td><td>0</td><td>0</td><td>0</td><td>1</td></tr>\n",
       "\t<tr><th scope=row>3</th><td>210057034159</td><td>1078</td><td>BAACCCBEECBBECACCDEBEDBACBBEDBAEADEEDCABEBCBE</td><td>BEEDAEABDDCEBDBAAAAACXCBCCCBCCDBDEECBDCABEECD</td><td>100000000000000000000000100000000010000000000</td><td>B</td><td>A</td><td>A</td><td>C</td><td>C</td><td>⋯</td><td>0</td><td>0</td><td>0</td><td>0</td><td>0</td><td>0</td><td>0</td><td>0</td><td>0</td><td>0</td></tr>\n",
       "\t<tr><th scope=row>4</th><td>210055364900</td><td>1075</td><td>CBDBEDECACDBEDBCBDAEDBBDCADBCCAECDBDCADCBDDAC</td><td>ECDABEBDCEECDBDCCCCBCXCBAACDBAAACEBABDDEDAEBE</td><td>001000000000000100000000010000101010001000000</td><td>C</td><td>B</td><td>D</td><td>B</td><td>E</td><td>⋯</td><td>0</td><td>0</td><td>0</td><td>1</td><td>0</td><td>0</td><td>0</td><td>0</td><td>0</td><td>0</td></tr>\n",
       "\t<tr><th scope=row>5</th><td>210056080871</td><td>1077</td><td>DEBBAAECACDEBCABDCABDCBBBDBEDDECEBBEDCEDAEEAC</td><td>CCCCBXCBABECBEABDDDBDECDBDCAACEECCEBDBAAAEDAE</td><td>000000001000101110011000110000100000100011010</td><td>D</td><td>E</td><td>B</td><td>B</td><td>A</td><td>⋯</td><td>0</td><td>1</td><td>0</td><td>0</td><td>0</td><td>1</td><td>1</td><td>0</td><td>1</td><td>0</td></tr>\n",
       "\t<tr><th scope=row>6</th><td>210056879478</td><td>1076</td><td>BBDAEABAEAACDABBAEDACACEDCBBBEABADCACEADBAEDC</td><td>DBAAACEBEDAECCBECDEECBDCABECBEABDDCCDBDXCBAAC</td><td>010100001010001000001000000011110110000000001</td><td>B</td><td>B</td><td>D</td><td>A</td><td>E</td><td>⋯</td><td>0</td><td>0</td><td>0</td><td>0</td><td>0</td><td>0</td><td>0</td><td>0</td><td>0</td><td>1</td></tr>\n",
       "</tbody>\n",
       "</table>\n"
      ],
      "text/latex": [
       "A data.frame: 6 × 95\n",
       "\\begin{tabular}{r|lllllllllllllllllllll}\n",
       "  & NU\\_INSCRICAO & CO\\_PROVA\\_MT & TX\\_RESPOSTAS\\_MT & TX\\_GABARITO\\_MT & TX\\_CORRECAO\\_MT & r\\_item\\_01 & r\\_item\\_02 & r\\_item\\_03 & r\\_item\\_04 & r\\_item\\_05 & ⋯ & c\\_item\\_36 & c\\_item\\_37 & c\\_item\\_38 & c\\_item\\_39 & c\\_item\\_40 & c\\_item\\_41 & c\\_item\\_42 & c\\_item\\_43 & c\\_item\\_44 & c\\_item\\_45\\\\\n",
       "  & <chr> & <int> & <chr> & <chr> & <chr> & <chr> & <chr> & <chr> & <chr> & <chr> & ⋯ & <chr> & <chr> & <chr> & <chr> & <chr> & <chr> & <chr> & <chr> & <chr> & <chr>\\\\\n",
       "\\hline\n",
       "\t1 & 210058008518 & 1077 & AECCCAECACEAAEDDBBABBACDDBDABEDEBCCEDAEADBDCD & CCCCBXCBABECBEABDDDBDECDBDCAACEECCEBDBAAAEDAE & 001100001010010000010011000100010100100100100 & A & E & C & C & C & ⋯ & 0 & 1 & 0 & 0 & 1 & 0 & 0 & 1 & 0 & 0\\\\\n",
       "\t2 & 210055443843 & 1076 & AAACDCEEECACABCCCDEBCDABEBABBEDBBCDDAEBDECCCC & DBAAACEBEDAECCBECDEECBDCABECBEABDDCCDBDXCBAAC & 001001101010000011101000010011010000000000001 & A & A & A & C & D & ⋯ & 0 & 0 & 0 & 0 & 0 & 0 & 0 & 0 & 0 & 1\\\\\n",
       "\t3 & 210057034159 & 1078 & BAACCCBEECBBECACCDEBEDBACBBEDBAEADEEDCABEBCBE & BEEDAEABDDCEBDBAAAAACXCBCCCBCCDBDEECBDCABEECD & 100000000000000000000000100000000010000000000 & B & A & A & C & C & ⋯ & 0 & 0 & 0 & 0 & 0 & 0 & 0 & 0 & 0 & 0\\\\\n",
       "\t4 & 210055364900 & 1075 & CBDBEDECACDBEDBCBDAEDBBDCADBCCAECDBDCADCBDDAC & ECDABEBDCEECDBDCCCCBCXCBAACDBAAACEBABDDEDAEBE & 001000000000000100000000010000101010001000000 & C & B & D & B & E & ⋯ & 0 & 0 & 0 & 1 & 0 & 0 & 0 & 0 & 0 & 0\\\\\n",
       "\t5 & 210056080871 & 1077 & DEBBAAECACDEBCABDCABDCBBBDBEDDECEBBEDCEDAEEAC & CCCCBXCBABECBEABDDDBDECDBDCAACEECCEBDBAAAEDAE & 000000001000101110011000110000100000100011010 & D & E & B & B & A & ⋯ & 0 & 1 & 0 & 0 & 0 & 1 & 1 & 0 & 1 & 0\\\\\n",
       "\t6 & 210056879478 & 1076 & BBDAEABAEAACDABBAEDACACEDCBBBEABADCACEADBAEDC & DBAAACEBEDAECCBECDEECBDCABECBEABDDCCDBDXCBAAC & 010100001010001000001000000011110110000000001 & B & B & D & A & E & ⋯ & 0 & 0 & 0 & 0 & 0 & 0 & 0 & 0 & 0 & 1\\\\\n",
       "\\end{tabular}\n"
      ],
      "text/markdown": [
       "\n",
       "A data.frame: 6 × 95\n",
       "\n",
       "| <!--/--> | NU_INSCRICAO &lt;chr&gt; | CO_PROVA_MT &lt;int&gt; | TX_RESPOSTAS_MT &lt;chr&gt; | TX_GABARITO_MT &lt;chr&gt; | TX_CORRECAO_MT &lt;chr&gt; | r_item_01 &lt;chr&gt; | r_item_02 &lt;chr&gt; | r_item_03 &lt;chr&gt; | r_item_04 &lt;chr&gt; | r_item_05 &lt;chr&gt; | ⋯ ⋯ | c_item_36 &lt;chr&gt; | c_item_37 &lt;chr&gt; | c_item_38 &lt;chr&gt; | c_item_39 &lt;chr&gt; | c_item_40 &lt;chr&gt; | c_item_41 &lt;chr&gt; | c_item_42 &lt;chr&gt; | c_item_43 &lt;chr&gt; | c_item_44 &lt;chr&gt; | c_item_45 &lt;chr&gt; |\n",
       "|---|---|---|---|---|---|---|---|---|---|---|---|---|---|---|---|---|---|---|---|---|---|\n",
       "| 1 | 210058008518 | 1077 | AECCCAECACEAAEDDBBABBACDDBDABEDEBCCEDAEADBDCD | CCCCBXCBABECBEABDDDBDECDBDCAACEECCEBDBAAAEDAE | 001100001010010000010011000100010100100100100 | A | E | C | C | C | ⋯ | 0 | 1 | 0 | 0 | 1 | 0 | 0 | 1 | 0 | 0 |\n",
       "| 2 | 210055443843 | 1076 | AAACDCEEECACABCCCDEBCDABEBABBEDBBCDDAEBDECCCC | DBAAACEBEDAECCBECDEECBDCABECBEABDDCCDBDXCBAAC | 001001101010000011101000010011010000000000001 | A | A | A | C | D | ⋯ | 0 | 0 | 0 | 0 | 0 | 0 | 0 | 0 | 0 | 1 |\n",
       "| 3 | 210057034159 | 1078 | BAACCCBEECBBECACCDEBEDBACBBEDBAEADEEDCABEBCBE | BEEDAEABDDCEBDBAAAAACXCBCCCBCCDBDEECBDCABEECD | 100000000000000000000000100000000010000000000 | B | A | A | C | C | ⋯ | 0 | 0 | 0 | 0 | 0 | 0 | 0 | 0 | 0 | 0 |\n",
       "| 4 | 210055364900 | 1075 | CBDBEDECACDBEDBCBDAEDBBDCADBCCAECDBDCADCBDDAC | ECDABEBDCEECDBDCCCCBCXCBAACDBAAACEBABDDEDAEBE | 001000000000000100000000010000101010001000000 | C | B | D | B | E | ⋯ | 0 | 0 | 0 | 1 | 0 | 0 | 0 | 0 | 0 | 0 |\n",
       "| 5 | 210056080871 | 1077 | DEBBAAECACDEBCABDCABDCBBBDBEDDECEBBEDCEDAEEAC | CCCCBXCBABECBEABDDDBDECDBDCAACEECCEBDBAAAEDAE | 000000001000101110011000110000100000100011010 | D | E | B | B | A | ⋯ | 0 | 1 | 0 | 0 | 0 | 1 | 1 | 0 | 1 | 0 |\n",
       "| 6 | 210056879478 | 1076 | BBDAEABAEAACDABBAEDACACEDCBBBEABADCACEADBAEDC | DBAAACEBEDAECCBECDEECBDCABECBEABDDCCDBDXCBAAC | 010100001010001000001000000011110110000000001 | B | B | D | A | E | ⋯ | 0 | 0 | 0 | 0 | 0 | 0 | 0 | 0 | 0 | 1 |\n",
       "\n"
      ],
      "text/plain": [
       "  NU_INSCRICAO CO_PROVA_MT TX_RESPOSTAS_MT                              \n",
       "1 210058008518 1077        AECCCAECACEAAEDDBBABBACDDBDABEDEBCCEDAEADBDCD\n",
       "2 210055443843 1076        AAACDCEEECACABCCCDEBCDABEBABBEDBBCDDAEBDECCCC\n",
       "3 210057034159 1078        BAACCCBEECBBECACCDEBEDBACBBEDBAEADEEDCABEBCBE\n",
       "4 210055364900 1075        CBDBEDECACDBEDBCBDAEDBBDCADBCCAECDBDCADCBDDAC\n",
       "5 210056080871 1077        DEBBAAECACDEBCABDCABDCBBBDBEDDECEBBEDCEDAEEAC\n",
       "6 210056879478 1076        BBDAEABAEAACDABBAEDACACEDCBBBEABADCACEADBAEDC\n",
       "  TX_GABARITO_MT                               \n",
       "1 CCCCBXCBABECBEABDDDBDECDBDCAACEECCEBDBAAAEDAE\n",
       "2 DBAAACEBEDAECCBECDEECBDCABECBEABDDCCDBDXCBAAC\n",
       "3 BEEDAEABDDCEBDBAAAAACXCBCCCBCCDBDEECBDCABEECD\n",
       "4 ECDABEBDCEECDBDCCCCBCXCBAACDBAAACEBABDDEDAEBE\n",
       "5 CCCCBXCBABECBEABDDDBDECDBDCAACEECCEBDBAAAEDAE\n",
       "6 DBAAACEBEDAECCBECDEECBDCABECBEABDDCCDBDXCBAAC\n",
       "  TX_CORRECAO_MT                                r_item_01 r_item_02 r_item_03\n",
       "1 001100001010010000010011000100010100100100100 A         E         C        \n",
       "2 001001101010000011101000010011010000000000001 A         A         A        \n",
       "3 100000000000000000000000100000000010000000000 B         A         A        \n",
       "4 001000000000000100000000010000101010001000000 C         B         D        \n",
       "5 000000001000101110011000110000100000100011010 D         E         B        \n",
       "6 010100001010001000001000000011110110000000001 B         B         D        \n",
       "  r_item_04 r_item_05 ⋯ c_item_36 c_item_37 c_item_38 c_item_39 c_item_40\n",
       "1 C         C         ⋯ 0         1         0         0         1        \n",
       "2 C         D         ⋯ 0         0         0         0         0        \n",
       "3 C         C         ⋯ 0         0         0         0         0        \n",
       "4 B         E         ⋯ 0         0         0         1         0        \n",
       "5 B         A         ⋯ 0         1         0         0         0        \n",
       "6 A         E         ⋯ 0         0         0         0         0        \n",
       "  c_item_41 c_item_42 c_item_43 c_item_44 c_item_45\n",
       "1 0         0         1         0         0        \n",
       "2 0         0         0         0         1        \n",
       "3 0         0         0         0         0        \n",
       "4 0         0         0         0         0        \n",
       "5 1         1         0         1         0        \n",
       "6 0         0         0         0         1        "
      ]
     },
     "metadata": {},
     "output_type": "display_data"
    }
   ],
   "source": [
    "head(amostra_dicotomizada)"
   ]
  },
  {
   "cell_type": "markdown",
   "id": "7b3ca143-b155-4752-b71e-6adddab63094",
   "metadata": {
    "id": "TW-5b71fS5Eu"
   },
   "source": [
    "## 5 - Ordenando itens da amostra"
   ]
  },
  {
   "cell_type": "code",
   "execution_count": 13,
   "id": "bc6ce69b-5d7a-4532-8486-5d77ea45b70b",
   "metadata": {
    "id": "TV-5BL0XIaDk",
    "tags": []
   },
   "outputs": [],
   "source": [
    "# Os itens do ENEM são ordenados de acordo com cada caderno\n",
    "# Se a análise estiver interessada em múltiplos cadernos, é necessário reordenar os itens\n",
    "# Fazemos isso apenas pivotando os dados e adicionando a informação dos itens com um join\n",
    "\n",
    "# Faremos isso em duas etapas, primeiro para as respostas originais\n",
    "amostra_resposta_ordenada <- amostra_dicotomizada |> \n",
    "  rename(CO_PROVA = !!sym(paste0(\"CO_PROVA_\",area))) |>\n",
    "  dplyr::select(NU_INSCRICAO,CO_PROVA, r_item_01:r_item_45) |>\n",
    "  pivot_longer(r_item_01:r_item_45,names_to = \"CO_POSICAO\",values_to = \"RESPOSTA\") |>\n",
    "  lazy_dt() |>\n",
    "  mutate(CO_POSICAO  = as.numeric(str_remove(CO_POSICAO ,\"r_item_\"))) |>\n",
    "  left_join(dplyr::select(itens, CO_PROVA, CO_POSICAO, CO_ITEM), by = c(\"CO_PROVA\",\"CO_POSICAO\")) |>\n",
    "  dplyr::select(NU_INSCRICAO,CO_ITEM,RESPOSTA) |>\n",
    "  arrange(NU_INSCRICAO,CO_ITEM)|>\n",
    "  as.data.frame() |>\n",
    "  pivot_wider(names_from = \"CO_ITEM\",values_from = \"RESPOSTA\")"
   ]
  },
  {
   "cell_type": "code",
   "execution_count": 14,
   "id": "813d28c7-da22-478e-b95e-e0db0d84a4f5",
   "metadata": {
    "colab": {
     "base_uri": "https://localhost:8080/",
     "height": 286
    },
    "id": "kmP61pbmNGvW",
    "outputId": "e071ac7e-20c5-43a8-9180-c14c34e6f7ac",
    "tags": []
   },
   "outputs": [
    {
     "data": {
      "text/html": [
       "<table class=\"dataframe\">\n",
       "<caption>A tibble: 6 × 46</caption>\n",
       "<thead>\n",
       "\t<tr><th scope=col>NU_INSCRICAO</th><th scope=col>I_005961</th><th scope=col>I_008364</th><th scope=col>I_010322</th><th scope=col>I_010409</th><th scope=col>I_010500</th><th scope=col>I_014797</th><th scope=col>I_019807</th><th scope=col>I_028683</th><th scope=col>I_030053</th><th scope=col>⋯</th><th scope=col>I_096315</th><th scope=col>I_097590</th><th scope=col>I_111516</th><th scope=col>I_111738</th><th scope=col>I_117651</th><th scope=col>I_117742</th><th scope=col>I_117820</th><th scope=col>I_117877</th><th scope=col>I_117886</th><th scope=col>I_117973</th></tr>\n",
       "\t<tr><th scope=col>&lt;chr&gt;</th><th scope=col>&lt;chr&gt;</th><th scope=col>&lt;chr&gt;</th><th scope=col>&lt;chr&gt;</th><th scope=col>&lt;chr&gt;</th><th scope=col>&lt;chr&gt;</th><th scope=col>&lt;chr&gt;</th><th scope=col>&lt;chr&gt;</th><th scope=col>&lt;chr&gt;</th><th scope=col>&lt;chr&gt;</th><th scope=col>⋯</th><th scope=col>&lt;chr&gt;</th><th scope=col>&lt;chr&gt;</th><th scope=col>&lt;chr&gt;</th><th scope=col>&lt;chr&gt;</th><th scope=col>&lt;chr&gt;</th><th scope=col>&lt;chr&gt;</th><th scope=col>&lt;chr&gt;</th><th scope=col>&lt;chr&gt;</th><th scope=col>&lt;chr&gt;</th><th scope=col>&lt;chr&gt;</th></tr>\n",
       "</thead>\n",
       "<tbody>\n",
       "\t<tr><td>210054479192</td><td>E</td><td>B</td><td>C</td><td>D</td><td>A</td><td>A</td><td>A</td><td>B</td><td>A</td><td>⋯</td><td>C</td><td>E</td><td>A</td><td>B</td><td>B</td><td>C</td><td>E</td><td>C</td><td>C</td><td>A</td></tr>\n",
       "\t<tr><td>210054483969</td><td>B</td><td>A</td><td>A</td><td>E</td><td>D</td><td>A</td><td>D</td><td>A</td><td>C</td><td>⋯</td><td>A</td><td>C</td><td>C</td><td>.</td><td>.</td><td>.</td><td>.</td><td>B</td><td>.</td><td>A</td></tr>\n",
       "\t<tr><td>210054484198</td><td>B</td><td>E</td><td>C</td><td>D</td><td>D</td><td>C</td><td>B</td><td>A</td><td>C</td><td>⋯</td><td>A</td><td>B</td><td>B</td><td>C</td><td>C</td><td>B</td><td>B</td><td>A</td><td>D</td><td>C</td></tr>\n",
       "\t<tr><td>210054484386</td><td>D</td><td>C</td><td>C</td><td>B</td><td>C</td><td>B</td><td>C</td><td>A</td><td>D</td><td>⋯</td><td>A</td><td>C</td><td>E</td><td>A</td><td>D</td><td>C</td><td>B</td><td>D</td><td>D</td><td>B</td></tr>\n",
       "\t<tr><td>210054491071</td><td>B</td><td>D</td><td>A</td><td>B</td><td>D</td><td>B</td><td>C</td><td>B</td><td>D</td><td>⋯</td><td>C</td><td>B</td><td>D</td><td>D</td><td>D</td><td>B</td><td>D</td><td>D</td><td>D</td><td>C</td></tr>\n",
       "\t<tr><td>210054491537</td><td>C</td><td>B</td><td>B</td><td>D</td><td>A</td><td>D</td><td>E</td><td>C</td><td>B</td><td>⋯</td><td>C</td><td>C</td><td>B</td><td>D</td><td>B</td><td>B</td><td>A</td><td>C</td><td>D</td><td>B</td></tr>\n",
       "</tbody>\n",
       "</table>\n"
      ],
      "text/latex": [
       "A tibble: 6 × 46\n",
       "\\begin{tabular}{lllllllllllllllllllll}\n",
       " NU\\_INSCRICAO & I\\_005961 & I\\_008364 & I\\_010322 & I\\_010409 & I\\_010500 & I\\_014797 & I\\_019807 & I\\_028683 & I\\_030053 & ⋯ & I\\_096315 & I\\_097590 & I\\_111516 & I\\_111738 & I\\_117651 & I\\_117742 & I\\_117820 & I\\_117877 & I\\_117886 & I\\_117973\\\\\n",
       " <chr> & <chr> & <chr> & <chr> & <chr> & <chr> & <chr> & <chr> & <chr> & <chr> & ⋯ & <chr> & <chr> & <chr> & <chr> & <chr> & <chr> & <chr> & <chr> & <chr> & <chr>\\\\\n",
       "\\hline\n",
       "\t 210054479192 & E & B & C & D & A & A & A & B & A & ⋯ & C & E & A & B & B & C & E & C & C & A\\\\\n",
       "\t 210054483969 & B & A & A & E & D & A & D & A & C & ⋯ & A & C & C & . & . & . & . & B & . & A\\\\\n",
       "\t 210054484198 & B & E & C & D & D & C & B & A & C & ⋯ & A & B & B & C & C & B & B & A & D & C\\\\\n",
       "\t 210054484386 & D & C & C & B & C & B & C & A & D & ⋯ & A & C & E & A & D & C & B & D & D & B\\\\\n",
       "\t 210054491071 & B & D & A & B & D & B & C & B & D & ⋯ & C & B & D & D & D & B & D & D & D & C\\\\\n",
       "\t 210054491537 & C & B & B & D & A & D & E & C & B & ⋯ & C & C & B & D & B & B & A & C & D & B\\\\\n",
       "\\end{tabular}\n"
      ],
      "text/markdown": [
       "\n",
       "A tibble: 6 × 46\n",
       "\n",
       "| NU_INSCRICAO &lt;chr&gt; | I_005961 &lt;chr&gt; | I_008364 &lt;chr&gt; | I_010322 &lt;chr&gt; | I_010409 &lt;chr&gt; | I_010500 &lt;chr&gt; | I_014797 &lt;chr&gt; | I_019807 &lt;chr&gt; | I_028683 &lt;chr&gt; | I_030053 &lt;chr&gt; | ⋯ ⋯ | I_096315 &lt;chr&gt; | I_097590 &lt;chr&gt; | I_111516 &lt;chr&gt; | I_111738 &lt;chr&gt; | I_117651 &lt;chr&gt; | I_117742 &lt;chr&gt; | I_117820 &lt;chr&gt; | I_117877 &lt;chr&gt; | I_117886 &lt;chr&gt; | I_117973 &lt;chr&gt; |\n",
       "|---|---|---|---|---|---|---|---|---|---|---|---|---|---|---|---|---|---|---|---|---|\n",
       "| 210054479192 | E | B | C | D | A | A | A | B | A | ⋯ | C | E | A | B | B | C | E | C | C | A |\n",
       "| 210054483969 | B | A | A | E | D | A | D | A | C | ⋯ | A | C | C | . | . | . | . | B | . | A |\n",
       "| 210054484198 | B | E | C | D | D | C | B | A | C | ⋯ | A | B | B | C | C | B | B | A | D | C |\n",
       "| 210054484386 | D | C | C | B | C | B | C | A | D | ⋯ | A | C | E | A | D | C | B | D | D | B |\n",
       "| 210054491071 | B | D | A | B | D | B | C | B | D | ⋯ | C | B | D | D | D | B | D | D | D | C |\n",
       "| 210054491537 | C | B | B | D | A | D | E | C | B | ⋯ | C | C | B | D | B | B | A | C | D | B |\n",
       "\n"
      ],
      "text/plain": [
       "  NU_INSCRICAO I_005961 I_008364 I_010322 I_010409 I_010500 I_014797 I_019807\n",
       "1 210054479192 E        B        C        D        A        A        A       \n",
       "2 210054483969 B        A        A        E        D        A        D       \n",
       "3 210054484198 B        E        C        D        D        C        B       \n",
       "4 210054484386 D        C        C        B        C        B        C       \n",
       "5 210054491071 B        D        A        B        D        B        C       \n",
       "6 210054491537 C        B        B        D        A        D        E       \n",
       "  I_028683 I_030053 ⋯ I_096315 I_097590 I_111516 I_111738 I_117651 I_117742\n",
       "1 B        A        ⋯ C        E        A        B        B        C       \n",
       "2 A        C        ⋯ A        C        C        .        .        .       \n",
       "3 A        C        ⋯ A        B        B        C        C        B       \n",
       "4 A        D        ⋯ A        C        E        A        D        C       \n",
       "5 B        D        ⋯ C        B        D        D        D        B       \n",
       "6 C        B        ⋯ C        C        B        D        B        B       \n",
       "  I_117820 I_117877 I_117886 I_117973\n",
       "1 E        C        C        A       \n",
       "2 .        B        .        A       \n",
       "3 B        A        D        C       \n",
       "4 B        D        D        B       \n",
       "5 D        D        D        C       \n",
       "6 A        C        D        B       "
      ]
     },
     "metadata": {},
     "output_type": "display_data"
    }
   ],
   "source": [
    "head(amostra_resposta_ordenada)"
   ]
  },
  {
   "cell_type": "code",
   "execution_count": 15,
   "id": "461b18c5-1447-4d16-a2ef-ee5b7c406bef",
   "metadata": {
    "id": "TV-5BL0XIaDk",
    "tags": []
   },
   "outputs": [],
   "source": [
    "# Agora fazendo o mesmo para as repostas dicotomizadas\n",
    "amostra_correcao_ordenada <- amostra_dicotomizada |> \n",
    "  rename(CO_PROVA = !!sym(paste0(\"CO_PROVA_\",area))) |>\n",
    "  dplyr::select(NU_INSCRICAO,CO_PROVA, c_item_01:c_item_45) |>\n",
    "  pivot_longer(c_item_01:c_item_45,names_to = \"CO_POSICAO\",values_to = \"RESPOSTA\") |>\n",
    "  lazy_dt() |>\n",
    "  mutate(CO_POSICAO  = as.numeric(str_remove(CO_POSICAO ,\"c_item_\"))) |>\n",
    "  left_join(dplyr::select(itens, CO_PROVA, CO_POSICAO, CO_ITEM), by = c(\"CO_PROVA\",\"CO_POSICAO\")) |>\n",
    "  mutate(RESPOSTA = as.numeric(RESPOSTA)) |>\n",
    "  dplyr::select(NU_INSCRICAO,CO_ITEM,RESPOSTA) |>\n",
    "  arrange(NU_INSCRICAO,CO_ITEM)|>\n",
    "  as.data.frame() |>\n",
    "  pivot_wider(names_from = \"CO_ITEM\",values_from = \"RESPOSTA\")"
   ]
  },
  {
   "cell_type": "code",
   "execution_count": 16,
   "id": "8a97df00-4d82-497a-8d42-b9be95ce47c4",
   "metadata": {
    "colab": {
     "base_uri": "https://localhost:8080/",
     "height": 286
    },
    "id": "kmP61pbmNGvW",
    "outputId": "e071ac7e-20c5-43a8-9180-c14c34e6f7ac",
    "tags": []
   },
   "outputs": [
    {
     "data": {
      "text/html": [
       "<table class=\"dataframe\">\n",
       "<caption>A tibble: 6 × 46</caption>\n",
       "<thead>\n",
       "\t<tr><th scope=col>NU_INSCRICAO</th><th scope=col>I_005961</th><th scope=col>I_008364</th><th scope=col>I_010322</th><th scope=col>I_010409</th><th scope=col>I_010500</th><th scope=col>I_014797</th><th scope=col>I_019807</th><th scope=col>I_028683</th><th scope=col>I_030053</th><th scope=col>⋯</th><th scope=col>I_096315</th><th scope=col>I_097590</th><th scope=col>I_111516</th><th scope=col>I_111738</th><th scope=col>I_117651</th><th scope=col>I_117742</th><th scope=col>I_117820</th><th scope=col>I_117877</th><th scope=col>I_117886</th><th scope=col>I_117973</th></tr>\n",
       "\t<tr><th scope=col>&lt;chr&gt;</th><th scope=col>&lt;dbl&gt;</th><th scope=col>&lt;dbl&gt;</th><th scope=col>&lt;dbl&gt;</th><th scope=col>&lt;dbl&gt;</th><th scope=col>&lt;dbl&gt;</th><th scope=col>&lt;dbl&gt;</th><th scope=col>&lt;dbl&gt;</th><th scope=col>&lt;dbl&gt;</th><th scope=col>&lt;dbl&gt;</th><th scope=col>⋯</th><th scope=col>&lt;dbl&gt;</th><th scope=col>&lt;dbl&gt;</th><th scope=col>&lt;dbl&gt;</th><th scope=col>&lt;dbl&gt;</th><th scope=col>&lt;dbl&gt;</th><th scope=col>&lt;dbl&gt;</th><th scope=col>&lt;dbl&gt;</th><th scope=col>&lt;dbl&gt;</th><th scope=col>&lt;dbl&gt;</th><th scope=col>&lt;dbl&gt;</th></tr>\n",
       "</thead>\n",
       "<tbody>\n",
       "\t<tr><td>210054479192</td><td>0</td><td>0</td><td>1</td><td>0</td><td>0</td><td>0</td><td>0</td><td>0</td><td>0</td><td>⋯</td><td>0</td><td>1</td><td>0</td><td>1</td><td>0</td><td>0</td><td>0</td><td>0</td><td>0</td><td>1</td></tr>\n",
       "\t<tr><td>210054483969</td><td>0</td><td>1</td><td>0</td><td>1</td><td>0</td><td>0</td><td>0</td><td>1</td><td>1</td><td>⋯</td><td>1</td><td>0</td><td>1</td><td>0</td><td>0</td><td>0</td><td>0</td><td>1</td><td>0</td><td>1</td></tr>\n",
       "\t<tr><td>210054484198</td><td>0</td><td>0</td><td>1</td><td>0</td><td>0</td><td>0</td><td>0</td><td>1</td><td>1</td><td>⋯</td><td>1</td><td>0</td><td>0</td><td>0</td><td>0</td><td>1</td><td>0</td><td>0</td><td>1</td><td>0</td></tr>\n",
       "\t<tr><td>210054484386</td><td>1</td><td>0</td><td>1</td><td>0</td><td>0</td><td>0</td><td>0</td><td>1</td><td>0</td><td>⋯</td><td>1</td><td>0</td><td>0</td><td>0</td><td>0</td><td>0</td><td>0</td><td>0</td><td>1</td><td>0</td></tr>\n",
       "\t<tr><td>210054491071</td><td>0</td><td>0</td><td>0</td><td>0</td><td>0</td><td>0</td><td>0</td><td>0</td><td>0</td><td>⋯</td><td>0</td><td>0</td><td>0</td><td>0</td><td>0</td><td>1</td><td>0</td><td>0</td><td>1</td><td>0</td></tr>\n",
       "\t<tr><td>210054491537</td><td>0</td><td>0</td><td>0</td><td>0</td><td>0</td><td>1</td><td>1</td><td>0</td><td>0</td><td>⋯</td><td>0</td><td>0</td><td>0</td><td>0</td><td>0</td><td>1</td><td>0</td><td>0</td><td>1</td><td>0</td></tr>\n",
       "</tbody>\n",
       "</table>\n"
      ],
      "text/latex": [
       "A tibble: 6 × 46\n",
       "\\begin{tabular}{lllllllllllllllllllll}\n",
       " NU\\_INSCRICAO & I\\_005961 & I\\_008364 & I\\_010322 & I\\_010409 & I\\_010500 & I\\_014797 & I\\_019807 & I\\_028683 & I\\_030053 & ⋯ & I\\_096315 & I\\_097590 & I\\_111516 & I\\_111738 & I\\_117651 & I\\_117742 & I\\_117820 & I\\_117877 & I\\_117886 & I\\_117973\\\\\n",
       " <chr> & <dbl> & <dbl> & <dbl> & <dbl> & <dbl> & <dbl> & <dbl> & <dbl> & <dbl> & ⋯ & <dbl> & <dbl> & <dbl> & <dbl> & <dbl> & <dbl> & <dbl> & <dbl> & <dbl> & <dbl>\\\\\n",
       "\\hline\n",
       "\t 210054479192 & 0 & 0 & 1 & 0 & 0 & 0 & 0 & 0 & 0 & ⋯ & 0 & 1 & 0 & 1 & 0 & 0 & 0 & 0 & 0 & 1\\\\\n",
       "\t 210054483969 & 0 & 1 & 0 & 1 & 0 & 0 & 0 & 1 & 1 & ⋯ & 1 & 0 & 1 & 0 & 0 & 0 & 0 & 1 & 0 & 1\\\\\n",
       "\t 210054484198 & 0 & 0 & 1 & 0 & 0 & 0 & 0 & 1 & 1 & ⋯ & 1 & 0 & 0 & 0 & 0 & 1 & 0 & 0 & 1 & 0\\\\\n",
       "\t 210054484386 & 1 & 0 & 1 & 0 & 0 & 0 & 0 & 1 & 0 & ⋯ & 1 & 0 & 0 & 0 & 0 & 0 & 0 & 0 & 1 & 0\\\\\n",
       "\t 210054491071 & 0 & 0 & 0 & 0 & 0 & 0 & 0 & 0 & 0 & ⋯ & 0 & 0 & 0 & 0 & 0 & 1 & 0 & 0 & 1 & 0\\\\\n",
       "\t 210054491537 & 0 & 0 & 0 & 0 & 0 & 1 & 1 & 0 & 0 & ⋯ & 0 & 0 & 0 & 0 & 0 & 1 & 0 & 0 & 1 & 0\\\\\n",
       "\\end{tabular}\n"
      ],
      "text/markdown": [
       "\n",
       "A tibble: 6 × 46\n",
       "\n",
       "| NU_INSCRICAO &lt;chr&gt; | I_005961 &lt;dbl&gt; | I_008364 &lt;dbl&gt; | I_010322 &lt;dbl&gt; | I_010409 &lt;dbl&gt; | I_010500 &lt;dbl&gt; | I_014797 &lt;dbl&gt; | I_019807 &lt;dbl&gt; | I_028683 &lt;dbl&gt; | I_030053 &lt;dbl&gt; | ⋯ ⋯ | I_096315 &lt;dbl&gt; | I_097590 &lt;dbl&gt; | I_111516 &lt;dbl&gt; | I_111738 &lt;dbl&gt; | I_117651 &lt;dbl&gt; | I_117742 &lt;dbl&gt; | I_117820 &lt;dbl&gt; | I_117877 &lt;dbl&gt; | I_117886 &lt;dbl&gt; | I_117973 &lt;dbl&gt; |\n",
       "|---|---|---|---|---|---|---|---|---|---|---|---|---|---|---|---|---|---|---|---|---|\n",
       "| 210054479192 | 0 | 0 | 1 | 0 | 0 | 0 | 0 | 0 | 0 | ⋯ | 0 | 1 | 0 | 1 | 0 | 0 | 0 | 0 | 0 | 1 |\n",
       "| 210054483969 | 0 | 1 | 0 | 1 | 0 | 0 | 0 | 1 | 1 | ⋯ | 1 | 0 | 1 | 0 | 0 | 0 | 0 | 1 | 0 | 1 |\n",
       "| 210054484198 | 0 | 0 | 1 | 0 | 0 | 0 | 0 | 1 | 1 | ⋯ | 1 | 0 | 0 | 0 | 0 | 1 | 0 | 0 | 1 | 0 |\n",
       "| 210054484386 | 1 | 0 | 1 | 0 | 0 | 0 | 0 | 1 | 0 | ⋯ | 1 | 0 | 0 | 0 | 0 | 0 | 0 | 0 | 1 | 0 |\n",
       "| 210054491071 | 0 | 0 | 0 | 0 | 0 | 0 | 0 | 0 | 0 | ⋯ | 0 | 0 | 0 | 0 | 0 | 1 | 0 | 0 | 1 | 0 |\n",
       "| 210054491537 | 0 | 0 | 0 | 0 | 0 | 1 | 1 | 0 | 0 | ⋯ | 0 | 0 | 0 | 0 | 0 | 1 | 0 | 0 | 1 | 0 |\n",
       "\n"
      ],
      "text/plain": [
       "  NU_INSCRICAO I_005961 I_008364 I_010322 I_010409 I_010500 I_014797 I_019807\n",
       "1 210054479192 0        0        1        0        0        0        0       \n",
       "2 210054483969 0        1        0        1        0        0        0       \n",
       "3 210054484198 0        0        1        0        0        0        0       \n",
       "4 210054484386 1        0        1        0        0        0        0       \n",
       "5 210054491071 0        0        0        0        0        0        0       \n",
       "6 210054491537 0        0        0        0        0        1        1       \n",
       "  I_028683 I_030053 ⋯ I_096315 I_097590 I_111516 I_111738 I_117651 I_117742\n",
       "1 0        0        ⋯ 0        1        0        1        0        0       \n",
       "2 1        1        ⋯ 1        0        1        0        0        0       \n",
       "3 1        1        ⋯ 1        0        0        0        0        1       \n",
       "4 1        0        ⋯ 1        0        0        0        0        0       \n",
       "5 0        0        ⋯ 0        0        0        0        0        1       \n",
       "6 0        0        ⋯ 0        0        0        0        0        1       \n",
       "  I_117820 I_117877 I_117886 I_117973\n",
       "1 0        0        0        1       \n",
       "2 0        1        0        1       \n",
       "3 0        0        1        0       \n",
       "4 0        0        1        0       \n",
       "5 0        0        1        0       \n",
       "6 0        0        1        0       "
      ]
     },
     "metadata": {},
     "output_type": "display_data"
    }
   ],
   "source": [
    "head(amostra_correcao_ordenada)"
   ]
  },
  {
   "cell_type": "markdown",
   "id": "8445eaa9-da85-42ad-86ab-ec15604378c5",
   "metadata": {
    "id": "1U1AY9EnTG67"
   },
   "source": [
    "## 6 - Salvando amostra"
   ]
  },
  {
   "cell_type": "code",
   "execution_count": 17,
   "id": "178ec429-0cc8-4226-9d64-7b674ba6a8e5",
   "metadata": {
    "id": "g0rCnLzlRkRY",
    "tags": []
   },
   "outputs": [],
   "source": [
    "# Por fim, salvaremos os nossos dados para análises TCT e TRI em uma pasta chamada AMOSTRA\n",
    "if(!dir.exists(paste0(pasta,\"AMOSTRA/\",ano))){dir.create(paste0(pasta,\"AMOSTRA/\",ano),recursive = T)}\n",
    "\n",
    "fwrite(x = amostra,file = paste0(pasta,\"AMOSTRA/\",ano,\"/amostra.csv\"))\n",
    "fwrite(x = amostra_resposta_ordenada,file = paste0(pasta,\"AMOSTRA/\",ano,\"/amostra_resposta_ordenada.csv\"))\n",
    "fwrite(x = amostra_correcao_ordenada,file = paste0(pasta,\"AMOSTRA/\",ano,\"/amostra_correcao_ordenada.csv\"))\n",
    "\n",
    "fwrite(x = itens,file = paste0(pasta,\"AMOSTRA/\",ano,\"/itens.csv\"))"
   ]
  }
 ],
 "metadata": {
  "kernelspec": {
   "display_name": "R",
   "language": "R",
   "name": "ir"
  },
  "language_info": {
   "codemirror_mode": "r",
   "file_extension": ".r",
   "mimetype": "text/x-r-source",
   "name": "R",
   "pygments_lexer": "r",
   "version": "4.2.1"
  }
 },
 "nbformat": 4,
 "nbformat_minor": 5
}
